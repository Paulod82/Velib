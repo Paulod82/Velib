{
 "cells": [
  {
   "cell_type": "code",
   "execution_count": null,
   "id": "8a3ff1ac-e702-487c-85b7-6bbfb1f2ff2c",
   "metadata": {},
   "outputs": [],
   "source": [
    "library(ggplot2)\n",
    "library(reshape2)\n",
    "library(gridExtra)\n",
    "library(tidyverse)\n",
    "library(GGally)\n",
    "library(plotly)\n",
    "library(corrplot)\n",
    "library(reshape2)\n",
    "library(FactoMineR) \n",
    "library(factoextra)\n",
    "library(glmnet)\n",
    "library(ggfortify)\n",
    "library(pROC)\n",
    "library(ROCR)\n",
    "library(RColorBrewer)\n",
    "library(viridis)\n",
    "library(leaflet)\n",
    "library(mapview)"
   ]
  },
  {
   "cell_type": "markdown",
   "id": "bf6f37ae-e50f-4363-b4df-19bd85f6df8a",
   "metadata": {},
   "source": [
    "## Etude descriptive du jeu de données"
   ]
  },
  {
   "cell_type": "code",
   "execution_count": null,
   "id": "7dfe3887-2dd7-40e5-9957-1c660df7089c",
   "metadata": {},
   "outputs": [],
   "source": [
    "# on charge les données\n",
    "load('data/velib.RData')\n",
    "summary(velib)"
   ]
  },
  {
   "cell_type": "markdown",
   "id": "2790352a-e711-4e6d-b61b-bf4d7c527130",
   "metadata": {},
   "source": [
    "L'objectif de ce projet est d'analyser un dataset venant du système Velib de Paris. Les données sont le chargement des stations sur une semaine. \n",
    "Le jeu de données contient : \\\n",
    "1 - data : le profil de chargement des 1189 stations à 181 heures différentes. Un chargement de 1 veut dire que la station est pleine de vélos alors qu'un chargement de 0 indique une station vide. \\\n",
    "2 - position : la latitude et la longitude des 1189 stations \\\n",
    "3 - dates : la date de téléchargement \\\n",
    "4 - bonus : si bonus=1, la station est en altitude et si bonus=0 elle ne l'est pas \\\n",
    "5 - names : le nom des stations "
   ]
  },
  {
   "cell_type": "code",
   "execution_count": null,
   "id": "c6898683-e0b7-4bde-b12b-19d9004d8e9f",
   "metadata": {},
   "outputs": [],
   "source": [
    "# on prépare les données\n",
    "loading = as.matrix(velib$data)\n",
    "colnames(loading) = 1:ncol(loading)\n",
    "rownames(loading) = velib$names\n",
    "\n",
    "stations = 1:nrow(loading)\n",
    "coord = velib$position[stations,]\n",
    "coord$bonus = velib$bonus[stations]\n",
    "\n",
    "# on prend exactement 7 jours de données (on enlève les 13 premières heures)\n",
    "dates = 14:181\n",
    "loading = loading[stations, dates]\n",
    "colnames(loading) = 1:length(dates)\n",
    "head(loading)\n",
    "head(coord)"
   ]
  },
  {
   "cell_type": "code",
   "execution_count": null,
   "id": "e9e93470",
   "metadata": {},
   "outputs": [],
   "source": [
    "# on regarde s'il y a des données manquantes dans notre jeu de données\n",
    "sum(is.na(loading) == TRUE)\n",
    "sum(is.na(coord) == TRUE)\n",
    "station_counts <- table(velib$names)\n",
    "\n",
    "stations_multiple_occurrences <- station_counts[station_counts > 1]\n",
    "\n",
    "print(stations_multiple_occurrences)\n",
    "anyDuplicated(velib$names)\n",
    "anyDuplicated(velib$position)"
   ]
  },
  {
   "cell_type": "markdown",
   "id": "f5a0404b",
   "metadata": {},
   "source": [
    "On peut voir qu'il n'y a pas de données manquantes, mais il y a des stations avec le même nom mais avec des positions différentes, donc nous gardons toutes les données."
   ]
  },
  {
   "cell_type": "code",
   "execution_count": null,
   "id": "f0077a04-a8d6-4e85-8a77-1b8ebf3645db",
   "metadata": {},
   "outputs": [],
   "source": [
    "options(repr.plot.width = 15, repr.plot.height = 6)\n",
    "time_tick = 1 + 24*(0:6)\n",
    "i = sample(1:1189,1)\n",
    "df = melt(loading[i,])\n",
    "df$time_range = 1:ncol(loading)\n",
    "ggplot(df, aes(x=time_range, y=value)) + geom_line(col=\"darkorchid\") +\n",
    "    geom_vline(xintercept=time_tick, col=\"orange\", linetype=\"dashed\") +\n",
    "    labs(title=velib$names[i],x = \"Temps en heures\", y = \"Chargement\")"
   ]
  },
  {
   "cell_type": "markdown",
   "id": "fc0feaff-07d0-4900-90d9-6af376c864ff",
   "metadata": {},
   "source": [
    "Ici on trace l'évolution du chargement d'une station au hasard"
   ]
  },
  {
   "cell_type": "code",
   "execution_count": null,
   "id": "f704e088-f0de-4aae-9f19-b288fe986610",
   "metadata": {},
   "outputs": [],
   "source": [
    "options(repr.plot.width = 15, repr.plot.height = 10)\n",
    "\n",
    "timeTick = 1 + 24*(0:6)\n",
    "\n",
    "stations = sample.int(nrow(loading), 16)\n",
    "\n",
    "df = melt(loading[stations,])\n",
    "\n",
    "p = list()\n",
    "for (i in 1:16){\n",
    "    dfi = df[df$Var1 == velib$names[stations[i]],]\n",
    "    p[[i]] = ggplot(dfi, aes(x=Var2, y=value)) + \n",
    "        geom_line(col=\"darkorchid\") + \n",
    "       geom_vline(xintercept=timeTick, col=\"orange\", linetype=\"dashed\") +\n",
    "       labs(title=velib$names[stations[i]],x = \"Temps en heures\", y = \"Chargement\")\n",
    "}\n",
    "do.call(grid.arrange,p)\n",
    "stations"
   ]
  },
  {
   "cell_type": "markdown",
   "id": "8c37be00-62e7-4981-b512-0d4d3e289989",
   "metadata": {},
   "source": [
    "On peut voir que certaines stations ont des cycles de chargement distinctifs, certaines se chargent la nuit et d'autres le jour, certaines ont un faible taux de chargement toute la semaine, et d'autres ont un profil de chargement distinct entre la semaine et le week-end."
   ]
  },
  {
   "cell_type": "code",
   "execution_count": null,
   "id": "7a34c306-4fd8-4d93-b780-1559b84e6394",
   "metadata": {},
   "outputs": [],
   "source": [
    "print('--- Taux de chargement moyen ---')\n",
    "print(mean(loading))\n",
    "# --- #\n",
    "print('')\n",
    "\n",
    "print('--- Taux de chargement moyen de la station la moins remplie ---')\n",
    "i = which.min(rowMeans(loading)) \n",
    "print(rowMeans(loading)[i])\n",
    "\n",
    "# --- #\n",
    "print('')\n",
    "\n",
    "print('--- Taux de chargement moyen de la station la plus remplie ---')\n",
    "i = which.max(rowMeans(loading))\n",
    "print(rowMeans(loading)[i])"
   ]
  },
  {
   "cell_type": "code",
   "execution_count": null,
   "id": "cfbefafe-697d-42e3-b379-5340bddc7a18",
   "metadata": {},
   "outputs": [],
   "source": [
    "options(repr.plot.width = 18, repr.plot.height = 6)\n",
    "\n",
    "random_indices <- 1:nrow(loading)\n",
    "df <- data.frame(stations = random_indices, mean = rowMeans(loading[random_indices, ]))\n",
    "\n",
    "ggplot(df, aes(x = stations, y = mean)) + \n",
    "  geom_line(color = 'cornflowerblue', linewidth = 1) +\n",
    "  geom_hline(yintercept = mean(loading), color = 'darkorange', linewidth = 2) +\n",
    "  labs(x = \"Stations\", y = \"Average loading\")\n"
   ]
  },
  {
   "cell_type": "markdown",
   "id": "4a2ee79a-1673-40b0-b2a8-328fe32543ed",
   "metadata": {},
   "source": [
    "Certaines stations sont plus souvent chargées (pleines) que d'autres. Le chargement moyen est différent pour chaque station."
   ]
  },
  {
   "cell_type": "code",
   "execution_count": null,
   "id": "dc1a2d4b-9bc9-4f4b-a332-c942d78be5e1",
   "metadata": {},
   "outputs": [],
   "source": [
    "mean_per_hour_per_day = colMeans(loading)\n",
    "mean_per_hour_per_day = matrix(mean_per_hour_per_day, nrow = 24)\n",
    "mean_per_hour         = rowMeans(mean_per_hour_per_day)\n",
    "# --- #\n",
    "\n",
    "mean_per_hour_per_day            = as.data.frame(mean_per_hour_per_day)\n",
    "colnames(mean_per_hour_per_day)  = list(\"Monday\", \"Tuesday\", \"Wednesday\",\"Thursday\", \"Friday\", \"Saturday\", \"Sunday\")\n",
    "mean_per_hour_per_day$time_range = c(1:24)\n",
    "mean_per_hour_per_day            = melt(mean_per_hour_per_day, id='time_range', variable.name='Days')\n",
    "\n",
    "mean_per_hour            = as.data.frame(mean_per_hour)\n",
    "colnames(mean_per_hour)  = list(\"Weekly\")\n",
    "mean_per_hour$time_range = c(1:24)\n",
    "\n",
    "# --- #\n",
    "options(repr.plot.width = 15, repr.plot.height = 10)\n",
    "\n",
    "ggplot() +  \n",
    "        geom_line(data=mean_per_hour_per_day, aes(x=time_range, y=value, color=Days)) + \n",
    "        geom_line(data=mean_per_hour, aes(x = time_range , y=Weekly), linewidth = 1.5) +\n",
    "        labs(title = \"Toutes les stations\",\n",
    "        x = \"Heure de la journée\", \n",
    "        y = \"Chargement moyen\")"
   ]
  },
  {
   "cell_type": "markdown",
   "id": "2c4f510b-64e2-4465-9d4f-29646ed74a31",
   "metadata": {},
   "source": [
    "Ici c'est le chargement moyen de toutes les stations en fonction de l'heure (chaque courbe correspond à un jour) et en noire la moyenne sur les jours de ce chargement. "
   ]
  },
  {
   "cell_type": "code",
   "execution_count": null,
   "id": "0ec8b4fc-2621-441c-8156-a78819a821c1",
   "metadata": {},
   "outputs": [],
   "source": [
    "mean_per_hour_per_day = colMeans(loading)\n",
    "mean_per_hour_per_day = matrix(mean_per_hour_per_day, nrow = 7)\n",
    "mean_per_hour         = rowMeans(mean_per_hour_per_day)\n",
    "# --- #\n",
    "\n",
    "mean_per_hour_per_day            = as.data.frame(mean_per_hour_per_day)\n",
    "colnames(mean_per_hour_per_day) <- list(\"0h\", \"1h\", \"2h\",\"3h\", \"4h\", \"5h\", \"6h\", \"7h\", \"8h\", \"9h\", \"10h\", \"11h\", \"12h\", \"13h\", \"14h\", \"15h\", \"16h\", \"17h\", \"18h\", \"19h\", \"20h\", \"21h\", \"22h\", \"23h\")\n",
    "mean_per_hour_per_day$time_range = c(1:7)\n",
    "mean_per_hour_per_day            = melt(mean_per_hour_per_day, id='time_range', variable.name='Heures')\n",
    "\n",
    "mean_per_hour            = as.data.frame(mean_per_hour)\n",
    "colnames(mean_per_hour)  = list(\"Weekly\")\n",
    "mean_per_hour$time_range = c(1:7)\n",
    "\n",
    "# --- #\n",
    "options(repr.plot.width = 15, repr.plot.height = 10)\n",
    "\n",
    "ggplot() +  \n",
    "        geom_line(data=mean_per_hour_per_day, aes(x=time_range, y=value, color=Heures)) + \n",
    "        geom_line(data=mean_per_hour, aes(x = time_range , y=Weekly), linewidth = 1.5) +\n",
    "        labs(title=\"Toutes les stations\",\n",
    "        x = \"Jour\", \n",
    "        y = \"Chargement moyen\")"
   ]
  },
  {
   "cell_type": "markdown",
   "id": "4b006a8d-1053-4308-938a-58d71b4d25cd",
   "metadata": {},
   "source": [
    "On plot le chargement moyen de toutes les stations en fonction du jour (chaque courbe correspond à une heure) et en noire la moyenne sur les heures. On peut voir que le chargement moyen est quasiment constant chaque jour même le week-end, comparé au graphe d'avant où le chargement variait légèrement. On peut donc déjà supposer une plus forte influence de l'heure sur le profil de chargement que le jour. "
   ]
  },
  {
   "cell_type": "code",
   "execution_count": null,
   "id": "4f529672-a751-4574-832c-ad0828f9126d",
   "metadata": {},
   "outputs": [],
   "source": [
    "install.packages(\"ggmap\")\n",
    "library(ggmap)\n",
    "register_stadiamaps(\"d4f81b8a-655d-418e-841e-c5339e89ba9b\", write = TRUE)\n",
    "library(viridis)"
   ]
  },
  {
   "cell_type": "code",
   "execution_count": null,
   "id": "7329750d-83a1-4616-946e-444cb85213c2",
   "metadata": {},
   "outputs": [],
   "source": [
    "options(repr.plot.width = 20, repr.plot.height = 10)\n",
    "hour = c(1,5,9,13,17,21,24)\n",
    "\n",
    "dfi = coord\n",
    "p = list()\n",
    "for (i in 1:length(hour)){\n",
    "    h    = hour[i]\n",
    "    hours = seq(h, 168, 24)\n",
    "    load_per_hour = rowMeans(loading[,hours])\n",
    "\n",
    "    df = coord\n",
    "    df$loading = load_per_hour\n",
    "    p[[i]] = qmplot(data=df, longitude, latitude, color=loading) + \n",
    "          geom_point(size = 2) + \n",
    "          scale_color_viridis(name = \"Chargement\", option = \"C\", direction = -1) +\n",
    "          labs(title = paste('Chargement moyen à',(h-1),'h'))\n",
    "}\n",
    "\n",
    "do.call(grid.arrange,c(p, ncol=3))"
   ]
  },
  {
   "cell_type": "markdown",
   "id": "8de19183-7519-4fdc-bfd0-84ee44ce7270",
   "metadata": {},
   "source": [
    "On peut voir que les zones des stations chargées varient fortement au cours de la journée. Il y a un déplacement le matin entre 8 et 12h des vélos vers le centre ville et le bord de seine (qui pourraient correspondre aux zones de travail) car les stations sont en moyenne plus chargées, et elles semblent se vider entre 16h et 20h, pour se reremplir vers le sud-ouest et sud-est de Paris, qui pourraient correspondre aux zones de fêtes."
   ]
  },
  {
   "cell_type": "code",
   "execution_count": null,
   "id": "1251a70c-5ce3-4c81-a07c-4457352c18ce",
   "metadata": {},
   "outputs": [],
   "source": [
    "lundi <- rowMeans(loading[,c(1,2,3,4,5,6,7,8,9,10,11,12,13,14,15,16,17,18,19,20,21,22,23,24)])\n",
    "mardi <- rowMeans(loading[,c(25,26,27,28,29,30,31,32,33,34,35,36,37,38,39,40,41,42,43,44,45,46,47,48)])\n",
    "mercredi <- rowMeans(loading[,c(49,50,51,52,53,54,55,56,57,58,59,60,61,62,63,64,65,66,67,68,69,70,71,72)])\n",
    "jeudi <- rowMeans(loading[,c(73,74,75,76,77,78,79,80,81,82,83,84,85,86,87,88,89,90,91,92,93,94,95,96)])\n",
    "vendredi <- rowMeans(loading[,c(97,98,99,100,101,102,103,104,105,106,107,108,109,110,111,112,113,114,115,116,117,118,119,120)])\n",
    "samedi <- rowMeans(loading[,c(121,122,123,124,125,126,127,128,129,130,131,132,133,134,135,136,137,138,139,140,141,142,143,144)])\n",
    "dimanche <- rowMeans(loading[,c(145,146,147,148,149,150,151,152,153,154,155,156,157,158,159,160,161,162,163,164,165,166,167,168)])\n",
    "\n",
    "\n",
    "options(repr.plot.width = 20, repr.plot.height = 15)\n",
    "\n",
    "days  = list(\"Lundi\", \"Mardi\", \"Mercredi\",\"Jeudi\", \"Vendredi\", \"Samedi\", \"Dimanche\")\n",
    "\n",
    "df = coord\n",
    "df$lundi = lundi\n",
    "df$mardi = mardi\n",
    "df$mercredi = mercredi\n",
    "df$jeudi = jeudi\n",
    "df$vendredi = vendredi\n",
    "df$samedi = samedi\n",
    "df$dimanche = dimanche\n",
    "p = list()\n",
    "for (i in 1:7){\n",
    "    load_per_day = df[,3+i]\n",
    "\n",
    "    dfi = coord\n",
    "    dfi$loading = load_per_day\n",
    "    p[[i]] = qmplot(data=dfi, longitude, latitude, color=loading) + \n",
    "          geom_point(size = 2) + \n",
    "          scale_color_viridis(name = \"Chargement\", option = \"C\", direction = -1) +\n",
    "          labs(title = paste('Chargement moyen le',days[i]))\n",
    "}\n",
    "\n",
    "\n",
    "do.call(grid.arrange,c(p, ncol=3))"
   ]
  },
  {
   "cell_type": "markdown",
   "id": "b7e2d441-afb8-400b-b3c6-b770003bb935",
   "metadata": {},
   "source": [
    "On peut voir que quand on regarde le chargement moyen par jour et non plus par heures, le chargement moyen semble beaucoup moins varier. L'influence du jour semble moindre."
   ]
  },
  {
   "cell_type": "markdown",
   "id": "71aade6f-0a45-4072-8598-74b6fa4845d8",
   "metadata": {},
   "source": [
    "## ACP"
   ]
  },
  {
   "cell_type": "code",
   "execution_count": null,
   "id": "5259ae69-9a8b-4d02-899c-f766044ce972",
   "metadata": {},
   "outputs": [],
   "source": [
    "### ACP\n",
    "loading <- as.data.frame(loading)\n",
    "loading$Hill <- as.factor(coord$bonus)\n",
    "acp <- PCA(loading, scale.unit = TRUE,\n",
    "           graph = FALSE, quali.sup=169, ncp = 5)\n",
    "g1<-fviz_eig(acp, addlabels = TRUE, ylim = c(0, 40))\n",
    "g2<-ggplot(melt(acp$ind$coord),aes(x=Var2,y=value))+\n",
    "  geom_boxplot()+\n",
    "  xlab(\"\")\n",
    "grid.arrange(g1,g2,ncol=2)"
   ]
  },
  {
   "cell_type": "code",
   "execution_count": null,
   "id": "47529146-e89c-45ce-8c35-1d9da4c9ead9",
   "metadata": {},
   "outputs": [],
   "source": [
    "fviz_pca_var(acp, axes = c(1,2))\n",
    "fviz_pca_var(acp,axes=c(1,3))"
   ]
  },
  {
   "cell_type": "markdown",
   "id": "13f1b4a1-2ae9-4376-a13c-e3aebb813508",
   "metadata": {},
   "source": [
    "On peut voir que la composante 1 correspond au chargement moyen des stations. Il est compliqué de trouver une interprétation à la composante 2 car nous avons trop de variables. Nous avons décidé de réduire notre nombre de variables en créant un nouveau jeu de données moyenné sur les heures."
   ]
  },
  {
   "cell_type": "code",
   "execution_count": null,
   "id": "c6375219-a537-4c45-a2f1-49834102cf77",
   "metadata": {},
   "outputs": [],
   "source": [
    "minuit_am <- rowMeans(loading[,c(1,25,49,73,97,121,145)])\n",
    "une_am <- rowMeans(loading[,c(2,26,50,74,98,122,146)])\n",
    "deux_am <- rowMeans(loading[,c(3,27,51,75,99,123,147)])\n",
    "trois_am <- rowMeans(loading[,c(4,28,52,76,100,124,148)])\n",
    "quatre_am <- rowMeans(loading[,c(5,29,53,77,101,125,149)])\n",
    "cinq_am <- rowMeans(loading[,c(6,30,54,78,102,126,150)])\n",
    "six_am <- rowMeans(loading[,c(7,31,55,79,103,127,151)])\n",
    "sept_am <- rowMeans(loading[,c(8,32,56,80,104,128,152)])\n",
    "huit_am <- rowMeans(loading[,c(9,33,57,81,105,129,153)])\n",
    "neuf_am <- rowMeans(loading[,c(10,34,58,82,106,130,154)])\n",
    "dix_am <- rowMeans(loading[,c(11,35,59,83,107,131,155)])\n",
    "onze_am <- rowMeans(loading[,c(12,36,60,84,108,132,156)])\n",
    "minuit_pm <- rowMeans(loading[,c(13,37,61,85,109,133,157)])\n",
    "une_pm <- rowMeans(loading[,c(14,38,62,86,110,134,158)])\n",
    "deux_pm <- rowMeans(loading[,c(15,39,63,87,111,135,159)])\n",
    "trois_pm <- rowMeans(loading[,c(16,40,64,88,112,136,160)])\n",
    "quatre_pm <- rowMeans(loading[,c(17,41,65,89,113,137,161)])\n",
    "cinq_pm <- rowMeans(loading[,c(18,42,66,90,114,138,162)])\n",
    "six_pm <- rowMeans(loading[,c(19,43,67,91,115,139,163)])\n",
    "sept_pm <- rowMeans(loading[,c(20,44,68,92,116,140,164)])\n",
    "huit_pm <- rowMeans(loading[,c(21,45,69,93,117,141,165)])\n",
    "neuf_pm <- rowMeans(loading[,c(22,46,70,94,118,142,166)])\n",
    "dix_pm <- rowMeans(loading[,c(23,47,71,95,119,143,167)])\n",
    "onze_pm <- rowMeans(loading[,c(24,48,72,96,120,144,168)])\n",
    "df1 <- data.frame(Minuit = minuit_am, \"une h\" = une_am, \"2h\" = deux_am, \"3h\" = trois_am, \"4h\" = quatre_am, \"5h\" = cinq_am, \"6h\" = six_am, \"7h\" = sept_am, \"8h\" = huit_am, \"9h\" = neuf_am\n",
    "                 , \"10h\" = dix_am, \"11h\" = onze_am, \"12h\" = minuit_pm, \"13h\" = une_pm, \"14h\" = deux_pm, \"15h\" = trois_pm, \"16h\" = quatre_pm, \"17h\" = cinq_pm, \"18h\" = six_pm, \n",
    "                 \"19h\" = sept_pm, \"20h\" = huit_pm, \"21h\" = neuf_pm, \"22h\" = dix_pm, \"23h\" = onze_pm)\n",
    "\n",
    "colnames(df1) <- list(\"0h\", \"1h\", \"2h\",\"3h\", \"4h\", \"5h\", \"6h\", \"7h\", \"8h\", \"9h\", \"10h\", \"11h\", \"12h\", \"13h\", \"14h\", \"15h\", \"16h\", \"17h\", \"18h\", \"19h\", \"20h\", \"21h\", \"22h\", \"23h\")\n",
    "df1$Station <- velib$names\n",
    "df1$Hill <- as.factor(coord$bonus)\n",
    "df1$Station <- as.factor(df1$Station)\n",
    "head(df1)"
   ]
  },
  {
   "cell_type": "code",
   "execution_count": null,
   "id": "4a62fde4-5263-4630-aee1-677592833849",
   "metadata": {},
   "outputs": [],
   "source": [
    "# ACP1\n",
    "acp1 <- PCA(df1, scale.unit = TRUE,\n",
    "           graph = FALSE, quali.sup = c(25,26), ncp = 3)\n",
    "g1<-fviz_eig(acp1, addlabels = TRUE, ylim = c(0, 60))\n",
    "g2<-ggplot(melt(acp1$ind$coord),aes(x=Var2,y=value))+\n",
    "  geom_boxplot()+\n",
    "  xlab(\"\")\n",
    "grid.arrange(g1,g2,ncol=2)"
   ]
  },
  {
   "cell_type": "code",
   "execution_count": null,
   "id": "970611ea-46d9-4778-9dcc-7a423c31f6b7",
   "metadata": {},
   "outputs": [],
   "source": [
    "fviz_pca_var(acp1)\n",
    "fviz_pca_var(acp1,axes=c(1,3))\n",
    "fviz_pca_var(acp1,axes=c(2,3))"
   ]
  },
  {
   "cell_type": "markdown",
   "id": "d70b0bf7-5b97-4d75-8b08-1dacbd4c9038",
   "metadata": {},
   "source": [
    "Ici, dans ce nouveau dataset, on peut voir que la composante 1 représente le chargement des stations, et que la composante 2 correspond aux heures de nuit et de jour. La composante 3 semble représenter les heures ou le chargement varie le plus, mais les variables ne sont pas très bien projetées donc cela reste à nuancer. On crée aussi un dataset en moyennant sur les jours"
   ]
  },
  {
   "cell_type": "code",
   "execution_count": null,
   "id": "ec0e5dcb-d406-4bb5-b198-cd212d1601e4",
   "metadata": {},
   "outputs": [],
   "source": [
    "lundi <- rowMeans(loading[,c(1,2,3,4,5,6,7,8,9,10,11,12,13,14,15,16,17,18,19,20,21,22,23,24)])\n",
    "mardi <- rowMeans(loading[,c(25,26,27,28,29,30,31,32,33,34,35,36,37,38,39,40,41,42,43,44,45,46,47,48)])\n",
    "mercredi <- rowMeans(loading[,c(49,50,51,52,53,54,55,56,57,58,59,60,61,62,63,64,65,66,67,68,69,70,71,72)])\n",
    "jeudi <- rowMeans(loading[,c(73,74,75,76,77,78,79,80,81,82,83,84,85,86,87,88,89,90,91,92,93,94,95,96)])\n",
    "vendredi <- rowMeans(loading[,c(97,98,99,100,101,102,103,104,105,106,107,108,109,110,111,112,113,114,115,116,117,118,119,120)])\n",
    "samedi <- rowMeans(loading[,c(121,122,123,124,125,126,127,128,129,130,131,132,133,134,135,136,137,138,139,140,141,142,143,144)])\n",
    "dimanche <- rowMeans(loading[,c(145,146,147,148,149,150,151,152,153,154,155,156,157,158,159,160,161,162,163,164,165,166,167,168)])\n",
    "\n",
    "df2 <- data.frame(lundi,mardi,mercredi,jeudi,vendredi,samedi,dimanche)\n",
    "\n",
    "colnames(df2) <- list(\"Lundi\",\"Mardi\",\"Mercredi\",\"Jeudi\",\"Vendredi\",\"Samedi\",\"Dimanche\")\n",
    "df2$Station <- velib$names\n",
    "df2$Station <- as.factor(df2$Station)\n",
    "df2$Hill <- as.factor(coord$bonus)\n",
    "head(df2)"
   ]
  },
  {
   "cell_type": "code",
   "execution_count": null,
   "id": "0e6f7893-90b0-447e-a67a-7bcd5174a753",
   "metadata": {},
   "outputs": [],
   "source": [
    "# ACP réduite\n",
    "acp2 <- PCA(df2, scale.unit = TRUE,\n",
    "           graph = FALSE, quali.sup = c(8,9), ncp = 3)\n",
    "g1<-fviz_eig(acp2, addlabels = TRUE, ylim = c(0, 80))\n",
    "g2<-ggplot(melt(acp2$ind$coord),aes(x=Var2,y=value))+\n",
    "  geom_boxplot()+\n",
    "  xlab(\"\")\n",
    "grid.arrange(g1,g2,ncol=2)"
   ]
  },
  {
   "cell_type": "code",
   "execution_count": null,
   "id": "b05907af-049f-464d-84c9-eea16d894b45",
   "metadata": {},
   "outputs": [],
   "source": [
    "fviz_pca_var(acp2)"
   ]
  },
  {
   "cell_type": "markdown",
   "id": "b34d9910-5d58-41da-a6f1-1b68e6bdfc97",
   "metadata": {},
   "source": [
    "Dans ce dataset, la composante 1 correspond toujours au chargement des stations et la composante 2 fait la distinction semaine/week-end. Cependant, les variables ne sont pas très bien projeté sur la dimension 2 donc cela reste à nuancer. Les variables étaient mieux projetées sur la dimension 2 en utilisant df1, le jeu de données sur les heures, et sur le jeu de données de base. "
   ]
  },
  {
   "cell_type": "markdown",
   "id": "7146793f",
   "metadata": {},
   "source": [
    "## Méthodes de clustering sur nos 3 jeux de données"
   ]
  },
  {
   "cell_type": "markdown",
   "id": "73b83ca6-1980-4c9c-829f-e36755944c3b",
   "metadata": {},
   "source": [
    "### Méthodes de clustering sur le dataset loading"
   ]
  },
  {
   "cell_type": "markdown",
   "id": "80af5086-24b3-454f-a95c-846606b331c8",
   "metadata": {},
   "source": [
    "#### K-Means"
   ]
  },
  {
   "cell_type": "code",
   "execution_count": null,
   "id": "7c8d753e",
   "metadata": {},
   "outputs": [],
   "source": [
    "library(cluster)\n",
    "library(RColorBrewer)\n",
    "library(viridis)"
   ]
  },
  {
   "cell_type": "code",
   "execution_count": null,
   "id": "c711fd72-610c-47f7-b552-a78c285cc42a",
   "metadata": {},
   "outputs": [],
   "source": [
    "options(repr.plot.width = 9, repr.plot.height = 6)\n",
    "fviz_nbclust(loading[,-169], FUNcluster=kmeans, method=\"wss\") +\n",
    "    ggtitle(\"Score WSS\")\n",
    "\n",
    "fviz_nbclust(loading[,-169], FUNcluster=kmeans, method=\"silhouette\") +\n",
    "    ggtitle(\"Score Silhouette\")"
   ]
  },
  {
   "cell_type": "code",
   "execution_count": null,
   "id": "b5667247-edd4-4f19-aaaf-77f614c1299a",
   "metadata": {},
   "outputs": [],
   "source": [
    "options(repr.plot.width = 15, repr.plot.height = 10)\n",
    "for (centers in 2:5) {\n",
    "  reskmeans <- kmeans(loading, centers=centers)\n",
    "  sil <- silhouette(reskmeans$cluster, dist(loading))\n",
    "  p <- fviz_silhouette(sil, ylim = c(-0.2, 0.6), main = paste(\"centers =\", centers))\n",
    "  print(p)\n",
    "}\n",
    "reskmeans = kmeans(loading,centers=4)"
   ]
  },
  {
   "cell_type": "markdown",
   "id": "6398020e-48a4-4a5b-ab11-71b937195048",
   "metadata": {},
   "source": [
    "On choisit 4 clusters pour Kmeans sur loading car le score silhouette nous renvoie un bon score pour ce nombre et le silhouette plot n'a que très peu de valeurs négatives qui correspondraient à des stations mal classées. On aurait pu choisir 2 ou 3 clusters comme préconisé par le score silhouette mais pour avoir des interprétations plus poussées on choisit 4 clusters. "
   ]
  },
  {
   "cell_type": "code",
   "execution_count": null,
   "id": "d1ea5e46-97df-4c47-9ae6-6a1a2c266fe3",
   "metadata": {},
   "outputs": [],
   "source": [
    "fviz_cluster(reskmeans, data=loading[,-169], ellipse.type=\"norm\", labelsize=8, geom=c(\"point\"))"
   ]
  },
  {
   "cell_type": "code",
   "execution_count": null,
   "id": "76c557d8-f5d6-4f76-9d2b-0240407dcd49",
   "metadata": {},
   "outputs": [],
   "source": [
    "options(repr.plot.width = 9, repr.plot.height = 6)\n",
    "fviz_pca(acp, axes=c(1,2), geom = c(\"point\"), col.ind=as.factor(reskmeans$cluster))"
   ]
  },
  {
   "cell_type": "code",
   "execution_count": null,
   "id": "0db47f83-dc88-4fe0-95b7-cd08b556e071",
   "metadata": {},
   "outputs": [],
   "source": [
    "cluster_palette <- colorFactor(c(\"#E41A1C\",\"#4DAF4A\",\"#377EB8\"), domain = unique(reskmeans$cluster))  # Utiliser la palette viridis avec 10 couleurs\n",
    "\n",
    "leaflet(velib$position) %>% \n",
    "  addTiles(urlTemplate = \"https://{s}.basemaps.cartocdn.com/light_all/{z}/{x}/{y}{r}.png\", \n",
    "           attribution = 'Map tiles by Carto, under CC BY 3.0. Data by OpenStreetMap, under ODbL.') %>% \n",
    "  addCircleMarkers(radius = 3,\n",
    "                   color = ~cluster_palette(reskmeans$cluster),\n",
    "                   stroke = FALSE, \n",
    "                   fillOpacity = 0.9) %>%\n",
    "addLegend(position = \"bottomright\", \n",
    "            pal = cluster_palette, \n",
    "            values = ~reskmeans$cluster,\n",
    "            title = \"Cluster\",\n",
    "            opacity = 1)"
   ]
  },
  {
   "cell_type": "code",
   "execution_count": null,
   "id": "4c5dcd00-afb0-423a-b5e5-4b8d1b822f06",
   "metadata": {},
   "outputs": [],
   "source": [
    "mean_loadings <- aggregate(loading[, -169], by = list(cluster = reskmeans$cluster), FUN = mean)\n",
    "mean_loadings\n",
    "mean_loadings_melted <- melt(mean_loadings, id.vars = \"cluster\")\n",
    "\n",
    "ggplot(mean_loadings_melted, aes(x = variable, y = value, color = factor(cluster), group = cluster)) +\n",
    "  geom_line() +\n",
    "  labs(title = \"Chargement moyen des stations par cluster\", x = \"Temps en heures\", y = \"Chargement\") +\n",
    "  scale_color_discrete(name = \"Cluster\")"
   ]
  },
  {
   "cell_type": "markdown",
   "id": "0f38ac19-741f-4934-9803-e6b2e6ba3639",
   "metadata": {},
   "source": [
    "Ce graphe représente le chargement moyen des stations en fonction du cluster. \n",
    "Le cluster 1 se charge en soirée et se vide le matin avec un chargement qui varie beaucoup. C'est des stations qui pourraient correspondre aux zones d'habitation, où les gens rentrent du travail et chargent les stations et les vident en partant au travail le matin. \n",
    "A l'inverse, le cluster 2 correspond aux stations qui se chargent en journée, quand les gens arrivent au travail et se vide quand les gens rentrent chez eux. Le week-end, le chargement du cluster 2 varie moins car moins de gens se rendent au centre. \n",
    "Le cluster 3 se charge également en journée mais les stations sont plus vides en moyenne et le chargement varie moins. \n",
    "Le cluster 4, à l'inverse du cluster 3, se charge en soirée avec des stations plus chargées en moyenne mais avec aussi un chargement qui varie moins. "
   ]
  },
  {
   "cell_type": "code",
   "execution_count": null,
   "id": "223bc1d8-1219-4ffa-922c-b9a4c9eba7f5",
   "metadata": {},
   "outputs": [],
   "source": [
    "tbl2 = table(coord$bonus,reskmeans$cluster)\n",
    "print(tbl2)\n",
    "mosaicplot(tbl2,color=c(1:4), main = \"Stations en altitude en fonction du clusters\")"
   ]
  },
  {
   "cell_type": "markdown",
   "id": "4a4eac54-651a-4770-8ffa-bb17e352bc6b",
   "metadata": {},
   "source": [
    "On voit que quasiment toutes les stations en altitude appartiennent au cluster 3, qui correspond aux stations peu chargées et dont le chargement ne varie pas beaucoup. Les vélos en altitude ne sont pas pas très empruntés/rechargés."
   ]
  },
  {
   "cell_type": "markdown",
   "id": "53d48459-1f83-4d12-b8d5-a95f3ef31aa5",
   "metadata": {},
   "source": [
    "#### CAH SUR LOADING"
   ]
  },
  {
   "cell_type": "code",
   "execution_count": null,
   "id": "ebbac35f-c100-4776-b3e2-087e511c2d50",
   "metadata": {},
   "outputs": [],
   "source": [
    "d = dist(loading[,-169], method=\"euclidean\")\n",
    "\n",
    "hclustaverage = hclust(d, method=\"average\")\n",
    "hclustward = hclust(d,method=\"ward.D\")\n",
    "hclustsingle = hclust(d, method=\"single\")\n",
    "hclustcomplete = hclust(d,method=\"complete\")\n",
    "\n",
    "\n",
    "options(repr.plot.width=10, repr.plot.height=10)\n",
    "\n",
    "fviz_dend(hclustsingle, show_labels=FALSE, main='Dendrogram - Single linkage')\n",
    "fviz_dend(hclustcomplete, show_labels=FALSE, main='Dendrogram - Complete linkage')\n",
    "fviz_dend(hclustaverage, show_labels=FALSE, main='Dendrogram - Average linkage')\n",
    "fviz_dend(hclustward, show_labels=FALSE, main='Dendrogram - Ward linkage')"
   ]
  },
  {
   "cell_type": "code",
   "execution_count": null,
   "id": "9d757d0a-ba52-45a7-a17e-e54723f5e90f",
   "metadata": {},
   "outputs": [],
   "source": [
    "options(repr.plot.width = 12, repr.plot.height = 6)\n",
    "loading_dupli <- loading[!duplicated(rownames(loading)), ]\n",
    "grid.arrange(\n",
    "    fviz_nbclust(loading_dupli[,-169], FUNcluster=hcut, method=\"wss\") + ggtitle(\"Score WSS\"),\n",
    "    fviz_nbclust(loading_dupli[,-169], FUNcluster=hcut, method=\"silhouette\") + ggtitle(\"Score Silhouette\"),\n",
    "    ncol=2\n",
    ")"
   ]
  },
  {
   "cell_type": "markdown",
   "id": "6d54d221-fd9a-4afe-ac9f-18cba2c0c5fc",
   "metadata": {},
   "source": [
    "On choisit 4 clusters car le score silhouette est bon et pour correspondre au nombre de cluster de la méthode Kmeans."
   ]
  },
  {
   "cell_type": "code",
   "execution_count": null,
   "id": "7a0adc1c-f9ea-40e3-95dc-cdb6ca2f862c",
   "metadata": {},
   "outputs": [],
   "source": [
    "reshclust_average = cutree(hclustaverage, 4)\n",
    "reshclust_ward = cutree(hclustward, 4)\n",
    "reshclust_complete = cutree(hclustcomplete, 4)\n",
    "reshclust_single = cutree(hclustsingle, 4)\n",
    "\n",
    "fviz_dend(hclustaverage, k=4, show_labels=FALSE, rect=TRUE, main = \"Dendrogram average linkage\")\n",
    "fviz_dend(hclustward, k=4, show_labels=FALSE, rect=TRUE, main = \"Dendrogram ward linkage\")\n",
    "fviz_dend(hclustsingle, k=4, show_labels=FALSE, rect=TRUE, main = \"Dendrogram single linkage\")\n",
    "fviz_dend(hclustcomplete, k=4, show_labels=FALSE, rect=TRUE, main = \"Dendrogram complete linkage\")"
   ]
  },
  {
   "cell_type": "markdown",
   "id": "4f3d80d2-05e1-4d4d-8740-7b6061858395",
   "metadata": {},
   "source": [
    "On choisit le linkage Ward pour avoir des clusters de taille à peu près équivalente et pouvoir représenter des chargements moyens cohérents."
   ]
  },
  {
   "cell_type": "code",
   "execution_count": null,
   "id": "218f9368-0f3a-4439-9f66-6d57d29764f9",
   "metadata": {},
   "outputs": [],
   "source": [
    "options(repr.plot.width = 9, repr.plot.height = 6)\n",
    "\n",
    "fviz_pca(acp, axes=c(1,2), geom = c(\"point\"), col.ind=as.factor(reshclust_average))"
   ]
  },
  {
   "cell_type": "code",
   "execution_count": null,
   "id": "4706275a-37c5-4e08-9d72-440fb8a90c23",
   "metadata": {},
   "outputs": [],
   "source": [
    "cluster_palette <- colorFactor(c(\"#E41A1C\",\"#4DAF4A\",\"#377EB8\"), domain = unique(reshclust_average))\n",
    "\n",
    "leaflet(velib$position) %>% \n",
    "  addTiles(urlTemplate = \"https://{s}.basemaps.cartocdn.com/light_all/{z}/{x}/{y}{r}.png\", \n",
    "           attribution = 'Map tiles by Carto, under CC BY 3.0. Data by OpenStreetMap, under ODbL.') %>% \n",
    "  addCircleMarkers(radius = 3,\n",
    "                   color = ~cluster_palette(reshclust_average),\n",
    "                   stroke = FALSE, \n",
    "                   fillOpacity = 0.9) %>%\n",
    "addLegend(position = \"bottomright\", \n",
    "            pal = cluster_palette, \n",
    "            values = ~reshclust_average,\n",
    "            title = \"Cluster\",\n",
    "            opacity = 1)"
   ]
  },
  {
   "cell_type": "code",
   "execution_count": null,
   "id": "cc781f5c-509c-41df-94de-c2ceb2f96150",
   "metadata": {},
   "outputs": [],
   "source": [
    "mean_loadings_cah <- aggregate(loading[, -169], by = list(cluster = reshclust_ward), FUN = mean)\n",
    "mean_loadings_cah\n",
    "mean_loadings_melted_cah <- melt(mean_loadings_cah, id.vars = \"cluster\")\n",
    "\n",
    "ggplot(mean_loadings_melted_cah, aes(x = variable, y = value, color = factor(cluster), group = cluster)) +\n",
    "  geom_line() +\n",
    "  labs(title = \"Chargement moyen des stations par cluster\", x = \"Temps en heures\", y = \"Chargement\") +\n",
    "  scale_color_discrete(name = \"Cluster\")"
   ]
  },
  {
   "cell_type": "markdown",
   "id": "907ba35b-b8cc-4a5c-9bc4-bc408bbae61a",
   "metadata": {},
   "source": [
    "On retrouve les mêmes conclusions qu'avec les KMeans"
   ]
  },
  {
   "cell_type": "code",
   "execution_count": null,
   "id": "69419832-6782-4e57-be4a-cd5d42027a3e",
   "metadata": {},
   "outputs": [],
   "source": [
    "tbl2 = table(coord$bonus,reshclust_ward)\n",
    "print(tbl2)\n",
    "mosaicplot(tbl2,color=c(1:4), main = \"Stations en altitude en fonction du clusters\")"
   ]
  },
  {
   "cell_type": "markdown",
   "id": "1e52adf8-ddce-4657-baa6-aa8f2b862676",
   "metadata": {},
   "source": [
    "On arrive aux mêmes conclusions qu'avec les Kmeans."
   ]
  },
  {
   "cell_type": "markdown",
   "id": "d0f35add-4a0d-4941-854a-49dab2b87fd2",
   "metadata": {},
   "source": [
    "#### Gaussian Mixture Model sur le dataset Loading"
   ]
  },
  {
   "cell_type": "code",
   "execution_count": null,
   "id": "d6887177-abbc-479c-91e0-ecdedd5613e5",
   "metadata": {},
   "outputs": [],
   "source": [
    "library(mclust)"
   ]
  },
  {
   "cell_type": "code",
   "execution_count": null,
   "id": "9d94de48-7dbf-455d-a8d4-8b26ef6992ee",
   "metadata": {},
   "outputs": [],
   "source": [
    "resBICall = mclustBIC(loading[,-169], G=1:10)\n",
    "summary(resBICall)\n",
    "\n",
    "resBICall = Mclust(loading[,-169], G=1:10)\n",
    "summary(resBICall)\n",
    "\n",
    "fviz_mclust(resBICall, what=\"BIC\")"
   ]
  },
  {
   "cell_type": "markdown",
   "id": "99a3d42c-e20a-433d-8a40-b75a523cde4a",
   "metadata": {},
   "source": [
    "On peut voir que l'on peut prendre n'importe quel nombre de clusters du moment qu'on choisit un modèle EEE. On en choisit 2 car si on en prend plus ça nous donne des clusters avec qu'un seul individu."
   ]
  },
  {
   "cell_type": "code",
   "execution_count": null,
   "id": "fbc502aa-936b-42c6-aa71-4bd0d9d8f7cd",
   "metadata": {},
   "outputs": [],
   "source": [
    "options(repr.plot.width = 10, repr.plot.height = 6)\n",
    "resBIC = Mclust(loading[,-169], G=2, modelNames = \"EEE\")\n",
    "fviz_cluster(resBIC, data=loading[,-169], ellipse.type=\"norm\", geom=\"point\")\n",
    "\n",
    "# --- #\n",
    "\n",
    "aux = data.frame(\n",
    "    label = paste(\"Cluster\", resBIC$classification, sep=\"\"), \n",
    "    proba = apply(resBIC$z, 1, max))\n",
    "\n",
    "ggplot(aux, aes(x=label, y=proba)) + \n",
    "    geom_boxplot(colour=1:2, fill=1:2, alpha=.4)"
   ]
  },
  {
   "cell_type": "code",
   "execution_count": null,
   "id": "bb01e634-4994-4d3f-af44-8c559dba68e6",
   "metadata": {},
   "outputs": [],
   "source": [
    "options(repr.plot.width = 20, repr.plot.height = 10)\n",
    "\n",
    "grid.arrange(\n",
    "    fviz_pca(acp, axes=c(1,2), geom = c(\"point\"), col.ind=as.factor(resBIC$classification)),\n",
    "    fviz_pca(acp, axes=c(1,3), geom=c(\"point\"), col.ind=as.factor(resBIC$classification)),\n",
    "    fviz_pca(acp, axes=c(2,3), geom=c(\"point\"), col.ind=as.factor(resBIC$classification)),\n",
    "    ncol=3\n",
    ")"
   ]
  },
  {
   "cell_type": "markdown",
   "id": "b0fadb12-8d63-4954-83e3-c8dd95790b91",
   "metadata": {},
   "source": [
    "On peut voir que les clusters se différencient surtout sur la dimension 1, ie les stations non chargées et les stations chargées. Le cluster 1 semble regrouper les stations peu chargées et le 2 les stations chargées."
   ]
  },
  {
   "cell_type": "code",
   "execution_count": null,
   "id": "7a4a9cd1-8dc3-41a9-a792-dfea7d572f1e",
   "metadata": {},
   "outputs": [],
   "source": [
    "cluster_palette <- colorFactor(c(\"#E41A1C\",\"#FF33CC\"), domain = unique(resBIC$classification))  # Utiliser la palette viridis avec 10 couleurs\n",
    "\n",
    "leaflet(velib$position) %>% \n",
    "  addTiles(urlTemplate = \"https://{s}.basemaps.cartocdn.com/light_all/{z}/{x}/{y}{r}.png\", \n",
    "           attribution = 'Map tiles by Carto, under CC BY 3.0. Data by OpenStreetMap, under ODbL.') %>% \n",
    "  addCircleMarkers(radius = 3,\n",
    "                   color = ~cluster_palette(resBIC$classification),\n",
    "                   stroke = FALSE, \n",
    "                   fillOpacity = 0.9) %>%\n",
    "addLegend(position = \"bottomright\", \n",
    "            pal = cluster_palette, \n",
    "            values = ~resBIC$classification,\n",
    "            title = \"Cluster\",\n",
    "            opacity = 1)\n",
    "### pareil que pour la première carte"
   ]
  },
  {
   "cell_type": "code",
   "execution_count": null,
   "id": "324fd030-dbf4-458f-a804-23e501b2d2ad",
   "metadata": {},
   "outputs": [],
   "source": [
    "mean_loadings_gmm <- aggregate(loading[, -169], by = list(cluster = resBIC$classification), FUN = mean)\n",
    "mean_loadings_gmm\n",
    "mean_loadings_melted_gmm <- melt(mean_loadings_gmm, id.vars = \"cluster\")\n",
    "\n",
    "ggplot(mean_loadings_melted_gmm, aes(x = variable, y = value, color = factor(cluster), group = cluster)) +\n",
    "  geom_line() +\n",
    "  labs(title = \"Chargement moyen des stations par cluster\", x = \"Temps en heures\", y = \"Chargement\") +\n",
    "  scale_color_discrete(name = \"Cluster\")"
   ]
  },
  {
   "cell_type": "markdown",
   "id": "0286ae1e-b3a8-4ae9-89b7-ea8b911b7bde",
   "metadata": {},
   "source": [
    "Ici le cluster 1 correspond aux stations moins chargées en moyenne et le cluster 2 aux stations plus chargées en moyenne."
   ]
  },
  {
   "cell_type": "code",
   "execution_count": null,
   "id": "c49a4f7f-e862-4471-b7ba-079351f72e6e",
   "metadata": {},
   "outputs": [],
   "source": [
    "tbl2_cah = table(coord$bonus,resBIC$classification)\n",
    "print(tbl2_cah)\n",
    "mosaicplot(tbl2_cah,color=c(2:4), main = \"Stations en altitude en fonction du clusters\")"
   ]
  },
  {
   "cell_type": "markdown",
   "id": "7b4aea8d-ab8f-4de4-95ac-4329a2947dfc",
   "metadata": {},
   "source": [
    "On peut voir que la plupart des stations en altitude appartiennent au cluster 1, le cluster des stations peu chargée. Cela confirme notre analyse avec les kmeans et CAH."
   ]
  },
  {
   "cell_type": "markdown",
   "id": "56ef7926-09d1-4742-8637-f28bf552c20f",
   "metadata": {},
   "source": [
    "### CLUSTERING SUR DF1"
   ]
  },
  {
   "cell_type": "markdown",
   "id": "092a4eba-296b-4521-aa42-b1a35d50d521",
   "metadata": {},
   "source": [
    "#### KMEANS SUR DF1"
   ]
  },
  {
   "cell_type": "code",
   "execution_count": null,
   "id": "939ab89d-9b56-4aaa-9c4d-bbec8c9e1358",
   "metadata": {},
   "outputs": [],
   "source": [
    "options(repr.plot.width = 9, repr.plot.height = 6)\n",
    "fviz_nbclust(df1[,-c(25,26)], FUNcluster=kmeans, method=\"wss\") +\n",
    "    ggtitle(\"Within sum of square (WSS) according to the number of clusters\")\n",
    "\n",
    "fviz_nbclust(df1[,-c(25,26)], FUNcluster=kmeans, method=\"silhouette\") +\n",
    "    ggtitle(\"Silhouette score according to the number of clusters\")"
   ]
  },
  {
   "cell_type": "code",
   "execution_count": null,
   "id": "3c0e7995-7343-4489-a356-5e82cb6cc16d",
   "metadata": {},
   "outputs": [],
   "source": [
    "reskmeans1 = kmeans(df1[,-c(25,26)], centers=4) \n",
    "\n",
    "fviz_cluster(reskmeans1, data=df1[,-c(25,26)], ellipse.type=\"norm\", labelsize=8, geom=c(\"point\"))"
   ]
  },
  {
   "cell_type": "code",
   "execution_count": null,
   "id": "edf3f5b3-ab8c-48b0-9c2d-44d04dccba18",
   "metadata": {},
   "outputs": [],
   "source": [
    "options(repr.plot.width = 9, repr.plot.height = 6)\n",
    "\n",
    "fviz_pca(acp1, axes=c(1,2), geom = c(\"point\"), col.ind=as.factor(reskmeans1$cluster))"
   ]
  },
  {
   "cell_type": "markdown",
   "id": "69950e70-4b57-4760-861a-18c1628d60d4",
   "metadata": {},
   "source": [
    "On peut voir que le cluster de gauche est projeté négativement selon la dimension 1. Il correspond donc à des stations peu chargées en moyenne et il n'a pas de distinction selon la composante 2, il ne fait pas de distinction entre les stations de \"nuit\" et les stations de \"jour\". \n",
    "Le cluster de droite fait pareil sauf qu'il correspond aux stations chargées en moyenne car projeté positivement selon la dimension 1. \n",
    "Le cluster du haut lui regroupe les stations plus chargées le jour et vides la nuit, à l'inverse du cluster du bas."
   ]
  },
  {
   "cell_type": "code",
   "execution_count": null,
   "id": "6d8c43a9-2ec1-4484-9ca4-5e9c7fe88ffc",
   "metadata": {},
   "outputs": [],
   "source": [
    "cluster_palette <- colorFactor(c(\"#E41A1C\",\"#4DAF4A\",\"#377EB8\"), domain = unique(reskmeans1$cluster))  # Utiliser la palette viridis avec 10 couleurs\n",
    "\n",
    "leaflet(velib$position) %>% \n",
    "  addTiles(urlTemplate = \"https://{s}.basemaps.cartocdn.com/light_all/{z}/{x}/{y}{r}.png\", \n",
    "           attribution = 'Map tiles by Carto, under CC BY 3.0. Data by OpenStreetMap, under ODbL.') %>% \n",
    "  addCircleMarkers(radius = 3,\n",
    "                   color = ~cluster_palette(reskmeans1$cluster),\n",
    "                   stroke = FALSE, \n",
    "                   fillOpacity = 0.9) %>%\n",
    "addLegend(position = \"bottomright\", \n",
    "            pal = cluster_palette, \n",
    "            values = ~reskmeans1$cluster,\n",
    "            title = \"Cluster\",\n",
    "            opacity = 1)"
   ]
  },
  {
   "cell_type": "code",
   "execution_count": null,
   "id": "064d70d8-55a7-4ea0-a21a-25149d3d9f46",
   "metadata": {},
   "outputs": [],
   "source": [
    "mean_loadings1 <- aggregate(loading[, -c(169)], by = list(cluster = reskmeans1$cluster), FUN = mean)\n",
    "mean_loadings1\n",
    "mean_loadings_melted1 <- melt(mean_loadings1, id.vars = \"cluster\")\n",
    "\n",
    "ggplot(mean_loadings_melted1, aes(x = variable, y = value, color = factor(cluster), group = cluster)) +\n",
    "  geom_line() +\n",
    "  labs(title = \"Chargement moyen des stations par cluster\", x = \"Temps en heures\", y = \"Chargement\") +\n",
    "  scale_color_discrete(name = \"Cluster\")"
   ]
  },
  {
   "cell_type": "code",
   "execution_count": null,
   "id": "9b4fd877-fdea-4000-9c4a-a8d90a1988e5",
   "metadata": {},
   "outputs": [],
   "source": [
    "tbl2_km = table(coord$bonus,reskmeans1$cluster)\n",
    "print(tbl2_km)\n",
    "mosaicplot(tbl2_km,color=c(1:4), main = \"Stations en altitude en fonction du clusters\")"
   ]
  },
  {
   "cell_type": "markdown",
   "id": "3ebcdba6-f5db-4765-9b9d-f31c1b6691f3",
   "metadata": {},
   "source": [
    "On retrouve exactement les mêmes clusters/graphique que sur loading. "
   ]
  },
  {
   "cell_type": "markdown",
   "id": "bf536b87-b2f8-402d-ab07-2001344105cc",
   "metadata": {},
   "source": [
    "#### CAH SUR DF1"
   ]
  },
  {
   "cell_type": "code",
   "execution_count": null,
   "id": "55770bd8-5741-4556-ab59-d5a04a3d1eb7",
   "metadata": {},
   "outputs": [],
   "source": [
    "d1 = dist(df1[,-c(25,26)], method=\"euclidean\")\n",
    "\n",
    "hclustaverage1 = hclust(d1, method=\"average\")\n",
    "hclustward1 = hclust(d1,method=\"ward.D\")\n",
    "hclustsingle1 = hclust(d1, method=\"single\")\n",
    "hclustcomplete1 = hclust(d1,method=\"complete\")\n",
    "\n",
    "\n",
    "options(repr.plot.width=10, repr.plot.height=10)\n",
    "\n",
    "fviz_dend(hclustsingle1, show_labels=FALSE, main='Dendrogram - Single linkage')\n",
    "fviz_dend(hclustcomplete1, show_labels=FALSE, main='Dendrogram - Complete linkage')\n",
    "fviz_dend(hclustaverage1, show_labels=FALSE, main='Dendrogram - Average linkage')\n",
    "fviz_dend(hclustward1, show_labels=FALSE, main='Dendrogram - Ward linkage')"
   ]
  },
  {
   "cell_type": "code",
   "execution_count": null,
   "id": "3987413b-7e88-48ca-8850-3153121e9f4d",
   "metadata": {},
   "outputs": [],
   "source": [
    "options(repr.plot.width = 12, repr.plot.height = 6)\n",
    "grid.arrange(\n",
    "    fviz_nbclust(df1[,-c(25,26)], FUNcluster=hcut, method=\"wss\") + ggtitle(\"Score WSS\"),\n",
    "    fviz_nbclust(df1[,-c(25,26)], FUNcluster=hcut, method=\"silhouette\") + ggtitle(\"Score Silhouette\"),\n",
    "    ncol=2\n",
    ")"
   ]
  },
  {
   "cell_type": "markdown",
   "id": "a95a8081-a56c-4f2c-9611-988d542f80a8",
   "metadata": {},
   "source": [
    "On choisit de travailler avec 4 clusters"
   ]
  },
  {
   "cell_type": "code",
   "execution_count": null,
   "id": "290d76aa-383b-420f-adce-750de4aad456",
   "metadata": {},
   "outputs": [],
   "source": [
    "reshclust_average1 = cutree(hclustaverage1, 4)\n",
    "reshclust_ward1 = cutree(hclustward1, 4)\n",
    "reshclust_single1 = cutree(hclustsingle1, 4)\n",
    "reshclust_average1 = cutree(hclustcomplete1, 4)\n",
    "\n",
    "fviz_dend(hclustaverage1, k=4, show_labels=FALSE, rect=TRUE,main=\"Dendrogram average linkage\")\n",
    "fviz_dend(hclustward1, k=4, show_labels=FALSE, rect=TRUE,main=\"Dendrogram ward linkage\")\n",
    "fviz_dend(hclustsingle1, k=4, show_labels=FALSE, rect=TRUE,main=\"Dendrogram single linkage\")\n",
    "fviz_dend(hclustcomplete1, k=4, show_labels=FALSE, rect=TRUE,main=\"Dendrogram complete linkage\")"
   ]
  },
  {
   "cell_type": "markdown",
   "id": "44ac619c-5484-46db-9706-fa3ab9a0dfda",
   "metadata": {},
   "source": [
    "On choisit de travailler avec le linkage Ward comme pour loading."
   ]
  },
  {
   "cell_type": "code",
   "execution_count": null,
   "id": "2b2817e8-78ab-4abe-8226-2a7413fb45fd",
   "metadata": {},
   "outputs": [],
   "source": [
    "options(repr.plot.width = 9, repr.plot.height = 6)\n",
    "\n",
    "fviz_pca(acp1, axes=c(1,2), geom = c(\"point\"), col.ind=as.factor(reshclust_ward1))"
   ]
  },
  {
   "cell_type": "markdown",
   "id": "7c0ebbae-149d-40c2-b58f-b5964361ba59",
   "metadata": {},
   "source": [
    "On retrouve les mêmes clusters qu'avec les méthodes précedentes"
   ]
  },
  {
   "cell_type": "code",
   "execution_count": null,
   "id": "004d4c0a-ff9d-4b7b-8ac3-402f862bef74",
   "metadata": {},
   "outputs": [],
   "source": [
    "cluster_palette <- colorFactor(c(\"#E41A1C\",\"#4DAF4A\",\"#377EB8\"), domain = unique(reshclust_ward1))\n",
    "\n",
    "leaflet(velib$position) %>% \n",
    "  addTiles(urlTemplate = \"https://{s}.basemaps.cartocdn.com/light_all/{z}/{x}/{y}{r}.png\", \n",
    "           attribution = 'Map tiles by Carto, under CC BY 3.0. Data by OpenStreetMap, under ODbL.') %>% \n",
    "  addCircleMarkers(radius = 3,\n",
    "                   color = ~cluster_palette(reshclust_ward1),\n",
    "                   stroke = FALSE, \n",
    "                   fillOpacity = 0.9) %>%\n",
    "addLegend(position = \"bottomright\", \n",
    "            pal = cluster_palette, \n",
    "            values = ~reshclust_average1,\n",
    "            title = \"Cluster\",\n",
    "            opacity = 1)"
   ]
  },
  {
   "cell_type": "code",
   "execution_count": null,
   "id": "17f3c2ba-a893-4178-a96d-d4b1fbd832d9",
   "metadata": {},
   "outputs": [],
   "source": [
    "mean_loadings_cah1 <- aggregate(loading[, -169], by = list(cluster = reshclust_ward1), FUN = mean)\n",
    "mean_loadings_cah1\n",
    "mean_loadings_melted_cah1 <- melt(mean_loadings_cah1, id.vars = \"cluster\")\n",
    "\n",
    "ggplot(mean_loadings_melted_cah1, aes(x = variable, y = value, color = factor(cluster), group = cluster)) +\n",
    "  geom_line() +\n",
    "  labs(title = \"Chargement moyen des stations par cluster\", x = \"Temps en heures\", y = \"Chargement\") +\n",
    "  scale_color_discrete(name = \"Cluster\")"
   ]
  },
  {
   "cell_type": "code",
   "execution_count": null,
   "id": "abefa525-0179-4188-8723-220604d64fb1",
   "metadata": {
    "scrolled": true
   },
   "outputs": [],
   "source": [
    "tbl2_1 = table(coord$bonus,reshclust_ward1)\n",
    "print(tbl2_1)\n",
    "mosaicplot(tbl2_1,color=c(1:4), main = \"Stations en altitude en fonction du clusters\")"
   ]
  },
  {
   "cell_type": "markdown",
   "id": "4d4eca9b-276e-4f31-acc4-b23e50b53b1e",
   "metadata": {},
   "source": [
    "Même conclusion qu'avec les méthodes précedentes. Le jeu de données df1 sur les heures semble être aussi informatif que loading."
   ]
  },
  {
   "cell_type": "markdown",
   "id": "194663e2-85a9-4cc9-9086-21849cf2e4fb",
   "metadata": {},
   "source": [
    "#### GMM SUR DF1"
   ]
  },
  {
   "cell_type": "code",
   "execution_count": null,
   "id": "9c0b4915-45fd-4886-a843-31e511d6bb7a",
   "metadata": {},
   "outputs": [],
   "source": [
    "resBICall1 = mclustBIC(df1[,-c(25,26)], G=1:10)\n",
    "summary(resBICall1)\n",
    "\n",
    "resBICall1 = Mclust(df1[,-c(25,26)], G=1:10)\n",
    "summary(resBICall1)\n",
    "\n",
    "fviz_mclust(resBICall1, what=\"BIC\")"
   ]
  },
  {
   "cell_type": "markdown",
   "id": "31f0abb4-809c-4e72-8a80-2405416ad047",
   "metadata": {},
   "source": [
    "On prend le modèle VVE, et on choisit 4 clusters pour correspondre aux analyses précédentes et car pour le modèle VVE le BIC semble ne plus trop augmenter à partir de 4 clusters."
   ]
  },
  {
   "cell_type": "code",
   "execution_count": null,
   "id": "28f75256-7aac-476d-a180-0ba5e515211a",
   "metadata": {},
   "outputs": [],
   "source": [
    "options(repr.plot.width = 10, repr.plot.height = 6)\n",
    "resBIC1 = Mclust(df1[,-c(25,26)], G=4, modelNames = \"VVE\")\n",
    "fviz_cluster(resBIC1, data=df1[,-c(25,26)], ellipse.type=\"norm\", geom=\"point\")\n",
    "\n",
    "# --- #\n",
    "\n",
    "aux = data.frame(\n",
    "    label = paste(\"Cluster\", resBIC1$classification, sep=\"\"), \n",
    "    proba = apply(resBIC1$z, 1, max))\n",
    "\n",
    "ggplot(aux, aes(x=label, y=proba)) + \n",
    "    geom_boxplot(colour=1:4, fill=1:4, alpha=.4)"
   ]
  },
  {
   "cell_type": "code",
   "execution_count": null,
   "id": "e1031d3c-f762-43ad-aec6-d8e4314f58f4",
   "metadata": {},
   "outputs": [],
   "source": [
    "options(repr.plot.width = 20, repr.plot.height = 10)\n",
    "\n",
    "fviz_pca(acp1, axes=c(1,2), geom = c(\"point\"), col.ind=as.factor(resBIC1$classification))"
   ]
  },
  {
   "cell_type": "code",
   "execution_count": null,
   "id": "edc7bc98-0500-45cc-80b0-a6fc53676642",
   "metadata": {},
   "outputs": [],
   "source": [
    "cluster_palette <- colorFactor(c(\"#E41A1C\", \"#FF33CC\", \"#377EB8\", \"#4DAF4A\", \"#FF7F00\", \"#FFFF33\"), domain = unique(resBIC1$classification))  # Utiliser la palette viridis avec 10 couleurs\n",
    "\n",
    "leaflet(velib$position) %>% \n",
    "  addTiles(urlTemplate = \"https://{s}.basemaps.cartocdn.com/light_all/{z}/{x}/{y}{r}.png\", \n",
    "           attribution = 'Map tiles by Carto, under CC BY 3.0. Data by OpenStreetMap, under ODbL.') %>% \n",
    "  addCircleMarkers(radius = 3,\n",
    "                   color = ~cluster_palette(resBIC1$classification),\n",
    "                   stroke = FALSE, \n",
    "                   fillOpacity = 0.9) %>%\n",
    "addLegend(position = \"bottomright\", \n",
    "            pal = cluster_palette, \n",
    "            values = ~resBIC1$classification,\n",
    "            title = \"Cluster\",\n",
    "            opacity = 1)"
   ]
  },
  {
   "cell_type": "code",
   "execution_count": null,
   "id": "461c308e-e194-402f-a027-d4443a662d4f",
   "metadata": {},
   "outputs": [],
   "source": [
    "mean_loadings_gmm1 <- aggregate(loading[, -169], by = list(cluster = resBIC1$classification), FUN = mean)\n",
    "mean_loadings_gmm1\n",
    "mean_loadings_melted_gmm1 <- melt(mean_loadings_gmm1, id.vars = \"cluster\")\n",
    "\n",
    "ggplot(mean_loadings_melted_gmm1, aes(x = variable, y = value, color = factor(cluster), group = cluster)) +\n",
    "  geom_line() +\n",
    "  labs(title = \"Chargement moyen des stations par cluster\", x = \"Temps en heures\", y = \"Chargement\") +\n",
    "  scale_color_discrete(name = \"Cluster\")"
   ]
  },
  {
   "cell_type": "code",
   "execution_count": null,
   "id": "d9977f22-5abd-476f-829a-1efc3ab0b74d",
   "metadata": {},
   "outputs": [],
   "source": [
    "tbl2_gmm1 = table(coord$bonus,resBIC1$classification)\n",
    "print(tbl2_gmm1)\n",
    "mosaicplot(tbl2_gmm1,color=c(1:4), main = \"Stations en altitude en fonction du clusters\")"
   ]
  },
  {
   "cell_type": "markdown",
   "id": "767c4b5b-29ca-445b-b46b-8108edde46ff",
   "metadata": {},
   "source": [
    "Le clustering GMM sur df1 donne des résultats beaucoup plus compliqués interpréter. Quand on regarde le chargement moyen par cluster, le cluster 2 et 3 semble donner la même information : ils regroupent les stations plutôt chargées en moyenne, à l'inverse du cluster 4. Le cluster 1 regroupe les stations actives en semaine, qui se chargent le matin et se vident le soir. \n",
    "Si on avait choisit que 3 clusters, c'est le cluster 1 qui aurait disparu.\n",
    "On peut également voir que les stations en altitude ne sont étonnamments pas en majorité dans le cluster 4. En terme de proportion, elles sont plutôt dans le cluster 1 et 4. \\\n",
    "En conclusion, GMM semble être une méthode moins informative pour notre jeu de données. "
   ]
  },
  {
   "cell_type": "markdown",
   "id": "d74a5ca1-8cfe-4984-bbcc-2ea205f97592",
   "metadata": {},
   "source": [
    "### CLUSTERING SUR DF2"
   ]
  },
  {
   "cell_type": "markdown",
   "id": "a4a2d476-555f-4657-8ddd-63bb40a2eb07",
   "metadata": {},
   "source": [
    "#### K-Means sur DF2"
   ]
  },
  {
   "cell_type": "code",
   "execution_count": null,
   "id": "4bc73eff-4ff6-40c8-bebb-4429093abdb6",
   "metadata": {},
   "outputs": [],
   "source": [
    "options(repr.plot.width = 9, repr.plot.height = 6)\n",
    "fviz_nbclust(df2[,-c(8,9)], FUNcluster=kmeans, method=\"wss\") +\n",
    "    ggtitle(\"Within sum of square (WSS) according to the number of clusters\")\n",
    "\n",
    "fviz_nbclust(df2[,-c(8,9)], FUNcluster=kmeans, method=\"silhouette\") +\n",
    "    ggtitle(\"Silhouette score according to the number of clusters\")"
   ]
  },
  {
   "cell_type": "code",
   "execution_count": null,
   "id": "757771ea-251c-4b23-b5ec-aa650a5bb3f3",
   "metadata": {},
   "outputs": [],
   "source": [
    "reskmeans2 = kmeans(df2[,-c(8,9)], centers=3) \n",
    "\n",
    "fviz_cluster(reskmeans2, data=df2[,-c(8,9)], ellipse.type=\"norm\", labelsize=8, geom=c(\"point\"))"
   ]
  },
  {
   "cell_type": "code",
   "execution_count": null,
   "id": "272d1b5d-93a8-4ac5-bffe-a439802e71c3",
   "metadata": {},
   "outputs": [],
   "source": [
    "options(repr.plot.width = 9, repr.plot.height = 6)\n",
    "\n",
    "fviz_pca(acp2, axes=c(1,2), geom = c(\"point\"), col.ind=as.factor(reskmeans2$cluster))"
   ]
  },
  {
   "cell_type": "code",
   "execution_count": null,
   "id": "2e049aa7-003b-4254-870a-6d4302750fa0",
   "metadata": {},
   "outputs": [],
   "source": [
    "cluster_palette <- colorFactor(c(\"#E41A1C\",\"#4DAF4A\",\"#377EB8\"), domain = unique(reskmeans2$cluster))  # Utiliser la palette viridis avec 10 couleurs\n",
    "\n",
    "leaflet(velib$position) %>% \n",
    "  addTiles(urlTemplate = \"https://{s}.basemaps.cartocdn.com/light_all/{z}/{x}/{y}{r}.png\", \n",
    "           attribution = 'Map tiles by Carto, under CC BY 3.0. Data by OpenStreetMap, under ODbL.') %>% \n",
    "  addCircleMarkers(radius = 3,\n",
    "                   color = ~cluster_palette(reskmeans2$cluster),\n",
    "                   stroke = FALSE, \n",
    "                   fillOpacity = 0.9) %>%\n",
    "addLegend(position = \"bottomright\", \n",
    "            pal = cluster_palette, \n",
    "            values = ~reskmeans2$cluster,\n",
    "            title = \"Cluster\",\n",
    "            opacity = 1)"
   ]
  },
  {
   "cell_type": "code",
   "execution_count": null,
   "id": "9af4336d-3647-4ccf-800b-728154ab0629",
   "metadata": {},
   "outputs": [],
   "source": [
    "mean_loadings_2 <- aggregate(loading[, -169], by = list(cluster = reskmeans2$cluster), FUN = mean)\n",
    "mean_loadings_2\n",
    "mean_loadings_melted_2 <- melt(mean_loadings_2, id.vars = \"cluster\")\n",
    "\n",
    "ggplot(mean_loadings_melted_2, aes(x = variable, y = value, color = factor(cluster), group = cluster)) +\n",
    "  geom_line() +\n",
    "  labs(title = \"Chargement moyen des stations par cluster\", x = \"Temps en heures\", y = \"Chargement\") +\n",
    "  scale_color_discrete(name = \"Cluster\")"
   ]
  },
  {
   "cell_type": "code",
   "execution_count": null,
   "id": "ee6f9d69-f6f3-4cba-8213-636ae1434ec1",
   "metadata": {},
   "outputs": [],
   "source": [
    "tbl2_km2 = table(coord$bonus,reskmeans2$cluster)\n",
    "print(tbl2_km2)\n",
    "mosaicplot(tbl2_km2,color=c(1:3), main = \"Stations en altitude en fonction du clusters\")"
   ]
  },
  {
   "cell_type": "markdown",
   "id": "97661b34-1f37-448a-aafc-d1295de8adda",
   "metadata": {},
   "source": [
    "Sur DF2, les interprétations des clusters sont différentes. On peut voir que les clusters se différencient surtout sur leur moyenne de chargement. Le cluster 1 correspond aux stations peu chargées en moyenne (il comprend la majorité des stations en altitude). Le cluster 2 aux stations moyennement chargées et le cluster 3 aux stations chargées. On voit peu de différence entre la semaine/weekend sur le profil de chargement comparé à df1 où la moyenne de chargement des clusters étaient complétement différentes en fonction de l'heure. \n",
    "Cela confirme notre analyse descriptive : le week-end a peu d'influence sur le chargement des stations. Cela a également pu se voir par le peu d'information que porte la composante 2 dans l'acp sur df2 (8,2%)"
   ]
  },
  {
   "cell_type": "markdown",
   "id": "e693e07b-6c9c-4e90-8b6b-adab41b1ee65",
   "metadata": {},
   "source": [
    "## CAH SUR DF2"
   ]
  },
  {
   "cell_type": "code",
   "execution_count": null,
   "id": "6bc02adc-b62a-454d-8c32-0d5e20b32f6d",
   "metadata": {},
   "outputs": [],
   "source": [
    "d2 = dist(df2[,-c(8,9)], method=\"euclidean\")\n",
    "\n",
    "hclustaverage2 = hclust(d2, method=\"average\")\n",
    "hclustward2 = hclust(d2,method=\"ward.D\")\n",
    "hclustsingle2 = hclust(d2, method=\"single\")\n",
    "hclustcomplete2 = hclust(d2,method=\"complete\")\n",
    "\n",
    "\n",
    "options(repr.plot.width=10, repr.plot.height=10)\n",
    "\n",
    "fviz_dend(hclustsingle2, show_labels=FALSE, main='Dendrogram - Single linkage')\n",
    "fviz_dend(hclustcomplete2, show_labels=FALSE, main='Dendrogram - Complete linkage')\n",
    "fviz_dend(hclustaverage2, show_labels=FALSE, main='Dendrogram - Average linkage')\n",
    "fviz_dend(hclustward2, show_labels=FALSE, main='Dendrogram - Ward linkage')"
   ]
  },
  {
   "cell_type": "code",
   "execution_count": null,
   "id": "9f6cd8f2-82e8-4632-8b97-fad48d4b6cbe",
   "metadata": {},
   "outputs": [],
   "source": [
    "options(repr.plot.width = 12, repr.plot.height = 6)\n",
    "grid.arrange(\n",
    "    fviz_nbclust(df2[,-c(8,9)], FUNcluster=hcut, method=\"wss\") + ggtitle(\"Score WSS\"),\n",
    "    fviz_nbclust(df2[,-c(8,9)], FUNcluster=hcut, method=\"silhouette\") + ggtitle(\"Score Silhouette\"),\n",
    "    ncol=2\n",
    ")"
   ]
  },
  {
   "cell_type": "code",
   "execution_count": null,
   "id": "3e4c2993-2486-4e2d-9a2a-97020e57276a",
   "metadata": {},
   "outputs": [],
   "source": [
    "reshclust_average2 = cutree(hclustaverage2, 3)\n",
    "reshclust_ward2 = cutree(hclustward2, 3)\n",
    "reshclust_single2 = cutree(hclustsingle2, 3)\n",
    "reshclust_complete2 = cutree(hclustcomplete2, 3)\n",
    "\n",
    "fviz_dend(hclustaverage2, k=3, show_labels=FALSE, rect=TRUE, main = \"Average linkage Dendrogram\")\n",
    "fviz_dend(hclustward2, k=3, show_labels=FALSE, rect=TRUE, main = \"Ward linkage Dendrogram\")\n",
    "fviz_dend(hclustsingle2, k=3, show_labels=FALSE, rect=TRUE, main = \"Single linkage Dendrogram\")\n",
    "fviz_dend(hclustcomplete2, k=3, show_labels=FALSE, rect=TRUE, main = \"Complete linkage Dendrogram\")"
   ]
  },
  {
   "cell_type": "markdown",
   "id": "535b6051-3cf6-4578-b4a6-1eb502aed10a",
   "metadata": {},
   "source": [
    "On choisit le linkage Ward pour avoir des clusters de taille équivalente"
   ]
  },
  {
   "cell_type": "code",
   "execution_count": null,
   "id": "1e1a9e34-82a7-469a-a2b2-8b6b56310dbd",
   "metadata": {},
   "outputs": [],
   "source": [
    "options(repr.plot.width = 9, repr.plot.height = 6)\n",
    "\n",
    "fviz_pca(acp2, axes=c(1,2), geom = c(\"point\"), col.ind=as.factor(reshclust_ward2))"
   ]
  },
  {
   "cell_type": "code",
   "execution_count": null,
   "id": "22460942-7850-49a8-8218-fd1e6c36d3ae",
   "metadata": {},
   "outputs": [],
   "source": [
    "cluster_palette <- colorFactor(c(\"#E41A1C\",\"#4DAF4A\",\"#377EB8\"), domain = unique(reshclust_ward2))\n",
    "\n",
    "leaflet(velib$position) %>% \n",
    "  addTiles(urlTemplate = \"https://{s}.basemaps.cartocdn.com/light_all/{z}/{x}/{y}{r}.png\", \n",
    "           attribution = 'Map tiles by Carto, under CC BY 3.0. Data by OpenStreetMap, under ODbL.') %>% \n",
    "  addCircleMarkers(radius = 3,\n",
    "                   color = ~cluster_palette(reshclust_ward2),\n",
    "                   stroke = FALSE, \n",
    "                   fillOpacity = 0.9) %>%\n",
    "addLegend(position = \"bottomright\", \n",
    "            pal = cluster_palette, \n",
    "            values = ~reshclust_ward2,\n",
    "            title = \"Cluster\",\n",
    "            opacity = 1)"
   ]
  },
  {
   "cell_type": "code",
   "execution_count": null,
   "id": "286a6d3b-e9cd-4452-a193-a9b7a2e3bd3f",
   "metadata": {},
   "outputs": [],
   "source": [
    "mean_loadings_2cah <- aggregate(loading[, -169], by = list(cluster = reshclust_ward2), FUN = mean)\n",
    "mean_loadings_2cah\n",
    "mean_loadings_melted_2cah <- melt(mean_loadings_2cah, id.vars = \"cluster\")\n",
    "\n",
    "ggplot(mean_loadings_melted_2cah, aes(x = variable, y = value, color = factor(cluster), group = cluster)) +\n",
    "  geom_line() +\n",
    "  labs(title = \"Chargement moyen des stations par cluster\", x = \"Temps en heures\", y = \"Chargement\") +\n",
    "  scale_color_discrete(name = \"Cluster\")"
   ]
  },
  {
   "cell_type": "code",
   "execution_count": null,
   "id": "00d83995-7ef4-4419-b514-79e19fed40a7",
   "metadata": {},
   "outputs": [],
   "source": [
    "tbl2_ch2 = table(coord$bonus,reshclust_ward2)\n",
    "print(tbl2_ch2)\n",
    "mosaicplot(tbl2_ch2,color=c(1:3), main = \"Stations en altitude en fonction du clusters\")"
   ]
  },
  {
   "cell_type": "markdown",
   "id": "201b0597-3ff5-494f-b68c-386072088d6a",
   "metadata": {},
   "source": [
    "On retrouve exactement les mêmes conclusions qu'avec les K-Means."
   ]
  },
  {
   "cell_type": "markdown",
   "id": "b25a1e01-c416-4893-a36e-d41e8292b45f",
   "metadata": {},
   "source": [
    "## GMM SUR DF2"
   ]
  },
  {
   "cell_type": "code",
   "execution_count": null,
   "id": "7ce5b644-f6fe-4b4e-826b-a593f9e39ba2",
   "metadata": {},
   "outputs": [],
   "source": [
    "resBICall2 = mclustBIC(df2[,-c(8,9)], G=1:10)\n",
    "summary(resBICall2)\n",
    "\n",
    "resBICall2 = Mclust(df2[,-c(8,9)], G=1:10)\n",
    "summary(resBICall2)\n",
    "\n",
    "fviz_mclust(resBICall2, what=\"BIC\")"
   ]
  },
  {
   "cell_type": "code",
   "execution_count": null,
   "id": "9f9f18f2-3e85-4d21-b0b0-f64352e5f6f8",
   "metadata": {},
   "outputs": [],
   "source": [
    "options(repr.plot.width = 10, repr.plot.height = 6)\n",
    "resBIC2 = Mclust(df2[,-c(8,9)], G=3, modelNames = \"VEE\")\n",
    "fviz_cluster(resBIC2, data=df2[,-c(8,9)], ellipse.type=\"norm\", geom=\"point\")\n",
    "\n",
    "# --- #\n",
    "\n",
    "aux = data.frame(\n",
    "    label = paste(\"Cluster\", resBIC2$classification, sep=\"\"), \n",
    "    proba = apply(resBIC2$z, 1, max))\n",
    "\n",
    "ggplot(aux, aes(x=label, y=proba)) + \n",
    "    geom_boxplot(colour=1:3, fill=1:3, alpha=.4)"
   ]
  },
  {
   "cell_type": "code",
   "execution_count": null,
   "id": "97c64985-e20f-48c6-8516-d98c48d7f151",
   "metadata": {},
   "outputs": [],
   "source": [
    "options(repr.plot.width = 20, repr.plot.height = 10)\n",
    "\n",
    "fviz_pca(acp2, axes=c(1,2), geom = c(\"point\"), col.ind=as.factor(resBIC2$classification))"
   ]
  },
  {
   "cell_type": "code",
   "execution_count": null,
   "id": "cae26c25-d0bc-4cbe-a226-cdd118ca26e9",
   "metadata": {},
   "outputs": [],
   "source": [
    "cluster_palette <- colorFactor(c(\"#E41A1C\", \"#FF33CC\", \"#377EB8\", \"#4DAF4A\", \"#FF7F00\", \"#FFFF33\"), domain = unique(resBIC2$classification))  # Utiliser la palette viridis avec 10 couleurs\n",
    "\n",
    "leaflet(velib$position) %>% \n",
    "  addTiles(urlTemplate = \"https://{s}.basemaps.cartocdn.com/light_all/{z}/{x}/{y}{r}.png\", \n",
    "           attribution = 'Map tiles by Carto, under CC BY 3.0. Data by OpenStreetMap, under ODbL.') %>% \n",
    "  addCircleMarkers(radius = 3,\n",
    "                   color = ~cluster_palette(resBIC2$classification),\n",
    "                   stroke = FALSE, \n",
    "                   fillOpacity = 0.9) %>%\n",
    "addLegend(position = \"bottomright\", \n",
    "            pal = cluster_palette, \n",
    "            values = ~resBIC2$classification,\n",
    "            title = \"Cluster\",\n",
    "            opacity = 1)"
   ]
  },
  {
   "cell_type": "code",
   "execution_count": null,
   "id": "397575a8-7e48-4afe-a56f-cb969e0daa8d",
   "metadata": {},
   "outputs": [],
   "source": [
    "mean_loadings_2gmm <- aggregate(loading[, -169], by = list(cluster = resBIC2$classification), FUN = mean)\n",
    "mean_loadings_2gmm\n",
    "mean_loadings_melted_2gmm <- melt(mean_loadings_2gmm, id.vars = \"cluster\")\n",
    "\n",
    "ggplot(mean_loadings_melted_2gmm, aes(x = variable, y = value, color = factor(cluster), group = cluster)) +\n",
    "  geom_line() +\n",
    "  labs(title = \"Chargement moyen des stations par cluster\", x = \"Temps en heures\", y = \"Chargement\") +\n",
    "  scale_color_discrete(name = \"Cluster\")"
   ]
  },
  {
   "cell_type": "code",
   "execution_count": null,
   "id": "b75038a7-802e-47fe-b111-5cc7df2d52a9",
   "metadata": {},
   "outputs": [],
   "source": [
    "tbl2_ch2 = table(coord$bonus,resBIC2$classification)\n",
    "print(tbl2_ch2)\n",
    "mosaicplot(tbl2_ch2,color=c(1:3), main = \"Stations en altitude en fonction du clusters\")"
   ]
  },
  {
   "cell_type": "markdown",
   "id": "71c450fa-ce50-4c77-aebf-4caad4a97b4e",
   "metadata": {},
   "source": [
    "Même conclusion que CAH et K-Means sur le chargement moyen des différents clusters sauf que les stations en altitude ne sont pas toutes dans le cluster 3 qui correspond aux stations faiblement chargées en moyenne."
   ]
  },
  {
   "cell_type": "markdown",
   "id": "33c9adb7-9074-40eb-b99d-3143f71b4763",
   "metadata": {},
   "source": [
    "## CA ENTRE CAH ET KMEANS SUR DF2"
   ]
  },
  {
   "cell_type": "code",
   "execution_count": null,
   "id": "6091ba91-423e-47aa-8933-0df0222a825b",
   "metadata": {},
   "outputs": [],
   "source": [
    "table_contingence <- table(reskmeans2$cluster,reshclust_ward2)\n",
    "table_contingence"
   ]
  },
  {
   "cell_type": "code",
   "execution_count": null,
   "id": "66b3d74f-1596-448e-a6d2-217d7c6a2a33",
   "metadata": {},
   "outputs": [],
   "source": [
    "res.ca = CA(table_contingence, graph=FALSE)\n",
    "fviz_ca_biplot(res.ca, repel=TRUE)"
   ]
  },
  {
   "cell_type": "code",
   "execution_count": null,
   "id": "a643918a-4a49-4b56-bba9-81512f0f26eb",
   "metadata": {},
   "outputs": [],
   "source": [
    "table_contingence2 <- table(reskmeans2$cluster,resBIC2$classification)\n",
    "table_contingence2"
   ]
  },
  {
   "cell_type": "code",
   "execution_count": null,
   "id": "7fd105fa-6d0e-45b9-839c-03b5fb52db91",
   "metadata": {},
   "outputs": [],
   "source": [
    "res.ca2 = CA(table_contingence2, graph=FALSE)\n",
    "fviz_ca_biplot(res.ca2, repel=TRUE)"
   ]
  },
  {
   "cell_type": "markdown",
   "id": "1999c731-ae12-4f9d-84e3-e043c965d579",
   "metadata": {},
   "source": [
    "On peut voir que les clusters entre K-Means et CAH sur DF2 sont quasiment les mêmes alors que entre GMM et K-Means les clusters ne sont pas exactement pareil, d'où la différence par exemple entre la distribution des stations en altitude dans les clusters."
   ]
  },
  {
   "cell_type": "markdown",
   "id": "60880dc1-663e-430b-9242-7e28c6bb7cb5",
   "metadata": {},
   "source": [
    "## MCA"
   ]
  },
  {
   "cell_type": "code",
   "execution_count": null,
   "id": "b1ac7647-bb64-4e64-8278-02bb4cf78adc",
   "metadata": {},
   "outputs": [],
   "source": [
    "minuit_am <- rowMeans(loading[,c(1,25,49,73,97,121,145)])\n",
    "une_am <- rowMeans(loading[,c(2,26,50,74,98,122,146)])\n",
    "deux_am <- rowMeans(loading[,c(3,27,51,75,99,123,147)])\n",
    "trois_am <- rowMeans(loading[,c(4,28,52,76,100,124,148)])\n",
    "quatre_am <- rowMeans(loading[,c(5,29,53,77,101,125,149)])\n",
    "cinq_am <- rowMeans(loading[,c(6,30,54,78,102,126,150)])\n",
    "six_am <- rowMeans(loading[,c(7,31,55,79,103,127,151)])\n",
    "sept_am <- rowMeans(loading[,c(8,32,56,80,104,128,152)])\n",
    "huit_am <- rowMeans(loading[,c(9,33,57,81,105,129,153)])\n",
    "neuf_am <- rowMeans(loading[,c(10,34,58,82,106,130,154)])\n",
    "dix_am <- rowMeans(loading[,c(11,35,59,83,107,131,155)])\n",
    "onze_am <- rowMeans(loading[,c(12,36,60,84,108,132,156)])\n",
    "minuit_pm <- rowMeans(loading[,c(13,37,61,85,109,133,157)])\n",
    "une_pm <- rowMeans(loading[,c(14,38,62,86,110,134,158)])\n",
    "deux_pm <- rowMeans(loading[,c(15,39,63,87,111,135,159)])\n",
    "trois_pm <- rowMeans(loading[,c(16,40,64,88,112,136,160)])\n",
    "quatre_pm <- rowMeans(loading[,c(17,41,65,89,113,137,161)])\n",
    "cinq_pm <- rowMeans(loading[,c(18,42,66,90,114,138,162)])\n",
    "six_pm <- rowMeans(loading[,c(19,43,67,91,115,139,163)])\n",
    "sept_pm <- rowMeans(loading[,c(20,44,68,92,116,140,164)])\n",
    "huit_pm <- rowMeans(loading[,c(21,45,69,93,117,141,165)])\n",
    "neuf_pm <- rowMeans(loading[,c(22,46,70,94,118,142,166)])\n",
    "dix_pm <- rowMeans(loading[,c(23,47,71,95,119,143,167)])\n",
    "onze_pm <- rowMeans(loading[,c(24,48,72,96,120,144,168)])\n",
    "df1 <- data.frame(Minuit = minuit_am, \"une h\" = une_am, \"2h\" = deux_am, \"3h\" = trois_am, \"4h\" = quatre_am, \"5h\" = cinq_am, \"6h\" = six_am, \"7h\" = sept_am, \"8h\" = huit_am, \"9h\" = neuf_am\n",
    "                 , \"10h\" = dix_am, \"11h\" = onze_am, \"12h\" = minuit_pm, \"13h\" = une_pm, \"14h\" = deux_pm, \"15h\" = trois_pm, \"16h\" = quatre_pm, \"17h\" = cinq_pm, \"18h\" = six_pm, \n",
    "                \"19h\" = sept_pm, \"20h\" = huit_pm, \"21h\" = neuf_pm, \"22h\" = dix_pm, \"23h\" = onze_pm)\n",
    "\n",
    "colnames(df1) <- list(\"0h\", \"1h\", \"2h\",\"3h\", \"4h\", \"5h\", \"6h\", \"7h\", \"8h\", \"9h\", \"10h\", \"11h\", \"12h\", \"13h\", \"14h\", \"15h\", \"16h\", \"17h\", \"18h\", \"19h\", \"20h\", \"21h\", \"22h\", \"23h\")\n",
    "remplacer_valeurs <- function(valeur) {\n",
    "  ifelse(valeur >= 0 & valeur <= 0.2, \"-\", \n",
    "         ifelse(valeur > 0.2 & valeur <= 0.6, \"=\", \"+\"))\n",
    "}\n",
    "df1 <- as.data.frame(sapply(df1, remplacer_valeurs))\n",
    "df1$Station <- velib$names\n",
    "df1$Hill <- as.factor(coord$bonus)\n",
    "df1$Station <- as.factor(df1$Station)\n",
    "df1[] <- lapply(df1, as.factor)\n",
    "head(df1)"
   ]
  },
  {
   "cell_type": "markdown",
   "id": "b6ace19e-5f93-4389-8353-4f35124d3507",
   "metadata": {},
   "source": [
    "Pour appliquer la MCA, on seuil notre chargement afin de le transformer en variable qualitative."
   ]
  },
  {
   "cell_type": "code",
   "execution_count": null,
   "id": "99d0fbdb-e989-4188-9812-41d6c6c4240c",
   "metadata": {},
   "outputs": [],
   "source": [
    "res.mca1 = MCA(df1[c(1:24,26)],graph=FALSE)\n",
    "head(res.mca1$eig)\n",
    "\n",
    "fviz_screeplot(res.mca1, addlabels=TRUE)\n",
    "fviz_screeplot(res.mca1, addlabels=TRUE, ncp=7)\n",
    "fviz_mca_biplot(res.mca1)\n",
    "fviz_mca_biplot(res.mca1, axes=c(1,3))"
   ]
  },
  {
   "cell_type": "code",
   "execution_count": null,
   "id": "78504d92-25e7-4cbd-b49b-9b2bd7c3e408",
   "metadata": {},
   "outputs": [],
   "source": [
    "fviz_contrib(res.mca1, choice=\"var\", axes=1, top=20)\n",
    "\n",
    "fviz_contrib(res.mca1, choice=\"var\", axes=2, top=20)\n",
    "\n",
    "fviz_contrib(res.mca1, choice=\"var\", axes=3, top=20)"
   ]
  },
  {
   "cell_type": "markdown",
   "id": "f8692d77-a8ee-43c9-8408-74648c6cc705",
   "metadata": {},
   "source": [
    "On peut voir que pour la composante 1, c'est les heures de nuit chargées qui contribuent fortement. Pour la composante 2, plutôt les heures de journée et de nuit faiblement chargées et pour la composante 3 les heures de nuits moyennement chargées."
   ]
  },
  {
   "cell_type": "code",
   "execution_count": null,
   "id": "e5e9bdbb-38c9-4f1d-a91c-e8e882d385ab",
   "metadata": {},
   "outputs": [],
   "source": [
    "fviz_mca_var(res.mca1, col.var = \"contrib\",\n",
    "             gradient.cols = c(\"blue\", \"yellow\", \"red\"), axes=c(1,2),\n",
    "             repel = TRUE)\n",
    "fviz_mca_var(res.mca1, col.var = \"contrib\",\n",
    "             gradient.cols = c(\"blue\", \"yellow\", \"red\"), axes=c(1,3),\n",
    "             repel = TRUE)"
   ]
  },
  {
   "cell_type": "markdown",
   "id": "ba700e80-28f3-489f-af2d-55cebf3c22db",
   "metadata": {},
   "source": [
    "On peut voir que les stations en altitude sont négativement corrélées à la dimension 1 et se retrouvent avec les stations peu chargées en moyenne."
   ]
  },
  {
   "cell_type": "code",
   "execution_count": null,
   "id": "dfe67a26-bdbb-4974-8450-1b54deed8317",
   "metadata": {},
   "outputs": [],
   "source": [
    "resBICall = mclustBIC(res.mca1$ind$coord, G=1:10)\n",
    "summary(resBICall)\n",
    "\n",
    "# --- #\n",
    "\n",
    "resBICall = Mclust(res.mca1$ind$coord, G=1:10)\n",
    "summary(resBICall)\n",
    "\n",
    "\n",
    "fviz_mclust(resBICall, what=\"BIC\")"
   ]
  },
  {
   "cell_type": "code",
   "execution_count": null,
   "id": "f8e7f5d8-4573-4790-a8d5-a8435c8aeb92",
   "metadata": {},
   "outputs": [],
   "source": [
    "options(repr.plot.width = 10, repr.plot.height = 6)\n",
    "resBICmca = Mclust(res.mca1$ind$coord, G=4, modelNames = \"EEV\")\n",
    "fviz_cluster(resBICmca, data=res.mca1$ind$coord, ellipse.type=\"norm\", geom=\"point\")\n",
    "\n",
    "aux = data.frame(\n",
    "    label = paste(\"Cluster\", resBICmca$classification, sep=\"\"), \n",
    "    proba = apply(resBICmca$z, 1, max))\n",
    "\n",
    "ggplot(aux, aes(x=label, y=proba)) + \n",
    "    geom_boxplot(colour=1:4, fill=1:4, alpha=.4)"
   ]
  },
  {
   "cell_type": "code",
   "execution_count": null,
   "id": "32210b06-9a8d-4313-9530-509b1b7b69ca",
   "metadata": {},
   "outputs": [],
   "source": [
    "options(repr.plot.width = 9, repr.plot.height = 6)\n",
    "fviz_mca_biplot(res.mca1, col.ind = as.factor(resBICmca$classification), geom = c(\"point\"))\n",
    "fviz_mca_var(res.mca1, repel = TRUE)\n",
    "fviz_mca_biplot(res.mca1, col.ind = as.factor(resBICmca$classification), geom = c(\"point\"), axes = c(2,3))\n",
    "fviz_mca_var(res.mca1, repel = TRUE, axes = c(2,3))"
   ]
  },
  {
   "cell_type": "code",
   "execution_count": null,
   "id": "1222886e-b3da-4c71-8cfa-7ecd6bb793d6",
   "metadata": {},
   "outputs": [],
   "source": [
    "mean_loadings_mca <- aggregate(loading[, -169], by = list(cluster = resBICmca$classification), FUN = mean)\n",
    "\n",
    "mean_loadings_melted_mca <- melt(mean_loadings_mca, id.vars = \"cluster\")\n",
    "\n",
    "ggplot(mean_loadings_melted_mca, aes(x = variable, y = value, color = factor(cluster), group = cluster)) +\n",
    "  geom_line() +\n",
    "  labs(title = \"Chargement moyen des stations par cluster\", x = \"Temps en heures\", y = \"Chargement\") +\n",
    "  scale_color_discrete(name = \"Cluster\")"
   ]
  },
  {
   "cell_type": "code",
   "execution_count": null,
   "id": "79335c37-6f27-4e27-8f4e-69dbac017c21",
   "metadata": {},
   "outputs": [],
   "source": [
    "cluster_palette <- colorFactor(c(\"#E41A1C\",\"#4DAF4A\",\"#377EB8\",\"#FF7F00\"), domain = unique(resBICmca$classification))  # Utiliser la palette viridis avec 10 couleurs\n",
    "\n",
    "leaflet(velib$position) %>% \n",
    "  addTiles(urlTemplate = \"https://{s}.basemaps.cartocdn.com/light_all/{z}/{x}/{y}{r}.png\", \n",
    "           attribution = 'Map tiles by Carto, under CC BY 3.0. Data by OpenStreetMap, under ODbL.') %>% \n",
    "  addCircleMarkers(radius = 3,\n",
    "                   color = ~cluster_palette(resBICmca$classification),\n",
    "                   stroke = FALSE, \n",
    "                   fillOpacity = 0.9) %>%\n",
    "addLegend(position = \"bottomright\", \n",
    "            pal = cluster_palette, \n",
    "            values = ~resBICmca$classification,\n",
    "            title = \"Cluster\",\n",
    "            opacity = 1)"
   ]
  },
  {
   "cell_type": "markdown",
   "id": "a1bef414-19a7-4c2d-b083-1ed29712209b",
   "metadata": {},
   "source": [
    "Avec GMM sur la MCA, on retrouve les mêmes conclusions qu'avec les k-means/cah sur loading et df1"
   ]
  },
  {
   "cell_type": "code",
   "execution_count": null,
   "id": "c6f1b750-bb6d-4be7-92d8-47610e25b482",
   "metadata": {},
   "outputs": [],
   "source": [
    "def_pred_station <- function(coord1, coord2) {\n",
    "    min <- 1000\n",
    "    r <- 1\n",
    "    for (i in 1:nrow(coord)) {\n",
    "        resultat <- sqrt((coord1 - coord[i,1])^2 + (coord2 - coord[i,2])^2)\n",
    "        if (resultat < min) {\n",
    "            min <- resultat\n",
    "            r <- i\n",
    "        }\n",
    "    }\n",
    "    result <- reskmeans$cluster[i]\n",
    "    return(result)\n",
    "}"
   ]
  },
  {
   "cell_type": "code",
   "execution_count": null,
   "id": "a4055f59-bfdb-4d10-9b5f-cc8561a6735b",
   "metadata": {},
   "outputs": [],
   "source": [
    "def_pred_station(2.35,48.45)"
   ]
  },
  {
   "cell_type": "markdown",
   "id": "fca298cd-0d9e-4d6f-a410-c98668816be4",
   "metadata": {},
   "source": [
    "On crée une fonction qui prédit à quel cluster pourrait appartenir une nouvelle station implementée à une latitude x et une longitude y. On regarde à quel station elle est la plus proche géographiquement et on lui attribue le même cluster que cette station. \\\n",
    "Dans notre exemple, la station avec une latitude 2.35 et une longitude 48.45 appartiendrait au cluster 2, ie au cluster des stations qui se chargent en journée qui correspond aux stations proche des lieux de travails. "
   ]
  },
  {
   "cell_type": "markdown",
   "id": "5a57f21a-7f48-4d0c-8d33-70327c89e245",
   "metadata": {},
   "source": [
    "## Conclusion"
   ]
  },
  {
   "cell_type": "markdown",
   "id": "d18acd0f-98df-4296-b11c-ec5a20f99ef7",
   "metadata": {},
   "source": [
    "Dans ce projet, on a remarqué que le profil de chargement d'une station dépend de sa location. Le chargement varie surtout en fonction des heures de la journée mais un peu moins entre le week-end et la semaine. \\\n",
    "Dans nos méthodes de clustering K-Means et CAH, on a repéré 4 types de stations : les stations qui se chargent en journée et qui se vident en soirée, qui correspondent aux zones de travail. Ces stations sont également en moyenne moins chargées et peu moins active le week-end. \\\n",
    "Les stations qui elles se chargent en soirée et se vide le matin : elles correspondent aux zones d'habitation. Leur chargement reste élevé le week-end et varie moins car les gens n'ont pas besoin de se rendre à leur lieu de travail. \\\n",
    "Enfin, 2 autres types de clusters : les stations avec un chargement élevé en moyenne mais dont le chargement ne varie pas beaucoup et les stations avec un chargement faible en moyenne et dont le chargement ne varie pas beaucoup. On a vu que les stations en altitude sont en majorité dans ce dernier cluster. Ces deux clusters correspondent aux stations moins empruntées. \\\n",
    "Le GMM lui nous rend en moyenne 2/3 clusters : il différencie les stations par leur chargement moyen et non pas par la variabilité de leur chargement."
   ]
  }
 ],
 "metadata": {
  "kernelspec": {
   "display_name": "R",
   "language": "R",
   "name": "ir"
  },
  "language_info": {
   "codemirror_mode": "r",
   "file_extension": ".r",
   "mimetype": "text/x-r-source",
   "name": "R",
   "pygments_lexer": "r",
   "version": "4.3.3"
  }
 },
 "nbformat": 4,
 "nbformat_minor": 5
}
