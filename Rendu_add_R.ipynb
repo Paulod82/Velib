{
 "cells": [
  {
   "cell_type": "markdown",
   "id": "45bca0a1-d20a-460e-ab00-ea24ff73492c",
   "metadata": {},
   "source": [
    "# PROJET ANALYSE DE DONNEES\n",
    "## Etude des stations de location de vélos dans Paris"
   ]
  },
  {
   "cell_type": "code",
   "execution_count": null,
   "id": "465d20c8-1fb2-49da-829a-54848457b44c",
   "metadata": {},
   "outputs": [],
   "source": [
    "library(ggplot2)\n",
    "library(reshape2)\n",
    "library(gridExtra)\n",
    "library(tidyverse)\n",
    "library(GGally)\n",
    "library(plotly)\n",
    "library(corrplot)\n",
    "library(reshape2)\n",
    "library(FactoMineR) \n",
    "library(factoextra)\n",
    "library(glmnet)\n",
    "library(ggfortify)\n",
    "library(pROC)\n",
    "library(ROCR)\n",
    "library(RColorBrewer)\n",
    "library(viridis)\n",
    "library(leaflet)\n",
    "library(mapview)"
   ]
  },
  {
   "cell_type": "markdown",
   "id": "1a330418-0a73-442e-ab8f-2ae8cf3e8b63",
   "metadata": {},
   "source": [
    "Dans ce notebook, nous allons étudier un jeu de données contenant des informations concernant les taux de disponibilités des vélos dans des stations Vélib parisiennes. Nous avons accés à ce taux pour toutes les heures de chaque jour de la semaine sur la période du 2 septembre au 7 septembre 2014.\n",
    "\n",
    "Le notebook Python comportera l'ensemble des commentaires et des analyses réalisées à l'issue de notre étude. Ce notebook R comportera donc seulement les codes et les outputs."
   ]
  },
  {
   "cell_type": "markdown",
   "id": "467652f0-ca0d-4cf8-aa65-ee2e11d181b8",
   "metadata": {},
   "source": [
    "## 1. Présentation des données"
   ]
  },
  {
   "cell_type": "code",
   "execution_count": null,
   "id": "d9bf85cf-09e6-4660-81bb-266fbf765d37",
   "metadata": {},
   "outputs": [],
   "source": [
    "# on charge les données\n",
    "load('data/velib.RData')\n",
    "summary(velib)"
   ]
  },
  {
   "cell_type": "code",
   "execution_count": null,
   "id": "368e40bf-bd6c-4ea4-a65b-079594bfda78",
   "metadata": {},
   "outputs": [],
   "source": [
    "# on prépare les données\n",
    "loading = as.matrix(velib$data)\n",
    "colnames(loading) = 1:ncol(loading)\n",
    "rownames(loading) = velib$names\n",
    "\n",
    "stations = 1:nrow(loading)\n",
    "coord = velib$position[stations,]\n",
    "coord$bonus = velib$bonus[stations]\n",
    "\n",
    "# on prend exactement 7 jours de données (on enlève les 13 premières heures)\n",
    "dates = 14:181\n",
    "loading = loading[stations, dates]\n",
    "colnames(loading) = 1:length(dates)\n",
    "head(loading)\n",
    "head(coord)"
   ]
  },
  {
   "cell_type": "code",
   "execution_count": null,
   "id": "d80efdd7-a75e-4ddb-a761-8fb012e79c2f",
   "metadata": {},
   "outputs": [],
   "source": [
    "# on regarde s'il y a des données manquantes dans notre jeu de données\n",
    "sum(is.na(loading) == TRUE)\n",
    "sum(is.na(coord) == TRUE)\n",
    "station_counts <- table(velib$names)\n",
    "\n",
    "station_name <- station_counts[station_counts > 1]\n",
    "\n",
    "print(station_name)\n",
    "anyDuplicated(velib$names)\n",
    "anyDuplicated(velib$position)"
   ]
  },
  {
   "cell_type": "markdown",
   "id": "993a8cec-6561-4aac-a51c-bc24416ea9ab",
   "metadata": {},
   "source": [
    "## 2. Analyse descriptive des données"
   ]
  },
  {
   "cell_type": "code",
   "execution_count": null,
   "id": "9a89826e-ef4e-498e-8c15-d04c14915079",
   "metadata": {},
   "outputs": [],
   "source": [
    "options(repr.plot.width = 15, repr.plot.height = 10)\n",
    "\n",
    "timeTick = 1 + 24*(0:6)\n",
    "\n",
    "stations = sample.int(nrow(loading), 16)\n",
    "\n",
    "df = melt(loading[stations,])\n",
    "\n",
    "p = list()\n",
    "for (i in 1:16){\n",
    "    dfi = df[df$Var1 == velib$names[stations[i]],]\n",
    "    p[[i]] = ggplot(dfi, aes(x=Var2, y=value)) + \n",
    "        geom_line(col=\"darkorchid\") + \n",
    "       geom_vline(xintercept=timeTick, col=\"orange\", linetype=\"dashed\") +\n",
    "       labs(title=velib$names[stations[i]],x = \"Temps en heures\", y = \"Chargement\")\n",
    "}\n",
    "do.call(grid.arrange,p)"
   ]
  },
  {
   "cell_type": "code",
   "execution_count": null,
   "id": "27dbd3e5-141f-4210-ae31-fac48460ff8f",
   "metadata": {},
   "outputs": [],
   "source": [
    "options(repr.plot.width = 18, repr.plot.height = 6)\n",
    "\n",
    "n_stations <- 1:nrow(loading)\n",
    "loading_mean <- data.frame(stations = n_stations, mean = rowMeans(loading[n_stations, ]))\n",
    "\n",
    "ggplot(loading_mean, aes(x = stations, y = mean)) + \n",
    "  geom_line(color = 'cornflowerblue', linewidth = 1) +\n",
    "  geom_hline(yintercept = mean(loading), color = 'darkorange', linewidth = 2) +\n",
    "  labs(x = \"Stations\", y = \"Average loading\")"
   ]
  },
  {
   "cell_type": "code",
   "execution_count": null,
   "id": "5b77b9d5-7e2a-4ca8-96a1-e50158c93f9e",
   "metadata": {},
   "outputs": [],
   "source": [
    "print('--- Taux de chargement moyen ---')\n",
    "print(mean(loading))\n",
    "# --- #\n",
    "print('')"
   ]
  },
  {
   "cell_type": "code",
   "execution_count": null,
   "id": "76cf19c0-e6f0-48b8-a255-7f553e987eab",
   "metadata": {},
   "outputs": [],
   "source": [
    "mean_per_hour_per_day = colMeans(loading)\n",
    "mean_per_hour_per_day = matrix(mean_per_hour_per_day, nrow = 24)\n",
    "mean_per_hour         = rowMeans(mean_per_hour_per_day)\n",
    "# --- #\n",
    "\n",
    "mean_per_hour_per_day            = as.data.frame(mean_per_hour_per_day)\n",
    "colnames(mean_per_hour_per_day)  = list(\"Lundi\", \"Mardi\", \"Mercredi\",\"Jeudi\", \"Vendredi\", \"Samedi\", \"Dimanche\")\n",
    "mean_per_hour_per_day$time_range = c(1:24)\n",
    "mean_per_hour_per_day            = melt(mean_per_hour_per_day, id='time_range', variable.name='Jours')\n",
    "\n",
    "mean_per_hour            = as.data.frame(mean_per_hour)\n",
    "colnames(mean_per_hour)  = list(\"Weekly\")\n",
    "mean_per_hour$time_range = c(1:24)\n",
    "\n",
    "# --- #\n",
    "options(repr.plot.width = 15, repr.plot.height = 10)\n",
    "\n",
    "ggplot() +  \n",
    "        geom_line(data=mean_per_hour_per_day, aes(x=time_range, y=value, color=Jours)) + \n",
    "        geom_line(data=mean_per_hour, aes(x = time_range , y=Weekly), linewidth = 1.5) +\n",
    "        labs(title = \"Toutes les stations\",\n",
    "        x = \"Heure de la journée\", \n",
    "        y = \"Chargement moyen\")"
   ]
  },
  {
   "cell_type": "code",
   "execution_count": null,
   "id": "f0177cb3-eb7b-46b9-9b63-3113c8792985",
   "metadata": {},
   "outputs": [],
   "source": [
    "mean_per_hour_per_day = colMeans(loading)\n",
    "mean_per_hour_per_day = matrix(mean_per_hour_per_day, nrow = 7)\n",
    "mean_per_hour         = rowMeans(mean_per_hour_per_day)\n",
    "# --- #\n",
    "\n",
    "mean_per_hour_per_day            = as.data.frame(mean_per_hour_per_day)\n",
    "colnames(mean_per_hour_per_day) <- list(\"0h\", \"1h\", \"2h\",\"3h\", \"4h\", \"5h\", \"6h\", \"7h\", \"8h\", \"9h\", \"10h\", \"11h\", \"12h\", \"13h\", \"14h\", \"15h\", \"16h\", \"17h\", \"18h\", \"19h\", \"20h\", \"21h\", \"22h\", \"23h\")\n",
    "mean_per_hour_per_day$time_range = c(1:7)\n",
    "mean_per_hour_per_day            = melt(mean_per_hour_per_day, id='time_range', variable.name='Heures')\n",
    "\n",
    "mean_per_hour            = as.data.frame(mean_per_hour)\n",
    "colnames(mean_per_hour)  = list(\"Weekly\")\n",
    "mean_per_hour$time_range = c(1:7)\n",
    "\n",
    "# --- #\n",
    "options(repr.plot.width = 15, repr.plot.height = 10)\n",
    "\n",
    "ggplot() +  \n",
    "        geom_line(data=mean_per_hour_per_day, aes(x=time_range, y=value, color=Heures)) + \n",
    "        geom_line(data=mean_per_hour, aes(x = time_range , y=Weekly), linewidth = 1.5) +\n",
    "        labs(title=\"Toutes les stations\",\n",
    "        x = \"Jour\", \n",
    "        y = \"Chargement moyen\")"
   ]
  },
  {
   "cell_type": "code",
   "execution_count": null,
   "id": "9eaa7aa0-1060-43be-884a-2d9b0d9a1d9e",
   "metadata": {},
   "outputs": [],
   "source": [
    "options(repr.plot.width = 15, repr.plot.height = 6)\n",
    "time_range = 1:24\n",
    "i = sample(1:1189,1)\n",
    "df = loading[i,]\n",
    "mean_per_hour_per_day = matrix(df, nrow = 24)\n",
    "mean_per_hour         = rowMeans(mean_per_hour_per_day)\n",
    "\n",
    "mean_per_hour_per_day            = as.data.frame(mean_per_hour_per_day)\n",
    "colnames(mean_per_hour_per_day)  = list(\"Lundi\", \"Mardi\", \"Mercredi\",\"Jeudi\", \"Vendredi\", \"Samedi\", \"Dimanche\")\n",
    "mean_per_hour_per_day$time_range = c(1:24)\n",
    "mean_per_hour_per_day            = melt(mean_per_hour_per_day, id='time_range', variable.name='Jours')\n",
    "\n",
    "mean_per_hour            = as.data.frame(mean_per_hour)\n",
    "colnames(mean_per_hour)  = list(\"Weekly\")\n",
    "mean_per_hour$time_range = c(1:24)\n",
    "ggplot() +  \n",
    "       geom_line(data=mean_per_hour_per_day, aes(x=time_range, y=value, color=Jours)) + \n",
    "       geom_line(data=mean_per_hour, aes(x = time_range , y=Weekly), linewidth = 1.5) +\n",
    "       labs(title = velib$names[i],\n",
    "       x = \"Heure de la journée\", \n",
    "       y = \"Chargement moyen\")"
   ]
  },
  {
   "cell_type": "code",
   "execution_count": null,
   "id": "ecec23a8-e0d3-4d37-9267-ceeecafc6475",
   "metadata": {},
   "outputs": [],
   "source": [
    "print('--- Taux de chargement moyen de la station la moins remplie ---')\n",
    "i = which.min(rowMeans(loading)) \n",
    "print(rowMeans(loading)[i])\n",
    "print(coord[i, ])"
   ]
  },
  {
   "cell_type": "code",
   "execution_count": null,
   "id": "d615ea23-48b3-4dc4-a75c-d487c3fa6ac8",
   "metadata": {},
   "outputs": [],
   "source": [
    "print('--- Taux de chargement moyen de la station la plus remplie ---')\n",
    "i = which.max(rowMeans(loading))\n",
    "print(rowMeans(loading)[i])\n",
    "print(coord[i, ])"
   ]
  },
  {
   "cell_type": "code",
   "execution_count": null,
   "id": "c25a1a38-65e5-482f-b52e-2e440b18cc14",
   "metadata": {},
   "outputs": [],
   "source": [
    "install.packages(\"ggmap\")\n",
    "library(ggmap)\n",
    "register_stadiamaps(\"d4f81b8a-655d-418e-841e-c5339e89ba9b\", write = TRUE)\n",
    "library(viridis)"
   ]
  },
  {
   "cell_type": "code",
   "execution_count": null,
   "id": "8dff1451-7ce2-4f2a-bbb5-47e31b063982",
   "metadata": {},
   "outputs": [],
   "source": [
    "lundi <- rowMeans(loading[,c(1,2,3,4,5,6,7,8,9,10,11,12,13,14,15,16,17,18,19,20,21,22,23,24)])\n",
    "mardi <- rowMeans(loading[,c(25,26,27,28,29,30,31,32,33,34,35,36,37,38,39,40,41,42,43,44,45,46,47,48)])\n",
    "mercredi <- rowMeans(loading[,c(49,50,51,52,53,54,55,56,57,58,59,60,61,62,63,64,65,66,67,68,69,70,71,72)])\n",
    "jeudi <- rowMeans(loading[,c(73,74,75,76,77,78,79,80,81,82,83,84,85,86,87,88,89,90,91,92,93,94,95,96)])\n",
    "vendredi <- rowMeans(loading[,c(97,98,99,100,101,102,103,104,105,106,107,108,109,110,111,112,113,114,115,116,117,118,119,120)])\n",
    "samedi <- rowMeans(loading[,c(121,122,123,124,125,126,127,128,129,130,131,132,133,134,135,136,137,138,139,140,141,142,143,144)])\n",
    "dimanche <- rowMeans(loading[,c(145,146,147,148,149,150,151,152,153,154,155,156,157,158,159,160,161,162,163,164,165,166,167,168)])\n",
    "\n",
    "\n",
    "options(repr.plot.width = 20, repr.plot.height = 15)\n",
    "\n",
    "days  = list(\"Lundi\", \"Mardi\", \"Mercredi\",\"Jeudi\", \"Vendredi\", \"Samedi\", \"Dimanche\")\n",
    "\n",
    "df = coord\n",
    "df$lundi = lundi\n",
    "df$mardi = mardi\n",
    "df$mercredi = mercredi\n",
    "df$jeudi = jeudi\n",
    "df$vendredi = vendredi\n",
    "df$samedi = samedi\n",
    "df$dimanche = dimanche\n",
    "p = list()\n",
    "for (i in 1:7){\n",
    "    load_per_day = df[,3+i]\n",
    "\n",
    "    dfi = coord\n",
    "    dfi$loading = load_per_day\n",
    "    p[[i]] = qmplot(data=dfi, longitude, latitude, color=loading) + \n",
    "          geom_point(size = 2) + \n",
    "          scale_color_viridis(name = \"Chargement\", option = \"C\", direction = -1) +\n",
    "          labs(title = paste('Chargement moyen le',days[i]))\n",
    "}\n",
    "\n",
    "\n",
    "do.call(grid.arrange,c(p, ncol=3))"
   ]
  },
  {
   "cell_type": "code",
   "execution_count": null,
   "id": "4f19bca5-02a0-43e1-881e-84519031568f",
   "metadata": {},
   "outputs": [],
   "source": [
    "options(repr.plot.width = 20, repr.plot.height = 10)\n",
    "hour = c(1,5,9,13,17,21,24)\n",
    "\n",
    "dfi = coord\n",
    "p = list()\n",
    "for (i in 1:length(hour)){\n",
    "    h    = hour[i]\n",
    "    hours = seq(h, 168, 24)\n",
    "    load_per_hour = rowMeans(loading[,hours])\n",
    "\n",
    "    df = coord\n",
    "    df$loading = load_per_hour\n",
    "    p[[i]] = qmplot(data=df, longitude, latitude, color=loading) + \n",
    "          geom_point(size = 2) + \n",
    "          scale_color_viridis(name = \"Chargement\", option = \"C\", direction = -1) +\n",
    "          labs(title = paste('Chargement moyen à',(h-1),'h'))\n",
    "}\n",
    "\n",
    "do.call(grid.arrange,c(p, ncol=3))"
   ]
  },
  {
   "cell_type": "markdown",
   "id": "eec508c6-8376-4bcd-8dcf-b134357241cc",
   "metadata": {},
   "source": [
    "## 3. Etude sur le jeu de données complet "
   ]
  },
  {
   "cell_type": "markdown",
   "id": "9c6dca9f-7844-4221-bc43-7de066419430",
   "metadata": {},
   "source": [
    "### 3.1. ACP"
   ]
  },
  {
   "cell_type": "code",
   "execution_count": null,
   "id": "947aea83-2527-496c-8e08-5ff0be935e52",
   "metadata": {},
   "outputs": [],
   "source": [
    "boxplot(loading, \n",
    "        main = \"Boxplot\",\n",
    "        xlab = \"Colonne\",                         \n",
    "        ylab = \"Valeurs\") "
   ]
  },
  {
   "cell_type": "code",
   "execution_count": null,
   "id": "d55904fd-cafa-4d75-bf41-dc61b12c8274",
   "metadata": {},
   "outputs": [],
   "source": [
    "loading <- as.data.frame(loading)\n",
    "loading$Hill <- as.factor(coord$bonus)\n",
    "pca <- PCA(loading, scale.unit = TRUE,\n",
    "           graph = FALSE, quali.sup=169)"
   ]
  },
  {
   "cell_type": "code",
   "execution_count": null,
   "id": "29f73e34-67bc-48b3-ae68-3b81fd908fa2",
   "metadata": {},
   "outputs": [],
   "source": [
    "plot(cumsum(pca$eig[,2]), type = \"l\")\n",
    "n_components <- which(cumsum(pca$eig[,2]) >= 80)[1]\n",
    "cat(\"On garde\", n_components, \"composants pour l'ACP\\n\")"
   ]
  },
  {
   "cell_type": "code",
   "execution_count": null,
   "id": "6786fbc4-1261-4830-bda4-d66f0c73fb48",
   "metadata": {},
   "outputs": [],
   "source": [
    "pca <- PCA(loading, scale.unit = TRUE,\n",
    "           graph = FALSE, quali.sup=169, ncp = 7)\n",
    "print(pca$eig[1:7, 2])\n",
    "cat('--- PCA ---\\n')\n",
    "cat('Dimension initiale :', dim(loading), '\\n')\n",
    "cat('Dimension après projection :', c(nrow(loading), 7), '\\n\\n')\n",
    "\n",
    "cat('--- Variance expliquée ---\\n')\n",
    "cat('Composante 1 :', round(pca$eig[1, 1], 2), 'i.e.', round(pca$eig[1, 2], 2), '% de la variance totale\\n')\n",
    "cat('Composante 2 :', round(pca$eig[2, 1], 2), 'i.e.', round(pca$eig[2, 2], 2), '% de la variance totale\\n')\n",
    "cat('Composante 3 :', round(pca$eig[3, 1], 2), 'i.e.', round(pca$eig[3, 2], 2), '% de la variance totale\\n')"
   ]
  },
  {
   "cell_type": "code",
   "execution_count": null,
   "id": "64c5873d-614e-4d6c-a268-5116c403eb08",
   "metadata": {},
   "outputs": [],
   "source": [
    "g1<-fviz_eig(pca, addlabels = TRUE, ylim = c(0, 40), xlim = c(1,7)) +\n",
    "      ggtitle(\"Proportion de Variance Expliquée par Chaque Composante Principale\") +\n",
    "      xlab(\"Composantes Principales\") +\n",
    "      ylab(\"Pourcentage de Variance Expliquée\")\n",
    "print(g1)"
   ]
  },
  {
   "cell_type": "code",
   "execution_count": null,
   "id": "75d2286b-40d7-4625-9dbe-4f00b506d497",
   "metadata": {},
   "outputs": [],
   "source": [
    "pca <- PCA(loading, scale.unit = TRUE,\n",
    "           graph = FALSE, quali.sup=169, ncp = 5)\n",
    "loading_pca=pca$ind$coord"
   ]
  },
  {
   "cell_type": "code",
   "execution_count": null,
   "id": "eed52074-0123-485e-9353-d0c9d7e13fc8",
   "metadata": {},
   "outputs": [],
   "source": [
    "g1<-fviz_eig(pca, addlabels = TRUE, ylim = c(0, 40), xlim = c(1,5)) +\n",
    "      ggtitle(\"Proportion de Variance Expliquée par Chaque Composante Principale\") +\n",
    "      xlab(\"Composantes Principales\") +\n",
    "      ylab(\"Pourcentage de Variance Expliquée\")\n",
    "print(g1)"
   ]
  },
  {
   "cell_type": "code",
   "execution_count": null,
   "id": "57a3eba3-d343-47c6-a4df-060f647fef5d",
   "metadata": {},
   "outputs": [],
   "source": [
    "box<-ggplot(melt(pca$ind$coord),aes(x=Var2,y=value)) + \n",
    "        geom_boxplot()+\n",
    "        xlab(\"\") +\n",
    "        ylab(\"\") +\n",
    "        ggtitle(\"Boxplot des 5 composantes principales\")\n",
    "print(box)"
   ]
  },
  {
   "cell_type": "code",
   "execution_count": null,
   "id": "8cd4f7bb-c2ef-4808-8ecc-b813d8ce57f7",
   "metadata": {},
   "outputs": [],
   "source": [
    "g1 <- fviz_pca_var(pca, axes = c(1, 2)) +\n",
    "      ggtitle(\"Graphe des variables\") +\n",
    "      xlab(\"PC1\") +\n",
    "      ylab(\"PC2\")\n",
    "\n",
    "print(g1)"
   ]
  },
  {
   "cell_type": "code",
   "execution_count": null,
   "id": "6b127c02-bf49-4f26-a8de-afdeee4e150d",
   "metadata": {},
   "outputs": [],
   "source": [
    "g2 <- fviz_pca_var(acp, axes = c(1, 3)) +\n",
    "      ggtitle(\"Graphe des variables\") +\n",
    "      xlab(\"PC1\") +\n",
    "      ylab(\"PC3\")\n",
    "\n",
    "print(g2)"
   ]
  },
  {
   "cell_type": "markdown",
   "id": "7a5eae71-f9f5-4202-9139-a0a162871e27",
   "metadata": {},
   "source": [
    "#### Clustering"
   ]
  },
  {
   "cell_type": "markdown",
   "id": "9dfbe060-5be0-45a8-8163-a8daeb97080c",
   "metadata": {},
   "source": [
    "#### 3.1.1. Méthode de clustering avec k-means"
   ]
  },
  {
   "cell_type": "code",
   "execution_count": null,
   "id": "72a6db84-5bdf-4cf8-901f-43b9d25a2794",
   "metadata": {},
   "outputs": [],
   "source": [
    "library(cluster)\n",
    "library(RColorBrewer)\n",
    "library(viridis)"
   ]
  },
  {
   "cell_type": "code",
   "execution_count": null,
   "id": "6821443b-b8e1-4296-bf0a-02cd6340f770",
   "metadata": {},
   "outputs": [],
   "source": [
    "matchClasses <- function(classif1, classif2) {\n",
    "  cm <- table(classif1, classif2)\n",
    "  K <- ncol(cm)\n",
    "  a <- integer(K)\n",
    "  b <- integer(K)\n",
    "  for (j in seq_len(K)) {\n",
    "    for (i in seq_len(K)) {\n",
    "      if (a[j] < cm[i, j]) {\n",
    "        a[j] <- cm[i, j]\n",
    "        b[j] <- i\n",
    "      }\n",
    "    }\n",
    "  }\n",
    "  \n",
    "  print(\"\")\n",
    "  print(paste(\"Classes size:\", toString(a)))\n",
    "  print(paste(\"Class (in the classif1 numbering):\", toString(b)))\n",
    "  print(\"\")\n",
    "  \n",
    "  table <- cm\n",
    "  for (i in seq_len(K)) {\n",
    "    table[, b[i]] <- cm[, i]\n",
    "  }\n",
    "  \n",
    "  clusters <- classif2\n",
    "  n <- length(classif2)\n",
    "  for (i in seq_len(n)) {\n",
    "    for (j in seq_len(K)) {\n",
    "      if (classif2[i] == j) {\n",
    "        clusters[i] <- b[j]\n",
    "      }\n",
    "    }\n",
    "  }\n",
    "  \n",
    "  list(table = table, clusters = clusters)\n",
    "}\n"
   ]
  },
  {
   "cell_type": "code",
   "execution_count": null,
   "id": "3ae3cebc-e31a-41e2-8848-23fe06ccb389",
   "metadata": {},
   "outputs": [],
   "source": [
    "options(repr.plot.width = 9, repr.plot.height = 6)\n",
    "fviz_nbclust(loading[,-169], FUNcluster=stats::kmeans, method=\"wss\") +\n",
    "    ggtitle(\"Score WSS\") +\n",
    "    xlab(\"Nombre de clusters\") +\n",
    "    ylab(\"Somme des carrés\")\n",
    "\n",
    "fviz_nbclust(loading[,-169], FUNcluster=stats::kmeans, method=\"silhouette\") +\n",
    "    ggtitle(\"Score Silhouette\") +\n",
    "    xlab(\"Nombre de clusters\") +\n",
    "    ylab(\"Score silhouette moyen\")"
   ]
  },
  {
   "cell_type": "code",
   "execution_count": null,
   "id": "3b1134b1-7e52-4f81-a487-3c4d2e30b5a4",
   "metadata": {},
   "outputs": [],
   "source": [
    "options(repr.plot.width = 15, repr.plot.height = 10)\n",
    "for (centers in 2:5) {\n",
    "  kmeans <- kmeans(loading, centers=centers)\n",
    "  sil <- silhouette(kmeans$cluster, dist(loading))\n",
    "  visualizer <- fviz_silhouette(sil, ylim = c(-0.2, 0.6), main = paste(\"centers =\", centers))\n",
    "  print(visualizer)\n",
    "}"
   ]
  },
  {
   "cell_type": "code",
   "execution_count": null,
   "id": "e61098ed-1083-40c0-8f9f-64f89ae75d9f",
   "metadata": {},
   "outputs": [],
   "source": [
    "K=4\n",
    "kmeans = kmeans(loading,centers=K)\n",
    "clusters <- kmeans$cluster"
   ]
  },
  {
   "cell_type": "code",
   "execution_count": null,
   "id": "b305947a-9971-4812-a8bf-708058278acc",
   "metadata": {},
   "outputs": [],
   "source": [
    "cluster_counts <- table(clusters)\n",
    "barplot(cluster_counts, \n",
    "        main = \"Nombre d'individus par cluster\", \n",
    "        xlab = \"Cluster\", \n",
    "        ylab = \"Nombre d'individus\")"
   ]
  },
  {
   "cell_type": "code",
   "execution_count": null,
   "id": "f8b6f71f-a74d-4b68-afa3-855d21bec8c6",
   "metadata": {},
   "outputs": [],
   "source": [
    "plot(kmeans$withinss)"
   ]
  },
  {
   "cell_type": "code",
   "execution_count": null,
   "id": "61053d14-e4c3-4060-8735-61e06a146b3b",
   "metadata": {},
   "outputs": [],
   "source": [
    "options(repr.plot.width = 9, repr.plot.height = 6)\n",
    "fviz_pca(pca, axes=c(1,2), geom = c(\"point\"), col.ind=as.factor(reskmeans$cluster))"
   ]
  },
  {
   "cell_type": "code",
   "execution_count": null,
   "id": "07975faf-84c1-47d6-ae32-db2ea2d14810",
   "metadata": {
    "scrolled": true
   },
   "outputs": [],
   "source": [
    "cluster_palette <- colorFactor(c(\"#E41A1C\",\"#4DAF4A\",\"#377EB8\"), domain = unique(reskmeans$cluster))  # Utiliser la palette viridis avec 10 couleurs\n",
    "\n",
    "leaflet(velib$position) %>% \n",
    "  addTiles(urlTemplate = \"https://{s}.basemaps.cartocdn.com/light_all/{z}/{x}/{y}{r}.png\", \n",
    "           attribution = 'Map tiles by Carto, under CC BY 3.0. Data by OpenStreetMap, under ODbL.') %>% \n",
    "  addCircleMarkers(radius = 3,\n",
    "                   color = ~cluster_palette(reskmeans$cluster),\n",
    "                   stroke = FALSE, \n",
    "                   fillOpacity = 0.9) %>%\n",
    "addLegend(position = \"bottomright\", \n",
    "            pal = cluster_palette, \n",
    "            values = ~reskmeans$cluster,\n",
    "            title = \"Cluster\",\n",
    "            opacity = 1)"
   ]
  },
  {
   "cell_type": "code",
   "execution_count": null,
   "id": "9969a13d-de91-4b92-9732-e1f95a46ad82",
   "metadata": {},
   "outputs": [],
   "source": [
    "distances <- kmeans$tot.withinss\n",
    "\n",
    "# Variance intraclasse pour chaque cluster\n",
    "variances <- numeric(kmeans$centers)\n",
    "for (cluster in 1:kmeans$centers) {\n",
    "  cluster_distances <- distances[kmeans$cluster == cluster, cluster]\n",
    "  variance <- var(cluster_distances)\n",
    "  variances[cluster] <- variance\n",
    "}\n",
    "\n",
    "# Affichage\n",
    "barplot(variances, col='skyblue', xlab='Cluster', ylab='Variance intra-classe', \n",
    "        main='Variance intra-classe par cluster', names.arg=paste('Cluster', 1:kmeans$centers))"
   ]
  },
  {
   "cell_type": "code",
   "execution_count": null,
   "id": "e3a10b16-ac82-41a8-879d-6dbef263183e",
   "metadata": {},
   "outputs": [],
   "source": [
    "mean_loadings <- aggregate(loading[, -169], by = list(cluster = reskmeans$cluster), FUN = mean)\n",
    "mean_loadings\n",
    "mean_loadings_melted <- melt(mean_loadings, id.vars = \"cluster\")\n",
    "\n",
    "ggplot(mean_loadings_melted, aes(x = variable, y = value, color = factor(cluster), group = cluster)) +\n",
    "  geom_line() +\n",
    "  labs(title = \"Chargement moyen des stations par cluster\", x = \"Temps en heures\", y = \"Chargement\") +\n",
    "  scale_color_discrete(name = \"Cluster\")"
   ]
  },
  {
   "cell_type": "code",
   "execution_count": null,
   "id": "b9d26b7b-9da5-460f-bb55-8977902f4677",
   "metadata": {},
   "outputs": [],
   "source": [
    "tbl2 = table(coord$bonus,reskmeans$cluster)\n",
    "print(tbl2)\n",
    "mosaicplot(tbl2,color=c(1:4), main = \"Stations en altitude en fonction du clusters\")"
   ]
  },
  {
   "cell_type": "markdown",
   "id": "ad2a1546-6357-4e49-b91f-b82497c19a98",
   "metadata": {},
   "source": [
    "Etude sur loading_pca"
   ]
  },
  {
   "cell_type": "code",
   "execution_count": null,
   "id": "5a7c0599-92cc-4005-ad18-60bf684526e2",
   "metadata": {},
   "outputs": [],
   "source": [
    "options(repr.plot.width = 9, repr.plot.height = 6)\n",
    "fviz_nbclust(loading_pca, FUNcluster=stats::kmeans, method=\"wss\") +\n",
    "    ggtitle(\"Score WSS\") +\n",
    "    xlab(\"Nombre de clusters\") +\n",
    "    ylab(\"Somme des carrés\")\n",
    "\n",
    "fviz_nbclust(loading_pca, FUNcluster=stats::kmeans, method=\"silhouette\") +\n",
    "    ggtitle(\"Score Silhouette\") +\n",
    "    xlab(\"Nombre de clusters\") +\n",
    "    ylab(\"Score silhouette moyen\")"
   ]
  },
  {
   "cell_type": "code",
   "execution_count": null,
   "id": "f9ba3025-be12-49c0-a60c-b0c96075d183",
   "metadata": {},
   "outputs": [],
   "source": [
    "options(repr.plot.width = 15, repr.plot.height = 10)\n",
    "for (centers in 2:5) {\n",
    "  kmeans_pca <- kmeans(loading_pca, centers=centers)\n",
    "  sil <- silhouette(kmeans_pca$cluster, dist(loading_pca))\n",
    "  visualizer <- fviz_silhouette(sil, ylim = c(-0.2, 0.6), main = paste(\"centers =\", centers))\n",
    "  print(visualizer)\n",
    "}"
   ]
  },
  {
   "cell_type": "code",
   "execution_count": null,
   "id": "46d30b0e-c69a-4e3e-8900-897871f78bf5",
   "metadata": {},
   "outputs": [],
   "source": [
    "kmeans_pca = kmeans(loading_pca,centers=4)\n",
    "clusters_pca <- kmeans_pca$cluster"
   ]
  },
  {
   "cell_type": "code",
   "execution_count": null,
   "id": "5edf7c3e-bb1f-4c8a-8848-569cc4b7c0e1",
   "metadata": {},
   "outputs": [],
   "source": [
    "cluster_counts_pca <- table(clusters_pca)\n",
    "barplot(cluster_counts_pca, \n",
    "        main = \"Nombre d'individus par cluster\", \n",
    "        xlab = \"Cluster\", \n",
    "        ylab = \"Nombre d'individus\")"
   ]
  },
  {
   "cell_type": "code",
   "execution_count": null,
   "id": "6b77e8ed-fc4e-4c8c-addb-ec95f46db70f",
   "metadata": {},
   "outputs": [],
   "source": [
    "fviz_cluster(kmeans_pca, data=loading[,-169], ellipse.type=\"norm\", labelsize=8, geom=c(\"point\"))"
   ]
  },
  {
   "cell_type": "code",
   "execution_count": null,
   "id": "25574a3b-484f-4575-8a70-56737b1e294d",
   "metadata": {},
   "outputs": [],
   "source": [
    "tbl2 = table(coord$bonus,clusters_pca)\n",
    "print(tbl2)\n",
    "mosaicplot(tbl2,color=c(1:4), main = \"Stations en altitude en fonction du clusters\")"
   ]
  },
  {
   "cell_type": "code",
   "execution_count": null,
   "id": "226acf3e-7d01-4dc4-8f73-0ff6274a77b1",
   "metadata": {},
   "outputs": [],
   "source": [
    "mean_loadings2 <- aggregate(loading[, -169], by = list(cluster = clusters_pca), FUN = mean)\n",
    "mean_loadings2\n",
    "mean_loadings_melted2 <- melt(mean_loadings2, id.vars = \"cluster\")\n",
    "\n",
    "ggplot(mean_loadings_melted2, aes(x = variable, y = value, color = factor(cluster), group = cluster)) +\n",
    "  geom_line() +\n",
    "  labs(title = \"Chargement moyen des stations par cluster\", x = \"Temps en heures\", y = \"Chargement\") +\n",
    "  scale_color_discrete(name = \"Cluster\")"
   ]
  },
  {
   "cell_type": "code",
   "execution_count": null,
   "id": "b5cf48cd-4c8c-4755-a57d-0dca6b6c1000",
   "metadata": {},
   "outputs": [],
   "source": [
    "cluster_palette <- colorFactor(c(\"#E41A1C\",\"#4DAF4A\",\"#377EB8\"), domain = unique(clusters))  # Utiliser la palette viridis avec 10 couleurs\n",
    "\n",
    "leaflet(velib$position) %>% \n",
    "  addTiles(urlTemplate = \"https://{s}.basemaps.cartocdn.com/light_all/{z}/{x}/{y}{r}.png\", \n",
    "           attribution = 'Map tiles by Carto, under CC BY 3.0. Data by OpenStreetMap, under ODbL.') %>% \n",
    "  addCircleMarkers(radius = 3,\n",
    "                   color = ~cluster_palette(clusters),\n",
    "                   stroke = FALSE, \n",
    "                   fillOpacity = 0.9) %>%\n",
    "addLegend(position = \"bottomright\", \n",
    "            pal = cluster_palette, \n",
    "            values = ~clusters,\n",
    "            title = \"Cluster\",\n",
    "            opacity = 1)\n",
    "\n",
    "cluster_palette <- colorFactor(c(\"#E41A1C\",\"#4DAF4A\",\"#377EB8\"), domain = unique(clusters_pca))  # Utiliser la palette viridis avec 10 couleurs\n",
    "\n",
    "leaflet(velib$position) %>% \n",
    "  addTiles(urlTemplate = \"https://{s}.basemaps.cartocdn.com/light_all/{z}/{x}/{y}{r}.png\", \n",
    "           attribution = 'Map tiles by Carto, under CC BY 3.0. Data by OpenStreetMap, under ODbL.') %>% \n",
    "  addCircleMarkers(radius = 3,\n",
    "                   color = ~cluster_palette(clusters_pca),\n",
    "                   stroke = FALSE, \n",
    "                   fillOpacity = 0.9) %>%\n",
    "addLegend(position = \"bottomright\", \n",
    "            pal = cluster_palette, \n",
    "            values = ~clusters_pca,\n",
    "            title = \"Cluster\",\n",
    "            opacity = 1)\n",
    "\n",
    "result <- matchClasses(clusters, clusters_pca)\n",
    "clusters_pca_sorted <- result$clusters\n",
    "\n",
    "# Quels sont les points identiques ?\n",
    "points_diff <- clusters != clusters_pca_sorted\n",
    "\n",
    "# Calcul du nombre de points différents\n",
    "num_diff_points <- sum(points_diff)\n",
    "\n",
    "# Calcul du pourcentage de réussite\n",
    "pourcentage_reussite <- (1 - num_diff_points / length(clusters)) * 100\n",
    "\n",
    "# Affichage du résultat\n",
    "cat(\"Nombre de points différents :\", num_diff_points, \"sur\", length(clusters), \"\\n\")\n",
    "cat(\"Pourcentage de réussite :\", sprintf(\"%.2f\", pourcentage_reussite), \"%\\n\")"
   ]
  },
  {
   "cell_type": "code",
   "execution_count": null,
   "id": "965d7a5e-2223-4369-b5b6-89da9470dfb9",
   "metadata": {},
   "outputs": [],
   "source": [
    "library(caret)\n",
    "conf_matrix <- table(clusters, clusters_pca)\n",
    "conf_matrix_df <- as.data.frame(as.table(conf_matrix))\n",
    "\n",
    "ggplot(data=conf_matrix_df, aes(x = clusters_pca, y = clusters, fill = Freq)) +\n",
    "    geom_tile() +\n",
    "    geom_text(aes(label=Freq),color=\"black\") +\n",
    "    scale_fill_gradient(low=\"white\", high=\"blue\") +\n",
    "    xlab(\"Sur les données réduites (PCA)\") +\n",
    "    ylab(\"Sur les données complètes\") +\n",
    "    ggtitle(\"Matrice de confusion\") +\n",
    "    theme_minimal()"
   ]
  },
  {
   "cell_type": "code",
   "execution_count": null,
   "id": "4d5ca796-3f0a-4a4e-ba79-24387765762d",
   "metadata": {},
   "outputs": [],
   "source": [
    "print(conf_matrix)"
   ]
  },
  {
   "cell_type": "markdown",
   "id": "6087a362-fb0b-4625-a791-27daf29bc922",
   "metadata": {},
   "source": [
    "#### 3.1.2. CAH : Agglomerative Clustering"
   ]
  },
  {
   "cell_type": "code",
   "execution_count": null,
   "id": "87452815-af93-41fb-9a85-d8f73574fffd",
   "metadata": {},
   "outputs": [],
   "source": [
    "options(repr.plot.width = 12, repr.plot.height = 6)\n",
    "grid.arrange(\n",
    "    fviz_nbclust(loading_pca, FUNcluster=hcut, method=\"wss\") + ggtitle(\"Score WSS\"),\n",
    "    fviz_nbclust(loading_pca, FUNcluster=hcut, method=\"silhouette\") + ggtitle(\"Score Silhouette\"),\n",
    "    ncol=2\n",
    ")"
   ]
  },
  {
   "cell_type": "code",
   "execution_count": null,
   "id": "168a31f2-f766-4742-bbf5-9cce11ff13eb",
   "metadata": {},
   "outputs": [],
   "source": [
    "distances = dist(loading_pca, method=\"euclidean\")\n",
    "\n",
    "hclustaverage = hclust(distances, method=\"average\")\n",
    "hclustward = hclust(distances,method=\"ward.D\")\n",
    "hclustsingle = hclust(distances, method=\"single\")\n",
    "hclustcomplete = hclust(distances,method=\"complete\")\n",
    "\n",
    "reshclust_average = cutree(hclustaverage, 4)\n",
    "reshclust_ward = cutree(hclustward, 4)\n",
    "reshclust_complete = cutree(hclustcomplete, 4)\n",
    "reshclust_single = cutree(hclustsingle, 4)\n",
    "\n",
    "fviz_dend(hclustaverage, k=4, show_labels=FALSE, rect=TRUE, main = \"Dendrogram avec linkage Average\")\n",
    "fviz_dend(hclustward, k=4, show_labels=FALSE, rect=TRUE, main = \"Dendrogram avec linkage Ward\")\n",
    "fviz_dend(hclustsingle, k=4, show_labels=FALSE, rect=TRUE, main = \"Dendrogram avec linkage Single\")\n",
    "fviz_dend(hclustcomplete, k=4, show_labels=FALSE, rect=TRUE, main = \"Dendrogram avec linkage Complete\")"
   ]
  },
  {
   "cell_type": "code",
   "execution_count": null,
   "id": "dac40e53-1e35-4e43-b69a-676ba076d8b8",
   "metadata": {},
   "outputs": [],
   "source": [
    "options(repr.plot.width = 9, repr.plot.height = 6)\n",
    "\n",
    "fviz_pca(pca, axes=c(1,2), geom = c(\"point\"), col.ind=as.factor(reshclust_ward))"
   ]
  },
  {
   "cell_type": "code",
   "execution_count": null,
   "id": "9ee42f0e-d1d6-4c3d-bf6b-46ec743c6e9f",
   "metadata": {},
   "outputs": [],
   "source": [
    "cluster_palette <- colorFactor(c(\"#E41A1C\",\"#4DAF4A\",\"#377EB8\"), domain = unique(reshclust_ward))\n",
    "\n",
    "leaflet(velib$position) %>% \n",
    "  addTiles(urlTemplate = \"https://{s}.basemaps.cartocdn.com/light_all/{z}/{x}/{y}{r}.png\", \n",
    "           attribution = 'Map tiles by Carto, under CC BY 3.0. Data by OpenStreetMap, under ODbL.') %>% \n",
    "  addCircleMarkers(radius = 3,\n",
    "                   color = ~cluster_palette(reshclust_ward),\n",
    "                   stroke = FALSE, \n",
    "                   fillOpacity = 0.9) %>%\n",
    "addLegend(position = \"bottomright\", \n",
    "            pal = cluster_palette, \n",
    "            values = ~reshclust_ward,\n",
    "            title = \"Cluster\",\n",
    "            opacity = 1)"
   ]
  },
  {
   "cell_type": "code",
   "execution_count": null,
   "id": "d80353e8-b3d4-44a1-adcb-080477c24c2e",
   "metadata": {},
   "outputs": [],
   "source": [
    "mean_loadings_cah <- aggregate(loading[, -169], by = list(cluster = reshclust_ward), FUN = mean)\n",
    "mean_loadings_cah\n",
    "mean_loadings_melted_cah <- melt(mean_loadings_cah, id.vars = \"cluster\")\n",
    "\n",
    "ggplot(mean_loadings_melted_cah, aes(x = variable, y = value, color = factor(cluster), group = cluster)) +\n",
    "  geom_line() +\n",
    "  labs(title = \"Chargement moyen des stations par cluster\", x = \"Temps en heures\", y = \"Chargement\") +\n",
    "  scale_color_discrete(name = \"Cluster\")"
   ]
  },
  {
   "cell_type": "code",
   "execution_count": null,
   "id": "819d5f4b-bd03-40b6-b0ee-ee3dee44eeab",
   "metadata": {},
   "outputs": [],
   "source": [
    "tbl2 = table(coord$bonus,reshclust_ward)\n",
    "print(tbl2)\n",
    "mosaicplot(tbl2,color=c(1:4), main = \"Stations en altitude en fonction du clusters\")"
   ]
  },
  {
   "cell_type": "markdown",
   "id": "3422d23c-bc1f-4157-bf35-4b2b7035f572",
   "metadata": {},
   "source": [
    "#### 3.1.3. Gaussian Mixture Models"
   ]
  },
  {
   "cell_type": "code",
   "execution_count": null,
   "id": "61d72314-3b90-4932-97d6-ba9748ea8468",
   "metadata": {},
   "outputs": [],
   "source": [
    "library(mclust)"
   ]
  },
  {
   "cell_type": "code",
   "execution_count": null,
   "id": "2e8be7ce-8a8c-4656-8f13-abad7a272946",
   "metadata": {},
   "outputs": [],
   "source": [
    "resBICall = mclustBIC(loading_pca, G=1:10)\n",
    "summary(resBICall)\n",
    "\n",
    "resBICall = Mclust(loading_pca, G=1:10)\n",
    "summary(resBICall)\n",
    "\n",
    "fviz_mclust(resBICall, what=\"BIC\")"
   ]
  },
  {
   "cell_type": "code",
   "execution_count": null,
   "id": "2fe59a12-f71f-4a1d-9562-29a5a96b4308",
   "metadata": {},
   "outputs": [],
   "source": [
    "options(repr.plot.width = 10, repr.plot.height = 6)\n",
    "gmm = Mclust(loading_pca, G=4, modelNames = \"VVE\")\n",
    "clusters_gmm_loading = gmm$classification\n",
    "fviz_cluster(gmm, data=loading_pca, ellipse.type=\"norm\", geom=\"point\")# --- #\n",
    "\n",
    "aux = data.frame(\n",
    "    label = paste(\"Cluster\", clusters_gmm_loading, sep=\"\"), \n",
    "    proba = apply(gmm$z, 1, max))\n",
    "\n",
    "ggplot(aux, aes(x=label, y=proba)) + \n",
    "    geom_boxplot(colour=1:4, fill=1:4, alpha=.4)"
   ]
  },
  {
   "cell_type": "code",
   "execution_count": null,
   "id": "7fb2f5a0-31a0-4e76-8082-cc2ce8cdfe68",
   "metadata": {},
   "outputs": [],
   "source": [
    "options(repr.plot.width = 20, repr.plot.height = 10)\n",
    "\n",
    "grid.arrange(\n",
    "    fviz_pca(pca, axes=c(1,2), geom = c(\"point\"), col.ind=as.factor(clusters_gmm_loading)),\n",
    "    fviz_pca(pca, axes=c(1,3), geom=c(\"point\"), col.ind=as.factor(clusters_gmm_loading)),\n",
    "    fviz_pca(pca, axes=c(2,3), geom=c(\"point\"), col.ind=as.factor(clusters_gmm_loading)),\n",
    "    ncol=3\n",
    ")"
   ]
  },
  {
   "cell_type": "code",
   "execution_count": null,
   "id": "8e57f60b-4dc3-4a4e-84db-9724523ab0f7",
   "metadata": {},
   "outputs": [],
   "source": [
    "cluster_palette <- colorFactor(c(\"#E41A1C\",\"#4DAF4A\",\"#377EB8\"), domain = unique(clusters_gmm_loading))  # Utiliser la palette viridis avec 10 couleurs\n",
    "\n",
    "leaflet(velib$position) %>% \n",
    "  addTiles(urlTemplate = \"https://{s}.basemaps.cartocdn.com/light_all/{z}/{x}/{y}{r}.png\", \n",
    "           attribution = 'Map tiles by Carto, under CC BY 3.0. Data by OpenStreetMap, under ODbL.') %>% \n",
    "  addCircleMarkers(radius = 3,\n",
    "                   color = ~cluster_palette(clusters_gmm_loading),\n",
    "                   stroke = FALSE, \n",
    "                   fillOpacity = 0.9) %>%\n",
    "addLegend(position = \"bottomright\", \n",
    "            pal = cluster_palette, \n",
    "            values = ~clusters_gmm_loading,\n",
    "            title = \"Cluster\",\n",
    "            opacity = 1)\n",
    "### pareil que pour la première carte"
   ]
  },
  {
   "cell_type": "code",
   "execution_count": null,
   "id": "7f6b978a-dc1f-41f7-b85e-9ecd782dd0a4",
   "metadata": {},
   "outputs": [],
   "source": [
    "mean_loadings_gmm <- aggregate(loading[, -169], by = list(cluster = clusters_gmm_loading), FUN = mean)\n",
    "mean_loadings_gmm\n",
    "mean_loadings_melted_gmm <- melt(mean_loadings_gmm, id.vars = \"cluster\")\n",
    "\n",
    "ggplot(mean_loadings_melted_gmm, aes(x = variable, y = value, color = factor(cluster), group = cluster)) +\n",
    "  geom_line() +\n",
    "  labs(title = \"Chargement moyen des stations par cluster\", x = \"Temps en heures\", y = \"Chargement\") +\n",
    "  scale_color_discrete(name = \"Cluster\")"
   ]
  },
  {
   "cell_type": "code",
   "execution_count": null,
   "id": "8a975079-b535-49df-b194-472c32089b16",
   "metadata": {},
   "outputs": [],
   "source": [
    "tbl2_cah = table(coord$bonus,clusters_gmm_loading)\n",
    "print(tbl2_cah)\n",
    "mosaicplot(tbl2_cah,color=c(1:4), main = \"Stations en altitude en fonction du clusters\")"
   ]
  },
  {
   "cell_type": "code",
   "execution_count": null,
   "id": "6b6be5ba-5769-464b-8d78-3f81d8f54939",
   "metadata": {},
   "outputs": [],
   "source": [
    "conf_matrix <- table(clusters_gmm_loading, clusters_pca)\n",
    "conf_matrix_df <- as.data.frame(as.table(conf_matrix))\n",
    "\n",
    "ggplot(data=conf_matrix_df, aes(x = clusters_pca, y = clusters_gmm_loading, fill = Freq)) +\n",
    "    geom_tile() +\n",
    "    geom_text(aes(label=Freq),color=\"black\") +\n",
    "    scale_fill_gradient(low=\"white\", high=\"blue\") +\n",
    "    xlab(\"Sur les données réduites (PCA)\") +\n",
    "    ylab(\"Sur les données complètes\") +\n",
    "    ggtitle(\"Matrice de confusion\") +\n",
    "    theme_minimal()"
   ]
  },
  {
   "cell_type": "markdown",
   "id": "7e2f0a09-ef36-4d80-bb99-91cd4792656d",
   "metadata": {},
   "source": [
    "Les résultats en GMM sont trop éloignées des autres méthodes, le package R renvoie des résultats différents du Python"
   ]
  },
  {
   "cell_type": "markdown",
   "id": "b8c18ad9-01d8-4494-8c43-72e966b53bf1",
   "metadata": {},
   "source": [
    "### 3.2. CA : comparaison entre Kmeans et Colline"
   ]
  },
  {
   "cell_type": "markdown",
   "id": "bfc6170f-effa-48c4-a818-b7647fd758f5",
   "metadata": {},
   "source": [
    "Voir notebook python"
   ]
  },
  {
   "cell_type": "markdown",
   "id": "a1690de0-f03b-4ea6-a97a-da17291f19e5",
   "metadata": {},
   "source": [
    "## 4. Etude sur le jeu de données par jour"
   ]
  },
  {
   "cell_type": "markdown",
   "id": "85d3b1ba-7462-4667-be08-c2a2ab6e5e8c",
   "metadata": {},
   "source": [
    "### 4.1. ACP"
   ]
  },
  {
   "cell_type": "code",
   "execution_count": null,
   "id": "a085125e-4539-45c5-9eac-f60047d925b0",
   "metadata": {},
   "outputs": [],
   "source": [
    "#Création du jeu de données data_jours "
   ]
  },
  {
   "cell_type": "code",
   "execution_count": null,
   "id": "9116d566-daa2-4cbb-8995-09104235e49a",
   "metadata": {},
   "outputs": [],
   "source": [
    "lundi <- rowMeans(loading[,c(1,2,3,4,5,6,7,8,9,10,11,12,13,14,15,16,17,18,19,20,21,22,23,24)])\n",
    "mardi <- rowMeans(loading[,c(25,26,27,28,29,30,31,32,33,34,35,36,37,38,39,40,41,42,43,44,45,46,47,48)])\n",
    "mercredi <- rowMeans(loading[,c(49,50,51,52,53,54,55,56,57,58,59,60,61,62,63,64,65,66,67,68,69,70,71,72)])\n",
    "jeudi <- rowMeans(loading[,c(73,74,75,76,77,78,79,80,81,82,83,84,85,86,87,88,89,90,91,92,93,94,95,96)])\n",
    "vendredi <- rowMeans(loading[,c(97,98,99,100,101,102,103,104,105,106,107,108,109,110,111,112,113,114,115,116,117,118,119,120)])\n",
    "samedi <- rowMeans(loading[,c(121,122,123,124,125,126,127,128,129,130,131,132,133,134,135,136,137,138,139,140,141,142,143,144)])\n",
    "dimanche <- rowMeans(loading[,c(145,146,147,148,149,150,151,152,153,154,155,156,157,158,159,160,161,162,163,164,165,166,167,168)])\n",
    "\n",
    "data_jours <- data.frame(lundi,mardi,mercredi,jeudi,vendredi,samedi,dimanche)\n",
    "\n",
    "colnames(data_jours) <- list(\"Lundi\",\"Mardi\",\"Mercredi\",\"Jeudi\",\"Vendredi\",\"Samedi\",\"Dimanche\")\n",
    "data_jours$Station <- velib$names\n",
    "data_jours$Station <- as.factor(data_jours$Station)\n",
    "data_jours$Hill <- as.factor(coord$bonus)\n",
    "head(data_jours)"
   ]
  },
  {
   "cell_type": "code",
   "execution_count": null,
   "id": "45d2c272-4798-40f3-a169-82599e60a71e",
   "metadata": {},
   "outputs": [],
   "source": [
    "pca_2 <- PCA(data_jours, scale.unit = TRUE,\n",
    "           graph = FALSE, quali.sup = c(8,9))"
   ]
  },
  {
   "cell_type": "code",
   "execution_count": null,
   "id": "7f38fecc-09bb-4a2a-92d5-56f166f27fbb",
   "metadata": {},
   "outputs": [],
   "source": [
    "plot(cumsum(pca_2$eig[,2]), type = \"l\")\n",
    "n_components <- which(cumsum(pca_2$eig[,2]) >= 85)[1]\n",
    "cat(\"On garde\", n_components, \"composants pour l'ACP\\n\")"
   ]
  },
  {
   "cell_type": "code",
   "execution_count": null,
   "id": "8b7d0ccf-25c6-4816-af38-a057ee19a9e6",
   "metadata": {},
   "outputs": [],
   "source": [
    "pca_2 <- PCA(data_jours, scale.unit = TRUE,\n",
    "           graph = FALSE, quali.sup=c(8,9), ncp = 3)\n",
    "data_jours_pca=pca_2$ind$coord\n",
    "print(pca_2$eig[1:3, 2])\n",
    "cat('--- PCA ---\\n')\n",
    "cat('Dimension initiale :', dim(data_jours), '\\n')\n",
    "cat('Dimension après projection :', c(nrow(data_jours), 3), '\\n\\n')\n",
    "\n",
    "cat('--- Variance expliquée ---\\n')\n",
    "cat('Composante 1 :', round(pca_2$eig[1, 1], 2), 'i.e.', round(pca_2$eig[1, 2], 2), '% de la variance totale\\n')\n",
    "cat('Composante 2 :', round(pca_2$eig[2, 1], 2), 'i.e.', round(pca_2$eig[2, 2], 2), '% de la variance totale\\n')\n",
    "cat('Composante 3 :', round(pca_2$eig[3, 1], 2), 'i.e.', round(pca_2$eig[3, 2], 2), '% de la variance totale\\n')"
   ]
  },
  {
   "cell_type": "code",
   "execution_count": null,
   "id": "0b17d77d-0349-4728-8674-7f12fde1f805",
   "metadata": {},
   "outputs": [],
   "source": [
    "g2<-fviz_eig(pca_2, addlabels = TRUE, ylim = c(0, 40), xlim = c(1,3)) +\n",
    "      ggtitle(\"Proportion de Variance Expliquée par Chaque Composante Principale\") +\n",
    "      xlab(\"Composantes Principales\") +\n",
    "      ylab(\"Pourcentage de Variance Expliquée\")\n",
    "print(g2)"
   ]
  },
  {
   "cell_type": "code",
   "execution_count": null,
   "id": "08d0a9b0-864a-4018-8253-1b9637d61ecc",
   "metadata": {},
   "outputs": [],
   "source": [
    "box<-ggplot(melt(pca_2$ind$coord),aes(x=Var2,y=value)) + \n",
    "        geom_boxplot()+\n",
    "        xlab(\"\") +\n",
    "        ylab(\"\") +\n",
    "        ggtitle(\"Boxplot des 3 composantes principales\")\n",
    "print(box)"
   ]
  },
  {
   "cell_type": "code",
   "execution_count": null,
   "id": "e0b16c74-0f2e-4d29-a17a-8d58b19fa68a",
   "metadata": {},
   "outputs": [],
   "source": [
    "g1 <- fviz_pca_var(pca_2, axes = c(1, 2)) +\n",
    "      ggtitle(\"Graphe des variables\") +\n",
    "      xlab(\"PC1\") +\n",
    "      ylab(\"PC2\")\n",
    "\n",
    "print(g1)"
   ]
  },
  {
   "cell_type": "markdown",
   "id": "88c7b375-9ade-4053-83fd-7c78ac2263e8",
   "metadata": {},
   "source": [
    "#### Clustering"
   ]
  },
  {
   "cell_type": "markdown",
   "id": "422681ec-97e2-4b1f-aff9-b9b5d686571f",
   "metadata": {},
   "source": [
    "#### 4.1.1. Méthode de clustering avec k-means"
   ]
  },
  {
   "cell_type": "code",
   "execution_count": null,
   "id": "3994d5ca-14b8-4227-90e5-647124285d9a",
   "metadata": {},
   "outputs": [],
   "source": [
    "options(repr.plot.width = 9, repr.plot.height = 6)\n",
    "fviz_nbclust(data_jours[,-c(8,9)], FUNcluster=stats::kmeans, method=\"wss\") +\n",
    "    ggtitle(\"Within sum of square (WSS) according to the number of clusters\")\n",
    "\n",
    "fviz_nbclust(data_jours[,-c(8,9)], FUNcluster=stats::kmeans, method=\"silhouette\") +\n",
    "    ggtitle(\"Silhouette score according to the number of clusters\")"
   ]
  },
  {
   "cell_type": "code",
   "execution_count": null,
   "id": "c9f9863c-ea87-4ac1-aa86-033bec6609cf",
   "metadata": {},
   "outputs": [],
   "source": [
    "options(repr.plot.width = 15, repr.plot.height = 10)\n",
    "for (centers in 2:5) {\n",
    "  kmeans_jours <- kmeans(data_jours[,-c(8,9)], centers=centers)\n",
    "  sil <- silhouette(kmeans_jours$cluster, dist(data_jours[,-c(8,9)]))\n",
    "  visualizer <- fviz_silhouette(sil, ylim = c(-0.2, 0.6), main = paste(\"centers =\", centers))\n",
    "  print(visualizer)\n",
    "}"
   ]
  },
  {
   "cell_type": "code",
   "execution_count": null,
   "id": "f78f9833-5947-4f9b-9e63-efb3836fb1e1",
   "metadata": {},
   "outputs": [],
   "source": [
    "K=3\n",
    "kmeans_jours = kmeans(loading,centers=K)\n",
    "clusters_jours <- kmeans_jours$cluster"
   ]
  },
  {
   "cell_type": "code",
   "execution_count": null,
   "id": "6292752b-d5db-410b-99dc-bf7bedea1c60",
   "metadata": {},
   "outputs": [],
   "source": [
    "cluster_counts_jours <- table(clusters_jours)\n",
    "barplot(cluster_counts_jours, \n",
    "        main = \"Nombre d'individus par cluster\", \n",
    "        xlab = \"Cluster\", \n",
    "        ylab = \"Nombre d'individus\")"
   ]
  },
  {
   "cell_type": "code",
   "execution_count": null,
   "id": "444831a9-589b-4c60-9d12-0349e2532445",
   "metadata": {},
   "outputs": [],
   "source": [
    "mean_loadings3 <- aggregate(loading[, -169], by = list(cluster = clusters_jours), FUN = mean)\n",
    "mean_loadings3\n",
    "mean_loadings_melted3 <- melt(mean_loadings3, id.vars = \"cluster\")\n",
    "\n",
    "ggplot(mean_loadings_melted3, aes(x = variable, y = value, color = factor(cluster), group = cluster)) +\n",
    "  geom_line() +\n",
    "  labs(title = \"Chargement moyen des stations par cluster\", x = \"Temps en heures\", y = \"Chargement\") +\n",
    "  scale_color_discrete(name = \"Cluster\")"
   ]
  },
  {
   "cell_type": "code",
   "execution_count": null,
   "id": "71edc3cb-edd2-4747-b063-02bd53d23fc6",
   "metadata": {},
   "outputs": [],
   "source": [
    "tbl3 = table(coord$bonus,clusters_jours)\n",
    "print(tbl3)\n",
    "mosaicplot(tbl3,color=c(1:3), main = \"Stations en altitude en fonction du clusters\")"
   ]
  },
  {
   "cell_type": "markdown",
   "id": "981aa2f0-3105-4a91-be9b-2d385cf47825",
   "metadata": {},
   "source": [
    "Etude sur data_jours_pca"
   ]
  },
  {
   "cell_type": "code",
   "execution_count": null,
   "id": "e3319bd0-27f5-4253-8ac4-66d3ee849088",
   "metadata": {},
   "outputs": [],
   "source": [
    "options(repr.plot.width = 9, repr.plot.height = 6)\n",
    "fviz_nbclust(data_jours_pca, FUNcluster=stats::kmeans, method=\"wss\") +\n",
    "    ggtitle(\"Within sum of square (WSS) according to the number of clusters\")\n",
    "\n",
    "fviz_nbclust(data_jours_pca, FUNcluster=stats::kmeans, method=\"silhouette\") +\n",
    "    ggtitle(\"Silhouette score according to the number of clusters\")"
   ]
  },
  {
   "cell_type": "code",
   "execution_count": null,
   "id": "a8d845b4-e12f-46ed-9f10-59d2e028e5ab",
   "metadata": {},
   "outputs": [],
   "source": [
    "options(repr.plot.width = 15, repr.plot.height = 10)\n",
    "for (centers in 2:5) {\n",
    "  kmeans_PCA_jours <- kmeans(data_jours_pca, centers=centers)\n",
    "  sil <- silhouette(kmeans_PCA_jours$cluster, dist(data_jours_pca))\n",
    "  visualizer <- fviz_silhouette(sil, ylim = c(-0.2, 0.6), main = paste(\"centers =\", centers))\n",
    "  print(visualizer)\n",
    "}"
   ]
  },
  {
   "cell_type": "code",
   "execution_count": null,
   "id": "a087a6b8-dd6b-469b-919a-1397f1d470b4",
   "metadata": {},
   "outputs": [],
   "source": [
    "K=3\n",
    "kmeans_PCA_jours = kmeans(data_jours_pca,centers=K)\n",
    "clusters_jours_pca <- kmeans_PCA_jours$cluster"
   ]
  },
  {
   "cell_type": "code",
   "execution_count": null,
   "id": "e366b0be-1cc5-4ba9-a526-3e9a3c5226b5",
   "metadata": {},
   "outputs": [],
   "source": [
    "result <- matchClasses(clusters_jours, clusters_jours_pca)\n",
    "clusters_jours_pca_sorted <- result$clusters"
   ]
  },
  {
   "cell_type": "code",
   "execution_count": null,
   "id": "259f020f-5cfb-4420-88c1-b7eaa6bb549b",
   "metadata": {},
   "outputs": [],
   "source": [
    "cluster_counts_jours <- table(clusters_jours_pca_sorted)\n",
    "barplot(cluster_counts_jours, \n",
    "        main = \"Nombre d'individus par cluster\", \n",
    "        xlab = \"Cluster\", \n",
    "        ylab = \"Nombre d'individus\")"
   ]
  },
  {
   "cell_type": "code",
   "execution_count": null,
   "id": "366c5fea-eaf2-45ac-b337-e76195a884e4",
   "metadata": {},
   "outputs": [],
   "source": [
    "fviz_cluster(kmeans_PCA_jours, data=data_jours[,-c(8,9)], ellipse.type=\"norm\", labelsize=8, geom=c(\"point\"))"
   ]
  },
  {
   "cell_type": "code",
   "execution_count": null,
   "id": "4924036c-078f-43f7-849e-8eab7b8f0411",
   "metadata": {},
   "outputs": [],
   "source": [
    "tbl4 = table(coord$bonus,clusters_jours_pca_sorted)\n",
    "print(tbl4)\n",
    "mosaicplot(tbl4,color=c(1:3), main = \"Stations en altitude en fonction du clusters\")"
   ]
  },
  {
   "cell_type": "code",
   "execution_count": null,
   "id": "47497da9-86fb-4904-bc8b-3f44c79c3080",
   "metadata": {},
   "outputs": [],
   "source": [
    "mean_loadings_4 <- aggregate(loading[,-169], by = list(cluster = clusters_jours_pca_sorted), FUN = mean)\n",
    "mean_loadings_4\n",
    "mean_loadings_melted_4 <- melt(mean_loadings_4, id.vars = \"cluster\")\n",
    "\n",
    "ggplot(mean_loadings_melted_4, aes(x = variable, y = value, color = factor(cluster), group = cluster)) +\n",
    "  geom_line() +\n",
    "  labs(title = \"Chargement moyen des stations par cluster\", x = \"Temps en heures\", y = \"Chargement\") +\n",
    "  scale_color_discrete(name = \"Cluster\")"
   ]
  },
  {
   "cell_type": "code",
   "execution_count": null,
   "id": "95163185-0788-4916-ae06-13617cb0ba59",
   "metadata": {},
   "outputs": [],
   "source": [
    "result <- matchClasses(clusters_jours, clusters_jours_pca)\n",
    "clusters_jours_pca_sorted <- result$clusters\n",
    "\n",
    "cluster_palette <- colorFactor(c(\"#E41A1C\",\"#4DAF4A\",\"#377EB8\"), domain = unique(clusters_jours))  # Utiliser la palette viridis avec 10 couleurs\n",
    "\n",
    "leaflet(velib$position) %>% \n",
    "  addTiles(urlTemplate = \"https://{s}.basemaps.cartocdn.com/light_all/{z}/{x}/{y}{r}.png\", \n",
    "           attribution = 'Map tiles by Carto, under CC BY 3.0. Data by OpenStreetMap, under ODbL.') %>% \n",
    "  addCircleMarkers(radius = 3,\n",
    "                   color = ~cluster_palette(clusters_jours),\n",
    "                   stroke = FALSE, \n",
    "                   fillOpacity = 0.9) %>%\n",
    "addLegend(position = \"bottomright\", \n",
    "            pal = cluster_palette, \n",
    "            values = ~clusters_jours,\n",
    "            title = \"Cluster\",\n",
    "            opacity = 1)\n",
    "\n",
    "cluster_palette <- colorFactor(c(\"#E41A1C\",\"#4DAF4A\",\"#377EB8\"), domain = unique(clusters_jours_pca_sorted))  # Utiliser la palette viridis avec 10 couleurs\n",
    "\n",
    "leaflet(velib$position) %>% \n",
    "  addTiles(urlTemplate = \"https://{s}.basemaps.cartocdn.com/light_all/{z}/{x}/{y}{r}.png\", \n",
    "           attribution = 'Map tiles by Carto, under CC BY 3.0. Data by OpenStreetMap, under ODbL.') %>% \n",
    "  addCircleMarkers(radius = 3,\n",
    "                   color = ~cluster_palette(clusters_jours_pca_sorted),\n",
    "                   stroke = FALSE, \n",
    "                   fillOpacity = 0.9) %>%\n",
    "addLegend(position = \"bottomright\", \n",
    "            pal = cluster_palette, \n",
    "            values = ~clusters_jours_pca_sorted,\n",
    "            title = \"Cluster\",\n",
    "            opacity = 1)\n",
    "\n",
    "\n",
    "# Quels sont les points identiques ?\n",
    "points_diff <- clusters_jours != clusters_jours_pca_sorted\n",
    "\n",
    "# Calcul du nombre de points différents\n",
    "num_diff_points <- sum(points_diff)\n",
    "\n",
    "# Calcul du pourcentage de réussite\n",
    "pourcentage_reussite <- (1 - num_diff_points / length(clusters)) * 100\n",
    "\n",
    "# Affichage du résultat\n",
    "cat(\"Nombre de points différents :\", num_diff_points, \"sur\", length(clusters), \"\\n\")\n",
    "cat(\"Pourcentage de réussite :\", sprintf(\"%.2f\", pourcentage_reussite), \"%\\n\")"
   ]
  },
  {
   "cell_type": "code",
   "execution_count": null,
   "id": "fd175455-29a5-47d2-bb66-0723524cd70f",
   "metadata": {},
   "outputs": [],
   "source": [
    "library(caret)\n",
    "conf_matrix <- table(clusters_jours, clusters_jours_pca_sorted)\n",
    "conf_matrix_df <- as.data.frame(as.table(conf_matrix))\n",
    "\n",
    "ggplot(data=conf_matrix_df, aes(x = clusters_jours_pca_sorted, y = clusters_jours, fill = Freq)) +\n",
    "    geom_tile() +\n",
    "    geom_text(aes(label=Freq),color=\"black\") +\n",
    "    scale_fill_gradient(low=\"white\", high=\"blue\") +\n",
    "    xlab(\"Sur les données réduites (PCA)\") +\n",
    "    ylab(\"Sur les données complètes\") +\n",
    "    ggtitle(\"Matrice de confusion\") +\n",
    "    theme_minimal()"
   ]
  },
  {
   "cell_type": "code",
   "execution_count": null,
   "id": "efe52257-49ed-4d07-9ff2-fb37e2e427b3",
   "metadata": {},
   "outputs": [],
   "source": [
    "print(conf_matrix)"
   ]
  },
  {
   "cell_type": "markdown",
   "id": "fc857d72-d391-4a1b-819a-674183bd14f5",
   "metadata": {},
   "source": [
    "#### 4.1.2. CAH : Agglomerative Clustering"
   ]
  },
  {
   "cell_type": "code",
   "execution_count": null,
   "id": "afc07799-ffac-462d-a960-518dc0b95b0a",
   "metadata": {},
   "outputs": [],
   "source": [
    "options(repr.plot.width = 12, repr.plot.height = 6)\n",
    "grid.arrange(\n",
    "    fviz_nbclust(data_jours_pca, FUNcluster=hcut, method=\"wss\") + ggtitle(\"Score WSS\"),\n",
    "    fviz_nbclust(data_jours_pca, FUNcluster=hcut, method=\"silhouette\") + ggtitle(\"Score Silhouette\"),\n",
    "    ncol=2\n",
    ")"
   ]
  },
  {
   "cell_type": "code",
   "execution_count": null,
   "id": "9b317473-772e-4ccd-a131-8d6a4599ae31",
   "metadata": {},
   "outputs": [],
   "source": [
    "d2 = dist(data_jours_pca, method=\"euclidean\")\n",
    "\n",
    "hclustaverage2 = hclust(d2, method=\"average\")\n",
    "hclustward2 = hclust(d2,method=\"ward.D\")\n",
    "hclustsingle2 = hclust(d2, method=\"single\")\n",
    "hclustcomplete2 = hclust(d2,method=\"complete\")\n",
    "\n",
    "reshclust_average2 = cutree(hclustaverage2, 3)\n",
    "reshclust_ward2 = cutree(hclustward2, 3)\n",
    "reshclust_single2 = cutree(hclustsingle2, 3)\n",
    "reshclust_complete2 = cutree(hclustcomplete2, 3)\n",
    "\n",
    "fviz_dend(hclustaverage2, k=3, show_labels=FALSE, rect=TRUE, main = \"Dendrogram avec linkage Average\")\n",
    "fviz_dend(hclustward2, k=3, show_labels=FALSE, rect=TRUE, main = \"Dendrogram avec linkage Ward\")\n",
    "fviz_dend(hclustsingle2, k=3, show_labels=FALSE, rect=TRUE, main = \"Dendrogram avec linkage Single\")\n",
    "fviz_dend(hclustcomplete2, k=3, show_labels=FALSE, rect=TRUE, main = \"Dendrogram avec linkage Complete\")"
   ]
  },
  {
   "cell_type": "code",
   "execution_count": null,
   "id": "37bbeef6-7441-4b09-ade3-8181b8ddc948",
   "metadata": {},
   "outputs": [],
   "source": [
    "options(repr.plot.width = 9, repr.plot.height = 6)\n",
    "\n",
    "fviz_pca(pca_2, axes=c(1,2), geom = c(\"point\"), col.ind=as.factor(reshclust_ward2))"
   ]
  },
  {
   "cell_type": "code",
   "execution_count": null,
   "id": "5945065d-6826-4e1b-ba15-cb3360f6cdd8",
   "metadata": {},
   "outputs": [],
   "source": [
    "cluster_palette <- colorFactor(c(\"#E41A1C\",\"#4DAF4A\",\"#377EB8\"), domain = unique(reshclust_ward2))\n",
    "\n",
    "leaflet(velib$position) %>% \n",
    "  addTiles(urlTemplate = \"https://{s}.basemaps.cartocdn.com/light_all/{z}/{x}/{y}{r}.png\", \n",
    "           attribution = 'Map tiles by Carto, under CC BY 3.0. Data by OpenStreetMap, under ODbL.') %>% \n",
    "  addCircleMarkers(radius = 3,\n",
    "                   color = ~cluster_palette(reshclust_ward2),\n",
    "                   stroke = FALSE, \n",
    "                   fillOpacity = 0.9) %>%\n",
    "addLegend(position = \"bottomright\", \n",
    "            pal = cluster_palette, \n",
    "            values = ~reshclust_ward2,\n",
    "            title = \"Cluster\",\n",
    "            opacity = 1)"
   ]
  },
  {
   "cell_type": "code",
   "execution_count": null,
   "id": "51cd0df7-9bd6-4c18-8e92-b7212fa1d17b",
   "metadata": {},
   "outputs": [],
   "source": [
    "mean_loadings_5 <- aggregate(loading[, -169], by = list(cluster = reshclust_ward2), FUN = mean)\n",
    "mean_loadings_5\n",
    "mean_loadings_melted_5 <- melt(mean_loadings_5, id.vars = \"cluster\")\n",
    "\n",
    "ggplot(mean_loadings_melted_5, aes(x = variable, y = value, color = factor(cluster), group = cluster)) +\n",
    "  geom_line() +\n",
    "  labs(title = \"Chargement moyen des stations par cluster\", x = \"Temps en heures\", y = \"Chargement\") +\n",
    "  scale_color_discrete(name = \"Cluster\")"
   ]
  },
  {
   "cell_type": "code",
   "execution_count": null,
   "id": "0bbb890a-24dc-4c39-aa05-51529d44a589",
   "metadata": {},
   "outputs": [],
   "source": [
    "tbl5 = table(coord$bonus,reshclust_ward2)\n",
    "print(tbl5)\n",
    "mosaicplot(tbl5,color=c(1:3), main = \"Stations en altitude en fonction du clusters\")"
   ]
  },
  {
   "cell_type": "markdown",
   "id": "c73e3ff1-655e-4cac-9a8e-7888c4ad0307",
   "metadata": {},
   "source": [
    "#### 4.1.3. Gaussian Mixture Models"
   ]
  },
  {
   "cell_type": "code",
   "execution_count": null,
   "id": "913ad257-070f-4d33-87c2-f5f6babdc593",
   "metadata": {},
   "outputs": [],
   "source": [
    "resBICall2 = mclustBIC(data_jours_pca, G=1:10)\n",
    "summary(resBICall2)\n",
    "\n",
    "resBICall2 = Mclust(data_jours_pca, G=1:10)\n",
    "summary(resBICall2)\n",
    "\n",
    "fviz_mclust(resBICall2, what=\"BIC\")"
   ]
  },
  {
   "cell_type": "code",
   "execution_count": null,
   "id": "ffea76ef-ea2d-4d85-be5c-348dbc13dcac",
   "metadata": {},
   "outputs": [],
   "source": [
    "options(repr.plot.width = 10, repr.plot.height = 6)\n",
    "gmm_jours = Mclust(data_jours_pca, G=3, modelNames = \"VEE\")\n",
    "fviz_cluster(gmm_jours, data=data_jours_pca, ellipse.type=\"norm\", geom=\"point\")\n",
    "\n",
    "# --- #\n",
    "\n",
    "aux = data.frame(\n",
    "    label = paste(\"Cluster\", gmm_jours$classification, sep=\"\"), \n",
    "    proba = apply(gmm_jours$z, 1, max))\n",
    "\n",
    "ggplot(aux, aes(x=label, y=proba)) + \n",
    "    geom_boxplot(colour=1:3, fill=1:3, alpha=.4)"
   ]
  },
  {
   "cell_type": "code",
   "execution_count": null,
   "id": "7f13fc55-7bfc-49c4-830f-95d62060bdb2",
   "metadata": {},
   "outputs": [],
   "source": [
    "options(repr.plot.width = 20, repr.plot.height = 10)\n",
    "\n",
    "fviz_pca(acp2, axes=c(1,2), geom = c(\"point\"), col.ind=as.factor(resBIC2$classification))"
   ]
  },
  {
   "cell_type": "code",
   "execution_count": null,
   "id": "46e9fafd-3f1b-4dea-9c44-e0de658fd3a7",
   "metadata": {},
   "outputs": [],
   "source": [
    "cluster_palette <- colorFactor(c(\"#E41A1C\", \"#FF33CC\", \"#377EB8\", \"#4DAF4A\", \"#FF7F00\", \"#FFFF33\"), domain = unique(resBIC2$classification))  # Utiliser la palette viridis avec 10 couleurs\n",
    "\n",
    "leaflet(velib$position) %>% \n",
    "  addTiles(urlTemplate = \"https://{s}.basemaps.cartocdn.com/light_all/{z}/{x}/{y}{r}.png\", \n",
    "           attribution = 'Map tiles by Carto, under CC BY 3.0. Data by OpenStreetMap, under ODbL.') %>% \n",
    "  addCircleMarkers(radius = 3,\n",
    "                   color = ~cluster_palette(resBIC2$classification),\n",
    "                   stroke = FALSE, \n",
    "                   fillOpacity = 0.9) %>%\n",
    "addLegend(position = \"bottomright\", \n",
    "            pal = cluster_palette, \n",
    "            values = ~resBIC2$classification,\n",
    "            title = \"Cluster\",\n",
    "            opacity = 1)"
   ]
  },
  {
   "cell_type": "code",
   "execution_count": null,
   "id": "470fecdd-ff31-4d24-9f80-951741b95d86",
   "metadata": {},
   "outputs": [],
   "source": [
    "mean_loadings_2gmm <- aggregate(loading[, -169], by = list(cluster = resBIC2$classification), FUN = mean)\n",
    "mean_loadings_2gmm\n",
    "mean_loadings_melted_2gmm <- melt(mean_loadings_2gmm, id.vars = \"cluster\")\n",
    "\n",
    "ggplot(mean_loadings_melted_2gmm, aes(x = variable, y = value, color = factor(cluster), group = cluster)) +\n",
    "  geom_line() +\n",
    "  labs(title = \"Chargement moyen des stations par cluster\", x = \"Temps en heures\", y = \"Chargement\") +\n",
    "  scale_color_discrete(name = \"Cluster\")"
   ]
  },
  {
   "cell_type": "code",
   "execution_count": null,
   "id": "dac7ce83-d01b-4727-aede-4bae7523ec46",
   "metadata": {},
   "outputs": [],
   "source": [
    "tbl2_ch2 = table(coord$bonus,resBIC2$classification)\n",
    "print(tbl2_ch2)\n",
    "mosaicplot(tbl2_ch2,color=c(1:3), main = \"Stations en altitude en fonction du clusters\")"
   ]
  },
  {
   "cell_type": "markdown",
   "id": "1cbcd6e5-76d8-4b6b-8f07-f8ece08808df",
   "metadata": {},
   "source": [
    "### CA entre CAH et Kmeans "
   ]
  },
  {
   "cell_type": "code",
   "execution_count": null,
   "id": "42c4f9a0-c6e7-40dd-8548-790acbbbf53f",
   "metadata": {},
   "outputs": [],
   "source": [
    "table_contingence <- table(reskmeans2$cluster,reshclust_ward2)\n",
    "table_contingence"
   ]
  },
  {
   "cell_type": "code",
   "execution_count": null,
   "id": "b12136b9-0301-4819-90d5-c94572f06b1e",
   "metadata": {},
   "outputs": [],
   "source": [
    "res.ca = CA(table_contingence, graph=FALSE)\n",
    "fviz_ca_biplot(res.ca, repel=TRUE)"
   ]
  },
  {
   "cell_type": "code",
   "execution_count": null,
   "id": "720515e3-7f63-49ea-8502-b4b672b5b981",
   "metadata": {},
   "outputs": [],
   "source": [
    "table_contingence2 <- table(reskmeans2$cluster,resBIC2$classification)\n",
    "table_contingence2"
   ]
  },
  {
   "cell_type": "code",
   "execution_count": null,
   "id": "201f7123-e3f6-4036-be25-01d3a9eaedfa",
   "metadata": {},
   "outputs": [],
   "source": [
    "res.ca2 = CA(table_contingence2, graph=FALSE)\n",
    "fviz_ca_biplot(res.ca2, repel=TRUE)"
   ]
  },
  {
   "cell_type": "markdown",
   "id": "7ff961bb-ddd9-482b-bf5e-94251bc3298d",
   "metadata": {},
   "source": [
    "## 5. Etude sur le jeu de données par heures"
   ]
  },
  {
   "cell_type": "markdown",
   "id": "e5e7fca4-f87e-4ef9-a66e-f723d946a3d4",
   "metadata": {},
   "source": [
    "### 5.1. ACP"
   ]
  },
  {
   "cell_type": "code",
   "execution_count": null,
   "id": "9e9525e5-5bf1-43d2-944e-68af710d4fd9",
   "metadata": {},
   "outputs": [],
   "source": [
    "#Création du jeu de données data_heures"
   ]
  },
  {
   "cell_type": "code",
   "execution_count": null,
   "id": "b860f0a3-77e1-4804-8fcc-074e1e03d3a9",
   "metadata": {},
   "outputs": [],
   "source": [
    "minuit_am <- rowMeans(loading[,c(1,25,49,73,97,121,145)])\n",
    "une_am <- rowMeans(loading[,c(2,26,50,74,98,122,146)])\n",
    "deux_am <- rowMeans(loading[,c(3,27,51,75,99,123,147)])\n",
    "trois_am <- rowMeans(loading[,c(4,28,52,76,100,124,148)])\n",
    "quatre_am <- rowMeans(loading[,c(5,29,53,77,101,125,149)])\n",
    "cinq_am <- rowMeans(loading[,c(6,30,54,78,102,126,150)])\n",
    "six_am <- rowMeans(loading[,c(7,31,55,79,103,127,151)])\n",
    "sept_am <- rowMeans(loading[,c(8,32,56,80,104,128,152)])\n",
    "huit_am <- rowMeans(loading[,c(9,33,57,81,105,129,153)])\n",
    "neuf_am <- rowMeans(loading[,c(10,34,58,82,106,130,154)])\n",
    "dix_am <- rowMeans(loading[,c(11,35,59,83,107,131,155)])\n",
    "onze_am <- rowMeans(loading[,c(12,36,60,84,108,132,156)])\n",
    "minuit_pm <- rowMeans(loading[,c(13,37,61,85,109,133,157)])\n",
    "une_pm <- rowMeans(loading[,c(14,38,62,86,110,134,158)])\n",
    "deux_pm <- rowMeans(loading[,c(15,39,63,87,111,135,159)])\n",
    "trois_pm <- rowMeans(loading[,c(16,40,64,88,112,136,160)])\n",
    "quatre_pm <- rowMeans(loading[,c(17,41,65,89,113,137,161)])\n",
    "cinq_pm <- rowMeans(loading[,c(18,42,66,90,114,138,162)])\n",
    "six_pm <- rowMeans(loading[,c(19,43,67,91,115,139,163)])\n",
    "sept_pm <- rowMeans(loading[,c(20,44,68,92,116,140,164)])\n",
    "huit_pm <- rowMeans(loading[,c(21,45,69,93,117,141,165)])\n",
    "neuf_pm <- rowMeans(loading[,c(22,46,70,94,118,142,166)])\n",
    "dix_pm <- rowMeans(loading[,c(23,47,71,95,119,143,167)])\n",
    "onze_pm <- rowMeans(loading[,c(24,48,72,96,120,144,168)])\n",
    "data_heures <- data.frame(Minuit = minuit_am, \"une h\" = une_am, \"2h\" = deux_am, \"3h\" = trois_am, \"4h\" = quatre_am, \"5h\" = cinq_am, \"6h\" = six_am, \"7h\" = sept_am, \"8h\" = huit_am, \"9h\" = neuf_am\n",
    "                 , \"10h\" = dix_am, \"11h\" = onze_am, \"12h\" = minuit_pm, \"13h\" = une_pm, \"14h\" = deux_pm, \"15h\" = trois_pm, \"16h\" = quatre_pm, \"17h\" = cinq_pm, \"18h\" = six_pm, \n",
    "                 \"19h\" = sept_pm, \"20h\" = huit_pm, \"21h\" = neuf_pm, \"22h\" = dix_pm, \"23h\" = onze_pm)\n",
    "\n",
    "colnames(data_heures) <- list(\"0h\", \"1h\", \"2h\",\"3h\", \"4h\", \"5h\", \"6h\", \"7h\", \"8h\", \"9h\", \"10h\", \"11h\", \"12h\", \"13h\", \"14h\", \"15h\", \"16h\", \"17h\", \"18h\", \"19h\", \"20h\", \"21h\", \"22h\", \"23h\")\n",
    "data_heures$Station <- velib$names\n",
    "data_heures$Hill <- as.factor(coord$bonus)\n",
    "data_heures$Station <- as.factor(data_heures$Station)\n",
    "head(data_heures)"
   ]
  },
  {
   "cell_type": "code",
   "execution_count": null,
   "id": "00c8ed04-c9b7-4eae-830a-3589e1e9ad5c",
   "metadata": {},
   "outputs": [],
   "source": [
    "# ACP1\n",
    "pca_3 <- PCA(data_heures, scale.unit = TRUE,\n",
    "           graph = FALSE, quali.sup = c(25,26))\n"
   ]
  },
  {
   "cell_type": "code",
   "execution_count": null,
   "id": "c64a377e-03cb-41f0-b68f-161f9f8148b1",
   "metadata": {},
   "outputs": [],
   "source": [
    "plot(cumsum(pca_3$eig[,2]), type = \"l\")\n",
    "n_components <- which(cumsum(pca_3$eig[,2]) >= 90)[1]\n",
    "cat(\"On garde\", n_components, \"composants pour l'ACP\\n\")"
   ]
  },
  {
   "cell_type": "code",
   "execution_count": null,
   "id": "1e8c6749-eccd-469a-b7e5-003d558b61b4",
   "metadata": {},
   "outputs": [],
   "source": [
    "pca_3 <- PCA(data_heures, scale.unit = TRUE,\n",
    "           graph = FALSE, quali.sup=c(25,26), ncp = 3)\n",
    "data_heures_pca=pca_3$ind$coord\n",
    "print(pca_3$eig[1:3, 2])\n",
    "cat('--- PCA ---\\n')\n",
    "cat('Dimension initiale :', dim(data_heures), '\\n')\n",
    "cat('Dimension après projection :', c(nrow(data_jours), 3), '\\n\\n')\n",
    "\n",
    "cat('--- Variance expliquée ---\\n')\n",
    "cat('Composante 1 :', round(pca_3$eig[1, 1], 2), 'i.e.', round(pca_3$eig[1, 2], 2), '% de la variance totale\\n')\n",
    "cat('Composante 2 :', round(pca_3$eig[2, 1], 2), 'i.e.', round(pca_3$eig[2, 2], 2), '% de la variance totale\\n')\n",
    "cat('Composante 3 :', round(pca_3$eig[3, 1], 2), 'i.e.', round(pca_3$eig[3, 2], 2), '% de la variance totale\\n')"
   ]
  },
  {
   "cell_type": "code",
   "execution_count": null,
   "id": "d31e8114-432c-4bb2-bbaf-a34f04edf6be",
   "metadata": {},
   "outputs": [],
   "source": [
    "g3<-fviz_eig(pca_3, addlabels = TRUE, ylim = c(0, 60), xlim = c(1,3)) +\n",
    "      ggtitle(\"Proportion de Variance Expliquée par Chaque Composante Principale\") +\n",
    "      xlab(\"Composantes Principales\") +\n",
    "      ylab(\"Pourcentage de Variance Expliquée\")\n",
    "print(g3)"
   ]
  },
  {
   "cell_type": "code",
   "execution_count": null,
   "id": "92396223-6698-414e-9e07-588739ac001a",
   "metadata": {},
   "outputs": [],
   "source": [
    "box<-ggplot(melt(pca_3$ind$coord),aes(x=Var2,y=value)) + \n",
    "        geom_boxplot()+\n",
    "        xlab(\"\") +\n",
    "        ylab(\"\") +\n",
    "        ggtitle(\"Boxplot des 3 composantes principales\")\n",
    "print(box)"
   ]
  },
  {
   "cell_type": "code",
   "execution_count": null,
   "id": "78f22a56-2586-455f-95c6-fed75b7888b1",
   "metadata": {},
   "outputs": [],
   "source": [
    "g4 <- fviz_pca_var(pca_3, axes = c(1, 2)) +\n",
    "      ggtitle(\"Graphe des variables\") +\n",
    "      xlab(\"PC1\") +\n",
    "      ylab(\"PC2\")\n",
    "\n",
    "print(g4)"
   ]
  },
  {
   "cell_type": "code",
   "execution_count": null,
   "id": "0b4adc7d-c72c-4f67-8c5d-b3d8b16eb591",
   "metadata": {},
   "outputs": [],
   "source": [
    "g5 <- fviz_pca_var(pca_3, axes = c(1, 3)) +\n",
    "      ggtitle(\"Graphe des variables\") +\n",
    "      xlab(\"PC1\") +\n",
    "      ylab(\"PC2\")\n",
    "\n",
    "print(g5)"
   ]
  },
  {
   "cell_type": "markdown",
   "id": "a2684ad6-30e5-4385-8c6a-c8db2244e170",
   "metadata": {},
   "source": [
    "#### 5.1.1. Méthode de clustering avec k-means"
   ]
  },
  {
   "cell_type": "code",
   "execution_count": null,
   "id": "3769d74e-62e9-49ce-a6d6-2fb05c0b69bd",
   "metadata": {},
   "outputs": [],
   "source": [
    "options(repr.plot.width = 9, repr.plot.height = 6)\n",
    "fviz_nbclust(data_heures[,-c(25,26)], FUNcluster=stats::kmeans, method=\"wss\") +\n",
    "    ggtitle(\"Within sum of square (WSS) according to the number of clusters\")\n",
    "\n",
    "fviz_nbclust(data_heures[,-c(25,26)], FUNcluster=stats::kmeans, method=\"silhouette\") +\n",
    "    ggtitle(\"Silhouette score according to the number of clusters\")"
   ]
  },
  {
   "cell_type": "code",
   "execution_count": null,
   "id": "f90503cb-5523-44a7-8365-2e9483af3c88",
   "metadata": {},
   "outputs": [],
   "source": [
    "options(repr.plot.width = 15, repr.plot.height = 10)\n",
    "for (centers in 2:5) {\n",
    "  kmeans_heures <- kmeans(data_heures[,-c(25,26)], centers=centers)\n",
    "  sil <- silhouette(kmeans_heures$cluster, dist(data_heures[,-c(25,26)]))\n",
    "  visualizer <- fviz_silhouette(sil, ylim = c(-0.2, 0.6), main = paste(\"centers =\", centers))\n",
    "  print(visualizer)\n",
    "}"
   ]
  },
  {
   "cell_type": "code",
   "execution_count": null,
   "id": "a3ac525c-9f84-4b28-a090-29a7a38bf028",
   "metadata": {},
   "outputs": [],
   "source": [
    "K=4\n",
    "kmeans_heures = kmeans(loading,centers=4)\n",
    "clusters_heures <- kmeans_heures$cluster"
   ]
  },
  {
   "cell_type": "code",
   "execution_count": null,
   "id": "ad48d1f1-ffe8-4df6-a747-755e95e002a1",
   "metadata": {},
   "outputs": [],
   "source": [
    "cluster_counts_heures <- table(clusters_heures)\n",
    "barplot(cluster_counts_heures, \n",
    "        main = \"Nombre d'individus par cluster\", \n",
    "        xlab = \"Cluster\", \n",
    "        ylab = \"Nombre d'individus\")"
   ]
  },
  {
   "cell_type": "code",
   "execution_count": null,
   "id": "12db946e-ea56-4500-8332-ebcc1e6df1fc",
   "metadata": {},
   "outputs": [],
   "source": [
    "mean_loadings5 <- aggregate(loading[, -c(169)], by = list(cluster = clusters_heures), FUN = mean)\n",
    "mean_loadings5\n",
    "mean_loadings_melted5 <- melt(mean_loadings5, id.vars = \"cluster\")\n",
    "\n",
    "ggplot(mean_loadings_melted5, aes(x = variable, y = value, color = factor(cluster), group = cluster)) +\n",
    "  geom_line() +\n",
    "  labs(title = \"Chargement moyen des stations par cluster\", x = \"Temps en heures\", y = \"Chargement\") +\n",
    "  scale_color_discrete(name = \"Cluster\")"
   ]
  },
  {
   "cell_type": "code",
   "execution_count": null,
   "id": "783c6897-2729-48d1-b470-52c3c1a17fb6",
   "metadata": {},
   "outputs": [],
   "source": [
    "tbl5 = table(coord$bonus,clusters_heures)\n",
    "print(tbl5)\n",
    "mosaicplot(tbl5,color=c(1:4), main = \"Stations en altitude en fonction du clusters\")"
   ]
  },
  {
   "cell_type": "markdown",
   "id": "1bff09a1-bcab-4b79-9e25-30ccf851520c",
   "metadata": {},
   "source": [
    "Etude sur data_heures_pca"
   ]
  },
  {
   "cell_type": "code",
   "execution_count": null,
   "id": "ef90d6b5-f0b9-43e8-9678-9e7ef34f0b40",
   "metadata": {},
   "outputs": [],
   "source": [
    "options(repr.plot.width = 9, repr.plot.height = 6)\n",
    "fviz_nbclust(data_heures_pca, FUNcluster=stats::kmeans, method=\"wss\") +\n",
    "    ggtitle(\"Within sum of square (WSS) according to the number of clusters\")\n",
    "\n",
    "fviz_nbclust(data_heures_pca, FUNcluster=stats::kmeans, method=\"silhouette\") +\n",
    "    ggtitle(\"Silhouette score according to the number of clusters\")"
   ]
  },
  {
   "cell_type": "code",
   "execution_count": null,
   "id": "ebd7ca12-3943-44b9-851b-232f24925c93",
   "metadata": {},
   "outputs": [],
   "source": [
    "options(repr.plot.width = 15, repr.plot.height = 10)\n",
    "for (centers in 2:5) {\n",
    "  kmeans_PCA_heures <- kmeans(data_heures_pca, centers=centers)\n",
    "  sil <- silhouette(kmeans_PCA_heures$cluster, dist(data_heures_pca))\n",
    "  visualizer <- fviz_silhouette(sil, ylim = c(-0.2, 0.6), main = paste(\"centers =\", centers))\n",
    "  print(visualizer)\n",
    "}"
   ]
  },
  {
   "cell_type": "code",
   "execution_count": null,
   "id": "d9f02024-89ca-4e0a-a82c-f6b639b25ea3",
   "metadata": {},
   "outputs": [],
   "source": [
    "K=4\n",
    "kmeans_PCA_heures = kmeans(data_heures_pca,centers=4)\n",
    "clusters_heures_pca <- kmeans_PCA_heures$cluster"
   ]
  },
  {
   "cell_type": "code",
   "execution_count": null,
   "id": "0d1862bd-be48-417d-a7df-766d826e5b8d",
   "metadata": {},
   "outputs": [],
   "source": [
    "cluster_counts_heures <- table(clusters_heures_pca)\n",
    "barplot(cluster_counts_heures, \n",
    "        main = \"Nombre d'individus par cluster\", \n",
    "        xlab = \"Cluster\", \n",
    "        ylab = \"Nombre d'individus\")"
   ]
  },
  {
   "cell_type": "code",
   "execution_count": null,
   "id": "cf0fb3cf-a3bf-4228-a9b3-88f05c74a742",
   "metadata": {},
   "outputs": [],
   "source": [
    "fviz_cluster(kmeans_PCA_heures, data=data_heures[,-c(25,26)], ellipse.type=\"norm\", labelsize=8, geom=c(\"point\"))"
   ]
  },
  {
   "cell_type": "code",
   "execution_count": null,
   "id": "21390eae-fea5-4edf-87f4-bf4ced587b15",
   "metadata": {},
   "outputs": [],
   "source": [
    "tbl5_2 = table(coord$bonus,clusters_heures_pca)\n",
    "print(tbl5_2)\n",
    "mosaicplot(tbl5_2,color=c(1:4), main = \"Stations en altitude en fonction du clusters\")"
   ]
  },
  {
   "cell_type": "code",
   "execution_count": null,
   "id": "c91da87b-1f73-4231-8946-7e2005ada2d0",
   "metadata": {},
   "outputs": [],
   "source": [
    "mean_loadings6 <- aggregate(loading[, -c(169)], by = list(cluster = clusters_heures_pca), FUN = mean)\n",
    "mean_loadings6\n",
    "mean_loadings_melted6 <- melt(mean_loadings6, id.vars = \"cluster\")\n",
    "\n",
    "ggplot(mean_loadings_melted6, aes(x = variable, y = value, color = factor(cluster), group = cluster)) +\n",
    "  geom_line() +\n",
    "  labs(title = \"Chargement moyen des stations par cluster\", x = \"Temps en heures\", y = \"Chargement\") +\n",
    "  scale_color_discrete(name = \"Cluster\")"
   ]
  },
  {
   "cell_type": "code",
   "execution_count": null,
   "id": "1ab136b3-4fb9-4ae0-84ae-b61b0b55a48f",
   "metadata": {},
   "outputs": [],
   "source": [
    "result <- matchClasses(clusters_heures, clusters_heures_pca)\n",
    "res_pca_sorted <- result$clusters"
   ]
  },
  {
   "cell_type": "code",
   "execution_count": null,
   "id": "a1f5c621-075c-453c-b586-ea91b9424673",
   "metadata": {},
   "outputs": [],
   "source": [
    "cluster_palette <- colorFactor(c(\"#E41A1C\",\"#4DAF4A\",\"#377EB8\"), domain = unique(clusters_heures))  # Utiliser la palette viridis avec 10 couleurs\n",
    "\n",
    "leaflet(velib$position) %>% \n",
    "  addTiles(urlTemplate = \"https://{s}.basemaps.cartocdn.com/light_all/{z}/{x}/{y}{r}.png\", \n",
    "           attribution = 'Map tiles by Carto, under CC BY 3.0. Data by OpenStreetMap, under ODbL.') %>% \n",
    "  addCircleMarkers(radius = 3,\n",
    "                   color = ~cluster_palette(clusters_heures),\n",
    "                   stroke = FALSE, \n",
    "                   fillOpacity = 0.9) %>%\n",
    "addLegend(position = \"bottomright\", \n",
    "            pal = cluster_palette, \n",
    "            values = ~clusters_heures,\n",
    "            title = \"Cluster\",\n",
    "            opacity = 1)\n",
    "\n",
    "cluster_palette <- colorFactor(c(\"#E41A1C\",\"#4DAF4A\",\"#377EB8\"), domain = unique(res_pca_sorted))  # Utiliser la palette viridis avec 10 couleurs\n",
    "\n",
    "leaflet(velib$position) %>% \n",
    "  addTiles(urlTemplate = \"https://{s}.basemaps.cartocdn.com/light_all/{z}/{x}/{y}{r}.png\", \n",
    "           attribution = 'Map tiles by Carto, under CC BY 3.0. Data by OpenStreetMap, under ODbL.') %>% \n",
    "  addCircleMarkers(radius = 3,\n",
    "                   color = ~cluster_palette(res_pca_sorted),\n",
    "                   stroke = FALSE, \n",
    "                   fillOpacity = 0.9) %>%\n",
    "addLegend(position = \"bottomright\", \n",
    "            pal = cluster_palette, \n",
    "            values = ~res_pca_sorted,\n",
    "            title = \"Cluster\",\n",
    "            opacity = 1)\n",
    "\n",
    "\n",
    "# Quels sont les points identiques ?\n",
    "points_diff <- clusters_heures != res_pca_sorted\n",
    "\n",
    "# Calcul du nombre de points différents\n",
    "num_diff_points <- sum(points_diff)\n",
    "\n",
    "# Calcul du pourcentage de réussite\n",
    "pourcentage_reussite <- (1 - num_diff_points / length(clusters)) * 100\n",
    "\n",
    "# Affichage du résultat\n",
    "cat(\"Nombre de points différents :\", num_diff_points, \"sur\", length(clusters), \"\\n\")\n",
    "cat(\"Pourcentage de réussite :\", sprintf(\"%.2f\", pourcentage_reussite), \"%\\n\")"
   ]
  },
  {
   "cell_type": "code",
   "execution_count": null,
   "id": "b3ca2a94-fbf4-4022-bae5-e47c419ccadb",
   "metadata": {},
   "outputs": [],
   "source": [
    "conf_matrix <- table(clusters_heures, res_pca_sorted)\n",
    "conf_matrix_df <- as.data.frame(as.table(conf_matrix))\n",
    "\n",
    "ggplot(data=conf_matrix_df, aes(x = res_pca_sorted, y = clusters_heures, fill = Freq)) +\n",
    "    geom_tile() +\n",
    "    geom_text(aes(label=Freq),color=\"black\") +\n",
    "    scale_fill_gradient(low=\"white\", high=\"blue\") +\n",
    "    xlab(\"Sur les données réduites (PCA)\") +\n",
    "    ylab(\"Sur les données complètes\") +\n",
    "    ggtitle(\"Matrice de confusion\") +\n",
    "    theme_minimal()"
   ]
  },
  {
   "cell_type": "code",
   "execution_count": null,
   "id": "142093c9-67e6-47d5-87e8-a3ed321f84d0",
   "metadata": {},
   "outputs": [],
   "source": [
    "print(conf_matrix)"
   ]
  },
  {
   "cell_type": "markdown",
   "id": "afb12356-b332-4ba3-92ef-6a275d01ab27",
   "metadata": {},
   "source": [
    "#### 5.1.2. CAH : Agglomerative Clustering"
   ]
  },
  {
   "cell_type": "code",
   "execution_count": null,
   "id": "ba7a0698-3ee9-4635-8340-8b1b854e5092",
   "metadata": {},
   "outputs": [],
   "source": [
    "options(repr.plot.width = 12, repr.plot.height = 6)\n",
    "grid.arrange(\n",
    "    fviz_nbclust(data_heures_pca, FUNcluster=hcut, method=\"wss\") + ggtitle(\"Score WSS\"),\n",
    "    fviz_nbclust(data_heures_pca, FUNcluster=hcut, method=\"silhouette\") + ggtitle(\"Score Silhouette\"),\n",
    "    ncol=2\n",
    ")"
   ]
  },
  {
   "cell_type": "code",
   "execution_count": null,
   "id": "56955e9c-0849-4e92-86c7-f8a6260306f4",
   "metadata": {},
   "outputs": [],
   "source": [
    "d2 = dist(data_heures_pca, method=\"euclidean\")\n",
    "\n",
    "hclustaverage2 = hclust(d2, method=\"average\")\n",
    "hclustward2 = hclust(d2,method=\"ward.D\")\n",
    "hclustsingle2 = hclust(d2, method=\"single\")\n",
    "hclustcomplete2 = hclust(d2,method=\"complete\")\n",
    "\n",
    "reshclust_average2 = cutree(hclustaverage2, 4)\n",
    "reshclust_ward2 = cutree(hclustward2, 4)\n",
    "reshclust_single2 = cutree(hclustsingle2, 4)\n",
    "reshclust_complete2 = cutree(hclustcomplete2, 4)\n",
    "\n",
    "\n",
    "options(repr.plot.width=10, repr.plot.height=10)\n",
    "\n",
    "fviz_dend(hclustaverage2, k=4, show_labels=FALSE, rect=TRUE, main = \"Dendrogram avec linkage Average\")\n",
    "fviz_dend(hclustward2, k=4, show_labels=FALSE, rect=TRUE, main = \"Dendrogram avec linkage Ward\")\n",
    "fviz_dend(hclustsingle2, k=4, show_labels=FALSE, rect=TRUE, main = \"Dendrogram avec linkage Single\")\n",
    "fviz_dend(hclustcomplete2, k=4, show_labels=FALSE, rect=TRUE, main = \"Dendrogram avec linkage Complete\")"
   ]
  },
  {
   "cell_type": "code",
   "execution_count": null,
   "id": "0fd1b2bd-ccfa-45fa-a063-4965dbc05412",
   "metadata": {},
   "outputs": [],
   "source": [
    "options(repr.plot.width = 9, repr.plot.height = 6)\n",
    "\n",
    "fviz_pca(pca_2, axes=c(1,2), geom = c(\"point\"), col.ind=as.factor(reshclust_ward2))"
   ]
  },
  {
   "cell_type": "code",
   "execution_count": null,
   "id": "a56d0a49-4572-43ab-b0fa-cb5984209706",
   "metadata": {},
   "outputs": [],
   "source": [
    "cluster_palette <- colorFactor(c(\"#E41A1C\",\"#4DAF4A\",\"#377EB8\"), domain = unique(reshclust_ward2))\n",
    "\n",
    "leaflet(velib$position) %>% \n",
    "  addTiles(urlTemplate = \"https://{s}.basemaps.cartocdn.com/light_all/{z}/{x}/{y}{r}.png\", \n",
    "           attribution = 'Map tiles by Carto, under CC BY 3.0. Data by OpenStreetMap, under ODbL.') %>% \n",
    "  addCircleMarkers(radius = 3,\n",
    "                   color = ~cluster_palette(reshclust_ward2),\n",
    "                   stroke = FALSE, \n",
    "                   fillOpacity = 0.9) %>%\n",
    "addLegend(position = \"bottomright\", \n",
    "            pal = cluster_palette, \n",
    "            values = ~reshclust_ward2,\n",
    "            title = \"Cluster\",\n",
    "            opacity = 1)"
   ]
  },
  {
   "cell_type": "code",
   "execution_count": null,
   "id": "8e5706d0-b8a8-4341-a38b-b75245e99a0c",
   "metadata": {},
   "outputs": [],
   "source": [
    "mean_loadings_7 <- aggregate(loading[, -169], by = list(cluster = reshclust_ward2), FUN = mean)\n",
    "mean_loadings_7\n",
    "mean_loadings_melted_7 <- melt(mean_loadings_7, id.vars = \"cluster\")\n",
    "\n",
    "ggplot(mean_loadings_melted_7, aes(x = variable, y = value, color = factor(cluster), group = cluster)) +\n",
    "  geom_line() +\n",
    "  labs(title = \"Chargement moyen des stations par cluster\", x = \"Temps en heures\", y = \"Chargement\") +\n",
    "  scale_color_discrete(name = \"Cluster\")"
   ]
  },
  {
   "cell_type": "code",
   "execution_count": null,
   "id": "784fbdc4-0f66-4bf5-b8fe-f555f789f6b3",
   "metadata": {},
   "outputs": [],
   "source": [
    "tbl7 = table(coord$bonus,reshclust_ward2)\n",
    "print(tbl7)\n",
    "mosaicplot(tbl7,color=c(1:4), main = \"Stations en altitude en fonction du clusters\")"
   ]
  },
  {
   "cell_type": "markdown",
   "id": "ec63ca4e-b4ea-4f2f-bf29-d46f3175e825",
   "metadata": {},
   "source": [
    "#### 5.1.3. Gaussian Mixture Models"
   ]
  },
  {
   "cell_type": "code",
   "execution_count": null,
   "id": "efae1ed8-be3a-4802-8639-0c50689a76bf",
   "metadata": {},
   "outputs": [],
   "source": [
    "resBICall2 = mclustBIC(data_heures_pca, G=1:10)\n",
    "summary(resBICall2)\n",
    "\n",
    "resBICall2 = Mclust(data_heures_pca, G=1:10)\n",
    "summary(resBICall2)\n",
    "\n",
    "fviz_mclust(resBICall2, what=\"BIC\")"
   ]
  },
  {
   "cell_type": "code",
   "execution_count": null,
   "id": "c90b5073-4444-41c1-b030-d8ca31d22732",
   "metadata": {},
   "outputs": [],
   "source": [
    "options(repr.plot.width = 10, repr.plot.height = 6)\n",
    "gmm = Mclust(data_heures_pca, G=4, modelNames = \"VEE\")\n",
    "clusters_gmm_heures=gmm$classification\n",
    "fviz_cluster(gmm, data=df1[,-c(25,26)], ellipse.type=\"norm\", geom=\"point\")\n",
    "\n",
    "# --- #\n",
    "\n",
    "aux = data.frame(\n",
    "    label = paste(\"Cluster\", clusters_gmm_heures, sep=\"\"), \n",
    "    proba = apply(gmm$z, 1, max))\n",
    "\n",
    "ggplot(aux, aes(x=label, y=proba)) + \n",
    "    geom_boxplot(colour=1:4, fill=1:4, alpha=.4)"
   ]
  },
  {
   "cell_type": "code",
   "execution_count": null,
   "id": "320fa6f8-6537-413e-8c8a-9b740d445f6f",
   "metadata": {},
   "outputs": [],
   "source": [
    "options(repr.plot.width = 20, repr.plot.height = 10)\n",
    "\n",
    "fviz_pca(pca_2, axes=c(1,2), geom = c(\"point\"), col.ind=as.factor(clusters_gmm_heures))"
   ]
  },
  {
   "cell_type": "code",
   "execution_count": null,
   "id": "3d3bddfe-3bd8-48a3-b12d-2a87038fb3d8",
   "metadata": {},
   "outputs": [],
   "source": [
    "mean_loadings_gmm5_1 <- aggregate(loading[, -169], by = list(cluster = clusters_gmm_heures), FUN = mean)\n",
    "mean_loadings_gmm5_1\n",
    "mean_loadings_melted_gmm5_1 <- melt(mean_loadings_gmm5_1, id.vars = \"cluster\")\n",
    "\n",
    "ggplot(mean_loadings_melted_gmm5_1, aes(x = variable, y = value, color = factor(cluster), group = cluster)) +\n",
    "  geom_line() +\n",
    "  labs(title = \"Chargement moyen des stations par cluster\", x = \"Temps en heures\", y = \"Chargement\") +\n",
    "  scale_color_discrete(name = \"Cluster\")"
   ]
  },
  {
   "cell_type": "code",
   "execution_count": null,
   "id": "87ea6d1b-e373-4d74-a62b-938ee59248e0",
   "metadata": {},
   "outputs": [],
   "source": [
    "tbl2_gmm1 = table(coord$bonus,clusters_gmm_heures)\n",
    "print(tbl2_gmm1)\n",
    "mosaicplot(tbl2_gmm1,color=c(1:4), main = \"Stations en altitude en fonction du clusters\")"
   ]
  },
  {
   "cell_type": "markdown",
   "id": "1e1c0666-6b01-4322-8404-c8d7af951735",
   "metadata": {},
   "source": [
    "Résultats GMM très différents en R."
   ]
  },
  {
   "cell_type": "markdown",
   "id": "8a4fe70b-8f8c-4b15-a421-4c9d1e41a306",
   "metadata": {},
   "source": [
    "## 6. MCA sur data_heures"
   ]
  },
  {
   "cell_type": "markdown",
   "id": "19d1d26b-385d-4ec8-ae7e-f4b1219988cb",
   "metadata": {},
   "source": [
    "### 6.1. MCA"
   ]
  },
  {
   "cell_type": "code",
   "execution_count": null,
   "id": "8737a7f7-3591-4b6a-90ae-9a49c7a841ff",
   "metadata": {},
   "outputs": [],
   "source": [
    "minuit_am <- rowMeans(loading[,c(1,25,49,73,97,121,145)])\n",
    "une_am <- rowMeans(loading[,c(2,26,50,74,98,122,146)])\n",
    "deux_am <- rowMeans(loading[,c(3,27,51,75,99,123,147)])\n",
    "trois_am <- rowMeans(loading[,c(4,28,52,76,100,124,148)])\n",
    "quatre_am <- rowMeans(loading[,c(5,29,53,77,101,125,149)])\n",
    "cinq_am <- rowMeans(loading[,c(6,30,54,78,102,126,150)])\n",
    "six_am <- rowMeans(loading[,c(7,31,55,79,103,127,151)])\n",
    "sept_am <- rowMeans(loading[,c(8,32,56,80,104,128,152)])\n",
    "huit_am <- rowMeans(loading[,c(9,33,57,81,105,129,153)])\n",
    "neuf_am <- rowMeans(loading[,c(10,34,58,82,106,130,154)])\n",
    "dix_am <- rowMeans(loading[,c(11,35,59,83,107,131,155)])\n",
    "onze_am <- rowMeans(loading[,c(12,36,60,84,108,132,156)])\n",
    "minuit_pm <- rowMeans(loading[,c(13,37,61,85,109,133,157)])\n",
    "une_pm <- rowMeans(loading[,c(14,38,62,86,110,134,158)])\n",
    "deux_pm <- rowMeans(loading[,c(15,39,63,87,111,135,159)])\n",
    "trois_pm <- rowMeans(loading[,c(16,40,64,88,112,136,160)])\n",
    "quatre_pm <- rowMeans(loading[,c(17,41,65,89,113,137,161)])\n",
    "cinq_pm <- rowMeans(loading[,c(18,42,66,90,114,138,162)])\n",
    "six_pm <- rowMeans(loading[,c(19,43,67,91,115,139,163)])\n",
    "sept_pm <- rowMeans(loading[,c(20,44,68,92,116,140,164)])\n",
    "huit_pm <- rowMeans(loading[,c(21,45,69,93,117,141,165)])\n",
    "neuf_pm <- rowMeans(loading[,c(22,46,70,94,118,142,166)])\n",
    "dix_pm <- rowMeans(loading[,c(23,47,71,95,119,143,167)])\n",
    "onze_pm <- rowMeans(loading[,c(24,48,72,96,120,144,168)])\n",
    "loading_quali_heures <- data.frame(Minuit = minuit_am, \"une h\" = une_am, \"2h\" = deux_am, \"3h\" = trois_am, \"4h\" = quatre_am, \"5h\" = cinq_am, \"6h\" = six_am, \"7h\" = sept_am, \"8h\" = huit_am, \"9h\" = neuf_am\n",
    "                 , \"10h\" = dix_am, \"11h\" = onze_am, \"12h\" = minuit_pm, \"13h\" = une_pm, \"14h\" = deux_pm, \"15h\" = trois_pm, \"16h\" = quatre_pm, \"17h\" = cinq_pm, \"18h\" = six_pm, \n",
    "                \"19h\" = sept_pm, \"20h\" = huit_pm, \"21h\" = neuf_pm, \"22h\" = dix_pm, \"23h\" = onze_pm)\n",
    "\n",
    "colnames(loading_quali_heures) <- list(\"0h\", \"1h\", \"2h\",\"3h\", \"4h\", \"5h\", \"6h\", \"7h\", \"8h\", \"9h\", \"10h\", \"11h\", \"12h\", \"13h\", \"14h\", \"15h\", \"16h\", \"17h\", \"18h\", \"19h\", \"20h\", \"21h\", \"22h\", \"23h\")\n",
    "remplacer_valeurs <- function(valeur) {\n",
    "  ifelse(valeur >= 0 & valeur <= 0.2, \"-\", \n",
    "         ifelse(valeur > 0.2 & valeur <= 0.6, \"=\", \"+\"))\n",
    "}\n",
    "loading_quali_heures <- as.data.frame(sapply(loading_quali_heures, remplacer_valeurs))\n",
    "loading_quali_heures$Station <- velib$names\n",
    "loading_quali_heures$Hill <- as.factor(coord$bonus)\n",
    "loading_quali_heures$Station <- as.factor(loading_quali_heures$Station)\n",
    "loading_quali_heures[] <- lapply(loading_quali_heures, as.factor)\n",
    "head(loading_quali_heures)"
   ]
  },
  {
   "cell_type": "code",
   "execution_count": null,
   "id": "1882203a-d4b7-4c25-bb90-e84f012700d2",
   "metadata": {},
   "outputs": [],
   "source": [
    "mca3 = MCA(loading_quali_heures[c(1:24,26)],graph=FALSE)\n",
    "loading_heures_mca=mca3$ind$coord\n",
    "head(loading_heures_mca)\n",
    "#fviz_screeplot(res.mca1, addlabels=TRUE)\n",
    "#fviz_screeplot(res.mca1, addlabels=TRUE, ncp=7)\n",
    "#fviz_mca_biplot(res.mca1)\n",
    "#fviz_mca_biplot(res.mca1, axes=c(1,3))"
   ]
  },
  {
   "cell_type": "code",
   "execution_count": null,
   "id": "7ec3a628-9343-402c-9a3a-373c56117819",
   "metadata": {},
   "outputs": [],
   "source": [
    "print(mca3$eig[1:20,])"
   ]
  },
  {
   "cell_type": "code",
   "execution_count": null,
   "id": "75523bd8-2d69-48af-a959-e4a377c8c0c3",
   "metadata": {},
   "outputs": [],
   "source": [
    "plot(mca3$eig[1:20,1], type = \"l\",xlab = \"Dimensions\", ylab = \"Valeurs propres\", main = \"MCA\")\n"
   ]
  },
  {
   "cell_type": "code",
   "execution_count": null,
   "id": "9cd56c5c-60f9-4a2f-8ad1-45787af5fd68",
   "metadata": {},
   "outputs": [],
   "source": [
    "mca3 = MCA(loading_quali_heures[c(1:24,26)],graph=FALSE,ncp=7)\n",
    "loading_heures_mca=mca3$ind$coord"
   ]
  },
  {
   "cell_type": "code",
   "execution_count": null,
   "id": "3bad82f9-d36e-4d07-be37-eed54b603c75",
   "metadata": {},
   "outputs": [],
   "source": []
  },
  {
   "cell_type": "code",
   "execution_count": null,
   "id": "a41cbf4a-0e4c-4405-9fe0-520eba0bcac5",
   "metadata": {},
   "outputs": [],
   "source": [
    "fviz_mca_var(mca3, col.var = \"contrib\",\n",
    "             gradient.cols = c(\"blue\", \"yellow\", \"red\"), axes=c(1,2),\n",
    "             repel = TRUE)\n",
    "fviz_mca_var(mca3, col.var = \"contrib\",\n",
    "             gradient.cols = c(\"blue\", \"yellow\", \"red\"), axes=c(1,3),\n",
    "             repel = TRUE)"
   ]
  },
  {
   "cell_type": "code",
   "execution_count": null,
   "id": "846583e6-3db7-4185-893e-eee84f94f017",
   "metadata": {},
   "outputs": [],
   "source": [
    "fviz_contrib(mca3, choice=\"var\", axes=1, top=20)\n",
    "\n",
    "fviz_contrib(mca3, choice=\"var\", axes=2, top=20)\n",
    "\n",
    "fviz_contrib(mca3, choice=\"var\", axes=3, top=20)"
   ]
  },
  {
   "cell_type": "markdown",
   "id": "4ebec8fc-902f-4bea-a39c-b2ab219751b8",
   "metadata": {},
   "source": [
    "### 6.2. Méthode de clustering K-means"
   ]
  },
  {
   "cell_type": "code",
   "execution_count": null,
   "id": "b6b47d80-d7c7-49c3-aa34-3dd85968fa44",
   "metadata": {},
   "outputs": [],
   "source": [
    "options(repr.plot.width = 9, repr.plot.height = 6)\n",
    "fviz_nbclust(loading_heures_mca, FUNcluster=stats::kmeans, method=\"wss\") +\n",
    "    ggtitle(\"Within sum of square (WSS) according to the number of clusters\")\n",
    "\n",
    "fviz_nbclust(loading_heures_mca, FUNcluster=stats::kmeans, method=\"silhouette\") +\n",
    "    ggtitle(\"Silhouette score according to the number of clusters\")"
   ]
  },
  {
   "cell_type": "code",
   "execution_count": null,
   "id": "efdda6a5-a7db-4018-920c-95ead929a3c2",
   "metadata": {},
   "outputs": [],
   "source": [
    "options(repr.plot.width = 15, repr.plot.height = 10)\n",
    "for (centers in 2:5) {\n",
    "  kmeans_mca3 <- kmeans(loading_heures_mca, centers=centers)\n",
    "  sil <- silhouette(kmeans_mca3$cluster, dist(loading_heures_mca))\n",
    "  visualizer <- fviz_silhouette(sil, ylim = c(-0.2, 0.6), main = paste(\"centers =\", centers))\n",
    "  print(visualizer)\n",
    "}"
   ]
  },
  {
   "cell_type": "code",
   "execution_count": null,
   "id": "e5fbd8b9-2083-4ed6-a1bd-d9412d9a59c1",
   "metadata": {},
   "outputs": [],
   "source": [
    "kmeans_mca3=kmeans(loading_heures_mca,centers=4)\n",
    "clusters_mca3=kmeans_mca3$cluster\n",
    "mean_loadings_mca3 <- aggregate(loading[, -c(169)], by = list(cluster = clusters_mca3), FUN = mean)\n",
    "mean_loadings_mca3\n",
    "mean_loadings_melted_mca3 <- melt(mean_loadings_mca3, id.vars = \"cluster\")\n",
    "\n",
    "ggplot(mean_loadings_melted_mca3, aes(x = variable, y = value, color = factor(cluster), group = cluster)) +\n",
    "  geom_line() +\n",
    "  labs(title = \"Chargement moyen des stations par cluster\", x = \"Temps en heures\", y = \"Chargement\") +\n",
    "  scale_color_discrete(name = \"Cluster\")"
   ]
  },
  {
   "cell_type": "code",
   "execution_count": null,
   "id": "cb48a70a-e7c0-40fa-a46c-75bde0c94f33",
   "metadata": {
    "scrolled": true
   },
   "outputs": [],
   "source": [
    "cluster_palette <- colorFactor(c(\"#E41A1C\",\"#4DAF4A\",\"#377EB8\"), domain = unique(clusters_mca3))  # Utiliser la palette viridis avec 10 couleurs\n",
    "\n",
    "leaflet(velib$position) %>% \n",
    "  addTiles(urlTemplate = \"https://{s}.basemaps.cartocdn.com/light_all/{z}/{x}/{y}{r}.png\", \n",
    "           attribution = 'Map tiles by Carto, under CC BY 3.0. Data by OpenStreetMap, under ODbL.') %>% \n",
    "  addCircleMarkers(radius = 3,\n",
    "                   color = ~cluster_palette(clusters_mca3),\n",
    "                   stroke = FALSE, \n",
    "                   fillOpacity = 0.9) %>%\n",
    "addLegend(position = \"bottomright\", \n",
    "            pal = cluster_palette, \n",
    "            values = ~clusters_mca3,\n",
    "            title = \"Cluster\",\n",
    "            opacity = 1)"
   ]
  },
  {
   "cell_type": "markdown",
   "id": "6b32f9f1-1e9d-4a65-acd0-1f43b4d40803",
   "metadata": {},
   "source": [
    "### 6.3. GMM"
   ]
  },
  {
   "cell_type": "code",
   "execution_count": null,
   "id": "4cd67586-adc1-48d0-9771-eec5a9e84ac9",
   "metadata": {},
   "outputs": [],
   "source": [
    "resBICall = mclustBIC(loading_heures_mca, G=1:10)\n",
    "summary(resBICall)\n",
    "\n",
    "# --- #\n",
    "\n",
    "resBICall = Mclust(loading_heures_mca, G=1:10)\n",
    "summary(resBICall)\n",
    "\n",
    "\n",
    "fviz_mclust(resBICall, what=\"BIC\")"
   ]
  },
  {
   "cell_type": "code",
   "execution_count": null,
   "id": "f50c1c25-5ca3-4df3-a851-4ac6fa135463",
   "metadata": {},
   "outputs": [],
   "source": [
    "options(repr.plot.width = 10, repr.plot.height = 6)\n",
    "gmm = Mclust(loading_heures_mca, G=4, modelNames = \"EEV\")\n",
    "clusters_gmm_heures_mca=gmm$classification\n",
    "fviz_cluster(gmm, data=loading_heures_mca, ellipse.type=\"norm\", geom=\"point\")\n",
    "\n",
    "aux = data.frame(\n",
    "    label = paste(\"Cluster\", clusters_gmm_heures_mca, sep=\"\"), \n",
    "    proba = apply(gmm$z, 1, max))\n",
    "\n",
    "ggplot(aux, aes(x=label, y=proba)) + \n",
    "    geom_boxplot(colour=1:4, fill=1:4, alpha=.4)"
   ]
  },
  {
   "cell_type": "code",
   "execution_count": null,
   "id": "a01378d5-fc72-4e7b-82e9-e6ead1053570",
   "metadata": {},
   "outputs": [],
   "source": [
    "mean_loadings_mca3 <- aggregate(loading[, -c(169)], by = list(cluster = clusters_gmm_heures_mca), FUN = mean)\n",
    "mean_loadings_mca3\n",
    "mean_loadings_melted_mca3 <- melt(mean_loadings_mca3, id.vars = \"cluster\")\n",
    "\n",
    "ggplot(mean_loadings_melted_mca3, aes(x = variable, y = value, color = factor(cluster), group = cluster)) +\n",
    "  geom_line() +\n",
    "  labs(title = \"Chargement moyen des stations par cluster\", x = \"Temps en heures\", y = \"Chargement\") +\n",
    "  scale_color_discrete(name = \"Cluster\")"
   ]
  },
  {
   "cell_type": "code",
   "execution_count": null,
   "id": "5f2f965a-8c1d-4de5-bc01-53293974f85c",
   "metadata": {},
   "outputs": [],
   "source": [
    "cluster_palette <- colorFactor(c(\"#E41A1C\",\"#4DAF4A\",\"#377EB8\"), domain = unique(clusters_gmm_heures_mca))  # Utiliser la palette viridis avec 10 couleurs\n",
    "\n",
    "leaflet(velib$position) %>% \n",
    "  addTiles(urlTemplate = \"https://{s}.basemaps.cartocdn.com/light_all/{z}/{x}/{y}{r}.png\", \n",
    "           attribution = 'Map tiles by Carto, under CC BY 3.0. Data by OpenStreetMap, under ODbL.') %>% \n",
    "  addCircleMarkers(radius = 3,\n",
    "                   color = ~cluster_palette(clusters_gmm_heures_mca),\n",
    "                   stroke = FALSE, \n",
    "                   fillOpacity = 0.9) %>%\n",
    "addLegend(position = \"bottomright\", \n",
    "            pal = cluster_palette, \n",
    "            values = ~clusters_gmm_heures_mca,\n",
    "            title = \"Cluster\",\n",
    "            opacity = 1)"
   ]
  },
  {
   "cell_type": "code",
   "execution_count": null,
   "id": "3b848fe0-b62d-4076-b9b2-fd5bf9047364",
   "metadata": {},
   "outputs": [],
   "source": [
    "def_pred_station <- function(coord1, coord2) {\n",
    "    min <- 1000\n",
    "    r <- 1\n",
    "    for (i in 1:nrow(coord)) {\n",
    "        resultat <- sqrt((coord1 - coord[i,1])^2 + (coord2 - coord[i,2])^2)\n",
    "        if (resultat < min) {\n",
    "            min <- resultat\n",
    "            r <- i\n",
    "        }\n",
    "    }\n",
    "    result <- reskmeans$cluster[i]\n",
    "    return(result)\n",
    "}"
   ]
  },
  {
   "cell_type": "code",
   "execution_count": null,
   "id": "aacb8371-3593-4e16-bf3f-77f91ce8ba56",
   "metadata": {},
   "outputs": [],
   "source": [
    "def_pred_station(2.35,48.45)"
   ]
  }
 ],
 "metadata": {
  "kernelspec": {
   "display_name": "R",
   "language": "R",
   "name": "ir"
  },
  "language_info": {
   "codemirror_mode": "r",
   "file_extension": ".r",
   "mimetype": "text/x-r-source",
   "name": "R",
   "pygments_lexer": "r",
   "version": "4.3.3"
  }
 },
 "nbformat": 4,
 "nbformat_minor": 5
}
