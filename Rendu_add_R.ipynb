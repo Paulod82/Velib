{
 "cells": [
  {
   "cell_type": "markdown",
   "id": "45bca0a1-d20a-460e-ab00-ea24ff73492c",
   "metadata": {},
   "source": [
    "# PROJET ANALYSE DE DONNEES\n",
    "## Etude des stations de location de vélos dans Paris"
   ]
  },
  {
   "cell_type": "code",
   "execution_count": null,
   "id": "465d20c8-1fb2-49da-829a-54848457b44c",
   "metadata": {},
   "outputs": [],
   "source": [
    "library(ggplot2)\n",
    "library(reshape2)\n",
    "library(gridExtra)\n",
    "library(tidyverse)\n",
    "library(GGally)\n",
    "library(plotly)\n",
    "library(corrplot)\n",
    "library(reshape2)\n",
    "library(FactoMineR) \n",
    "library(factoextra)\n",
    "library(glmnet)\n",
    "library(ggfortify)\n",
    "library(pROC)\n",
    "library(ROCR)\n",
    "library(RColorBrewer)\n",
    "library(viridis)\n",
    "library(leaflet)\n",
    "library(mapview)"
   ]
  },
  {
   "cell_type": "markdown",
   "id": "1a330418-0a73-442e-ab8f-2ae8cf3e8b63",
   "metadata": {},
   "source": [
    "Dans ce notebook, nous allons étudier un jeu de données contenant des informations concernant les taux de disponibilités des vélos dans des stations Vélib parisiennes. Nous avons accés à ce taux pour toutes les heures de chaque jour de la semaine sur la période du 2 septembre au 7 septembre 2014.\n",
    "\n",
    "Le notebook Python comportera l'ensemble des commentaires et des analyses réalisées à l'issue de notre étude. Ce notebook R comportera donc seulement les codes et les outputs."
   ]
  },
  {
   "cell_type": "markdown",
   "id": "467652f0-ca0d-4cf8-aa65-ee2e11d181b8",
   "metadata": {},
   "source": [
    "## 1. Présentation des données"
   ]
  },
  {
   "cell_type": "code",
   "execution_count": null,
   "id": "d9bf85cf-09e6-4660-81bb-266fbf765d37",
   "metadata": {},
   "outputs": [],
   "source": [
    "# on charge les données\n",
    "load('data/velib.RData')\n",
    "summary(velib)"
   ]
  },
  {
   "cell_type": "code",
   "execution_count": null,
   "id": "368e40bf-bd6c-4ea4-a65b-079594bfda78",
   "metadata": {},
   "outputs": [],
   "source": [
    "# on prépare les données\n",
    "loading = as.matrix(velib$data)\n",
    "colnames(loading) = 1:ncol(loading)\n",
    "rownames(loading) = velib$names\n",
    "\n",
    "stations = 1:nrow(loading)\n",
    "coord = velib$position[stations,]\n",
    "coord$bonus = velib$bonus[stations]\n",
    "\n",
    "# on prend exactement 7 jours de données (on enlève les 13 premières heures)\n",
    "dates = 14:181\n",
    "loading = loading[stations, dates]\n",
    "colnames(loading) = 1:length(dates)\n",
    "head(loading)\n",
    "head(coord)"
   ]
  },
  {
   "cell_type": "code",
   "execution_count": null,
   "id": "d80efdd7-a75e-4ddb-a761-8fb012e79c2f",
   "metadata": {},
   "outputs": [],
   "source": [
    "# on regarde s'il y a des données manquantes dans notre jeu de données\n",
    "sum(is.na(loading) == TRUE)\n",
    "sum(is.na(coord) == TRUE)\n",
    "station_counts <- table(velib$names)\n",
    "\n",
    "stations_multiple_occurrences <- station_counts[station_counts > 1]\n",
    "\n",
    "print(stations_multiple_occurrences)\n",
    "anyDuplicated(velib$names)\n",
    "anyDuplicated(velib$position)"
   ]
  },
  {
   "cell_type": "markdown",
   "id": "993a8cec-6561-4aac-a51c-bc24416ea9ab",
   "metadata": {},
   "source": [
    "## 2. Analyse descriptive des données"
   ]
  },
  {
   "cell_type": "code",
   "execution_count": null,
   "id": "4a872770-87ac-44f3-b098-a3782a431165",
   "metadata": {},
   "outputs": [],
   "source": [
    "options(repr.plot.width = 15, repr.plot.height = 6)\n",
    "time_tick = 1 + 24*(0:6)\n",
    "i = sample(1:1189,1)\n",
    "df = melt(loading[i,])\n",
    "df$time_range = 1:ncol(loading)\n",
    "ggplot(df, aes(x=time_range, y=value)) + geom_line(col=\"darkorchid\") +\n",
    "    geom_vline(xintercept=time_tick, col=\"orange\", linetype=\"dashed\") +\n",
    "    labs(title=velib$names[i],x = \"Temps en heures\", y = \"Chargement\")"
   ]
  },
  {
   "cell_type": "code",
   "execution_count": null,
   "id": "9a89826e-ef4e-498e-8c15-d04c14915079",
   "metadata": {},
   "outputs": [],
   "source": [
    "options(repr.plot.width = 15, repr.plot.height = 10)\n",
    "\n",
    "timeTick = 1 + 24*(0:6)\n",
    "\n",
    "stations = sample.int(nrow(loading), 16)\n",
    "\n",
    "df = melt(loading[stations,])\n",
    "\n",
    "p = list()\n",
    "for (i in 1:16){\n",
    "    dfi = df[df$Var1 == velib$names[stations[i]],]\n",
    "    p[[i]] = ggplot(dfi, aes(x=Var2, y=value)) + \n",
    "        geom_line(col=\"darkorchid\") + \n",
    "       geom_vline(xintercept=timeTick, col=\"orange\", linetype=\"dashed\") +\n",
    "       labs(title=velib$names[stations[i]],x = \"Temps en heures\", y = \"Chargement\")\n",
    "}\n",
    "do.call(grid.arrange,p)\n",
    "stations"
   ]
  },
  {
   "cell_type": "code",
   "execution_count": null,
   "id": "9ba984c6-25ef-402b-96e3-004592501732",
   "metadata": {},
   "outputs": [],
   "source": [
    "print('--- Taux de chargement moyen ---')\n",
    "print(mean(loading))\n",
    "# --- #\n",
    "print('')\n",
    "\n",
    "print('--- Taux de chargement moyen de la station la moins remplie ---')\n",
    "i = which.min(rowMeans(loading)) \n",
    "print(rowMeans(loading)[i])\n",
    "\n",
    "# --- #\n",
    "print('')\n",
    "\n",
    "print('--- Taux de chargement moyen de la station la plus remplie ---')\n",
    "i = which.max(rowMeans(loading))\n",
    "print(rowMeans(loading)[i])"
   ]
  },
  {
   "cell_type": "code",
   "execution_count": null,
   "id": "27dbd3e5-141f-4210-ae31-fac48460ff8f",
   "metadata": {},
   "outputs": [],
   "source": [
    "options(repr.plot.width = 18, repr.plot.height = 6)\n",
    "\n",
    "random_indices <- 1:nrow(loading)\n",
    "df <- data.frame(stations = random_indices, mean = rowMeans(loading[random_indices, ]))\n",
    "\n",
    "ggplot(df, aes(x = stations, y = mean)) + \n",
    "  geom_line(color = 'cornflowerblue', linewidth = 1) +\n",
    "  geom_hline(yintercept = mean(loading), color = 'darkorange', linewidth = 2) +\n",
    "  labs(x = \"Stations\", y = \"Average loading\")"
   ]
  },
  {
   "cell_type": "code",
   "execution_count": null,
   "id": "76cf19c0-e6f0-48b8-a255-7f553e987eab",
   "metadata": {},
   "outputs": [],
   "source": [
    "mean_per_hour_per_day = colMeans(loading)\n",
    "mean_per_hour_per_day = matrix(mean_per_hour_per_day, nrow = 24)\n",
    "mean_per_hour         = rowMeans(mean_per_hour_per_day)\n",
    "# --- #\n",
    "\n",
    "mean_per_hour_per_day            = as.data.frame(mean_per_hour_per_day)\n",
    "colnames(mean_per_hour_per_day)  = list(\"Monday\", \"Tuesday\", \"Wednesday\",\"Thursday\", \"Friday\", \"Saturday\", \"Sunday\")\n",
    "mean_per_hour_per_day$time_range = c(1:24)\n",
    "mean_per_hour_per_day            = melt(mean_per_hour_per_day, id='time_range', variable.name='Days')\n",
    "\n",
    "mean_per_hour            = as.data.frame(mean_per_hour)\n",
    "colnames(mean_per_hour)  = list(\"Weekly\")\n",
    "mean_per_hour$time_range = c(1:24)\n",
    "\n",
    "# --- #\n",
    "options(repr.plot.width = 15, repr.plot.height = 10)\n",
    "\n",
    "ggplot() +  \n",
    "        geom_line(data=mean_per_hour_per_day, aes(x=time_range, y=value, color=Days)) + \n",
    "        geom_line(data=mean_per_hour, aes(x = time_range , y=Weekly), linewidth = 1.5) +\n",
    "        labs(title = \"Toutes les stations\",\n",
    "        x = \"Heure de la journée\", \n",
    "        y = \"Chargement moyen\")"
   ]
  },
  {
   "cell_type": "code",
   "execution_count": null,
   "id": "f0177cb3-eb7b-46b9-9b63-3113c8792985",
   "metadata": {},
   "outputs": [],
   "source": [
    "mean_per_hour_per_day = colMeans(loading)\n",
    "mean_per_hour_per_day = matrix(mean_per_hour_per_day, nrow = 7)\n",
    "mean_per_hour         = rowMeans(mean_per_hour_per_day)\n",
    "# --- #\n",
    "\n",
    "mean_per_hour_per_day            = as.data.frame(mean_per_hour_per_day)\n",
    "colnames(mean_per_hour_per_day) <- list(\"0h\", \"1h\", \"2h\",\"3h\", \"4h\", \"5h\", \"6h\", \"7h\", \"8h\", \"9h\", \"10h\", \"11h\", \"12h\", \"13h\", \"14h\", \"15h\", \"16h\", \"17h\", \"18h\", \"19h\", \"20h\", \"21h\", \"22h\", \"23h\")\n",
    "mean_per_hour_per_day$time_range = c(1:7)\n",
    "mean_per_hour_per_day            = melt(mean_per_hour_per_day, id='time_range', variable.name='Heures')\n",
    "\n",
    "mean_per_hour            = as.data.frame(mean_per_hour)\n",
    "colnames(mean_per_hour)  = list(\"Weekly\")\n",
    "mean_per_hour$time_range = c(1:7)\n",
    "\n",
    "# --- #\n",
    "options(repr.plot.width = 15, repr.plot.height = 10)\n",
    "\n",
    "ggplot() +  \n",
    "        geom_line(data=mean_per_hour_per_day, aes(x=time_range, y=value, color=Heures)) + \n",
    "        geom_line(data=mean_per_hour, aes(x = time_range , y=Weekly), linewidth = 1.5) +\n",
    "        labs(title=\"Toutes les stations\",\n",
    "        x = \"Jour\", \n",
    "        y = \"Chargement moyen\")"
   ]
  },
  {
   "cell_type": "code",
   "execution_count": null,
   "id": "c25a1a38-65e5-482f-b52e-2e440b18cc14",
   "metadata": {},
   "outputs": [],
   "source": [
    "install.packages(\"ggmap\")\n",
    "library(ggmap)\n",
    "register_stadiamaps(\"d4f81b8a-655d-418e-841e-c5339e89ba9b\", write = TRUE)\n",
    "library(viridis)"
   ]
  },
  {
   "cell_type": "code",
   "execution_count": null,
   "id": "4f19bca5-02a0-43e1-881e-84519031568f",
   "metadata": {},
   "outputs": [],
   "source": [
    "options(repr.plot.width = 20, repr.plot.height = 10)\n",
    "hour = c(1,5,9,13,17,21,24)\n",
    "\n",
    "dfi = coord\n",
    "p = list()\n",
    "for (i in 1:length(hour)){\n",
    "    h    = hour[i]\n",
    "    hours = seq(h, 168, 24)\n",
    "    load_per_hour = rowMeans(loading[,hours])\n",
    "\n",
    "    df = coord\n",
    "    df$loading = load_per_hour\n",
    "    p[[i]] = qmplot(data=df, longitude, latitude, color=loading) + \n",
    "          geom_point(size = 2) + \n",
    "          scale_color_viridis(name = \"Chargement\", option = \"C\", direction = -1) +\n",
    "          labs(title = paste('Chargement moyen à',(h-1),'h'))\n",
    "}\n",
    "\n",
    "do.call(grid.arrange,c(p, ncol=3))"
   ]
  },
  {
   "cell_type": "code",
   "execution_count": null,
   "id": "25de35e5-afe4-4f6b-ba57-4afc8688a18e",
   "metadata": {},
   "outputs": [],
   "source": [
    "lundi <- rowMeans(loading[,c(1,2,3,4,5,6,7,8,9,10,11,12,13,14,15,16,17,18,19,20,21,22,23,24)])\n",
    "mardi <- rowMeans(loading[,c(25,26,27,28,29,30,31,32,33,34,35,36,37,38,39,40,41,42,43,44,45,46,47,48)])\n",
    "mercredi <- rowMeans(loading[,c(49,50,51,52,53,54,55,56,57,58,59,60,61,62,63,64,65,66,67,68,69,70,71,72)])\n",
    "jeudi <- rowMeans(loading[,c(73,74,75,76,77,78,79,80,81,82,83,84,85,86,87,88,89,90,91,92,93,94,95,96)])\n",
    "vendredi <- rowMeans(loading[,c(97,98,99,100,101,102,103,104,105,106,107,108,109,110,111,112,113,114,115,116,117,118,119,120)])\n",
    "samedi <- rowMeans(loading[,c(121,122,123,124,125,126,127,128,129,130,131,132,133,134,135,136,137,138,139,140,141,142,143,144)])\n",
    "dimanche <- rowMeans(loading[,c(145,146,147,148,149,150,151,152,153,154,155,156,157,158,159,160,161,162,163,164,165,166,167,168)])\n",
    "\n",
    "\n",
    "options(repr.plot.width = 20, repr.plot.height = 15)\n",
    "\n",
    "days  = list(\"Lundi\", \"Mardi\", \"Mercredi\",\"Jeudi\", \"Vendredi\", \"Samedi\", \"Dimanche\")\n",
    "\n",
    "df = coord\n",
    "df$lundi = lundi\n",
    "df$mardi = mardi\n",
    "df$mercredi = mercredi\n",
    "df$jeudi = jeudi\n",
    "df$vendredi = vendredi\n",
    "df$samedi = samedi\n",
    "df$dimanche = dimanche\n",
    "p = list()\n",
    "for (i in 1:7){\n",
    "    load_per_day = df[,3+i]\n",
    "\n",
    "    dfi = coord\n",
    "    dfi$loading = load_per_day\n",
    "    p[[i]] = qmplot(data=dfi, longitude, latitude, color=loading) + \n",
    "          geom_point(size = 2) + \n",
    "          scale_color_viridis(name = \"Chargement\", option = \"C\", direction = -1) +\n",
    "          labs(title = paste('Chargement moyen le',days[i]))\n",
    "}\n",
    "\n",
    "\n",
    "do.call(grid.arrange,c(p, ncol=3))"
   ]
  },
  {
   "cell_type": "markdown",
   "id": "eec508c6-8376-4bcd-8dcf-b134357241cc",
   "metadata": {},
   "source": [
    "## 3. Etude sur le jeu de données complet "
   ]
  },
  {
   "cell_type": "markdown",
   "id": "9c6dca9f-7844-4221-bc43-7de066419430",
   "metadata": {},
   "source": [
    "### 3.1. ACP"
   ]
  },
  {
   "cell_type": "code",
   "execution_count": null,
   "id": "75d2286b-40d7-4625-9dbe-4f00b506d497",
   "metadata": {},
   "outputs": [],
   "source": [
    "### ACP sur jeu de données complet\n",
    "loading <- as.data.frame(loading)\n",
    "loading$Hill <- as.factor(coord$bonus)\n",
    "acp <- PCA(loading, scale.unit = TRUE,\n",
    "           graph = FALSE, quali.sup=169, ncp = 5)\n",
    "g1<-fviz_eig(acp, addlabels = TRUE, ylim = c(0, 40))\n",
    "g2<-ggplot(melt(acp$ind$coord),aes(x=Var2,y=value))+\n",
    "  geom_boxplot()+\n",
    "  xlab(\"\")\n",
    "grid.arrange(g1,g2,ncol=2)"
   ]
  },
  {
   "cell_type": "code",
   "execution_count": null,
   "id": "8cd4f7bb-c2ef-4808-8ecc-b813d8ce57f7",
   "metadata": {},
   "outputs": [],
   "source": [
    "fviz_pca_var(acp, axes = c(1,2))\n",
    "fviz_pca_var(acp,axes=c(1,3))"
   ]
  },
  {
   "cell_type": "markdown",
   "id": "7a5eae71-f9f5-4202-9139-a0a162871e27",
   "metadata": {},
   "source": [
    "#### Clustering"
   ]
  },
  {
   "cell_type": "markdown",
   "id": "9dfbe060-5be0-45a8-8163-a8daeb97080c",
   "metadata": {},
   "source": [
    "#### 3.1.1. Méthode de clustering avec k-means"
   ]
  },
  {
   "cell_type": "code",
   "execution_count": null,
   "id": "72a6db84-5bdf-4cf8-901f-43b9d25a2794",
   "metadata": {},
   "outputs": [],
   "source": [
    "library(cluster)\n",
    "library(RColorBrewer)\n",
    "library(viridis)"
   ]
  },
  {
   "cell_type": "code",
   "execution_count": null,
   "id": "3ae3cebc-e31a-41e2-8848-23fe06ccb389",
   "metadata": {},
   "outputs": [],
   "source": [
    "options(repr.plot.width = 9, repr.plot.height = 6)\n",
    "fviz_nbclust(loading[,-169], FUNcluster=kmeans, method=\"wss\") +\n",
    "    ggtitle(\"Score WSS\")\n",
    "\n",
    "fviz_nbclust(loading[,-169], FUNcluster=kmeans, method=\"silhouette\") +\n",
    "    ggtitle(\"Score Silhouette\")"
   ]
  },
  {
   "cell_type": "code",
   "execution_count": null,
   "id": "3b1134b1-7e52-4f81-a487-3c4d2e30b5a4",
   "metadata": {},
   "outputs": [],
   "source": [
    "options(repr.plot.width = 15, repr.plot.height = 10)\n",
    "for (centers in 2:5) {\n",
    "  reskmeans <- kmeans(loading, centers=centers)\n",
    "  sil <- silhouette(reskmeans$cluster, dist(loading))\n",
    "  p <- fviz_silhouette(sil, ylim = c(-0.2, 0.6), main = paste(\"centers =\", centers))\n",
    "  print(p)\n",
    "}\n",
    "reskmeans = kmeans(loading,centers=4)"
   ]
  },
  {
   "cell_type": "code",
   "execution_count": null,
   "id": "499c5bcf-f1fd-4658-8d1e-83b94f7cbff7",
   "metadata": {},
   "outputs": [],
   "source": [
    "fviz_cluster(reskmeans, data=loading[,-169], ellipse.type=\"norm\", labelsize=8, geom=c(\"point\"))"
   ]
  },
  {
   "cell_type": "code",
   "execution_count": null,
   "id": "61053d14-e4c3-4060-8735-61e06a146b3b",
   "metadata": {},
   "outputs": [],
   "source": [
    "options(repr.plot.width = 9, repr.plot.height = 6)\n",
    "fviz_pca(acp, axes=c(1,2), geom = c(\"point\"), col.ind=as.factor(reskmeans$cluster))"
   ]
  },
  {
   "cell_type": "code",
   "execution_count": null,
   "id": "07975faf-84c1-47d6-ae32-db2ea2d14810",
   "metadata": {},
   "outputs": [],
   "source": [
    "cluster_palette <- colorFactor(c(\"#E41A1C\",\"#4DAF4A\",\"#377EB8\"), domain = unique(reskmeans$cluster))  # Utiliser la palette viridis avec 10 couleurs\n",
    "\n",
    "leaflet(velib$position) %>% \n",
    "  addTiles(urlTemplate = \"https://{s}.basemaps.cartocdn.com/light_all/{z}/{x}/{y}{r}.png\", \n",
    "           attribution = 'Map tiles by Carto, under CC BY 3.0. Data by OpenStreetMap, under ODbL.') %>% \n",
    "  addCircleMarkers(radius = 3,\n",
    "                   color = ~cluster_palette(reskmeans$cluster),\n",
    "                   stroke = FALSE, \n",
    "                   fillOpacity = 0.9) %>%\n",
    "addLegend(position = \"bottomright\", \n",
    "            pal = cluster_palette, \n",
    "            values = ~reskmeans$cluster,\n",
    "            title = \"Cluster\",\n",
    "            opacity = 1)"
   ]
  },
  {
   "cell_type": "code",
   "execution_count": null,
   "id": "e3a10b16-ac82-41a8-879d-6dbef263183e",
   "metadata": {},
   "outputs": [],
   "source": [
    "mean_loadings <- aggregate(loading[, -169], by = list(cluster = reskmeans$cluster), FUN = mean)\n",
    "mean_loadings\n",
    "mean_loadings_melted <- melt(mean_loadings, id.vars = \"cluster\")\n",
    "\n",
    "ggplot(mean_loadings_melted, aes(x = variable, y = value, color = factor(cluster), group = cluster)) +\n",
    "  geom_line() +\n",
    "  labs(title = \"Chargement moyen des stations par cluster\", x = \"Temps en heures\", y = \"Chargement\") +\n",
    "  scale_color_discrete(name = \"Cluster\")"
   ]
  },
  {
   "cell_type": "code",
   "execution_count": null,
   "id": "b9d26b7b-9da5-460f-bb55-8977902f4677",
   "metadata": {},
   "outputs": [],
   "source": [
    "tbl2 = table(coord$bonus,reskmeans$cluster)\n",
    "print(tbl2)\n",
    "mosaicplot(tbl2,color=c(1:4), main = \"Stations en altitude en fonction du clusters\")"
   ]
  },
  {
   "cell_type": "markdown",
   "id": "6087a362-fb0b-4625-a791-27daf29bc922",
   "metadata": {},
   "source": [
    "#### 3.1.2. CAH : Agglomerative Clustering"
   ]
  },
  {
   "cell_type": "code",
   "execution_count": null,
   "id": "168a31f2-f766-4742-bbf5-9cce11ff13eb",
   "metadata": {},
   "outputs": [],
   "source": [
    "d = dist(loading[,-169], method=\"euclidean\")\n",
    "\n",
    "hclustaverage = hclust(d, method=\"average\")\n",
    "hclustward = hclust(d,method=\"ward.D\")\n",
    "hclustsingle = hclust(d, method=\"single\")\n",
    "hclustcomplete = hclust(d,method=\"complete\")\n",
    "\n",
    "\n",
    "options(repr.plot.width=10, repr.plot.height=10)\n",
    "\n",
    "fviz_dend(hclustsingle, show_labels=FALSE, main='Dendrogram - Single linkage')\n",
    "fviz_dend(hclustcomplete, show_labels=FALSE, main='Dendrogram - Complete linkage')\n",
    "fviz_dend(hclustaverage, show_labels=FALSE, main='Dendrogram - Average linkage')\n",
    "fviz_dend(hclustward, show_labels=FALSE, main='Dendrogram - Ward linkage')"
   ]
  },
  {
   "cell_type": "code",
   "execution_count": null,
   "id": "94ba0f0e-aef6-454d-8d5e-3c5fc14b04bb",
   "metadata": {},
   "outputs": [],
   "source": [
    "options(repr.plot.width = 12, repr.plot.height = 6)\n",
    "loading_dupli <- loading[!duplicated(rownames(loading)), ]\n",
    "grid.arrange(\n",
    "    fviz_nbclust(loading_dupli[,-169], FUNcluster=hcut, method=\"wss\") + ggtitle(\"Score WSS\"),\n",
    "    fviz_nbclust(loading_dupli[,-169], FUNcluster=hcut, method=\"silhouette\") + ggtitle(\"Score Silhouette\"),\n",
    "    ncol=2\n",
    ")"
   ]
  },
  {
   "cell_type": "code",
   "execution_count": null,
   "id": "07649936-204d-4abc-9e60-62c0b4770b84",
   "metadata": {},
   "outputs": [],
   "source": [
    "reshclust_average = cutree(hclustaverage, 4)\n",
    "reshclust_ward = cutree(hclustward, 4)\n",
    "reshclust_complete = cutree(hclustcomplete, 4)\n",
    "reshclust_single = cutree(hclustsingle, 4)\n",
    "\n",
    "fviz_dend(hclustaverage, k=4, show_labels=FALSE, rect=TRUE, main = \"Dendrogram average linkage\")\n",
    "fviz_dend(hclustward, k=4, show_labels=FALSE, rect=TRUE, main = \"Dendrogram ward linkage\")\n",
    "fviz_dend(hclustsingle, k=4, show_labels=FALSE, rect=TRUE, main = \"Dendrogram single linkage\")\n",
    "fviz_dend(hclustcomplete, k=4, show_labels=FALSE, rect=TRUE, main = \"Dendrogram complete linkage\")"
   ]
  },
  {
   "cell_type": "code",
   "execution_count": null,
   "id": "dac40e53-1e35-4e43-b69a-676ba076d8b8",
   "metadata": {},
   "outputs": [],
   "source": [
    "options(repr.plot.width = 9, repr.plot.height = 6)\n",
    "\n",
    "fviz_pca(acp, axes=c(1,2), geom = c(\"point\"), col.ind=as.factor(reshclust_average))"
   ]
  },
  {
   "cell_type": "code",
   "execution_count": null,
   "id": "9ee42f0e-d1d6-4c3d-bf6b-46ec743c6e9f",
   "metadata": {},
   "outputs": [],
   "source": [
    "cluster_palette <- colorFactor(c(\"#E41A1C\",\"#4DAF4A\",\"#377EB8\"), domain = unique(reshclust_average))\n",
    "\n",
    "leaflet(velib$position) %>% \n",
    "  addTiles(urlTemplate = \"https://{s}.basemaps.cartocdn.com/light_all/{z}/{x}/{y}{r}.png\", \n",
    "           attribution = 'Map tiles by Carto, under CC BY 3.0. Data by OpenStreetMap, under ODbL.') %>% \n",
    "  addCircleMarkers(radius = 3,\n",
    "                   color = ~cluster_palette(reshclust_average),\n",
    "                   stroke = FALSE, \n",
    "                   fillOpacity = 0.9) %>%\n",
    "addLegend(position = \"bottomright\", \n",
    "            pal = cluster_palette, \n",
    "            values = ~reshclust_average,\n",
    "            title = \"Cluster\",\n",
    "            opacity = 1)"
   ]
  },
  {
   "cell_type": "code",
   "execution_count": null,
   "id": "d80353e8-b3d4-44a1-adcb-080477c24c2e",
   "metadata": {},
   "outputs": [],
   "source": [
    "mean_loadings_cah <- aggregate(loading[, -169], by = list(cluster = reshclust_ward), FUN = mean)\n",
    "mean_loadings_cah\n",
    "mean_loadings_melted_cah <- melt(mean_loadings_cah, id.vars = \"cluster\")\n",
    "\n",
    "ggplot(mean_loadings_melted_cah, aes(x = variable, y = value, color = factor(cluster), group = cluster)) +\n",
    "  geom_line() +\n",
    "  labs(title = \"Chargement moyen des stations par cluster\", x = \"Temps en heures\", y = \"Chargement\") +\n",
    "  scale_color_discrete(name = \"Cluster\")"
   ]
  },
  {
   "cell_type": "code",
   "execution_count": null,
   "id": "819d5f4b-bd03-40b6-b0ee-ee3dee44eeab",
   "metadata": {},
   "outputs": [],
   "source": [
    "tbl2 = table(coord$bonus,reshclust_ward)\n",
    "print(tbl2)\n",
    "mosaicplot(tbl2,color=c(1:4), main = \"Stations en altitude en fonction du clusters\")"
   ]
  },
  {
   "cell_type": "markdown",
   "id": "3422d23c-bc1f-4157-bf35-4b2b7035f572",
   "metadata": {},
   "source": [
    "#### 3.1.3. Gaussian Mixture Models"
   ]
  },
  {
   "cell_type": "code",
   "execution_count": null,
   "id": "61d72314-3b90-4932-97d6-ba9748ea8468",
   "metadata": {},
   "outputs": [],
   "source": [
    "library(mclust)"
   ]
  },
  {
   "cell_type": "code",
   "execution_count": null,
   "id": "2e8be7ce-8a8c-4656-8f13-abad7a272946",
   "metadata": {},
   "outputs": [],
   "source": [
    "resBICall = mclustBIC(loading[,-169], G=1:10)\n",
    "summary(resBICall)\n",
    "\n",
    "resBICall = Mclust(loading[,-169], G=1:10)\n",
    "summary(resBICall)\n",
    "\n",
    "fviz_mclust(resBICall, what=\"BIC\")"
   ]
  },
  {
   "cell_type": "code",
   "execution_count": null,
   "id": "2fe59a12-f71f-4a1d-9562-29a5a96b4308",
   "metadata": {},
   "outputs": [],
   "source": [
    "options(repr.plot.width = 10, repr.plot.height = 6)\n",
    "resBIC = Mclust(loading[,-169], G=2, modelNames = \"EEE\")\n",
    "fviz_cluster(resBIC, data=loading[,-169], ellipse.type=\"norm\", geom=\"point\")\n",
    "\n",
    "# --- #\n",
    "\n",
    "aux = data.frame(\n",
    "    label = paste(\"Cluster\", resBIC$classification, sep=\"\"), \n",
    "    proba = apply(resBIC$z, 1, max))\n",
    "\n",
    "ggplot(aux, aes(x=label, y=proba)) + \n",
    "    geom_boxplot(colour=1:2, fill=1:2, alpha=.4)"
   ]
  },
  {
   "cell_type": "code",
   "execution_count": null,
   "id": "7fb2f5a0-31a0-4e76-8082-cc2ce8cdfe68",
   "metadata": {},
   "outputs": [],
   "source": [
    "options(repr.plot.width = 20, repr.plot.height = 10)\n",
    "\n",
    "grid.arrange(\n",
    "    fviz_pca(acp, axes=c(1,2), geom = c(\"point\"), col.ind=as.factor(resBIC$classification)),\n",
    "    fviz_pca(acp, axes=c(1,3), geom=c(\"point\"), col.ind=as.factor(resBIC$classification)),\n",
    "    fviz_pca(acp, axes=c(2,3), geom=c(\"point\"), col.ind=as.factor(resBIC$classification)),\n",
    "    ncol=3\n",
    ")"
   ]
  },
  {
   "cell_type": "code",
   "execution_count": null,
   "id": "8e57f60b-4dc3-4a4e-84db-9724523ab0f7",
   "metadata": {},
   "outputs": [],
   "source": [
    "cluster_palette <- colorFactor(c(\"#E41A1C\",\"#FF33CC\"), domain = unique(resBIC$classification))  # Utiliser la palette viridis avec 10 couleurs\n",
    "\n",
    "leaflet(velib$position) %>% \n",
    "  addTiles(urlTemplate = \"https://{s}.basemaps.cartocdn.com/light_all/{z}/{x}/{y}{r}.png\", \n",
    "           attribution = 'Map tiles by Carto, under CC BY 3.0. Data by OpenStreetMap, under ODbL.') %>% \n",
    "  addCircleMarkers(radius = 3,\n",
    "                   color = ~cluster_palette(resBIC$classification),\n",
    "                   stroke = FALSE, \n",
    "                   fillOpacity = 0.9) %>%\n",
    "addLegend(position = \"bottomright\", \n",
    "            pal = cluster_palette, \n",
    "            values = ~resBIC$classification,\n",
    "            title = \"Cluster\",\n",
    "            opacity = 1)\n",
    "### pareil que pour la première carte"
   ]
  },
  {
   "cell_type": "code",
   "execution_count": null,
   "id": "7f6b978a-dc1f-41f7-b85e-9ecd782dd0a4",
   "metadata": {},
   "outputs": [],
   "source": [
    "mean_loadings_gmm <- aggregate(loading[, -169], by = list(cluster = resBIC$classification), FUN = mean)\n",
    "mean_loadings_gmm\n",
    "mean_loadings_melted_gmm <- melt(mean_loadings_gmm, id.vars = \"cluster\")\n",
    "\n",
    "ggplot(mean_loadings_melted_gmm, aes(x = variable, y = value, color = factor(cluster), group = cluster)) +\n",
    "  geom_line() +\n",
    "  labs(title = \"Chargement moyen des stations par cluster\", x = \"Temps en heures\", y = \"Chargement\") +\n",
    "  scale_color_discrete(name = \"Cluster\")"
   ]
  },
  {
   "cell_type": "code",
   "execution_count": null,
   "id": "8a975079-b535-49df-b194-472c32089b16",
   "metadata": {},
   "outputs": [],
   "source": [
    "tbl2_cah = table(coord$bonus,resBIC$classification)\n",
    "print(tbl2_cah)\n",
    "mosaicplot(tbl2_cah,color=c(2:4), main = \"Stations en altitude en fonction du clusters\")"
   ]
  },
  {
   "cell_type": "markdown",
   "id": "a1690de0-f03b-4ea6-a97a-da17291f19e5",
   "metadata": {},
   "source": [
    "## 4. Etude sur le jeu de données par jour"
   ]
  },
  {
   "cell_type": "markdown",
   "id": "85d3b1ba-7462-4667-be08-c2a2ab6e5e8c",
   "metadata": {},
   "source": [
    "### 4.1. ACP"
   ]
  },
  {
   "cell_type": "code",
   "execution_count": null,
   "id": "a085125e-4539-45c5-9eac-f60047d925b0",
   "metadata": {},
   "outputs": [],
   "source": [
    "#Création du jeu de données data_jours "
   ]
  },
  {
   "cell_type": "code",
   "execution_count": null,
   "id": "9116d566-daa2-4cbb-8995-09104235e49a",
   "metadata": {},
   "outputs": [],
   "source": [
    "lundi <- rowMeans(loading[,c(1,2,3,4,5,6,7,8,9,10,11,12,13,14,15,16,17,18,19,20,21,22,23,24)])\n",
    "mardi <- rowMeans(loading[,c(25,26,27,28,29,30,31,32,33,34,35,36,37,38,39,40,41,42,43,44,45,46,47,48)])\n",
    "mercredi <- rowMeans(loading[,c(49,50,51,52,53,54,55,56,57,58,59,60,61,62,63,64,65,66,67,68,69,70,71,72)])\n",
    "jeudi <- rowMeans(loading[,c(73,74,75,76,77,78,79,80,81,82,83,84,85,86,87,88,89,90,91,92,93,94,95,96)])\n",
    "vendredi <- rowMeans(loading[,c(97,98,99,100,101,102,103,104,105,106,107,108,109,110,111,112,113,114,115,116,117,118,119,120)])\n",
    "samedi <- rowMeans(loading[,c(121,122,123,124,125,126,127,128,129,130,131,132,133,134,135,136,137,138,139,140,141,142,143,144)])\n",
    "dimanche <- rowMeans(loading[,c(145,146,147,148,149,150,151,152,153,154,155,156,157,158,159,160,161,162,163,164,165,166,167,168)])\n",
    "\n",
    "df2 <- data.frame(lundi,mardi,mercredi,jeudi,vendredi,samedi,dimanche)\n",
    "\n",
    "colnames(df2) <- list(\"Lundi\",\"Mardi\",\"Mercredi\",\"Jeudi\",\"Vendredi\",\"Samedi\",\"Dimanche\")\n",
    "df2$Station <- velib$names\n",
    "df2$Station <- as.factor(df2$Station)\n",
    "df2$Hill <- as.factor(coord$bonus)\n",
    "head(df2)"
   ]
  },
  {
   "cell_type": "code",
   "execution_count": null,
   "id": "45d2c272-4798-40f3-a169-82599e60a71e",
   "metadata": {},
   "outputs": [],
   "source": [
    "# ACP2\n",
    "acp2 <- PCA(df2, scale.unit = TRUE,\n",
    "           graph = FALSE, quali.sup = c(8,9), ncp = 3)\n",
    "g1<-fviz_eig(acp2, addlabels = TRUE, ylim = c(0, 80))\n",
    "g2<-ggplot(melt(acp2$ind$coord),aes(x=Var2,y=value))+\n",
    "  geom_boxplot()+\n",
    "  xlab(\"\")\n",
    "grid.arrange(g1,g2,ncol=2)"
   ]
  },
  {
   "cell_type": "code",
   "execution_count": null,
   "id": "7f38fecc-09bb-4a2a-92d5-56f166f27fbb",
   "metadata": {},
   "outputs": [],
   "source": [
    "fviz_pca_var(acp2)"
   ]
  },
  {
   "cell_type": "code",
   "execution_count": null,
   "id": "8b7d0ccf-25c6-4816-af38-a057ee19a9e6",
   "metadata": {},
   "outputs": [],
   "source": []
  },
  {
   "cell_type": "markdown",
   "id": "88c7b375-9ade-4053-83fd-7c78ac2263e8",
   "metadata": {},
   "source": [
    "#### Clustering"
   ]
  },
  {
   "cell_type": "markdown",
   "id": "422681ec-97e2-4b1f-aff9-b9b5d686571f",
   "metadata": {},
   "source": [
    "#### 4.1.1. Méthode de clustering avec k-means"
   ]
  },
  {
   "cell_type": "code",
   "execution_count": null,
   "id": "3994d5ca-14b8-4227-90e5-647124285d9a",
   "metadata": {},
   "outputs": [],
   "source": [
    "options(repr.plot.width = 9, repr.plot.height = 6)\n",
    "fviz_nbclust(df2[,-c(8,9)], FUNcluster=kmeans, method=\"wss\") +\n",
    "    ggtitle(\"Within sum of square (WSS) according to the number of clusters\")\n",
    "\n",
    "fviz_nbclust(df2[,-c(8,9)], FUNcluster=kmeans, method=\"silhouette\") +\n",
    "    ggtitle(\"Silhouette score according to the number of clusters\")"
   ]
  },
  {
   "cell_type": "code",
   "execution_count": null,
   "id": "bb5ae7f7-7023-4b85-a12b-319d1cfd985a",
   "metadata": {},
   "outputs": [],
   "source": [
    "reskmeans2 = kmeans(df2[,-c(8,9)], centers=3) \n",
    "\n",
    "fviz_cluster(reskmeans2, data=df2[,-c(8,9)], ellipse.type=\"norm\", labelsize=8, geom=c(\"point\"))"
   ]
  },
  {
   "cell_type": "code",
   "execution_count": null,
   "id": "94093795-7862-46c8-831c-2945c1c0a226",
   "metadata": {},
   "outputs": [],
   "source": [
    "options(repr.plot.width = 9, repr.plot.height = 6)\n",
    "\n",
    "fviz_pca(acp2, axes=c(1,2), geom = c(\"point\"), col.ind=as.factor(reskmeans2$cluster))"
   ]
  },
  {
   "cell_type": "code",
   "execution_count": null,
   "id": "44e931ba-171e-461d-ab41-247be217e51d",
   "metadata": {},
   "outputs": [],
   "source": [
    "cluster_palette <- colorFactor(c(\"#E41A1C\",\"#4DAF4A\",\"#377EB8\"), domain = unique(reskmeans2$cluster))  # Utiliser la palette viridis avec 10 couleurs\n",
    "\n",
    "leaflet(velib$position) %>% \n",
    "  addTiles(urlTemplate = \"https://{s}.basemaps.cartocdn.com/light_all/{z}/{x}/{y}{r}.png\", \n",
    "           attribution = 'Map tiles by Carto, under CC BY 3.0. Data by OpenStreetMap, under ODbL.') %>% \n",
    "  addCircleMarkers(radius = 3,\n",
    "                   color = ~cluster_palette(reskmeans2$cluster),\n",
    "                   stroke = FALSE, \n",
    "                   fillOpacity = 0.9) %>%\n",
    "addLegend(position = \"bottomright\", \n",
    "            pal = cluster_palette, \n",
    "            values = ~reskmeans2$cluster,\n",
    "            title = \"Cluster\",\n",
    "            opacity = 1)"
   ]
  },
  {
   "cell_type": "code",
   "execution_count": null,
   "id": "47497da9-86fb-4904-bc8b-3f44c79c3080",
   "metadata": {},
   "outputs": [],
   "source": [
    "mean_loadings_2 <- aggregate(loading[, -169], by = list(cluster = reskmeans2$cluster), FUN = mean)\n",
    "mean_loadings_2\n",
    "mean_loadings_melted_2 <- melt(mean_loadings_2, id.vars = \"cluster\")\n",
    "\n",
    "ggplot(mean_loadings_melted_2, aes(x = variable, y = value, color = factor(cluster), group = cluster)) +\n",
    "  geom_line() +\n",
    "  labs(title = \"Chargement moyen des stations par cluster\", x = \"Temps en heures\", y = \"Chargement\") +\n",
    "  scale_color_discrete(name = \"Cluster\")"
   ]
  },
  {
   "cell_type": "code",
   "execution_count": null,
   "id": "efe52257-49ed-4d07-9ff2-fb37e2e427b3",
   "metadata": {},
   "outputs": [],
   "source": [
    "tbl2_km2 = table(coord$bonus,reskmeans2$cluster)\n",
    "print(tbl2_km2)\n",
    "mosaicplot(tbl2_km2,color=c(1:3), main = \"Stations en altitude en fonction du clusters\")"
   ]
  },
  {
   "cell_type": "markdown",
   "id": "fc857d72-d391-4a1b-819a-674183bd14f5",
   "metadata": {},
   "source": [
    "#### 4.1.2. CAH : Agglomerative Clustering"
   ]
  },
  {
   "cell_type": "code",
   "execution_count": null,
   "id": "9b317473-772e-4ccd-a131-8d6a4599ae31",
   "metadata": {},
   "outputs": [],
   "source": [
    "d2 = dist(df2[,-c(8,9)], method=\"euclidean\")\n",
    "\n",
    "hclustaverage2 = hclust(d2, method=\"average\")\n",
    "hclustward2 = hclust(d2,method=\"ward.D\")\n",
    "hclustsingle2 = hclust(d2, method=\"single\")\n",
    "hclustcomplete2 = hclust(d2,method=\"complete\")\n",
    "\n",
    "\n",
    "options(repr.plot.width=10, repr.plot.height=10)\n",
    "\n",
    "fviz_dend(hclustsingle2, show_labels=FALSE, main='Dendrogram - Single linkage')\n",
    "fviz_dend(hclustcomplete2, show_labels=FALSE, main='Dendrogram - Complete linkage')\n",
    "fviz_dend(hclustaverage2, show_labels=FALSE, main='Dendrogram - Average linkage')\n",
    "fviz_dend(hclustward2, show_labels=FALSE, main='Dendrogram - Ward linkage')"
   ]
  },
  {
   "cell_type": "code",
   "execution_count": null,
   "id": "66f6f872-290e-443e-b86f-19c6592ad1df",
   "metadata": {},
   "outputs": [],
   "source": [
    "options(repr.plot.width = 12, repr.plot.height = 6)\n",
    "grid.arrange(\n",
    "    fviz_nbclust(df2[,-c(8,9)], FUNcluster=hcut, method=\"wss\") + ggtitle(\"Score WSS\"),\n",
    "    fviz_nbclust(df2[,-c(8,9)], FUNcluster=hcut, method=\"silhouette\") + ggtitle(\"Score Silhouette\"),\n",
    "    ncol=2\n",
    ")"
   ]
  },
  {
   "cell_type": "code",
   "execution_count": null,
   "id": "65216df9-8971-4f91-a3b1-af9851a9b093",
   "metadata": {},
   "outputs": [],
   "source": [
    "reshclust_average2 = cutree(hclustaverage2, 3)\n",
    "reshclust_ward2 = cutree(hclustward2, 3)\n",
    "reshclust_single2 = cutree(hclustsingle2, 3)\n",
    "reshclust_complete2 = cutree(hclustcomplete2, 3)\n",
    "\n",
    "fviz_dend(hclustaverage2, k=3, show_labels=FALSE, rect=TRUE, main = \"Average linkage Dendrogram\")\n",
    "fviz_dend(hclustward2, k=3, show_labels=FALSE, rect=TRUE, main = \"Ward linkage Dendrogram\")\n",
    "fviz_dend(hclustsingle2, k=3, show_labels=FALSE, rect=TRUE, main = \"Single linkage Dendrogram\")\n",
    "fviz_dend(hclustcomplete2, k=3, show_labels=FALSE, rect=TRUE, main = \"Complete linkage Dendrogram\")"
   ]
  },
  {
   "cell_type": "code",
   "execution_count": null,
   "id": "37bbeef6-7441-4b09-ade3-8181b8ddc948",
   "metadata": {},
   "outputs": [],
   "source": [
    "options(repr.plot.width = 9, repr.plot.height = 6)\n",
    "\n",
    "fviz_pca(acp2, axes=c(1,2), geom = c(\"point\"), col.ind=as.factor(reshclust_ward2))"
   ]
  },
  {
   "cell_type": "code",
   "execution_count": null,
   "id": "5945065d-6826-4e1b-ba15-cb3360f6cdd8",
   "metadata": {},
   "outputs": [],
   "source": [
    "cluster_palette <- colorFactor(c(\"#E41A1C\",\"#4DAF4A\",\"#377EB8\"), domain = unique(reshclust_ward2))\n",
    "\n",
    "leaflet(velib$position) %>% \n",
    "  addTiles(urlTemplate = \"https://{s}.basemaps.cartocdn.com/light_all/{z}/{x}/{y}{r}.png\", \n",
    "           attribution = 'Map tiles by Carto, under CC BY 3.0. Data by OpenStreetMap, under ODbL.') %>% \n",
    "  addCircleMarkers(radius = 3,\n",
    "                   color = ~cluster_palette(reshclust_ward2),\n",
    "                   stroke = FALSE, \n",
    "                   fillOpacity = 0.9) %>%\n",
    "addLegend(position = \"bottomright\", \n",
    "            pal = cluster_palette, \n",
    "            values = ~reshclust_ward2,\n",
    "            title = \"Cluster\",\n",
    "            opacity = 1)"
   ]
  },
  {
   "cell_type": "code",
   "execution_count": null,
   "id": "51cd0df7-9bd6-4c18-8e92-b7212fa1d17b",
   "metadata": {},
   "outputs": [],
   "source": [
    "mean_loadings_2cah <- aggregate(loading[, -169], by = list(cluster = reshclust_ward2), FUN = mean)\n",
    "mean_loadings_2cah\n",
    "mean_loadings_melted_2cah <- melt(mean_loadings_2cah, id.vars = \"cluster\")\n",
    "\n",
    "ggplot(mean_loadings_melted_2cah, aes(x = variable, y = value, color = factor(cluster), group = cluster)) +\n",
    "  geom_line() +\n",
    "  labs(title = \"Chargement moyen des stations par cluster\", x = \"Temps en heures\", y = \"Chargement\") +\n",
    "  scale_color_discrete(name = \"Cluster\")"
   ]
  },
  {
   "cell_type": "code",
   "execution_count": null,
   "id": "0bbb890a-24dc-4c39-aa05-51529d44a589",
   "metadata": {},
   "outputs": [],
   "source": [
    "tbl2_ch2 = table(coord$bonus,reshclust_ward2)\n",
    "print(tbl2_ch2)\n",
    "mosaicplot(tbl2_ch2,color=c(1:3), main = \"Stations en altitude en fonction du clusters\")"
   ]
  },
  {
   "cell_type": "markdown",
   "id": "c73e3ff1-655e-4cac-9a8e-7888c4ad0307",
   "metadata": {},
   "source": [
    "#### 4.1.3. Gaussian Mixture Models"
   ]
  },
  {
   "cell_type": "code",
   "execution_count": null,
   "id": "913ad257-070f-4d33-87c2-f5f6babdc593",
   "metadata": {},
   "outputs": [],
   "source": [
    "resBICall2 = mclustBIC(df2[,-c(8,9)], G=1:10)\n",
    "summary(resBICall2)\n",
    "\n",
    "resBICall2 = Mclust(df2[,-c(8,9)], G=1:10)\n",
    "summary(resBICall2)\n",
    "\n",
    "fviz_mclust(resBICall2, what=\"BIC\")"
   ]
  },
  {
   "cell_type": "code",
   "execution_count": null,
   "id": "ffea76ef-ea2d-4d85-be5c-348dbc13dcac",
   "metadata": {},
   "outputs": [],
   "source": [
    "options(repr.plot.width = 10, repr.plot.height = 6)\n",
    "resBIC2 = Mclust(df2[,-c(8,9)], G=3, modelNames = \"VEE\")\n",
    "fviz_cluster(resBIC2, data=df2[,-c(8,9)], ellipse.type=\"norm\", geom=\"point\")\n",
    "\n",
    "# --- #\n",
    "\n",
    "aux = data.frame(\n",
    "    label = paste(\"Cluster\", resBIC2$classification, sep=\"\"), \n",
    "    proba = apply(resBIC2$z, 1, max))\n",
    "\n",
    "ggplot(aux, aes(x=label, y=proba)) + \n",
    "    geom_boxplot(colour=1:3, fill=1:3, alpha=.4)"
   ]
  },
  {
   "cell_type": "code",
   "execution_count": null,
   "id": "7f13fc55-7bfc-49c4-830f-95d62060bdb2",
   "metadata": {},
   "outputs": [],
   "source": [
    "options(repr.plot.width = 20, repr.plot.height = 10)\n",
    "\n",
    "fviz_pca(acp2, axes=c(1,2), geom = c(\"point\"), col.ind=as.factor(resBIC2$classification))"
   ]
  },
  {
   "cell_type": "code",
   "execution_count": null,
   "id": "46e9fafd-3f1b-4dea-9c44-e0de658fd3a7",
   "metadata": {},
   "outputs": [],
   "source": [
    "cluster_palette <- colorFactor(c(\"#E41A1C\", \"#FF33CC\", \"#377EB8\", \"#4DAF4A\", \"#FF7F00\", \"#FFFF33\"), domain = unique(resBIC2$classification))  # Utiliser la palette viridis avec 10 couleurs\n",
    "\n",
    "leaflet(velib$position) %>% \n",
    "  addTiles(urlTemplate = \"https://{s}.basemaps.cartocdn.com/light_all/{z}/{x}/{y}{r}.png\", \n",
    "           attribution = 'Map tiles by Carto, under CC BY 3.0. Data by OpenStreetMap, under ODbL.') %>% \n",
    "  addCircleMarkers(radius = 3,\n",
    "                   color = ~cluster_palette(resBIC2$classification),\n",
    "                   stroke = FALSE, \n",
    "                   fillOpacity = 0.9) %>%\n",
    "addLegend(position = \"bottomright\", \n",
    "            pal = cluster_palette, \n",
    "            values = ~resBIC2$classification,\n",
    "            title = \"Cluster\",\n",
    "            opacity = 1)"
   ]
  },
  {
   "cell_type": "code",
   "execution_count": null,
   "id": "470fecdd-ff31-4d24-9f80-951741b95d86",
   "metadata": {},
   "outputs": [],
   "source": [
    "mean_loadings_2gmm <- aggregate(loading[, -169], by = list(cluster = resBIC2$classification), FUN = mean)\n",
    "mean_loadings_2gmm\n",
    "mean_loadings_melted_2gmm <- melt(mean_loadings_2gmm, id.vars = \"cluster\")\n",
    "\n",
    "ggplot(mean_loadings_melted_2gmm, aes(x = variable, y = value, color = factor(cluster), group = cluster)) +\n",
    "  geom_line() +\n",
    "  labs(title = \"Chargement moyen des stations par cluster\", x = \"Temps en heures\", y = \"Chargement\") +\n",
    "  scale_color_discrete(name = \"Cluster\")"
   ]
  },
  {
   "cell_type": "code",
   "execution_count": null,
   "id": "dac7ce83-d01b-4727-aede-4bae7523ec46",
   "metadata": {},
   "outputs": [],
   "source": [
    "tbl2_ch2 = table(coord$bonus,resBIC2$classification)\n",
    "print(tbl2_ch2)\n",
    "mosaicplot(tbl2_ch2,color=c(1:3), main = \"Stations en altitude en fonction du clusters\")"
   ]
  },
  {
   "cell_type": "markdown",
   "id": "1cbcd6e5-76d8-4b6b-8f07-f8ece08808df",
   "metadata": {},
   "source": [
    "### CA entre CAH et Kmeans "
   ]
  },
  {
   "cell_type": "code",
   "execution_count": null,
   "id": "42c4f9a0-c6e7-40dd-8548-790acbbbf53f",
   "metadata": {},
   "outputs": [],
   "source": [
    "table_contingence <- table(reskmeans2$cluster,reshclust_ward2)\n",
    "table_contingence"
   ]
  },
  {
   "cell_type": "code",
   "execution_count": null,
   "id": "b12136b9-0301-4819-90d5-c94572f06b1e",
   "metadata": {},
   "outputs": [],
   "source": [
    "res.ca = CA(table_contingence, graph=FALSE)\n",
    "fviz_ca_biplot(res.ca, repel=TRUE)"
   ]
  },
  {
   "cell_type": "code",
   "execution_count": null,
   "id": "720515e3-7f63-49ea-8502-b4b672b5b981",
   "metadata": {},
   "outputs": [],
   "source": [
    "table_contingence2 <- table(reskmeans2$cluster,resBIC2$classification)\n",
    "table_contingence2"
   ]
  },
  {
   "cell_type": "code",
   "execution_count": null,
   "id": "201f7123-e3f6-4036-be25-01d3a9eaedfa",
   "metadata": {},
   "outputs": [],
   "source": [
    "res.ca2 = CA(table_contingence2, graph=FALSE)\n",
    "fviz_ca_biplot(res.ca2, repel=TRUE)"
   ]
  },
  {
   "cell_type": "markdown",
   "id": "7ff961bb-ddd9-482b-bf5e-94251bc3298d",
   "metadata": {},
   "source": [
    "## 5. Etude sur le jeu de données par heures"
   ]
  },
  {
   "cell_type": "markdown",
   "id": "e5e7fca4-f87e-4ef9-a66e-f723d946a3d4",
   "metadata": {},
   "source": [
    "### 5.1. ACP"
   ]
  },
  {
   "cell_type": "code",
   "execution_count": null,
   "id": "9e9525e5-5bf1-43d2-944e-68af710d4fd9",
   "metadata": {},
   "outputs": [],
   "source": [
    "#Création du jeu de données data_heures"
   ]
  },
  {
   "cell_type": "code",
   "execution_count": null,
   "id": "b860f0a3-77e1-4804-8fcc-074e1e03d3a9",
   "metadata": {},
   "outputs": [],
   "source": [
    "minuit_am <- rowMeans(loading[,c(1,25,49,73,97,121,145)])\n",
    "une_am <- rowMeans(loading[,c(2,26,50,74,98,122,146)])\n",
    "deux_am <- rowMeans(loading[,c(3,27,51,75,99,123,147)])\n",
    "trois_am <- rowMeans(loading[,c(4,28,52,76,100,124,148)])\n",
    "quatre_am <- rowMeans(loading[,c(5,29,53,77,101,125,149)])\n",
    "cinq_am <- rowMeans(loading[,c(6,30,54,78,102,126,150)])\n",
    "six_am <- rowMeans(loading[,c(7,31,55,79,103,127,151)])\n",
    "sept_am <- rowMeans(loading[,c(8,32,56,80,104,128,152)])\n",
    "huit_am <- rowMeans(loading[,c(9,33,57,81,105,129,153)])\n",
    "neuf_am <- rowMeans(loading[,c(10,34,58,82,106,130,154)])\n",
    "dix_am <- rowMeans(loading[,c(11,35,59,83,107,131,155)])\n",
    "onze_am <- rowMeans(loading[,c(12,36,60,84,108,132,156)])\n",
    "minuit_pm <- rowMeans(loading[,c(13,37,61,85,109,133,157)])\n",
    "une_pm <- rowMeans(loading[,c(14,38,62,86,110,134,158)])\n",
    "deux_pm <- rowMeans(loading[,c(15,39,63,87,111,135,159)])\n",
    "trois_pm <- rowMeans(loading[,c(16,40,64,88,112,136,160)])\n",
    "quatre_pm <- rowMeans(loading[,c(17,41,65,89,113,137,161)])\n",
    "cinq_pm <- rowMeans(loading[,c(18,42,66,90,114,138,162)])\n",
    "six_pm <- rowMeans(loading[,c(19,43,67,91,115,139,163)])\n",
    "sept_pm <- rowMeans(loading[,c(20,44,68,92,116,140,164)])\n",
    "huit_pm <- rowMeans(loading[,c(21,45,69,93,117,141,165)])\n",
    "neuf_pm <- rowMeans(loading[,c(22,46,70,94,118,142,166)])\n",
    "dix_pm <- rowMeans(loading[,c(23,47,71,95,119,143,167)])\n",
    "onze_pm <- rowMeans(loading[,c(24,48,72,96,120,144,168)])\n",
    "df1 <- data.frame(Minuit = minuit_am, \"une h\" = une_am, \"2h\" = deux_am, \"3h\" = trois_am, \"4h\" = quatre_am, \"5h\" = cinq_am, \"6h\" = six_am, \"7h\" = sept_am, \"8h\" = huit_am, \"9h\" = neuf_am\n",
    "                 , \"10h\" = dix_am, \"11h\" = onze_am, \"12h\" = minuit_pm, \"13h\" = une_pm, \"14h\" = deux_pm, \"15h\" = trois_pm, \"16h\" = quatre_pm, \"17h\" = cinq_pm, \"18h\" = six_pm, \n",
    "                 \"19h\" = sept_pm, \"20h\" = huit_pm, \"21h\" = neuf_pm, \"22h\" = dix_pm, \"23h\" = onze_pm)\n",
    "\n",
    "colnames(df1) <- list(\"0h\", \"1h\", \"2h\",\"3h\", \"4h\", \"5h\", \"6h\", \"7h\", \"8h\", \"9h\", \"10h\", \"11h\", \"12h\", \"13h\", \"14h\", \"15h\", \"16h\", \"17h\", \"18h\", \"19h\", \"20h\", \"21h\", \"22h\", \"23h\")\n",
    "df1$Station <- velib$names\n",
    "df1$Hill <- as.factor(coord$bonus)\n",
    "df1$Station <- as.factor(df1$Station)\n",
    "head(df1)"
   ]
  },
  {
   "cell_type": "code",
   "execution_count": null,
   "id": "00c8ed04-c9b7-4eae-830a-3589e1e9ad5c",
   "metadata": {},
   "outputs": [],
   "source": [
    "# ACP1\n",
    "acp1 <- PCA(df1, scale.unit = TRUE,\n",
    "           graph = FALSE, quali.sup = c(25,26), ncp = 3)\n",
    "g1<-fviz_eig(acp1, addlabels = TRUE, ylim = c(0, 60))\n",
    "g2<-ggplot(melt(acp1$ind$coord),aes(x=Var2,y=value))+\n",
    "  geom_boxplot()+\n",
    "  xlab(\"\")\n",
    "grid.arrange(g1,g2,ncol=2)"
   ]
  },
  {
   "cell_type": "code",
   "execution_count": null,
   "id": "c64a377e-03cb-41f0-b68f-161f9f8148b1",
   "metadata": {},
   "outputs": [],
   "source": [
    "fviz_pca_var(acp1)\n",
    "#fviz_pca_var(acp1,axes=c(1,3))\n",
    "#fviz_pca_var(acp1,axes=c(2,3))"
   ]
  },
  {
   "cell_type": "markdown",
   "id": "a2684ad6-30e5-4385-8c6a-c8db2244e170",
   "metadata": {},
   "source": [
    "#### 5.1.1. Méthode de clustering avec k-means"
   ]
  },
  {
   "cell_type": "code",
   "execution_count": null,
   "id": "3769d74e-62e9-49ce-a6d6-2fb05c0b69bd",
   "metadata": {},
   "outputs": [],
   "source": [
    "options(repr.plot.width = 9, repr.plot.height = 6)\n",
    "fviz_nbclust(df1[,-c(25,26)], FUNcluster=kmeans, method=\"wss\") +\n",
    "    ggtitle(\"Within sum of square (WSS) according to the number of clusters\")\n",
    "\n",
    "fviz_nbclust(df1[,-c(25,26)], FUNcluster=kmeans, method=\"silhouette\") +\n",
    "    ggtitle(\"Silhouette score according to the number of clusters\")"
   ]
  },
  {
   "cell_type": "code",
   "execution_count": null,
   "id": "ad48d1f1-ffe8-4df6-a747-755e95e002a1",
   "metadata": {},
   "outputs": [],
   "source": [
    "reskmeans1 = kmeans(df1[,-c(25,26)], centers=4) \n",
    "\n",
    "fviz_cluster(reskmeans1, data=df1[,-c(25,26)], ellipse.type=\"norm\", labelsize=8, geom=c(\"point\"))"
   ]
  },
  {
   "cell_type": "code",
   "execution_count": null,
   "id": "12db946e-ea56-4500-8332-ebcc1e6df1fc",
   "metadata": {},
   "outputs": [],
   "source": [
    "options(repr.plot.width = 9, repr.plot.height = 6)\n",
    "\n",
    "fviz_pca(acp1, axes=c(1,2), geom = c(\"point\"), col.ind=as.factor(reskmeans1$cluster))"
   ]
  },
  {
   "cell_type": "code",
   "execution_count": null,
   "id": "f697e7b0-1c3f-40ed-b8c7-8c80a3dcb738",
   "metadata": {},
   "outputs": [],
   "source": [
    "cluster_palette <- colorFactor(c(\"#E41A1C\",\"#4DAF4A\",\"#377EB8\"), domain = unique(reskmeans1$cluster))  # Utiliser la palette viridis avec 10 couleurs\n",
    "\n",
    "leaflet(velib$position) %>% \n",
    "  addTiles(urlTemplate = \"https://{s}.basemaps.cartocdn.com/light_all/{z}/{x}/{y}{r}.png\", \n",
    "           attribution = 'Map tiles by Carto, under CC BY 3.0. Data by OpenStreetMap, under ODbL.') %>% \n",
    "  addCircleMarkers(radius = 3,\n",
    "                   color = ~cluster_palette(reskmeans1$cluster),\n",
    "                   stroke = FALSE, \n",
    "                   fillOpacity = 0.9) %>%\n",
    "addLegend(position = \"bottomright\", \n",
    "            pal = cluster_palette, \n",
    "            values = ~reskmeans1$cluster,\n",
    "            title = \"Cluster\",\n",
    "            opacity = 1)"
   ]
  },
  {
   "cell_type": "code",
   "execution_count": null,
   "id": "4d35f861-ac00-42df-9649-f70ff3946245",
   "metadata": {},
   "outputs": [],
   "source": [
    "mean_loadings1 <- aggregate(loading[, -c(169)], by = list(cluster = reskmeans1$cluster), FUN = mean)\n",
    "mean_loadings1\n",
    "mean_loadings_melted1 <- melt(mean_loadings1, id.vars = \"cluster\")\n",
    "\n",
    "ggplot(mean_loadings_melted1, aes(x = variable, y = value, color = factor(cluster), group = cluster)) +\n",
    "  geom_line() +\n",
    "  labs(title = \"Chargement moyen des stations par cluster\", x = \"Temps en heures\", y = \"Chargement\") +\n",
    "  scale_color_discrete(name = \"Cluster\")"
   ]
  },
  {
   "cell_type": "code",
   "execution_count": null,
   "id": "783c6897-2729-48d1-b470-52c3c1a17fb6",
   "metadata": {},
   "outputs": [],
   "source": [
    "tbl2_km = table(coord$bonus,reskmeans1$cluster)\n",
    "print(tbl2_km)\n",
    "mosaicplot(tbl2_km,color=c(1:4), main = \"Stations en altitude en fonction du clusters\")"
   ]
  },
  {
   "cell_type": "markdown",
   "id": "afb12356-b332-4ba3-92ef-6a275d01ab27",
   "metadata": {},
   "source": [
    "#### 5.1.2. CAH : Agglomerative Clustering"
   ]
  },
  {
   "cell_type": "code",
   "execution_count": null,
   "id": "56955e9c-0849-4e92-86c7-f8a6260306f4",
   "metadata": {},
   "outputs": [],
   "source": [
    "d1 = dist(df1[,-c(25,26)], method=\"euclidean\")\n",
    "\n",
    "hclustaverage1 = hclust(d1, method=\"average\")\n",
    "hclustward1 = hclust(d1,method=\"ward.D\")\n",
    "hclustsingle1 = hclust(d1, method=\"single\")\n",
    "hclustcomplete1 = hclust(d1,method=\"complete\")\n",
    "\n",
    "\n",
    "options(repr.plot.width=10, repr.plot.height=10)\n",
    "\n",
    "fviz_dend(hclustsingle1, show_labels=FALSE, main='Dendrogram - Single linkage')\n",
    "fviz_dend(hclustcomplete1, show_labels=FALSE, main='Dendrogram - Complete linkage')\n",
    "fviz_dend(hclustaverage1, show_labels=FALSE, main='Dendrogram - Average linkage')\n",
    "fviz_dend(hclustward1, show_labels=FALSE, main='Dendrogram - Ward linkage')"
   ]
  },
  {
   "cell_type": "code",
   "execution_count": null,
   "id": "31d47a79-f968-433b-9ad2-379e65842ad4",
   "metadata": {},
   "outputs": [],
   "source": [
    "options(repr.plot.width = 12, repr.plot.height = 6)\n",
    "grid.arrange(\n",
    "    fviz_nbclust(df1[,-c(25,26)], FUNcluster=hcut, method=\"wss\") + ggtitle(\"Score WSS\"),\n",
    "    fviz_nbclust(df1[,-c(25,26)], FUNcluster=hcut, method=\"silhouette\") + ggtitle(\"Score Silhouette\"),\n",
    "    ncol=2\n",
    ")"
   ]
  },
  {
   "cell_type": "code",
   "execution_count": null,
   "id": "093f8c61-0f52-47ca-8591-503bfcd78dbb",
   "metadata": {},
   "outputs": [],
   "source": [
    "reshclust_average1 = cutree(hclustaverage1, 4)\n",
    "reshclust_ward1 = cutree(hclustward1, 4)\n",
    "reshclust_single1 = cutree(hclustsingle1, 4)\n",
    "reshclust_average1 = cutree(hclustcomplete1, 4)\n",
    "\n",
    "fviz_dend(hclustaverage1, k=4, show_labels=FALSE, rect=TRUE,main=\"Dendrogram average linkage\")\n",
    "fviz_dend(hclustward1, k=4, show_labels=FALSE, rect=TRUE,main=\"Dendrogram ward linkage\")\n",
    "fviz_dend(hclustsingle1, k=4, show_labels=FALSE, rect=TRUE,main=\"Dendrogram single linkage\")\n",
    "fviz_dend(hclustcomplete1, k=4, show_labels=FALSE, rect=TRUE,main=\"Dendrogram complete linkage\")"
   ]
  },
  {
   "cell_type": "code",
   "execution_count": null,
   "id": "0fd1b2bd-ccfa-45fa-a063-4965dbc05412",
   "metadata": {},
   "outputs": [],
   "source": [
    "options(repr.plot.width = 9, repr.plot.height = 6)\n",
    "\n",
    "fviz_pca(acp1, axes=c(1,2), geom = c(\"point\"), col.ind=as.factor(reshclust_ward1))"
   ]
  },
  {
   "cell_type": "code",
   "execution_count": null,
   "id": "a56d0a49-4572-43ab-b0fa-cb5984209706",
   "metadata": {},
   "outputs": [],
   "source": [
    "cluster_palette <- colorFactor(c(\"#E41A1C\",\"#4DAF4A\",\"#377EB8\"), domain = unique(reshclust_ward1))\n",
    "\n",
    "leaflet(velib$position) %>% \n",
    "  addTiles(urlTemplate = \"https://{s}.basemaps.cartocdn.com/light_all/{z}/{x}/{y}{r}.png\", \n",
    "           attribution = 'Map tiles by Carto, under CC BY 3.0. Data by OpenStreetMap, under ODbL.') %>% \n",
    "  addCircleMarkers(radius = 3,\n",
    "                   color = ~cluster_palette(reshclust_ward1),\n",
    "                   stroke = FALSE, \n",
    "                   fillOpacity = 0.9) %>%\n",
    "addLegend(position = \"bottomright\", \n",
    "            pal = cluster_palette, \n",
    "            values = ~reshclust_average1,\n",
    "            title = \"Cluster\",\n",
    "            opacity = 1)"
   ]
  },
  {
   "cell_type": "code",
   "execution_count": null,
   "id": "8e5706d0-b8a8-4341-a38b-b75245e99a0c",
   "metadata": {},
   "outputs": [],
   "source": [
    "mean_loadings_cah1 <- aggregate(loading[, -169], by = list(cluster = reshclust_ward1), FUN = mean)\n",
    "mean_loadings_cah1\n",
    "mean_loadings_melted_cah1 <- melt(mean_loadings_cah1, id.vars = \"cluster\")\n",
    "\n",
    "ggplot(mean_loadings_melted_cah1, aes(x = variable, y = value, color = factor(cluster), group = cluster)) +\n",
    "  geom_line() +\n",
    "  labs(title = \"Chargement moyen des stations par cluster\", x = \"Temps en heures\", y = \"Chargement\") +\n",
    "  scale_color_discrete(name = \"Cluster\")"
   ]
  },
  {
   "cell_type": "code",
   "execution_count": null,
   "id": "784fbdc4-0f66-4bf5-b8fe-f555f789f6b3",
   "metadata": {},
   "outputs": [],
   "source": [
    "tbl2_1 = table(coord$bonus,reshclust_ward1)\n",
    "print(tbl2_1)\n",
    "mosaicplot(tbl2_1,color=c(1:4), main = \"Stations en altitude en fonction du clusters\")"
   ]
  },
  {
   "cell_type": "markdown",
   "id": "ec63ca4e-b4ea-4f2f-bf29-d46f3175e825",
   "metadata": {},
   "source": [
    "#### 5.1.3. Gaussian Mixture Models"
   ]
  },
  {
   "cell_type": "code",
   "execution_count": null,
   "id": "efae1ed8-be3a-4802-8639-0c50689a76bf",
   "metadata": {},
   "outputs": [],
   "source": [
    "resBICall1 = mclustBIC(df1[,-c(25,26)], G=1:10)\n",
    "summary(resBICall1)\n",
    "\n",
    "resBICall1 = Mclust(df1[,-c(25,26)], G=1:10)\n",
    "summary(resBICall1)\n",
    "\n",
    "fviz_mclust(resBICall1, what=\"BIC\")"
   ]
  },
  {
   "cell_type": "code",
   "execution_count": null,
   "id": "c90b5073-4444-41c1-b030-d8ca31d22732",
   "metadata": {},
   "outputs": [],
   "source": [
    "options(repr.plot.width = 10, repr.plot.height = 6)\n",
    "resBIC1 = Mclust(df1[,-c(25,26)], G=4, modelNames = \"VVE\")\n",
    "fviz_cluster(resBIC1, data=df1[,-c(25,26)], ellipse.type=\"norm\", geom=\"point\")\n",
    "\n",
    "# --- #\n",
    "\n",
    "aux = data.frame(\n",
    "    label = paste(\"Cluster\", resBIC1$classification, sep=\"\"), \n",
    "    proba = apply(resBIC1$z, 1, max))\n",
    "\n",
    "ggplot(aux, aes(x=label, y=proba)) + \n",
    "    geom_boxplot(colour=1:4, fill=1:4, alpha=.4)"
   ]
  },
  {
   "cell_type": "code",
   "execution_count": null,
   "id": "320fa6f8-6537-413e-8c8a-9b740d445f6f",
   "metadata": {},
   "outputs": [],
   "source": [
    "options(repr.plot.width = 20, repr.plot.height = 10)\n",
    "\n",
    "fviz_pca(acp1, axes=c(1,2), geom = c(\"point\"), col.ind=as.factor(resBIC1$classification))"
   ]
  },
  {
   "cell_type": "code",
   "execution_count": null,
   "id": "29359f35-ade9-4eda-af16-93cfd6b39ab5",
   "metadata": {},
   "outputs": [],
   "source": [
    "cluster_palette <- colorFactor(c(\"#E41A1C\", \"#FF33CC\", \"#377EB8\", \"#4DAF4A\", \"#FF7F00\", \"#FFFF33\"), domain = unique(resBIC1$classification))  # Utiliser la palette viridis avec 10 couleurs\n",
    "\n",
    "leaflet(velib$position) %>% \n",
    "  addTiles(urlTemplate = \"https://{s}.basemaps.cartocdn.com/light_all/{z}/{x}/{y}{r}.png\", \n",
    "           attribution = 'Map tiles by Carto, under CC BY 3.0. Data by OpenStreetMap, under ODbL.') %>% \n",
    "  addCircleMarkers(radius = 3,\n",
    "                   color = ~cluster_palette(resBIC1$classification),\n",
    "                   stroke = FALSE, \n",
    "                   fillOpacity = 0.9) %>%\n",
    "addLegend(position = \"bottomright\", \n",
    "            pal = cluster_palette, \n",
    "            values = ~resBIC1$classification,\n",
    "            title = \"Cluster\",\n",
    "            opacity = 1)"
   ]
  },
  {
   "cell_type": "code",
   "execution_count": null,
   "id": "3d3bddfe-3bd8-48a3-b12d-2a87038fb3d8",
   "metadata": {},
   "outputs": [],
   "source": [
    "mean_loadings_gmm1 <- aggregate(loading[, -169], by = list(cluster = resBIC1$classification), FUN = mean)\n",
    "mean_loadings_gmm1\n",
    "mean_loadings_melted_gmm1 <- melt(mean_loadings_gmm1, id.vars = \"cluster\")\n",
    "\n",
    "ggplot(mean_loadings_melted_gmm1, aes(x = variable, y = value, color = factor(cluster), group = cluster)) +\n",
    "  geom_line() +\n",
    "  labs(title = \"Chargement moyen des stations par cluster\", x = \"Temps en heures\", y = \"Chargement\") +\n",
    "  scale_color_discrete(name = \"Cluster\")"
   ]
  },
  {
   "cell_type": "code",
   "execution_count": null,
   "id": "87ea6d1b-e373-4d74-a62b-938ee59248e0",
   "metadata": {},
   "outputs": [],
   "source": [
    "tbl2_gmm1 = table(coord$bonus,resBIC1$classification)\n",
    "print(tbl2_gmm1)\n",
    "mosaicplot(tbl2_gmm1,color=c(1:4), main = \"Stations en altitude en fonction du clusters\")"
   ]
  },
  {
   "cell_type": "markdown",
   "id": "8a4fe70b-8f8c-4b15-a421-4c9d1e41a306",
   "metadata": {},
   "source": [
    "## 6. MCA sur data_heures"
   ]
  },
  {
   "cell_type": "markdown",
   "id": "19d1d26b-385d-4ec8-ae7e-f4b1219988cb",
   "metadata": {},
   "source": [
    "### 6.1. MCA"
   ]
  },
  {
   "cell_type": "code",
   "execution_count": null,
   "id": "8737a7f7-3591-4b6a-90ae-9a49c7a841ff",
   "metadata": {},
   "outputs": [],
   "source": [
    "minuit_am <- rowMeans(loading[,c(1,25,49,73,97,121,145)])\n",
    "une_am <- rowMeans(loading[,c(2,26,50,74,98,122,146)])\n",
    "deux_am <- rowMeans(loading[,c(3,27,51,75,99,123,147)])\n",
    "trois_am <- rowMeans(loading[,c(4,28,52,76,100,124,148)])\n",
    "quatre_am <- rowMeans(loading[,c(5,29,53,77,101,125,149)])\n",
    "cinq_am <- rowMeans(loading[,c(6,30,54,78,102,126,150)])\n",
    "six_am <- rowMeans(loading[,c(7,31,55,79,103,127,151)])\n",
    "sept_am <- rowMeans(loading[,c(8,32,56,80,104,128,152)])\n",
    "huit_am <- rowMeans(loading[,c(9,33,57,81,105,129,153)])\n",
    "neuf_am <- rowMeans(loading[,c(10,34,58,82,106,130,154)])\n",
    "dix_am <- rowMeans(loading[,c(11,35,59,83,107,131,155)])\n",
    "onze_am <- rowMeans(loading[,c(12,36,60,84,108,132,156)])\n",
    "minuit_pm <- rowMeans(loading[,c(13,37,61,85,109,133,157)])\n",
    "une_pm <- rowMeans(loading[,c(14,38,62,86,110,134,158)])\n",
    "deux_pm <- rowMeans(loading[,c(15,39,63,87,111,135,159)])\n",
    "trois_pm <- rowMeans(loading[,c(16,40,64,88,112,136,160)])\n",
    "quatre_pm <- rowMeans(loading[,c(17,41,65,89,113,137,161)])\n",
    "cinq_pm <- rowMeans(loading[,c(18,42,66,90,114,138,162)])\n",
    "six_pm <- rowMeans(loading[,c(19,43,67,91,115,139,163)])\n",
    "sept_pm <- rowMeans(loading[,c(20,44,68,92,116,140,164)])\n",
    "huit_pm <- rowMeans(loading[,c(21,45,69,93,117,141,165)])\n",
    "neuf_pm <- rowMeans(loading[,c(22,46,70,94,118,142,166)])\n",
    "dix_pm <- rowMeans(loading[,c(23,47,71,95,119,143,167)])\n",
    "onze_pm <- rowMeans(loading[,c(24,48,72,96,120,144,168)])\n",
    "df1 <- data.frame(Minuit = minuit_am, \"une h\" = une_am, \"2h\" = deux_am, \"3h\" = trois_am, \"4h\" = quatre_am, \"5h\" = cinq_am, \"6h\" = six_am, \"7h\" = sept_am, \"8h\" = huit_am, \"9h\" = neuf_am\n",
    "                 , \"10h\" = dix_am, \"11h\" = onze_am, \"12h\" = minuit_pm, \"13h\" = une_pm, \"14h\" = deux_pm, \"15h\" = trois_pm, \"16h\" = quatre_pm, \"17h\" = cinq_pm, \"18h\" = six_pm, \n",
    "                \"19h\" = sept_pm, \"20h\" = huit_pm, \"21h\" = neuf_pm, \"22h\" = dix_pm, \"23h\" = onze_pm)\n",
    "\n",
    "colnames(df1) <- list(\"0h\", \"1h\", \"2h\",\"3h\", \"4h\", \"5h\", \"6h\", \"7h\", \"8h\", \"9h\", \"10h\", \"11h\", \"12h\", \"13h\", \"14h\", \"15h\", \"16h\", \"17h\", \"18h\", \"19h\", \"20h\", \"21h\", \"22h\", \"23h\")\n",
    "remplacer_valeurs <- function(valeur) {\n",
    "  ifelse(valeur >= 0 & valeur <= 0.2, \"-\", \n",
    "         ifelse(valeur > 0.2 & valeur <= 0.6, \"=\", \"+\"))\n",
    "}\n",
    "df1 <- as.data.frame(sapply(df1, remplacer_valeurs))\n",
    "df1$Station <- velib$names\n",
    "df1$Hill <- as.factor(coord$bonus)\n",
    "df1$Station <- as.factor(df1$Station)\n",
    "df1[] <- lapply(df1, as.factor)\n",
    "head(df1)"
   ]
  },
  {
   "cell_type": "code",
   "execution_count": null,
   "id": "1882203a-d4b7-4c25-bb90-e84f012700d2",
   "metadata": {},
   "outputs": [],
   "source": [
    "res.mca1 = MCA(df1[c(1:24,26)],graph=FALSE)\n",
    "head(res.mca1$eig)\n",
    "\n",
    "fviz_screeplot(res.mca1, addlabels=TRUE)\n",
    "fviz_screeplot(res.mca1, addlabels=TRUE, ncp=7)\n",
    "fviz_mca_biplot(res.mca1)\n",
    "fviz_mca_biplot(res.mca1, axes=c(1,3))"
   ]
  },
  {
   "cell_type": "code",
   "execution_count": null,
   "id": "75523bd8-2d69-48af-a959-e4a377c8c0c3",
   "metadata": {},
   "outputs": [],
   "source": [
    "fviz_contrib(res.mca1, choice=\"var\", axes=1, top=20)\n",
    "\n",
    "fviz_contrib(res.mca1, choice=\"var\", axes=2, top=20)\n",
    "\n",
    "fviz_contrib(res.mca1, choice=\"var\", axes=3, top=20)"
   ]
  },
  {
   "cell_type": "code",
   "execution_count": null,
   "id": "a41cbf4a-0e4c-4405-9fe0-520eba0bcac5",
   "metadata": {},
   "outputs": [],
   "source": [
    "fviz_mca_var(res.mca1, col.var = \"contrib\",\n",
    "             gradient.cols = c(\"blue\", \"yellow\", \"red\"), axes=c(1,2),\n",
    "             repel = TRUE)\n",
    "fviz_mca_var(res.mca1, col.var = \"contrib\",\n",
    "             gradient.cols = c(\"blue\", \"yellow\", \"red\"), axes=c(1,3),\n",
    "             repel = TRUE)"
   ]
  },
  {
   "cell_type": "code",
   "execution_count": null,
   "id": "4cd67586-adc1-48d0-9771-eec5a9e84ac9",
   "metadata": {},
   "outputs": [],
   "source": [
    "resBICall = mclustBIC(res.mca1$ind$coord, G=1:10)\n",
    "summary(resBICall)\n",
    "\n",
    "# --- #\n",
    "\n",
    "resBICall = Mclust(res.mca1$ind$coord, G=1:10)\n",
    "summary(resBICall)\n",
    "\n",
    "\n",
    "fviz_mclust(resBICall, what=\"BIC\")"
   ]
  },
  {
   "cell_type": "code",
   "execution_count": null,
   "id": "f50c1c25-5ca3-4df3-a851-4ac6fa135463",
   "metadata": {},
   "outputs": [],
   "source": [
    "options(repr.plot.width = 10, repr.plot.height = 6)\n",
    "resBICmca = Mclust(res.mca1$ind$coord, G=4, modelNames = \"EEV\")\n",
    "fviz_cluster(resBICmca, data=res.mca1$ind$coord, ellipse.type=\"norm\", geom=\"point\")\n",
    "\n",
    "aux = data.frame(\n",
    "    label = paste(\"Cluster\", resBICmca$classification, sep=\"\"), \n",
    "    proba = apply(resBICmca$z, 1, max))\n",
    "\n",
    "ggplot(aux, aes(x=label, y=proba)) + \n",
    "    geom_boxplot(colour=1:4, fill=1:4, alpha=.4)"
   ]
  },
  {
   "cell_type": "code",
   "execution_count": null,
   "id": "a01378d5-fc72-4e7b-82e9-e6ead1053570",
   "metadata": {},
   "outputs": [],
   "source": [
    "options(repr.plot.width = 9, repr.plot.height = 6)\n",
    "fviz_mca_biplot(res.mca1, col.ind = as.factor(resBICmca$classification), geom = c(\"point\"))\n",
    "fviz_mca_var(res.mca1, repel = TRUE)\n",
    "fviz_mca_biplot(res.mca1, col.ind = as.factor(resBICmca$classification), geom = c(\"point\"), axes = c(2,3))\n",
    "fviz_mca_var(res.mca1, repel = TRUE, axes = c(2,3))"
   ]
  },
  {
   "cell_type": "code",
   "execution_count": null,
   "id": "d42b5743-7440-4081-8bfd-28a61537ac56",
   "metadata": {},
   "outputs": [],
   "source": [
    "mean_loadings_mca <- aggregate(loading[, -169], by = list(cluster = resBICmca$classification), FUN = mean)\n",
    "\n",
    "mean_loadings_melted_mca <- melt(mean_loadings_mca, id.vars = \"cluster\")\n",
    "\n",
    "ggplot(mean_loadings_melted_mca, aes(x = variable, y = value, color = factor(cluster), group = cluster)) +\n",
    "  geom_line() +\n",
    "  labs(title = \"Chargement moyen des stations par cluster\", x = \"Temps en heures\", y = \"Chargement\") +\n",
    "  scale_color_discrete(name = \"Cluster\")"
   ]
  },
  {
   "cell_type": "code",
   "execution_count": null,
   "id": "89110aa7-dac7-46fd-b548-10c943f30522",
   "metadata": {},
   "outputs": [],
   "source": [
    "cluster_palette <- colorFactor(c(\"#E41A1C\",\"#4DAF4A\",\"#377EB8\",\"#FF7F00\"), domain = unique(resBICmca$classification))  # Utiliser la palette viridis avec 10 couleurs\n",
    "\n",
    "leaflet(velib$position) %>% \n",
    "  addTiles(urlTemplate = \"https://{s}.basemaps.cartocdn.com/light_all/{z}/{x}/{y}{r}.png\", \n",
    "           attribution = 'Map tiles by Carto, under CC BY 3.0. Data by OpenStreetMap, under ODbL.') %>% \n",
    "  addCircleMarkers(radius = 3,\n",
    "                   color = ~cluster_palette(resBICmca$classification),\n",
    "                   stroke = FALSE, \n",
    "                   fillOpacity = 0.9) %>%\n",
    "addLegend(position = \"bottomright\", \n",
    "            pal = cluster_palette, \n",
    "            values = ~resBICmca$classification,\n",
    "            title = \"Cluster\",\n",
    "            opacity = 1)"
   ]
  },
  {
   "cell_type": "code",
   "execution_count": null,
   "id": "3b848fe0-b62d-4076-b9b2-fd5bf9047364",
   "metadata": {},
   "outputs": [],
   "source": [
    "def_pred_station <- function(coord1, coord2) {\n",
    "    min <- 1000\n",
    "    r <- 1\n",
    "    for (i in 1:nrow(coord)) {\n",
    "        resultat <- sqrt((coord1 - coord[i,1])^2 + (coord2 - coord[i,2])^2)\n",
    "        if (resultat < min) {\n",
    "            min <- resultat\n",
    "            r <- i\n",
    "        }\n",
    "    }\n",
    "    result <- reskmeans$cluster[i]\n",
    "    return(result)\n",
    "}"
   ]
  },
  {
   "cell_type": "code",
   "execution_count": null,
   "id": "aacb8371-3593-4e16-bf3f-77f91ce8ba56",
   "metadata": {},
   "outputs": [],
   "source": [
    "def_pred_station(2.35,48.45)"
   ]
  }
 ],
 "metadata": {
  "kernelspec": {
   "display_name": "R",
   "language": "R",
   "name": "ir"
  },
  "language_info": {
   "codemirror_mode": "r",
   "file_extension": ".r",
   "mimetype": "text/x-r-source",
   "name": "R",
   "pygments_lexer": "r",
   "version": "3.6.1"
  }
 },
 "nbformat": 4,
 "nbformat_minor": 5
}
