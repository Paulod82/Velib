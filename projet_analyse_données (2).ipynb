{
 "cells": [
  {
   "cell_type": "markdown",
   "id": "e36632dd",
   "metadata": {},
   "source": [
    "# PROJET ANALYSE DE DONNEES\n",
    "#### Etude des stations de location de vélos dans Paris"
   ]
  },
  {
   "cell_type": "code",
   "execution_count": 20,
   "id": "489156aa",
   "metadata": {
    "tags": []
   },
   "outputs": [],
   "source": [
    "import pandas as pd\n",
    "import numpy as np\n",
    "import random as rd\n",
    "import matplotlib.pyplot as plt\n",
    "import seaborn as sns\n",
    "sns.set_style('darkgrid')\n",
    "\n",
    "%matplotlib inline"
   ]
  },
  {
   "cell_type": "markdown",
   "id": "f6fd13d6",
   "metadata": {},
   "source": [
    "Les données suivants représentent le taux de disponibilité des vélos dans toutes les stations de Paris. Nous avons accés à cette valeur toutes les heures de chaque jour de la semaine sur la période du 2 septembre au 7 septembre 2014."
   ]
  },
  {
   "cell_type": "markdown",
   "id": "843e0095",
   "metadata": {},
   "source": [
    "Plus le taux est proche de 1 plus la stations a de vélos disponibles. Inversement, quand ce taux est proche de 0 alors il y a de moins en moins de vélos libres dans la station."
   ]
  },
  {
   "cell_type": "markdown",
   "id": "bd9b16c6",
   "metadata": {},
   "source": [
    "## Présentation des données"
   ]
  },
  {
   "cell_type": "markdown",
   "id": "ae8c1e6f",
   "metadata": {},
   "source": [
    "Nous allons ici importer toutes les données mises à notre disposition."
   ]
  },
  {
   "cell_type": "code",
   "execution_count": 21,
   "id": "b2afeac7",
   "metadata": {
    "scrolled": true,
    "tags": []
   },
   "outputs": [
    {
     "data": {
      "text/html": [
       "<div>\n",
       "<style scoped>\n",
       "    .dataframe tbody tr th:only-of-type {\n",
       "        vertical-align: middle;\n",
       "    }\n",
       "\n",
       "    .dataframe tbody tr th {\n",
       "        vertical-align: top;\n",
       "    }\n",
       "\n",
       "    .dataframe thead th {\n",
       "        text-align: right;\n",
       "    }\n",
       "</style>\n",
       "<table border=\"1\" class=\"dataframe\">\n",
       "  <thead>\n",
       "    <tr style=\"text-align: right;\">\n",
       "      <th></th>\n",
       "      <th>Lun-00</th>\n",
       "      <th>Lun-01</th>\n",
       "      <th>Lun-02</th>\n",
       "      <th>Lun-03</th>\n",
       "      <th>Lun-04</th>\n",
       "      <th>Lun-05</th>\n",
       "      <th>Lun-06</th>\n",
       "      <th>Lun-07</th>\n",
       "      <th>Lun-08</th>\n",
       "      <th>Lun-09</th>\n",
       "      <th>...</th>\n",
       "      <th>Dim-14</th>\n",
       "      <th>Dim-15</th>\n",
       "      <th>Dim-16</th>\n",
       "      <th>Dim-17</th>\n",
       "      <th>Dim-18</th>\n",
       "      <th>Dim-19</th>\n",
       "      <th>Dim-20</th>\n",
       "      <th>Dim-21</th>\n",
       "      <th>Dim-22</th>\n",
       "      <th>Dim-23</th>\n",
       "    </tr>\n",
       "  </thead>\n",
       "  <tbody>\n",
       "    <tr>\n",
       "      <th>1</th>\n",
       "      <td>0.038462</td>\n",
       "      <td>0.038462</td>\n",
       "      <td>0.076923</td>\n",
       "      <td>0.038462</td>\n",
       "      <td>0.038462</td>\n",
       "      <td>0.038462</td>\n",
       "      <td>0.038462</td>\n",
       "      <td>0.038462</td>\n",
       "      <td>0.107143</td>\n",
       "      <td>0.000000</td>\n",
       "      <td>...</td>\n",
       "      <td>0.296296</td>\n",
       "      <td>0.111111</td>\n",
       "      <td>0.111111</td>\n",
       "      <td>0.148148</td>\n",
       "      <td>0.307692</td>\n",
       "      <td>0.076923</td>\n",
       "      <td>0.115385</td>\n",
       "      <td>0.076923</td>\n",
       "      <td>0.153846</td>\n",
       "      <td>0.153846</td>\n",
       "    </tr>\n",
       "    <tr>\n",
       "      <th>2</th>\n",
       "      <td>0.478261</td>\n",
       "      <td>0.478261</td>\n",
       "      <td>0.478261</td>\n",
       "      <td>0.434783</td>\n",
       "      <td>0.434783</td>\n",
       "      <td>0.434783</td>\n",
       "      <td>0.434783</td>\n",
       "      <td>0.434783</td>\n",
       "      <td>0.260870</td>\n",
       "      <td>0.043478</td>\n",
       "      <td>...</td>\n",
       "      <td>0.043478</td>\n",
       "      <td>0.000000</td>\n",
       "      <td>0.217391</td>\n",
       "      <td>0.130435</td>\n",
       "      <td>0.045455</td>\n",
       "      <td>0.173913</td>\n",
       "      <td>0.173913</td>\n",
       "      <td>0.173913</td>\n",
       "      <td>0.260870</td>\n",
       "      <td>0.391304</td>\n",
       "    </tr>\n",
       "    <tr>\n",
       "      <th>3</th>\n",
       "      <td>0.218182</td>\n",
       "      <td>0.145455</td>\n",
       "      <td>0.127273</td>\n",
       "      <td>0.109091</td>\n",
       "      <td>0.109091</td>\n",
       "      <td>0.109091</td>\n",
       "      <td>0.090909</td>\n",
       "      <td>0.090909</td>\n",
       "      <td>0.054545</td>\n",
       "      <td>0.109091</td>\n",
       "      <td>...</td>\n",
       "      <td>0.259259</td>\n",
       "      <td>0.259259</td>\n",
       "      <td>0.203704</td>\n",
       "      <td>0.129630</td>\n",
       "      <td>0.148148</td>\n",
       "      <td>0.296296</td>\n",
       "      <td>0.314815</td>\n",
       "      <td>0.370370</td>\n",
       "      <td>0.370370</td>\n",
       "      <td>0.407407</td>\n",
       "    </tr>\n",
       "    <tr>\n",
       "      <th>4</th>\n",
       "      <td>0.952381</td>\n",
       "      <td>0.952381</td>\n",
       "      <td>0.952381</td>\n",
       "      <td>0.952381</td>\n",
       "      <td>0.952381</td>\n",
       "      <td>0.952381</td>\n",
       "      <td>0.952381</td>\n",
       "      <td>1.000000</td>\n",
       "      <td>1.000000</td>\n",
       "      <td>1.000000</td>\n",
       "      <td>...</td>\n",
       "      <td>1.000000</td>\n",
       "      <td>1.000000</td>\n",
       "      <td>0.904762</td>\n",
       "      <td>0.857143</td>\n",
       "      <td>0.857143</td>\n",
       "      <td>0.857143</td>\n",
       "      <td>0.761905</td>\n",
       "      <td>0.761905</td>\n",
       "      <td>0.761905</td>\n",
       "      <td>0.761905</td>\n",
       "    </tr>\n",
       "    <tr>\n",
       "      <th>5</th>\n",
       "      <td>0.927536</td>\n",
       "      <td>0.811594</td>\n",
       "      <td>0.739130</td>\n",
       "      <td>0.724638</td>\n",
       "      <td>0.724638</td>\n",
       "      <td>0.724638</td>\n",
       "      <td>0.724638</td>\n",
       "      <td>0.724638</td>\n",
       "      <td>0.753623</td>\n",
       "      <td>0.971014</td>\n",
       "      <td>...</td>\n",
       "      <td>0.227273</td>\n",
       "      <td>0.454545</td>\n",
       "      <td>0.590909</td>\n",
       "      <td>0.833333</td>\n",
       "      <td>1.000000</td>\n",
       "      <td>0.818182</td>\n",
       "      <td>0.636364</td>\n",
       "      <td>0.712121</td>\n",
       "      <td>0.621212</td>\n",
       "      <td>0.575758</td>\n",
       "    </tr>\n",
       "    <tr>\n",
       "      <th>...</th>\n",
       "      <td>...</td>\n",
       "      <td>...</td>\n",
       "      <td>...</td>\n",
       "      <td>...</td>\n",
       "      <td>...</td>\n",
       "      <td>...</td>\n",
       "      <td>...</td>\n",
       "      <td>...</td>\n",
       "      <td>...</td>\n",
       "      <td>...</td>\n",
       "      <td>...</td>\n",
       "      <td>...</td>\n",
       "      <td>...</td>\n",
       "      <td>...</td>\n",
       "      <td>...</td>\n",
       "      <td>...</td>\n",
       "      <td>...</td>\n",
       "      <td>...</td>\n",
       "      <td>...</td>\n",
       "      <td>...</td>\n",
       "      <td>...</td>\n",
       "    </tr>\n",
       "    <tr>\n",
       "      <th>1185</th>\n",
       "      <td>0.000000</td>\n",
       "      <td>0.000000</td>\n",
       "      <td>0.000000</td>\n",
       "      <td>0.000000</td>\n",
       "      <td>0.000000</td>\n",
       "      <td>0.045455</td>\n",
       "      <td>0.000000</td>\n",
       "      <td>0.090909</td>\n",
       "      <td>0.136364</td>\n",
       "      <td>0.000000</td>\n",
       "      <td>...</td>\n",
       "      <td>0.043478</td>\n",
       "      <td>0.173913</td>\n",
       "      <td>0.043478</td>\n",
       "      <td>0.086957</td>\n",
       "      <td>0.086957</td>\n",
       "      <td>0.304348</td>\n",
       "      <td>0.304348</td>\n",
       "      <td>0.130435</td>\n",
       "      <td>0.086957</td>\n",
       "      <td>0.086957</td>\n",
       "    </tr>\n",
       "    <tr>\n",
       "      <th>1186</th>\n",
       "      <td>0.200000</td>\n",
       "      <td>0.133333</td>\n",
       "      <td>0.155556</td>\n",
       "      <td>0.177778</td>\n",
       "      <td>0.177778</td>\n",
       "      <td>0.177778</td>\n",
       "      <td>0.200000</td>\n",
       "      <td>0.177778</td>\n",
       "      <td>0.288889</td>\n",
       "      <td>0.511111</td>\n",
       "      <td>...</td>\n",
       "      <td>0.266667</td>\n",
       "      <td>0.288889</td>\n",
       "      <td>0.155556</td>\n",
       "      <td>0.222222</td>\n",
       "      <td>0.333333</td>\n",
       "      <td>0.311111</td>\n",
       "      <td>0.355556</td>\n",
       "      <td>0.377778</td>\n",
       "      <td>0.333333</td>\n",
       "      <td>0.355556</td>\n",
       "    </tr>\n",
       "    <tr>\n",
       "      <th>1187</th>\n",
       "      <td>0.551724</td>\n",
       "      <td>0.517241</td>\n",
       "      <td>0.551724</td>\n",
       "      <td>0.517241</td>\n",
       "      <td>0.517241</td>\n",
       "      <td>0.551724</td>\n",
       "      <td>0.551724</td>\n",
       "      <td>0.448276</td>\n",
       "      <td>0.241379</td>\n",
       "      <td>0.034483</td>\n",
       "      <td>...</td>\n",
       "      <td>0.482759</td>\n",
       "      <td>0.310345</td>\n",
       "      <td>0.000000</td>\n",
       "      <td>0.000000</td>\n",
       "      <td>0.103448</td>\n",
       "      <td>0.379310</td>\n",
       "      <td>0.310345</td>\n",
       "      <td>0.310345</td>\n",
       "      <td>0.344828</td>\n",
       "      <td>0.482759</td>\n",
       "    </tr>\n",
       "    <tr>\n",
       "      <th>1188</th>\n",
       "      <td>0.476190</td>\n",
       "      <td>0.428571</td>\n",
       "      <td>0.428571</td>\n",
       "      <td>0.428571</td>\n",
       "      <td>0.428571</td>\n",
       "      <td>0.428571</td>\n",
       "      <td>0.476190</td>\n",
       "      <td>0.523810</td>\n",
       "      <td>0.428571</td>\n",
       "      <td>0.476190</td>\n",
       "      <td>...</td>\n",
       "      <td>0.880000</td>\n",
       "      <td>0.760000</td>\n",
       "      <td>0.750000</td>\n",
       "      <td>0.958333</td>\n",
       "      <td>1.000000</td>\n",
       "      <td>0.791667</td>\n",
       "      <td>0.791667</td>\n",
       "      <td>0.500000</td>\n",
       "      <td>0.434783</td>\n",
       "      <td>0.478261</td>\n",
       "    </tr>\n",
       "    <tr>\n",
       "      <th>1189</th>\n",
       "      <td>0.937500</td>\n",
       "      <td>0.968750</td>\n",
       "      <td>0.906250</td>\n",
       "      <td>0.875000</td>\n",
       "      <td>0.906250</td>\n",
       "      <td>0.906250</td>\n",
       "      <td>0.937500</td>\n",
       "      <td>0.937500</td>\n",
       "      <td>0.968750</td>\n",
       "      <td>1.000000</td>\n",
       "      <td>...</td>\n",
       "      <td>1.000000</td>\n",
       "      <td>1.000000</td>\n",
       "      <td>0.687500</td>\n",
       "      <td>0.550000</td>\n",
       "      <td>0.950000</td>\n",
       "      <td>0.444444</td>\n",
       "      <td>0.526316</td>\n",
       "      <td>0.894737</td>\n",
       "      <td>0.947368</td>\n",
       "      <td>0.833333</td>\n",
       "    </tr>\n",
       "  </tbody>\n",
       "</table>\n",
       "<p>1189 rows × 168 columns</p>\n",
       "</div>"
      ],
      "text/plain": [
       "        Lun-00    Lun-01    Lun-02    Lun-03    Lun-04    Lun-05    Lun-06  \\\n",
       "1     0.038462  0.038462  0.076923  0.038462  0.038462  0.038462  0.038462   \n",
       "2     0.478261  0.478261  0.478261  0.434783  0.434783  0.434783  0.434783   \n",
       "3     0.218182  0.145455  0.127273  0.109091  0.109091  0.109091  0.090909   \n",
       "4     0.952381  0.952381  0.952381  0.952381  0.952381  0.952381  0.952381   \n",
       "5     0.927536  0.811594  0.739130  0.724638  0.724638  0.724638  0.724638   \n",
       "...        ...       ...       ...       ...       ...       ...       ...   \n",
       "1185  0.000000  0.000000  0.000000  0.000000  0.000000  0.045455  0.000000   \n",
       "1186  0.200000  0.133333  0.155556  0.177778  0.177778  0.177778  0.200000   \n",
       "1187  0.551724  0.517241  0.551724  0.517241  0.517241  0.551724  0.551724   \n",
       "1188  0.476190  0.428571  0.428571  0.428571  0.428571  0.428571  0.476190   \n",
       "1189  0.937500  0.968750  0.906250  0.875000  0.906250  0.906250  0.937500   \n",
       "\n",
       "        Lun-07    Lun-08    Lun-09  ...    Dim-14    Dim-15    Dim-16  \\\n",
       "1     0.038462  0.107143  0.000000  ...  0.296296  0.111111  0.111111   \n",
       "2     0.434783  0.260870  0.043478  ...  0.043478  0.000000  0.217391   \n",
       "3     0.090909  0.054545  0.109091  ...  0.259259  0.259259  0.203704   \n",
       "4     1.000000  1.000000  1.000000  ...  1.000000  1.000000  0.904762   \n",
       "5     0.724638  0.753623  0.971014  ...  0.227273  0.454545  0.590909   \n",
       "...        ...       ...       ...  ...       ...       ...       ...   \n",
       "1185  0.090909  0.136364  0.000000  ...  0.043478  0.173913  0.043478   \n",
       "1186  0.177778  0.288889  0.511111  ...  0.266667  0.288889  0.155556   \n",
       "1187  0.448276  0.241379  0.034483  ...  0.482759  0.310345  0.000000   \n",
       "1188  0.523810  0.428571  0.476190  ...  0.880000  0.760000  0.750000   \n",
       "1189  0.937500  0.968750  1.000000  ...  1.000000  1.000000  0.687500   \n",
       "\n",
       "        Dim-17    Dim-18    Dim-19    Dim-20    Dim-21    Dim-22    Dim-23  \n",
       "1     0.148148  0.307692  0.076923  0.115385  0.076923  0.153846  0.153846  \n",
       "2     0.130435  0.045455  0.173913  0.173913  0.173913  0.260870  0.391304  \n",
       "3     0.129630  0.148148  0.296296  0.314815  0.370370  0.370370  0.407407  \n",
       "4     0.857143  0.857143  0.857143  0.761905  0.761905  0.761905  0.761905  \n",
       "5     0.833333  1.000000  0.818182  0.636364  0.712121  0.621212  0.575758  \n",
       "...        ...       ...       ...       ...       ...       ...       ...  \n",
       "1185  0.086957  0.086957  0.304348  0.304348  0.130435  0.086957  0.086957  \n",
       "1186  0.222222  0.333333  0.311111  0.355556  0.377778  0.333333  0.355556  \n",
       "1187  0.000000  0.103448  0.379310  0.310345  0.310345  0.344828  0.482759  \n",
       "1188  0.958333  1.000000  0.791667  0.791667  0.500000  0.434783  0.478261  \n",
       "1189  0.550000  0.950000  0.444444  0.526316  0.894737  0.947368  0.833333  \n",
       "\n",
       "[1189 rows x 168 columns]"
      ]
     },
     "execution_count": 21,
     "metadata": {},
     "output_type": "execute_result"
    }
   ],
   "source": [
    "loading = pd.read_csv('data/velibLoading.csv', sep = \" \")\n",
    "\n",
    "loading\n"
   ]
  },
  {
   "cell_type": "markdown",
   "id": "13464274",
   "metadata": {},
   "source": [
    "Il y a 168 colonnes qui représentent le total des heures dans une semaine. Les 1189 lignes correspondent aux données de toutes les stations de Paris que nous étudions ici."
   ]
  },
  {
   "cell_type": "code",
   "execution_count": 22,
   "id": "a1cc127f",
   "metadata": {
    "scrolled": true,
    "tags": []
   },
   "outputs": [
    {
     "data": {
      "text/html": [
       "<div>\n",
       "<style scoped>\n",
       "    .dataframe tbody tr th:only-of-type {\n",
       "        vertical-align: middle;\n",
       "    }\n",
       "\n",
       "    .dataframe tbody tr th {\n",
       "        vertical-align: top;\n",
       "    }\n",
       "\n",
       "    .dataframe thead th {\n",
       "        text-align: right;\n",
       "    }\n",
       "</style>\n",
       "<table border=\"1\" class=\"dataframe\">\n",
       "  <thead>\n",
       "    <tr style=\"text-align: right;\">\n",
       "      <th></th>\n",
       "      <th>Lun-00</th>\n",
       "      <th>Lun-01</th>\n",
       "      <th>Lun-02</th>\n",
       "      <th>Lun-03</th>\n",
       "      <th>Lun-04</th>\n",
       "      <th>Lun-05</th>\n",
       "      <th>Lun-06</th>\n",
       "      <th>Lun-07</th>\n",
       "      <th>Lun-08</th>\n",
       "      <th>Lun-09</th>\n",
       "      <th>...</th>\n",
       "      <th>Dim-14</th>\n",
       "      <th>Dim-15</th>\n",
       "      <th>Dim-16</th>\n",
       "      <th>Dim-17</th>\n",
       "      <th>Dim-18</th>\n",
       "      <th>Dim-19</th>\n",
       "      <th>Dim-20</th>\n",
       "      <th>Dim-21</th>\n",
       "      <th>Dim-22</th>\n",
       "      <th>Dim-23</th>\n",
       "    </tr>\n",
       "  </thead>\n",
       "  <tbody>\n",
       "    <tr>\n",
       "      <th>count</th>\n",
       "      <td>1189.000000</td>\n",
       "      <td>1189.000000</td>\n",
       "      <td>1189.000000</td>\n",
       "      <td>1189.000000</td>\n",
       "      <td>1189.000000</td>\n",
       "      <td>1189.000000</td>\n",
       "      <td>1189.000000</td>\n",
       "      <td>1189.000000</td>\n",
       "      <td>1189.000000</td>\n",
       "      <td>1189.000000</td>\n",
       "      <td>...</td>\n",
       "      <td>1189.000000</td>\n",
       "      <td>1189.000000</td>\n",
       "      <td>1189.000000</td>\n",
       "      <td>1189.000000</td>\n",
       "      <td>1189.000000</td>\n",
       "      <td>1189.000000</td>\n",
       "      <td>1189.000000</td>\n",
       "      <td>1189.000000</td>\n",
       "      <td>1189.000000</td>\n",
       "      <td>1189.000000</td>\n",
       "    </tr>\n",
       "    <tr>\n",
       "      <th>mean</th>\n",
       "      <td>0.401503</td>\n",
       "      <td>0.408770</td>\n",
       "      <td>0.411718</td>\n",
       "      <td>0.415161</td>\n",
       "      <td>0.417136</td>\n",
       "      <td>0.421650</td>\n",
       "      <td>0.419860</td>\n",
       "      <td>0.415729</td>\n",
       "      <td>0.384658</td>\n",
       "      <td>0.326331</td>\n",
       "      <td>...</td>\n",
       "      <td>0.346147</td>\n",
       "      <td>0.325526</td>\n",
       "      <td>0.311334</td>\n",
       "      <td>0.306399</td>\n",
       "      <td>0.314730</td>\n",
       "      <td>0.334080</td>\n",
       "      <td>0.353493</td>\n",
       "      <td>0.385975</td>\n",
       "      <td>0.392552</td>\n",
       "      <td>0.397529</td>\n",
       "    </tr>\n",
       "    <tr>\n",
       "      <th>std</th>\n",
       "      <td>0.337079</td>\n",
       "      <td>0.335566</td>\n",
       "      <td>0.336132</td>\n",
       "      <td>0.337158</td>\n",
       "      <td>0.332237</td>\n",
       "      <td>0.326644</td>\n",
       "      <td>0.323422</td>\n",
       "      <td>0.319302</td>\n",
       "      <td>0.303621</td>\n",
       "      <td>0.314026</td>\n",
       "      <td>...</td>\n",
       "      <td>0.340516</td>\n",
       "      <td>0.339897</td>\n",
       "      <td>0.336863</td>\n",
       "      <td>0.331194</td>\n",
       "      <td>0.322904</td>\n",
       "      <td>0.317279</td>\n",
       "      <td>0.317572</td>\n",
       "      <td>0.328448</td>\n",
       "      <td>0.335061</td>\n",
       "      <td>0.341536</td>\n",
       "    </tr>\n",
       "    <tr>\n",
       "      <th>min</th>\n",
       "      <td>0.000000</td>\n",
       "      <td>0.000000</td>\n",
       "      <td>0.000000</td>\n",
       "      <td>0.000000</td>\n",
       "      <td>0.000000</td>\n",
       "      <td>0.000000</td>\n",
       "      <td>0.000000</td>\n",
       "      <td>0.000000</td>\n",
       "      <td>0.000000</td>\n",
       "      <td>0.000000</td>\n",
       "      <td>...</td>\n",
       "      <td>0.000000</td>\n",
       "      <td>0.000000</td>\n",
       "      <td>0.000000</td>\n",
       "      <td>0.000000</td>\n",
       "      <td>0.000000</td>\n",
       "      <td>0.000000</td>\n",
       "      <td>0.000000</td>\n",
       "      <td>0.000000</td>\n",
       "      <td>0.000000</td>\n",
       "      <td>0.000000</td>\n",
       "    </tr>\n",
       "    <tr>\n",
       "      <th>25%</th>\n",
       "      <td>0.093750</td>\n",
       "      <td>0.093023</td>\n",
       "      <td>0.096774</td>\n",
       "      <td>0.100000</td>\n",
       "      <td>0.108696</td>\n",
       "      <td>0.114286</td>\n",
       "      <td>0.114286</td>\n",
       "      <td>0.117647</td>\n",
       "      <td>0.114286</td>\n",
       "      <td>0.047619</td>\n",
       "      <td>...</td>\n",
       "      <td>0.051282</td>\n",
       "      <td>0.041667</td>\n",
       "      <td>0.038462</td>\n",
       "      <td>0.043478</td>\n",
       "      <td>0.052632</td>\n",
       "      <td>0.071429</td>\n",
       "      <td>0.080000</td>\n",
       "      <td>0.095238</td>\n",
       "      <td>0.086957</td>\n",
       "      <td>0.090909</td>\n",
       "    </tr>\n",
       "    <tr>\n",
       "      <th>50%</th>\n",
       "      <td>0.312500</td>\n",
       "      <td>0.333333</td>\n",
       "      <td>0.342857</td>\n",
       "      <td>0.350000</td>\n",
       "      <td>0.357143</td>\n",
       "      <td>0.363636</td>\n",
       "      <td>0.360000</td>\n",
       "      <td>0.360000</td>\n",
       "      <td>0.320000</td>\n",
       "      <td>0.215385</td>\n",
       "      <td>...</td>\n",
       "      <td>0.204082</td>\n",
       "      <td>0.166667</td>\n",
       "      <td>0.151515</td>\n",
       "      <td>0.142857</td>\n",
       "      <td>0.172414</td>\n",
       "      <td>0.200000</td>\n",
       "      <td>0.238095</td>\n",
       "      <td>0.285714</td>\n",
       "      <td>0.292683</td>\n",
       "      <td>0.292683</td>\n",
       "    </tr>\n",
       "    <tr>\n",
       "      <th>75%</th>\n",
       "      <td>0.694444</td>\n",
       "      <td>0.705882</td>\n",
       "      <td>0.708333</td>\n",
       "      <td>0.710526</td>\n",
       "      <td>0.700000</td>\n",
       "      <td>0.700000</td>\n",
       "      <td>0.700000</td>\n",
       "      <td>0.687500</td>\n",
       "      <td>0.636364</td>\n",
       "      <td>0.575000</td>\n",
       "      <td>...</td>\n",
       "      <td>0.651163</td>\n",
       "      <td>0.608696</td>\n",
       "      <td>0.555556</td>\n",
       "      <td>0.550000</td>\n",
       "      <td>0.550000</td>\n",
       "      <td>0.558140</td>\n",
       "      <td>0.600000</td>\n",
       "      <td>0.666667</td>\n",
       "      <td>0.666667</td>\n",
       "      <td>0.692308</td>\n",
       "    </tr>\n",
       "    <tr>\n",
       "      <th>max</th>\n",
       "      <td>1.000000</td>\n",
       "      <td>1.000000</td>\n",
       "      <td>1.000000</td>\n",
       "      <td>1.000000</td>\n",
       "      <td>1.000000</td>\n",
       "      <td>1.000000</td>\n",
       "      <td>1.000000</td>\n",
       "      <td>1.000000</td>\n",
       "      <td>1.000000</td>\n",
       "      <td>1.000000</td>\n",
       "      <td>...</td>\n",
       "      <td>1.000000</td>\n",
       "      <td>1.000000</td>\n",
       "      <td>1.000000</td>\n",
       "      <td>1.000000</td>\n",
       "      <td>1.000000</td>\n",
       "      <td>1.000000</td>\n",
       "      <td>1.000000</td>\n",
       "      <td>1.000000</td>\n",
       "      <td>1.000000</td>\n",
       "      <td>1.000000</td>\n",
       "    </tr>\n",
       "  </tbody>\n",
       "</table>\n",
       "<p>8 rows × 168 columns</p>\n",
       "</div>"
      ],
      "text/plain": [
       "            Lun-00       Lun-01       Lun-02       Lun-03       Lun-04  \\\n",
       "count  1189.000000  1189.000000  1189.000000  1189.000000  1189.000000   \n",
       "mean      0.401503     0.408770     0.411718     0.415161     0.417136   \n",
       "std       0.337079     0.335566     0.336132     0.337158     0.332237   \n",
       "min       0.000000     0.000000     0.000000     0.000000     0.000000   \n",
       "25%       0.093750     0.093023     0.096774     0.100000     0.108696   \n",
       "50%       0.312500     0.333333     0.342857     0.350000     0.357143   \n",
       "75%       0.694444     0.705882     0.708333     0.710526     0.700000   \n",
       "max       1.000000     1.000000     1.000000     1.000000     1.000000   \n",
       "\n",
       "            Lun-05       Lun-06       Lun-07       Lun-08       Lun-09  ...  \\\n",
       "count  1189.000000  1189.000000  1189.000000  1189.000000  1189.000000  ...   \n",
       "mean      0.421650     0.419860     0.415729     0.384658     0.326331  ...   \n",
       "std       0.326644     0.323422     0.319302     0.303621     0.314026  ...   \n",
       "min       0.000000     0.000000     0.000000     0.000000     0.000000  ...   \n",
       "25%       0.114286     0.114286     0.117647     0.114286     0.047619  ...   \n",
       "50%       0.363636     0.360000     0.360000     0.320000     0.215385  ...   \n",
       "75%       0.700000     0.700000     0.687500     0.636364     0.575000  ...   \n",
       "max       1.000000     1.000000     1.000000     1.000000     1.000000  ...   \n",
       "\n",
       "            Dim-14       Dim-15       Dim-16       Dim-17       Dim-18  \\\n",
       "count  1189.000000  1189.000000  1189.000000  1189.000000  1189.000000   \n",
       "mean      0.346147     0.325526     0.311334     0.306399     0.314730   \n",
       "std       0.340516     0.339897     0.336863     0.331194     0.322904   \n",
       "min       0.000000     0.000000     0.000000     0.000000     0.000000   \n",
       "25%       0.051282     0.041667     0.038462     0.043478     0.052632   \n",
       "50%       0.204082     0.166667     0.151515     0.142857     0.172414   \n",
       "75%       0.651163     0.608696     0.555556     0.550000     0.550000   \n",
       "max       1.000000     1.000000     1.000000     1.000000     1.000000   \n",
       "\n",
       "            Dim-19       Dim-20       Dim-21       Dim-22       Dim-23  \n",
       "count  1189.000000  1189.000000  1189.000000  1189.000000  1189.000000  \n",
       "mean      0.334080     0.353493     0.385975     0.392552     0.397529  \n",
       "std       0.317279     0.317572     0.328448     0.335061     0.341536  \n",
       "min       0.000000     0.000000     0.000000     0.000000     0.000000  \n",
       "25%       0.071429     0.080000     0.095238     0.086957     0.090909  \n",
       "50%       0.200000     0.238095     0.285714     0.292683     0.292683  \n",
       "75%       0.558140     0.600000     0.666667     0.666667     0.692308  \n",
       "max       1.000000     1.000000     1.000000     1.000000     1.000000  \n",
       "\n",
       "[8 rows x 168 columns]"
      ]
     },
     "execution_count": 22,
     "metadata": {},
     "output_type": "execute_result"
    }
   ],
   "source": [
    "loading.describe()"
   ]
  },
  {
   "cell_type": "markdown",
   "id": "a4ee0970",
   "metadata": {},
   "source": [
    "Les 168 colonnes represéntent comme précedemment chaque heure d'une semaine. Les lignes correspondent à differentes données calculées sur toutes les stations chaque heure."
   ]
  },
  {
   "cell_type": "markdown",
   "id": "8728e10d",
   "metadata": {},
   "source": [
    "Nous allons maintenant importer les coordonnées géographiques de chaque stations. "
   ]
  },
  {
   "cell_type": "code",
   "execution_count": 23,
   "id": "289cb490",
   "metadata": {
    "tags": []
   },
   "outputs": [
    {
     "data": {
      "text/html": [
       "<div>\n",
       "<style scoped>\n",
       "    .dataframe tbody tr th:only-of-type {\n",
       "        vertical-align: middle;\n",
       "    }\n",
       "\n",
       "    .dataframe tbody tr th {\n",
       "        vertical-align: top;\n",
       "    }\n",
       "\n",
       "    .dataframe thead th {\n",
       "        text-align: right;\n",
       "    }\n",
       "</style>\n",
       "<table border=\"1\" class=\"dataframe\">\n",
       "  <thead>\n",
       "    <tr style=\"text-align: right;\">\n",
       "      <th></th>\n",
       "      <th>longitude</th>\n",
       "      <th>latitude</th>\n",
       "      <th>bonus</th>\n",
       "      <th>names</th>\n",
       "    </tr>\n",
       "  </thead>\n",
       "  <tbody>\n",
       "    <tr>\n",
       "      <th>1</th>\n",
       "      <td>2.377389</td>\n",
       "      <td>48.886300</td>\n",
       "      <td>0</td>\n",
       "      <td>EURYALE DEHAYNIN</td>\n",
       "    </tr>\n",
       "    <tr>\n",
       "      <th>2</th>\n",
       "      <td>2.317591</td>\n",
       "      <td>48.890020</td>\n",
       "      <td>0</td>\n",
       "      <td>LEMERCIER</td>\n",
       "    </tr>\n",
       "    <tr>\n",
       "      <th>3</th>\n",
       "      <td>2.330447</td>\n",
       "      <td>48.850297</td>\n",
       "      <td>0</td>\n",
       "      <td>MEZIERES RENNES</td>\n",
       "    </tr>\n",
       "    <tr>\n",
       "      <th>4</th>\n",
       "      <td>2.271396</td>\n",
       "      <td>48.833734</td>\n",
       "      <td>0</td>\n",
       "      <td>FARMAN</td>\n",
       "    </tr>\n",
       "    <tr>\n",
       "      <th>5</th>\n",
       "      <td>2.366897</td>\n",
       "      <td>48.845887</td>\n",
       "      <td>0</td>\n",
       "      <td>QUAI DE LA RAPEE</td>\n",
       "    </tr>\n",
       "  </tbody>\n",
       "</table>\n",
       "</div>"
      ],
      "text/plain": [
       "   longitude   latitude  bonus              names\n",
       "1   2.377389  48.886300      0   EURYALE DEHAYNIN\n",
       "2   2.317591  48.890020      0          LEMERCIER\n",
       "3   2.330447  48.850297      0    MEZIERES RENNES\n",
       "4   2.271396  48.833734      0             FARMAN\n",
       "5   2.366897  48.845887      0   QUAI DE LA RAPEE"
      ]
     },
     "execution_count": 23,
     "metadata": {},
     "output_type": "execute_result"
    }
   ],
   "source": [
    "coord = pd.read_csv('data/velibCoord.csv', sep = \" \")\n",
    "\n",
    "coord.head()"
   ]
  },
  {
   "cell_type": "markdown",
   "id": "e7fa748a",
   "metadata": {},
   "source": [
    "Grace à la commande \".head\", nous avons affiché seulement les 5 premières lignes du tableau \"coord\"."
   ]
  },
  {
   "cell_type": "markdown",
   "id": "52ed2c9a",
   "metadata": {},
   "source": [
    "## Analyse descriptive des données"
   ]
  },
  {
   "cell_type": "markdown",
   "id": "c0b1329c",
   "metadata": {},
   "source": [
    "Nous regardons dans cette cellule si certaines données sont manquantes, si certaines cases sont vides. "
   ]
  },
  {
   "cell_type": "code",
   "execution_count": 24,
   "id": "8378a7cc",
   "metadata": {
    "tags": []
   },
   "outputs": [
    {
     "name": "stdout",
     "output_type": "stream",
     "text": [
      "Nombre de données manquantes dans 'loading':\n",
      "0\n",
      "Nombre de données manquantes dans 'coord':\n",
      "0\n"
     ]
    }
   ],
   "source": [
    "print(\"Nombre de données manquantes dans 'loading':\")\n",
    "print(loading.isna().sum().sum())\n",
    "print(\"Nombre de données manquantes dans 'coord':\")\n",
    "print(coord.isna().sum().sum())"
   ]
  },
  {
   "cell_type": "markdown",
   "id": "28eb1b04",
   "metadata": {},
   "source": [
    "Or ici, le résultat obtenu pour chaque tableau \"loading\" et \"coord\" est 0, il n'y a donc pas de donnée manquante ! "
   ]
  },
  {
   "cell_type": "code",
   "execution_count": 25,
   "id": "14017379",
   "metadata": {
    "tags": []
   },
   "outputs": [
    {
     "name": "stdout",
     "output_type": "stream",
     "text": [
      "--- Somme des valeurs manquantes dans 'Loading' ---\n",
      "0\n",
      "\n",
      "--- Somme des valeurs manquantes dans 'Coord' ---\n",
      "longitude    0\n",
      "latitude     0\n",
      "bonus        0\n",
      "names        0\n",
      "dtype: int64\n"
     ]
    }
   ],
   "source": [
    "loading_missing_value = loading.isna().sum().sort_values(ascending=False)\n",
    "\n",
    "print(\"--- Somme des valeurs manquantes dans 'Loading' ---\")\n",
    "print(loading_missing_value.sum())\n",
    "\n",
    "# --- #\n",
    "print('')\n",
    "\n",
    "coord_missing_value = coord.isna().sum().sort_values(ascending=False)\n",
    "\n",
    "print(\"--- Somme des valeurs manquantes dans 'Coord' ---\")\n",
    "print(coord_missing_value)"
   ]
  },
  {
   "cell_type": "markdown",
   "id": "270f521c",
   "metadata": {},
   "source": [
    "Nous affichons ici le nombre d'occurance de chaque station dans nos données."
   ]
  },
  {
   "cell_type": "code",
   "execution_count": 26,
   "id": "edb1ac80",
   "metadata": {
    "tags": []
   },
   "outputs": [
    {
     "name": "stdout",
     "output_type": "stream",
     "text": [
      "names\n",
      " PORTE DES LILAS                 3\n",
      " GARE D'AUSTERLITZ               3\n",
      " PORTE DE BAGNOLET               2\n",
      " CHERCHE MIDI                    2\n",
      " LEGENDRE                        2\n",
      "                                ..\n",
      " BEL AIR                         1\n",
      " ASSAS LUXEMBOURG                1\n",
      " COURS DE VINCENNES BD DAVOUT    1\n",
      " RUISSEAU ORDENER                1\n",
      " QUAI VOLTAIRE                   1\n",
      "Name: count, Length: 1161, dtype: int64\n"
     ]
    }
   ],
   "source": [
    "station_name = coord.names.value_counts()\n",
    "print(station_name)\n"
   ]
  },
  {
   "cell_type": "markdown",
   "id": "121d3b19",
   "metadata": {},
   "source": [
    "On peut voir dans le tableau suivant que le nom de station qui apparait 3 fois correspond à des stations dont les coordonnées géographiques sont différentes."
   ]
  },
  {
   "cell_type": "code",
   "execution_count": 27,
   "id": "971cff35",
   "metadata": {
    "scrolled": true,
    "tags": []
   },
   "outputs": [
    {
     "data": {
      "text/html": [
       "<div>\n",
       "<style scoped>\n",
       "    .dataframe tbody tr th:only-of-type {\n",
       "        vertical-align: middle;\n",
       "    }\n",
       "\n",
       "    .dataframe tbody tr th {\n",
       "        vertical-align: top;\n",
       "    }\n",
       "\n",
       "    .dataframe thead th {\n",
       "        text-align: right;\n",
       "    }\n",
       "</style>\n",
       "<table border=\"1\" class=\"dataframe\">\n",
       "  <thead>\n",
       "    <tr style=\"text-align: right;\">\n",
       "      <th></th>\n",
       "      <th>longitude</th>\n",
       "      <th>latitude</th>\n",
       "      <th>bonus</th>\n",
       "      <th>names</th>\n",
       "    </tr>\n",
       "  </thead>\n",
       "  <tbody>\n",
       "    <tr>\n",
       "      <th>362</th>\n",
       "      <td>2.404770</td>\n",
       "      <td>48.876604</td>\n",
       "      <td>1</td>\n",
       "      <td>PORTE DES LILAS</td>\n",
       "    </tr>\n",
       "    <tr>\n",
       "      <th>450</th>\n",
       "      <td>2.405960</td>\n",
       "      <td>48.875412</td>\n",
       "      <td>1</td>\n",
       "      <td>PORTE DES LILAS</td>\n",
       "    </tr>\n",
       "    <tr>\n",
       "      <th>957</th>\n",
       "      <td>2.411046</td>\n",
       "      <td>48.878099</td>\n",
       "      <td>1</td>\n",
       "      <td>PORTE DES LILAS</td>\n",
       "    </tr>\n",
       "  </tbody>\n",
       "</table>\n",
       "</div>"
      ],
      "text/plain": [
       "     longitude   latitude  bonus             names\n",
       "362   2.404770  48.876604      1   PORTE DES LILAS\n",
       "450   2.405960  48.875412      1   PORTE DES LILAS\n",
       "957   2.411046  48.878099      1   PORTE DES LILAS"
      ]
     },
     "execution_count": 27,
     "metadata": {},
     "output_type": "execute_result"
    }
   ],
   "source": [
    "name = station_name.index[0]\n",
    "coord[coord.names == name]"
   ]
  },
  {
   "cell_type": "markdown",
   "id": "16c8c1bb",
   "metadata": {},
   "source": [
    "Observons tout d'abord que les différentes moyennes des stations ne sont pas du tout homogène, et qu'il est donc, intéressant de regarder d'un peu plus près les différentes moyennes observées pour avoir une vision globale de l'impact des heures, jours et de la localisation des stations sur la comportement d'utilisation."
   ]
  },
  {
   "cell_type": "markdown",
   "id": "3bac0f1b",
   "metadata": {},
   "source": [
    "En effet, dans le graphe suivant, il est possible de voir que le taux de chargement moyen varie énormément."
   ]
  },
  {
   "cell_type": "code",
   "execution_count": 28,
   "id": "f5786d07",
   "metadata": {
    "tags": []
   },
   "outputs": [
    {
     "data": {
      "image/png": "[encoded data removed]",
      "text/plain": [
       "<Figure size 2000x600 with 1 Axes>"
      ]
     },
     "metadata": {},
     "output_type": "display_data"
    }
   ],
   "source": [
    "loading_mean = pd.Series(loading.mean(axis=1))\n",
    "# %load solutions/Python/plot_mean_stations.py\n",
    "n_stations = loading.shape[0]  # number of observed stations\n",
    "stations   = np.arange(n_stations)\n",
    "\n",
    "plt.figure(figsize = (20,6))\n",
    "\n",
    "# --- #\n",
    "\n",
    "plt.plot(loading_mean)\n",
    "plt.hlines(y = loading.mean().mean(), xmin=0, xmax=n_stations, \n",
    "           colors = \"OrangeRed\", linewidth = 3)\n",
    "\n",
    "# --- #\n",
    "\n",
    "plt.xlabel('Stations', fontsize = 20)\n",
    "plt.ylabel('Average loading', fontsize = 20)\n",
    "plt.title(\"Average loading per station\", fontsize = 25)\n",
    "plt.xticks(fontsize = 15)\n",
    "plt.yticks(fontsize = 15)\n",
    "\n",
    "plt.tight_layout()\n",
    "plt.show()"
   ]
  },
  {
   "cell_type": "markdown",
   "id": "02be768f",
   "metadata": {},
   "source": [
    "Les moyennes : \n",
    "    - Moyenne par heure par jour \n",
    "    - Station la + utilisée par jour\n",
    "    - Station la - utilisée par jour \n",
    "    - Station la + utilisée par semaine \n",
    "    - Station la - utilisée par semaine \n",
    "    - heure la plus creuse d'utilisation (ie le taux est proche de 1 car tous les vélos sont à la station)\n",
    "    - heure la + fréquentée (ie le taux est proche de 0)\n",
    "    - jour le + fréquenté"
   ]
  },
  {
   "cell_type": "markdown",
   "id": "5da72ac1",
   "metadata": {},
   "source": [
    "- Moyenne par heure par jour "
   ]
  },
  {
   "cell_type": "markdown",
   "id": "f94ab616",
   "metadata": {},
   "source": [
    "- Taux d'utilisation en moyenne sur l'ensemble des heures, jours et stations, nous donne une idée globale sur l'utilisation parisienne des vélib"
   ]
  },
  {
   "cell_type": "markdown",
   "id": "c488d2a9",
   "metadata": {},
   "source": [
    "On affiche dans le cadre suivant la moyenne de chargement totale sur toutes les stations au cours de la semaine."
   ]
  },
  {
   "cell_type": "code",
   "execution_count": 29,
   "id": "869a87b5",
   "metadata": {
    "tags": []
   },
   "outputs": [
    {
     "name": "stdout",
     "output_type": "stream",
     "text": [
      "0.3816217759807477\n"
     ]
    }
   ],
   "source": [
    "print(loading.mean().mean())"
   ]
  },
  {
   "cell_type": "markdown",
   "id": "90ab61af",
   "metadata": {},
   "source": [
    "On cherche à déterminer maintenant la station la plus fréquentée, en moyenne par semaine."
   ]
  },
  {
   "cell_type": "code",
   "execution_count": 30,
   "id": "d4191899",
   "metadata": {
    "tags": []
   },
   "outputs": [
    {
     "name": "stdout",
     "output_type": "stream",
     "text": [
      "Average fill rate : 0.016132842025699153\n",
      "longitude              2.427934\n",
      "latitude              48.873929\n",
      "bonus                         1\n",
      "names         HORNET (BAGNOLET)\n",
      "Name: 997, dtype: object\n"
     ]
    }
   ],
   "source": [
    "mean=loading.mean(axis=1)\n",
    "i = mean.idxmin()\n",
    "print('Average fill rate :',mean[i])\n",
    "print(coord.loc[i])"
   ]
  },
  {
   "cell_type": "markdown",
   "id": "9179b82c",
   "metadata": {},
   "source": [
    "On cherche à déterminer maintenant la station la moins fréquentée, en moyenne par semaine."
   ]
  },
  {
   "cell_type": "code",
   "execution_count": 31,
   "id": "aa02e84e",
   "metadata": {
    "tags": []
   },
   "outputs": [
    {
     "name": "stdout",
     "output_type": "stream",
     "text": [
      "Average fill rate : 0.9193722943722953\n",
      "longitude                          2.398262\n",
      "latitude                           48.81466\n",
      "bonus                                     0\n",
      "names         INSURRECTION AOUT 1944 (IVRY)\n",
      "Name: 1107, dtype: object\n"
     ]
    }
   ],
   "source": [
    "mean=loading.mean(axis=1)\n",
    "i = mean.idxmax()\n",
    "print('Average fill rate :',mean[i])\n",
    "print(coord.loc[i])"
   ]
  },
  {
   "cell_type": "markdown",
   "id": "f6af66e5",
   "metadata": {},
   "source": [
    "Le graphe suivant illustre le taux de chargement moyen dans tout Paris, sur la journée et pour chaque jour de la semaine."
   ]
  },
  {
   "cell_type": "code",
   "execution_count": 32,
   "id": "f2c0a79a",
   "metadata": {
    "tags": []
   },
   "outputs": [
    {
     "data": {
      "image/png": "[encoded data removed]",
      "text/plain": [
       "<Figure size 1500x1000 with 1 Axes>"
      ]
     },
     "metadata": {},
     "output_type": "display_data"
    }
   ],
   "source": [
    "mean_per_hour_per_day = loading.mean(axis = 0).to_numpy()\n",
    "mean_per_hour_per_day = mean_per_hour_per_day.reshape((7, 24))\n",
    "\n",
    "mean_per_hour = mean_per_hour_per_day.mean(axis=0)\n",
    "\n",
    "# --- #\n",
    "\n",
    "days = [\"Monday\", \"Tuesday\", \"Wednesday\",\"Thursday\", \"Friday\", \"Saturday\", \"Sunday\"]\n",
    "plt.figure(figsize = (15,10))\n",
    "\n",
    "plt.plot(mean_per_hour_per_day.transpose())\n",
    "plt.plot(mean_per_hour, color = \"black\", linewidth = 3)\n",
    "\n",
    "plt.xlabel('Hourly loading, averaged over all stations', fontsize = 20)\n",
    "plt.ylabel('Loading', fontsize = 20)\n",
    "plt.legend(days + ['Weekly'])\n",
    "plt.xticks(ticks = np.arange(0,24,4), labels=np.arange(0,24,4), fontsize = 15)\n",
    "  \n",
    "plt.tight_layout\n",
    "plt.show()\n",
    "\n",
    "#A faire !!!!\n",
    "#recup la moyenne la plus basse par jour \n",
    "#np.min(mean_per_hour)\n",
    "\n",
    "#recup la moyenne la plus haute par jour \n",
    "#mean_per_hour.idmax()\n",
    "\n",
    "#Commentaire général: cela nous permet de connaître les heures d'influence globale de l'utilisation des vélos"
   ]
  },
  {
   "cell_type": "markdown",
   "id": "a2c345ab",
   "metadata": {},
   "source": [
    "On peut ainsi voir en moyenne, à quelle heure le taux est le plus haut et à quelle heure il est le plus bas. On déduit donc qu'aux alentours de 2h-4h du matin les vélos ne sont pas beaucoup empruntés. Cependant, on peut voir qu'à 9h environ les vélos sont davantage empruntés, idem entre 19h et 20h. Ce résultat s'explique par les heures de travail de la population qui part le matin en vélo et rentre en fin de journée. "
   ]
  },
  {
   "cell_type": "markdown",
   "id": "57e73687",
   "metadata": {},
   "source": [
    "On souhaite savoir, en moyenne, quel est le jour de la semaine, durant lequel les gens utilisent le + les vélos \n",
    "=> il faut récupérer les différentes moyennes par jour et prendre la plus faible (ie le - de vélos à la station)"
   ]
  },
  {
   "cell_type": "markdown",
   "id": "db155f1d",
   "metadata": {},
   "source": [
    "#Deux options:\n",
    "\n",
    "#option1= 1:\n",
    "days = [\"Lun\", \"Mar\", \"Mer\",\"Jeu\", \"Ven\", \"Sam\", \"Dim\"]\n",
    "\n",
    "for i in range(7):\n",
    "    lundi = [c for c in loading.columns.tolist() if c.startswith(days[i])]\n",
    "    loading[lundi].mean(axis=1)\n",
    "    \n",
    "# faire une liste avec les mots rep des colonnes puis les mettre dans une autre liste pour calculer la moyenne\n",
    "\n",
    "\n",
    "#option 2:\n",
    "cols_24 = loading.columns[:24]\n",
    "\n",
    "# Calculer la moyenne des 24 premières colonnes pour chaque individu\n",
    "mean_24 = df[cols_24].mean(axis=1)"
   ]
  },
  {
   "cell_type": "markdown",
   "id": "873fffba",
   "metadata": {},
   "source": [
    "## ACP "
   ]
  },
  {
   "cell_type": "code",
   "execution_count": 38,
   "id": "cbf32a06",
   "metadata": {
    "tags": []
   },
   "outputs": [],
   "source": [
    "from sklearn.decomposition import PCA\n",
    "from sklearn.preprocessing import scale"
   ]
  },
  {
   "cell_type": "code",
   "execution_count": 39,
   "id": "66a3b656",
   "metadata": {
    "tags": []
   },
   "outputs": [
    {
     "data": {
      "image/png": "[encoded data removed]",
      "text/plain": [
       "<Figure size 800x550 with 1 Axes>"
      ]
     },
     "metadata": {},
     "output_type": "display_data"
    }
   ],
   "source": [
    "pca = PCA()\n",
    "## Estimation, calcul des composantes principales\n",
    "C = pca.fit(loading).transform(loading)\n",
    "## Décroissance de la variance expliquée\n",
    "plt.plot(pca.explained_variance_ratio_[0:10])\n",
    "plt.show()"
   ]
  },
  {
   "cell_type": "code",
   "execution_count": 40,
   "id": "b726a527",
   "metadata": {
    "tags": []
   },
   "outputs": [
    {
     "name": "stdout",
     "output_type": "stream",
     "text": [
      "0.8531865856248\n",
      "11\n"
     ]
    }
   ],
   "source": [
    "sum=0\n",
    "d=0\n",
    "while sum<0.85:\n",
    "    d=d+1\n",
    "    pca=PCA(n_components=d)\n",
    "    X=pca.fit_transform(loading)\n",
    "    sum=np.sum(pca.explained_variance_ratio_)\n",
    "print(sum)\n",
    "print(d)"
   ]
  },
  {
   "cell_type": "code",
   "execution_count": 41,
   "id": "727da269",
   "metadata": {
    "tags": []
   },
   "outputs": [
    {
     "data": {
      "image/png": "[encoded data removed]",
      "text/plain": [
       "<Figure size 500x500 with 1 Axes>"
      ]
     },
     "metadata": {},
     "output_type": "display_data"
    }
   ],
   "source": [
    "coord1=pca.components_[0]*np.sqrt(pca.explained_variance_[0])\n",
    "coord2=pca.components_[1]*np.sqrt(pca.explained_variance_[1])\n",
    "fig = plt.figure(figsize=(5,5))\n",
    "ax = fig.add_subplot(1, 1, 1)\n",
    "for i, j, nom in zip(coord1,coord2, loading.columns):\n",
    "    plt.text(i, j, nom)\n",
    "    plt.arrow(0,0,i,j,color='black')\n",
    "plt.axis((-1.2,1.2,-1.2,1.2))\n",
    "# cercle\n",
    "c=plt.Circle((0,0), radius=1, color='gray', fill=False)\n",
    "ax.add_patch(c)\n",
    "plt.show()"
   ]
  },
  {
   "cell_type": "code",
   "execution_count": 42,
   "id": "f6dee909",
   "metadata": {
    "tags": []
   },
   "outputs": [
    {
     "ename": "TypeError",
     "evalue": "'PCA' object is not subscriptable",
     "output_type": "error",
     "traceback": [
      "\u001b[1;31m---------------------------------------------------------------------------\u001b[0m",
      "\u001b[1;31mTypeError\u001b[0m                                 Traceback (most recent call last)",
      "Cell \u001b[1;32mIn[42], line 14\u001b[0m\n\u001b[0;32m     12\u001b[0m \u001b[38;5;66;03m# Création d'un graphique biplot\u001b[39;00m\n\u001b[0;32m     13\u001b[0m plt\u001b[38;5;241m.\u001b[39mfigure(figsize\u001b[38;5;241m=\u001b[39m(\u001b[38;5;241m8\u001b[39m, \u001b[38;5;241m8\u001b[39m))\n\u001b[1;32m---> 14\u001b[0m plt\u001b[38;5;241m.\u001b[39mscatter(pca[:, \u001b[38;5;241m0\u001b[39m], X_pca[:, \u001b[38;5;241m1\u001b[39m], alpha\u001b[38;5;241m=\u001b[39m\u001b[38;5;241m0.6\u001b[39m)  \u001b[38;5;66;03m# Représentation des observations dans l'espace PCA\u001b[39;00m\n\u001b[0;32m     16\u001b[0m \u001b[38;5;66;03m# Représentation des vecteurs propres\u001b[39;00m\n\u001b[0;32m     17\u001b[0m \u001b[38;5;28;01mfor\u001b[39;00m i, (x, y) \u001b[38;5;129;01min\u001b[39;00m \u001b[38;5;28menumerate\u001b[39m(\u001b[38;5;28mzip\u001b[39m(eigenvectors[\u001b[38;5;241m0\u001b[39m, :], eigenvectors[\u001b[38;5;241m1\u001b[39m, :])):\n",
      "\u001b[1;31mTypeError\u001b[0m: 'PCA' object is not subscriptable"
     ]
    },
    {
     "data": {
      "text/plain": [
       "<Figure size 800x800 with 0 Axes>"
      ]
     },
     "metadata": {},
     "output_type": "display_data"
    }
   ],
   "source": [
    "import matplotlib.pyplot as plt\n",
    "\n",
    "# Supposons que vous ayez déjà effectué PCA sur vos données et obtenu un objet PCA nommé pca\n",
    "# X est votre jeu de données\n",
    "\n",
    "# Entraînement de PCA sur les données\n",
    "pca.fit(loading)\n",
    "\n",
    "# Obtention des vecteurs propres (composantes principales)\n",
    "eigenvectors = pca.components_\n",
    "\n",
    "# Création d'un graphique biplot\n",
    "plt.figure(figsize=(8, 8))\n",
    "plt.scatter(pca[:, 0], X_pca[:, 1], alpha=0.6)  # Représentation des observations dans l'espace PCA\n",
    "\n",
    "# Représentation des vecteurs propres\n",
    "for i, (x, y) in enumerate(zip(eigenvectors[0, :], eigenvectors[1, :])):\n",
    "    plt.arrow(0, 0, x, y, color='r', alpha=0.5)  # Trace les vecteurs propres\n",
    "    plt.text(x, y, f'Variable {i+1}', fontsize=12, ha='right', va='bottom', color='r')  # Ajoute le nom de la variable à chaque vecteur propre\n",
    "\n",
    "plt.xlabel('Première composante principale')\n",
    "plt.ylabel('Deuxième composante principale')\n",
    "plt.title('Biplot avec vecteurs propres')\n",
    "plt.grid(True)\n",
    "plt.show()"
   ]
  },
  {
   "cell_type": "code",
   "execution_count": null,
   "id": "bc94a266",
   "metadata": {
    "tags": []
   },
   "outputs": [],
   "source": [
    "pca = PCA(n_components=11)\n",
    "X=pca.fit_transform(loading)\n",
    "eigenvectors = pca.components_\n",
    "print(eigenvectors)\n",
    "plt.plot(eigenvectors[0,:])\n",
    "plt.plot(eigenvectors[1,:])\n",
    "plt.plot(eigenvectors[2,:])\n",
    "plt.xlabel('Time', fontsize = 15)\n",
    "plt.ylabel('??', fontsize = 15)\n",
    "plt.title(\"1ere composante\", fontsize = 15)\n",
    "time_tick  = np.linspace(1, 168, 8)\n",
    "plt.vlines(x = time_tick, ymin = 0, ymax = 0.15, \n",
    "           colors = \"Orange\", linestyle = \"dotted\", linewidth = 5)\n",
    "\n",
    "#A GARDER cf feuille de notes"
   ]
  },
  {
   "cell_type": "code",
   "execution_count": null,
   "id": "1c5c7550",
   "metadata": {
    "tags": []
   },
   "outputs": [],
   "source": [
    "plt.plot(X[0,:])\n",
    "plt.plot(X[1,:])\n",
    "plt.plot(X[2,:])\n",
    "plt.plot(X[100,:])\n",
    "#projection du premier individu sur les différents vp, conclusion = trop dur à analyser"
   ]
  },
  {
   "cell_type": "code",
   "execution_count": null,
   "id": "416f6ad9",
   "metadata": {
    "tags": []
   },
   "outputs": [],
   "source": [
    "pca = PCA(n_components=11)\n",
    "X=pca.fit_transform(loading)\n",
    "eigenvectors = pca.components_\n",
    "print(eigenvectors)\n",
    "plt.plot(eigenvectors[1,:])\n",
    "plt.xlabel('Time', fontsize = 15)\n",
    "plt.ylabel('??', fontsize = 15)\n",
    "plt.title(\"2ème composante\", fontsize = 15)\n",
    "time_tick  = np.linspace(1, 168, 8)\n",
    "plt.vlines(x = time_tick, ymin = -0.15, ymax = 0.15, \n",
    "           colors = \"Orange\", linestyle = \"dotted\", linewidth = 5)"
   ]
  },
  {
   "cell_type": "code",
   "execution_count": null,
   "id": "6392a442",
   "metadata": {
    "tags": []
   },
   "outputs": [],
   "source": [
    "cols_24 = loading.columns[:24]\n",
    "\n",
    "# Calculer la moyenne des 24 premières colonnes pour chaque individu\n",
    "mean_24 = df[cols_24].mean(axis=1)"
   ]
  },
  {
   "cell_type": "code",
   "execution_count": null,
   "id": "6a675390",
   "metadata": {
    "tags": []
   },
   "outputs": [],
   "source": [
    "b =loading.mean(axis=0).to_numpy()\n",
    "c = b.reshape((7,24))\n",
    "#new_df = np.mean(loading.reshape(-1,7,24),axis=0).to_numpy()\n",
    "#a = loading.mean(axis=1)\n",
    "#a\n",
    "c"
   ]
  },
  {
   "cell_type": "markdown",
   "id": "958b3edf-7b55-47a1-94ae-fcd3c3421f72",
   "metadata": {},
   "source": [
    "### ACP by TP methods"
   ]
  },
  {
   "cell_type": "markdown",
   "id": "0eb152e5-c476-46f7-a6a2-32189d6610e4",
   "metadata": {},
   "source": [
    "On commence par standardiser les données afin de centrer et de réduire les données. Afficher les données sur un jour par ex (bcp de variance apparemment)"
   ]
  },
  {
   "cell_type": "code",
   "execution_count": null,
   "id": "bca3725a-062a-4f8c-92ba-e39f9cdacacc",
   "metadata": {
    "tags": []
   },
   "outputs": [],
   "source": [
    "from sklearn.preprocessing import StandardScaler\n",
    "\n",
    "# Standardiser les données quantitatives\n",
    "scaler = StandardScaler()\n",
    "loading_standardise = scaler.fit_transform(loading)\n",
    "\n",
    "# Créer un nouveau DataFrame avec les données standardisées et seulement les variables quantitatives!\n",
    "data_standardise = pd.DataFrame(loading_standardise, columns=loading.columns)\n",
    "\n",
    "\n",
    "# Concaténer les colonnes qualitatives avec les données standardisées\n",
    "#df_final = pd.concat([df[['col_qualitative_1', 'col_qualitative_2']], df_standardise], axis=1)\n",
    "\n",
    "# Afficher le DataFrame final avec les variables standardisées pour les colonnes quantitatives\n",
    "#print(df_final)\n"
   ]
  },
  {
   "cell_type": "code",
   "execution_count": null,
   "id": "a9e12167-ce3b-4374-b18d-f87fa280b958",
   "metadata": {},
   "outputs": [],
   "source": [
    "# ACP sur toutes les données : "
   ]
  },
  {
   "cell_type": "code",
   "execution_count": null,
   "id": "a7defcd6-43c5-47aa-8df3-256d04163a48",
   "metadata": {
    "tags": []
   },
   "outputs": [],
   "source": [
    "from sklearn.decomposition import PCA\n",
    "\n",
    "pca = PCA()\n",
    "loading_pca = pca.fit_transform(loading)"
   ]
  },
  {
   "cell_type": "code",
   "execution_count": null,
   "id": "a52c8c17-dfc1-4255-97c9-fd2d49ba1b8f",
   "metadata": {
    "tags": []
   },
   "outputs": [],
   "source": [
    "plt.plot(np.cumsum(pca.explained_variance_ratio_))\n",
    "\n",
    "plt.title('Cumulative explained variance according to the dimension of the PCA space')\n",
    "plt.xlabel('Number of components in the PCA')\n",
    "plt.ylabel('Cumulative explained variance');\n",
    "\n",
    "\n",
    "#permet de connaître le nombre de variables à garder pour expliquer 90% de la variance \n",
    "\n",
    "#pca = PCA(0.90).fit(loading) \n",
    "\n",
    "pca = PCA(0.85).fit(loading) #pour savoir directement le nombre de composants nécessaire pour représenter une explication de 85% de la variance\n",
    "pca.n_components_ #on affiche le nb de composants qu'on garde pour la PCA\n",
    "print(f\"on garde {pca.n_components_} composants pour le PCA\")"
   ]
  },
  {
   "cell_type": "markdown",
   "id": "44850065-81bf-472c-8f58-5fc7f794eef6",
   "metadata": {},
   "source": [
    "Cependant garder 11 composantes semblent beaucoup trop, en effet quand on regarde l'histogramme des pourcentage de représentation de chaque composante, on voit qu'après la 5è composante celles-ci n'explique que très peu la variance."
   ]
  },
  {
   "cell_type": "code",
   "execution_count": null,
   "id": "9dc0308a-1d45-4482-860b-d0ed427f37ef",
   "metadata": {
    "tags": []
   },
   "outputs": [],
   "source": [
    "pca = PCA(n_components=5)\n",
    "\n",
    "loading_pca = pca.fit_transform(loading) #même chose que fit puis transform dans notre cas à nous\n",
    "\n",
    "print(100*pca.explained_variance_ratio_)\n",
    "\n",
    "\n",
    "print('--- PCA ---')\n",
    "print('Initial dimension:', loading.shape)\n",
    "print('Dimension after projection:', loading_pca.shape)\n",
    "\n",
    "print('')\n",
    "\n",
    "print('--- Explained variance ---')\n",
    "print('Component 1:', round(pca.explained_variance_[0],2), 'i.e.', round(100*pca.explained_variance_ratio_[0],2), '% of the total variance')\n",
    "print('Component 2:', round(pca.explained_variance_[1],2), 'i.e.', round(100*pca.explained_variance_ratio_[1],2), '% of the total variance')\n",
    "print('Component 3:', round(pca.explained_variance_[2],2), 'i.e.', round(100*pca.explained_variance_ratio_[2],2), '% of the total variance')\n"
   ]
  },
  {
   "cell_type": "markdown",
   "id": "f831c7fb-5f3d-4b89-bcd6-99dd7ec5c557",
   "metadata": {},
   "source": [
    "On affiche l'histogramme de ce que chaque variable explique dans le modèle"
   ]
  },
  {
   "cell_type": "code",
   "execution_count": null,
   "id": "acf05487-e23f-46cf-be05-9ca227ae73ac",
   "metadata": {
    "tags": []
   },
   "outputs": [],
   "source": [
    "plt.figure(figsize=(10, 5))\n",
    "sns.barplot(x=[f\"PC{i+1}\" for i in range(len(pca.explained_variance_ratio_))], y=pca.explained_variance_ratio_ * 100)\n",
    "plt.xlabel(\"Composantes Principales\")\n",
    "plt.ylabel(\"Pourcentage de Variance Expliquée\")\n",
    "plt.title(\"Proportion de Variance Expliquée par Chaque Composante Principale\")\n",
    "plt.ylim(0, 40)  # limiter l'axe y à la plage spécifiée\n",
    "plt.show()"
   ]
  },
  {
   "cell_type": "markdown",
   "id": "5bf6c9f9-6d90-4079-8b7b-d8e9fb1b565e",
   "metadata": {},
   "source": [
    "Représentation de la PCA : projection des données sur les axes des deux composantes principales :"
   ]
  },
  {
   "cell_type": "code",
   "execution_count": null,
   "id": "868cc8b8-6ed9-468f-b273-cc1fdce9bddc",
   "metadata": {
    "tags": []
   },
   "outputs": [],
   "source": [
    "box = plt.boxplot(loading_pca[:,:10], patch_artist=True)\n",
    "plt.setp(box[\"boxes\"], facecolor=\"coral\", alpha=.5)\n",
    "plt.title(\"Box plots of the first ten principal components\")\n",
    "plt.tight_layout()\n",
    "plt.show()"
   ]
  },
  {
   "cell_type": "code",
   "execution_count": null,
   "id": "e005316f-ac17-4720-9892-c74510276c08",
   "metadata": {
    "tags": []
   },
   "outputs": [],
   "source": [
    "coord1 = pca.components_[0] * np.sqrt(pca.explained_variance_[0])\n",
    "coord2 = pca.components_[1] * np.sqrt(pca.explained_variance_[1])\n",
    "\n",
    "fig = plt.figure(figsize=(9, 9))\n",
    "ax = fig.add_subplot(1, 1, 1)\n",
    "\n",
    "arrow_length_factor = 3\n",
    "# Facteur de longueur des flèches\n",
    "\n",
    "for i, j, nom in zip(coord1, coord2, loading.columns):\n",
    "    plt.text(i*arrow_length_factor, j*arrow_length_factor, nom, fontsize=10)\n",
    "    plt.arrow(0, 0, i* arrow_length_factor, j* arrow_length_factor, color = 'purple', alpha=0.7, width = 0.001)\n",
    "\n",
    "plt.axis((-1, 1, -1, 1))\n",
    "plt.gcf().gca().add_artist(plt.Circle((0, 0), radius = 1, color = 'cornflowerblue', fill = False))\n",
    "\n",
    "plt.title('Variables factor map - PCA')\n",
    "plt.xlabel('Principal Component 1')\n",
    "plt.ylabel('Principal Component 2')\n",
    "\n",
    "plt.grid(True)\n",
    "plt.show()\n",
    "\n"
   ]
  },
  {
   "cell_type": "code",
   "execution_count": null,
   "id": "0cab51b1-df60-4b5e-bec4-64edf0730599",
   "metadata": {},
   "outputs": [],
   "source": [
    "# ACP par jour"
   ]
  },
  {
   "cell_type": "markdown",
   "id": "8e70de9b-d8af-45ef-af55-c174a2f3b527",
   "metadata": {},
   "source": [
    "On regroupe les données par jour de la semaine afin de faire une ACP sur ces données déjà regrouper par jour. Donc on calcul la moyenne du taux pour le jour 1 ie lundi, de m^me pour tous les autres jours."
   ]
  },
  {
   "cell_type": "code",
   "execution_count": null,
   "id": "b87bd48b-b377-4e2b-90cd-abd412398af3",
   "metadata": {
    "tags": []
   },
   "outputs": [],
   "source": [
    "# Calcul des moyennes pour chaque jour de la semaine\n",
    "lundi = loading_standardise[:, list(range(0, 24))].mean(axis=1)\n",
    "mardi = loading_standardise[:, list(range(24, 48))].mean(axis=1)\n",
    "mercredi = loading_standardise[:, list(range(48, 72))].mean(axis=1)\n",
    "jeudi = loading_standardise[:, list(range(72, 96))].mean(axis=1)\n",
    "vendredi = loading_standardise[:, list(range(96, 120))].mean(axis=1)\n",
    "samedi = loading_standardise[:, list(range(120, 144))].mean(axis=1)\n",
    "dimanche = loading_standardise[:, list(range(144, 168))].mean(axis=1)\n",
    "\n",
    "# Création du nouveau DataFrame\n",
    "data_jours = pd.DataFrame({\n",
    "    'lundi': lundi,\n",
    "    'mardi': mardi,\n",
    "    'mercredi': mercredi,\n",
    "    'jeudi': jeudi,\n",
    "    'vendredi': vendredi,\n",
    "    'samedi': samedi,\n",
    "    'dimanche': dimanche\n",
    "})\n",
    "\n",
    "print(data_jours)"
   ]
  },
  {
   "cell_type": "code",
   "execution_count": null,
   "id": "fc5fd14c-3f6f-4d74-a234-dddc991fdbe3",
   "metadata": {
    "tags": []
   },
   "outputs": [],
   "source": [
    "pca_2 = PCA()\n",
    "data_jours_pca = pca_2.fit_transform(data_jours)"
   ]
  },
  {
   "cell_type": "code",
   "execution_count": null,
   "id": "962f5578-cd7f-4aed-9ba2-8f57e9ef448d",
   "metadata": {
    "tags": []
   },
   "outputs": [],
   "source": [
    "\n",
    "\n",
    "plt.plot(np.cumsum(pca_2.explained_variance_ratio_))\n",
    "\n",
    "plt.title('Cumulative explained variance according to the dimension of the PCA space')\n",
    "plt.xlabel('Number of components in the PCA')\n",
    "plt.ylabel('Cumulative explained variance');\n",
    "\n",
    "\n",
    "#permet de connaître le nombre de variables à garder pour expliquer 90% de la variance \n",
    "\n",
    "#pca = PCA(0.90).fit(loading) \n",
    "\n",
    "pca_2 = PCA(0.85).fit(data_jours) #pour savoir directement le nombre de composants nécessaire pour représenter une explication de 85% de la variance\n",
    "pca_2.n_components_ #on affiche le nb de composants qu'on garde pour la PCA\n",
    "print(f\"on garde {pca_2.n_components_} composants pour le PCA\")\n",
    "\n"
   ]
  },
  {
   "cell_type": "code",
   "execution_count": null,
   "id": "0a855edd-9a2b-4841-a1d0-bd32869d41db",
   "metadata": {
    "tags": []
   },
   "outputs": [],
   "source": [
    "pca_2=PCA(n_components=2)\n",
    "data_jours_pca = pca_2.fit_transform(data_jours) #même chose que fit puis transform dans notre cas à nous\n",
    "\n",
    "print(100*pca_2.explained_variance_ratio_)\n",
    "\n",
    "\n",
    "print('--- PCA ---')\n",
    "print('Initial dimension:', data_jours.shape)\n",
    "print('Dimension after projection:', data_jours_pca.shape)\n",
    "\n",
    "print('')\n",
    "\n",
    "print('--- Explained variance ---')\n",
    "print('Component 1:', round(pca_2.explained_variance_[0],2), 'i.e.', round(100*pca_2.explained_variance_ratio_[0],2), '% of the total variance')\n",
    "print('Component 2:', round(pca_2.explained_variance_[1],2), 'i.e.', round(100*pca_2.explained_variance_ratio_[1],2), '% of the total variance')\n"
   ]
  },
  {
   "cell_type": "code",
   "execution_count": null,
   "id": "13c3f39e-8ab8-41b1-b870-6aaa2b8713d0",
   "metadata": {
    "tags": []
   },
   "outputs": [],
   "source": [
    "plt.figure(figsize=(10, 5))\n",
    "sns.barplot(x=[f\"PC{i+1}\" for i in range(len(pca_2.explained_variance_ratio_))], y=pca_2.explained_variance_ratio_ * 100)\n",
    "plt.xlabel(\"Composantes Principales\")\n",
    "plt.ylabel(\"Pourcentage de Variance Expliquée\")\n",
    "plt.title(\"Proportion de Variance Expliquée par Chaque Composante Principale\")\n",
    "plt.ylim(0, 80)  # limiter l'axe y à la plage spécifiée\n",
    "plt.show()"
   ]
  },
  {
   "cell_type": "code",
   "execution_count": null,
   "id": "2b0d7351-d722-40af-8e3f-fda8dbf02154",
   "metadata": {
    "tags": []
   },
   "outputs": [],
   "source": [
    "box = plt.boxplot(data_jours_pca[:,:10], patch_artist=True)\n",
    "plt.setp(box[\"boxes\"], facecolor=\"coral\", alpha=.5)\n",
    "plt.title(\"Box plots of the first ten principal components\")\n",
    "plt.tight_layout()\n",
    "plt.show()\n"
   ]
  },
  {
   "cell_type": "code",
   "execution_count": null,
   "id": "14a80dac-28a1-443d-8fd4-21bfe4cb10e1",
   "metadata": {
    "tags": []
   },
   "outputs": [],
   "source": [
    "\n",
    "\n",
    "coord1 = pca.components_[0] * np.sqrt(pca_2.explained_variance_[0])\n",
    "coord2 = pca.components_[1] * np.sqrt(pca_2.explained_variance_[1])\n",
    "\n",
    "fig = plt.figure(figsize=(9, 9))\n",
    "ax = fig.add_subplot(1, 1, 1)\n",
    "\n",
    "\n",
    "arrow_length_factor = 5\n",
    "\n",
    "for i, j, nom in zip(coord1, coord2, data_jours.columns):\n",
    "    plt.text(i*arrow_length_factor, j*arrow_length_factor, nom, fontsize=10)\n",
    "    plt.arrow(0, 0, i* arrow_length_factor, j* arrow_length_factor, color = 'purple', alpha=0.7, width = 0.001)\n",
    "\n",
    "plt.axis((-1, 1, -1, 1))\n",
    "plt.gcf().gca().add_artist(plt.Circle((0, 0), radius = 1, color = 'cornflowerblue', fill = False))\n",
    "\n",
    "plt.title('Variables factor map - PCA')\n",
    "plt.xlabel('Principal Component 1')\n",
    "plt.ylabel('Principal Component 2')\n",
    "\n",
    "plt.grid(True)\n",
    "plt.show()\n",
    "\n"
   ]
  },
  {
   "cell_type": "markdown",
   "id": "a949fea0-4ee0-4cbe-ae12-054bbe33facf",
   "metadata": {},
   "source": [
    "ACP nous dit donc que l'on peut ecpliquer les jours de la semaine avec deux variables au lieu de 7, pour expliquer + de 90% de la variance. Cependant comme pour l'ACP précédente les affichages sont pas jolis."
   ]
  },
  {
   "cell_type": "code",
   "execution_count": null,
   "id": "e2d885d7-eef6-4714-a7d2-ab543d439d40",
   "metadata": {
    "tags": []
   },
   "outputs": [],
   "source": [
    "# ACP par heure de la journée"
   ]
  },
  {
   "cell_type": "code",
   "execution_count": null,
   "id": "837c92e4-d7c9-416b-a208-2dcc2a64ee79",
   "metadata": {
    "tags": []
   },
   "outputs": [],
   "source": [
    "# Calcul des moyennes pour chaque heure de la journée\n",
    "minuit_am = loading_standardise[:, [0, 24, 48, 72, 96, 120, 144]].mean(axis=1)\n",
    "une_am = loading_standardise[:, [1, 25, 49, 73, 97, 121, 145]].mean(axis=1)\n",
    "deux_am = loading_standardise[:, [2, 26, 50, 74, 98, 122, 146]].mean(axis=1)\n",
    "trois_am = loading_standardise[:, [3, 27, 51, 75, 99, 123, 147]].mean(axis=1)\n",
    "quatre_am = loading_standardise[:, [4, 28, 52, 76, 100, 124, 148]].mean(axis=1)\n",
    "cinq_am = loading_standardise[:, [5, 29, 53, 77, 101, 125, 149]].mean(axis=1)\n",
    "six_am = loading_standardise[:, [6, 30, 54, 78, 102, 126, 150]].mean(axis=1)\n",
    "sept_am = loading_standardise[:, [7, 31, 55, 79, 103, 127, 151]].mean(axis=1)\n",
    "huit_am = loading_standardise[:, [8, 32, 56, 80, 104, 128, 152]].mean(axis=1)\n",
    "neuf_am = loading_standardise[:, [9, 33, 57, 81, 105, 129, 153]].mean(axis=1)\n",
    "dix_am = loading_standardise[:, [10, 34, 58, 82, 106, 130, 154]].mean(axis=1)\n",
    "onze_am = loading_standardise[:, [11, 35, 59, 83, 107, 131, 155]].mean(axis=1)\n",
    "minuit_pm = loading_standardise[:, [12, 36, 60, 84, 108, 132, 156]].mean(axis=1)\n",
    "une_pm = loading_standardise[:, [13, 37, 61, 85, 109, 133, 157]].mean(axis=1)\n",
    "deux_pm = loading_standardise[:, [14, 38, 62, 86, 110, 134, 158]].mean(axis=1)\n",
    "trois_pm = loading_standardise[:, [15, 39, 63, 87, 111, 135, 159]].mean(axis=1)\n",
    "quatre_pm = loading_standardise[:, [16, 40, 64, 88, 112, 136, 160]].mean(axis=1)\n",
    "cinq_pm = loading_standardise[:, [17, 41, 65, 89, 113, 137, 161]].mean(axis=1)\n",
    "six_pm = loading_standardise[:, [18, 42, 66, 90, 114, 138, 162]].mean(axis=1)\n",
    "sept_pm = loading_standardise[:, [19, 43, 67, 91, 115, 139, 163]].mean(axis=1)\n",
    "huit_pm = loading_standardise[:, [20, 44, 68, 92, 116, 140, 164]].mean(axis=1)\n",
    "neuf_pm = loading_standardise[:, [21, 45, 69, 93, 117, 141, 165]].mean(axis=1)\n",
    "dix_pm = loading_standardise[:, [22, 46, 70, 94, 118, 142, 166]].mean(axis=1)\n",
    "onze_pm = loading_standardise[:, [23, 47, 71, 95, 119, 143, 167]].mean(axis=1)\n",
    "\n",
    "# Création du nouveau DataFrame\n",
    "data_heures = pd.DataFrame({\n",
    "    'Minuit': minuit_am,\n",
    "    '1h': une_am,\n",
    "    '2h': deux_am,\n",
    "    '3h': trois_am,\n",
    "    '4h': quatre_am,\n",
    "    '5h': cinq_am,\n",
    "    '6h': six_am,\n",
    "    '7h': sept_am,\n",
    "    '8h': huit_am,\n",
    "    '9h': neuf_am,\n",
    "    '10h': dix_am,\n",
    "    '11h': onze_am,\n",
    "    '12h': minuit_pm,\n",
    "    '13h': une_pm,\n",
    "    '14h': deux_pm,\n",
    "    '15h': trois_pm,\n",
    "    '16h': quatre_pm,\n",
    "    '17h': cinq_pm,\n",
    "    '18h': six_pm,\n",
    "    '19h': sept_pm,\n",
    "    '20h': huit_pm,\n",
    "    '21h': neuf_pm,\n",
    "    '22h': dix_pm,\n",
    "    '23h': onze_pm\n",
    "})\n",
    "\n",
    "print(data_heures)"
   ]
  },
  {
   "cell_type": "code",
   "execution_count": null,
   "id": "41886b33-9b80-43cf-a070-17c625a80115",
   "metadata": {
    "tags": []
   },
   "outputs": [],
   "source": [
    "pca_3 = PCA()\n",
    "data_heures_pca = pca_3.fit_transform(data_heures)"
   ]
  },
  {
   "cell_type": "code",
   "execution_count": null,
   "id": "adb0fd88-008f-4c8f-b3ed-368923656645",
   "metadata": {
    "tags": []
   },
   "outputs": [],
   "source": [
    "plt.plot(np.cumsum(pca_3.explained_variance_ratio_))\n",
    "\n",
    "plt.title('Cumulative explained variance according to the dimension of the PCA space')\n",
    "plt.xlabel('Number of components in the PCA')\n",
    "plt.ylabel('Cumulative explained variance');\n",
    "\n",
    "\n",
    "#permet de connaître le nombre de variables à garder pour expliquer 90% de la variance \n",
    "\n",
    "#pca = PCA(0.90).fit(loading) \n",
    "\n",
    "pca_3 = PCA(0.85).fit(data_heures) #pour savoir directement le nombre de composants nécessaire pour représenter une explication de 85% de la variance\n",
    "pca_3.n_components_ #on affiche le nb de composants qu'on garde pour la PCA\n",
    "print(f\"on garde {pca_3.n_components_} composants pour le PCA\")\n"
   ]
  },
  {
   "cell_type": "code",
   "execution_count": null,
   "id": "de8d2caf-9a46-4771-9679-391ef93ebdc4",
   "metadata": {
    "tags": []
   },
   "outputs": [],
   "source": [
    "pca_3 = PCA(n_components = 2)\n",
    "data_heures_pca = pca_3.fit_transform(data_heures) #même chose que fit puis transform dans notre cas à nous\n",
    "\n",
    "print(100*pca_3.explained_variance_ratio_)\n",
    "\n",
    "\n",
    "print('--- PCA ---')\n",
    "print('Initial dimension:', data_jours.shape)\n",
    "print('Dimension after projection:', data_jours_pca.shape)\n",
    "\n",
    "print('')\n",
    "\n",
    "print('--- Explained variance ---')\n",
    "print('Component 1:', round(pca_3.explained_variance_[0],2), 'i.e.', round(100*pca_3.explained_variance_ratio_[0],2), '% of the total variance')\n",
    "print('Component 2:', round(pca_3.explained_variance_[1],2), 'i.e.', round(100*pca_3.explained_variance_ratio_[1],2), '% of the total variance')\n"
   ]
  },
  {
   "cell_type": "code",
   "execution_count": null,
   "id": "2587d87a-8545-4cac-a568-fcd96dc7806a",
   "metadata": {
    "tags": []
   },
   "outputs": [],
   "source": [
    "plt.figure(figsize=(10, 5))\n",
    "sns.barplot(x=[f\"PC{i+1}\" for i in range(len(pca_3.explained_variance_ratio_))], y=pca_3.explained_variance_ratio_ * 100)\n",
    "plt.xlabel(\"Composantes Principales\")\n",
    "plt.ylabel(\"Pourcentage de Variance Expliquée\")\n",
    "plt.title(\"Proportion de Variance Expliquée par Chaque Composante Principale\")\n",
    "plt.ylim(0,80)  # limiter l'axe y à la plage spécifiée\n",
    "plt.show()\n"
   ]
  },
  {
   "cell_type": "code",
   "execution_count": null,
   "id": "552329ee-0986-4757-bf39-967f78deafa4",
   "metadata": {
    "tags": []
   },
   "outputs": [],
   "source": [
    "box = plt.boxplot(data_heures_pca[:,:10], patch_artist=True)\n",
    "plt.setp(box[\"boxes\"], facecolor=\"coral\", alpha=.5)\n",
    "plt.title(\"Box plots of the first ten principal components\")\n",
    "plt.tight_layout()\n",
    "plt.show()"
   ]
  },
  {
   "cell_type": "code",
   "execution_count": null,
   "id": "39737004-ef1d-49b5-9b89-aed022a78323",
   "metadata": {
    "tags": []
   },
   "outputs": [],
   "source": [
    "coord1 = pca.components_[0] * np.sqrt(pca_3.explained_variance_[0])\n",
    "coord2 = pca.components_[1] * np.sqrt(pca_3.explained_variance_[1])\n",
    "\n",
    "fig = plt.figure(figsize=(9, 9))\n",
    "ax = fig.add_subplot(1, 1, 1)\n",
    "for i, j, nom in zip(coord1, coord2, data_heures.columns):\n",
    "    plt.text(i, j, nom, fontsize=10)\n",
    "    plt.arrow(0, 0, i, j, color = 'purple', alpha=0.7, width = 0.0001)\n",
    "\n",
    "plt.axis((-1, 1, -1, 1))\n",
    "plt.gcf().gca().add_artist(plt.Circle((0, 0), radius = 1, color = 'cornflowerblue', fill = False))\n",
    "\n",
    "plt.title('Variables factor map - PCA')\n",
    "plt.xlabel('Principal Component 1')\n",
    "plt.ylabel('Principal Component 2')\n",
    "\n",
    "plt.grid(True)\n",
    "plt.show()"
   ]
  },
  {
   "cell_type": "markdown",
   "id": "a41e7889-7d08-40df-b9a7-7dd521b961ed",
   "metadata": {},
   "source": [
    "### Clustering with 𝑘-means"
   ]
  },
  {
   "cell_type": "code",
   "execution_count": null,
   "id": "f1f8785f-9592-4e38-96b7-730d0d91f7a8",
   "metadata": {
    "tags": []
   },
   "outputs": [],
   "source": [
    "# Cas 1 : jeu de données complet vs ACP sur ensemble des données "
   ]
  },
  {
   "cell_type": "code",
   "execution_count": null,
   "id": "e115c75e-4345-400b-b69e-67b03d63a303",
   "metadata": {
    "tags": []
   },
   "outputs": [],
   "source": [
    "from sklearn.cluster import KMeans\n",
    "from sklearn.metrics import silhouette_score\n",
    "from matplotlib import colors\n",
    "\n",
    "\n",
    "!pip install yellowbrick\n",
    "from yellowbrick.cluster import KElbowVisualizer, SilhouetteVisualizer\n",
    "from sklearn.metrics import confusion_matrix, ConfusionMatrixDisplay"
   ]
  },
  {
   "cell_type": "code",
   "execution_count": null,
   "id": "b35ce5ff-6cf6-4db5-9bfa-e5ca27a6a245",
   "metadata": {
    "tags": []
   },
   "outputs": [],
   "source": [
    "# fonction pour reclasser les clusters dans mat de confusions"
   ]
  },
  {
   "cell_type": "code",
   "execution_count": null,
   "id": "30bed77a-0d9a-4e49-8eee-63d65d61c867",
   "metadata": {
    "tags": []
   },
   "outputs": [],
   "source": [
    "def matchClasses(classif1, classif2):\n",
    "    cm = confusion_matrix(classif1, classif2)\n",
    "    K = cm.shape[0]\n",
    "    a, b = np.zeros(K), np.zeros(K)\n",
    "    for j in range(K):\n",
    "        for i in range(K):\n",
    "            if (a[j] < cm[i,j]):\n",
    "                a[j] = cm[i,j]\n",
    "                b[j] = i \n",
    "    a = a.astype(int)\n",
    "    b = b.astype(int)\n",
    "                                             \n",
    "    print (\"\")\n",
    "    print (\"Classes size:\", a)\n",
    "    print (\"Class (in the classif1 numbering):\", b)\n",
    "    print (\"\")\n",
    "    \n",
    "    table = cm.copy()\n",
    "    for i in range(K):\n",
    "        table[:,b[i]] = cm[:,i]   \n",
    "        \n",
    "    clusters = classif2.copy()\n",
    "    n = classif2.shape[0]\n",
    "    for i in range(n):\n",
    "        for j in range(K):\n",
    "            if (classif2[i] == j):\n",
    "                clusters[i] = b[j]\n",
    "        \n",
    "    return table, clusters"
   ]
  },
  {
   "cell_type": "markdown",
   "id": "d18465e9-b092-4103-b383-3cecd0d986a7",
   "metadata": {},
   "source": [
    "We will now try to find the optimal number of clusters"
   ]
  },
  {
   "cell_type": "code",
   "execution_count": null,
   "id": "b9de13a2-6ad0-4027-8dc7-dfe4ecbb0298",
   "metadata": {
    "tags": []
   },
   "outputs": [],
   "source": [
    "inertia = []\n",
    "for k in range(1, 15):\n",
    "    kmeans = KMeans(n_clusters=k, init='k-means++', n_init='auto', max_iter=100, random_state=42)\n",
    "    kmeans.fit(loading)\n",
    "    inertia.append(kmeans.inertia_)\n",
    "inertia = np.array(inertia)\n",
    "\n",
    "\n",
    "plt.scatter(range(2, 15), inertia[1:])\n",
    "plt.xlabel('nombre de clusters', fontsize = 15)\n",
    "plt.ylabel('inertie', fontsize = 15)\n",
    "plt.title(\"Graphe du coude\", fontsize = 15)\n",
    "plt.show()\n",
    "\n",
    "\n",
    "# --- #\n",
    "\n",
    "\n",
    "# Using yellowbrick\n",
    "\n",
    "kmeans = KMeans(init='k-means++', n_init='auto', max_iter=100, random_state=42)\n",
    "visualizer = KElbowVisualizer(kmeans, k=(4,12))\n",
    "\n",
    "visualizer.fit(loading)    # Fit the data to the visualizer\n",
    "visualizer.show()    # Finalize and render the figure"
   ]
  },
  {
   "cell_type": "markdown",
   "id": "3f028492-d727-4489-9a62-55ee625a399e",
   "metadata": {},
   "source": [
    "Pour analyser ces graphes, on cherche le coude c'est à dire le moment où lorsqu'on va rajouter une composante il y aura la plus grande baisse d'inertie. Dans le premier graphe, on peut observer une différence de tendance entre 7-9. Pour le deuxième graphe, le coude est à 9.  "
   ]
  },
  {
   "cell_type": "markdown",
   "id": "26a959cf-b058-4b87-ab20-2c814a34395a",
   "metadata": {},
   "source": [
    "Nous allons maintenant utiliser la méthode \"silhouette score\" pour déterminer le nombre de cluster"
   ]
  },
  {
   "cell_type": "code",
   "execution_count": null,
   "id": "afe2ef54-bc66-4e59-86ed-8cbc38b34879",
   "metadata": {
    "tags": []
   },
   "outputs": [],
   "source": [
    "fig, ax = plt.subplots(4, 2, figsize=(15,8))\n",
    "\n",
    "for k in range(2, 10):\n",
    "    kmeans = KMeans(n_clusters=k, init='k-means++', n_init='auto', max_iter=100, random_state=42)\n",
    "    q, mod = divmod(k, 2) \n",
    "    # Create SilhouetteVisualizer instance with KMeans instance\n",
    "    visualizer = SilhouetteVisualizer(kmeans, colors='yellowbrick', ax=ax[q-1][mod])\n",
    "    visualizer.fit(loading)"
   ]
  },
  {
   "cell_type": "markdown",
   "id": "881e6fdb-2fca-43d5-8072-8c8a0549976e",
   "metadata": {},
   "source": [
    "Pour choisir le nombre de clusters le plus adapté il faut trouver un équilibre entre plusieurs aspects. Tout d'abord, il faut que chaque pic dépassent le trait rouge, alors, les données sont adaptées au nombre de classes. Aussi, il faudrait dans l'idéal que chaque pic ait la même épaisseur. Enfin, il faut qu'il y ait le moins de valeurs négatives possibles, elles correspondent au nombre de variables mal classées.\n",
    "Dans notre cas, il n'y a pas vraiment de situation idéale. Avec 2,3 ou 4 clusters le graphiques est plutôt bien mais il faudrait peut etre plus de clusters pour analyser le grand nombre de données que nous avons. Si on part sur 9 clusters (comme pour le graphe Elbow), le silhoutte score n'est pas parfait mais il est un bon compromis entre les aspects énoncés précedemment."
   ]
  },
  {
   "cell_type": "markdown",
   "id": "426ec3b6-aba6-42a0-94c8-c0dd14d59e0a",
   "metadata": {},
   "source": [
    "Ci-dessous on observe l'histogramme des classifications formées avec le nombre de clusters qui nous avons choisi (ici 9). "
   ]
  },
  {
   "cell_type": "code",
   "execution_count": null,
   "id": "f903a099-25ad-4e30-86b5-fd6d80ff01ac",
   "metadata": {
    "tags": []
   },
   "outputs": [],
   "source": [
    "K = 9\n",
    "\n",
    "kmeans = KMeans(n_clusters=K, init='k-means++', n_init='auto', random_state=0)\n",
    "clusters = kmeans.fit_predict(loading)\n",
    "\n",
    "# ----- #\n",
    "\n",
    "cmap = plt.get_cmap('Set3',K)\n",
    "plt.bar(*np.unique(clusters, return_counts=True), color=cmap.colors)\n",
    "plt.ylabel(\"Frequency\")\n",
    "plt.show()"
   ]
  },
  {
   "cell_type": "markdown",
   "id": "9fe78a47-638a-4875-8342-5a6a644c0b0b",
   "metadata": {},
   "source": [
    "On constate que les variables sont réparties de manière assez hétérogène. Beaucoup de variables se trouvent dans le cluster 7 et au contraire dans le cluster 0 il n'y en a pas beaucoup. Cependant, le nombre de variables est supérieur à 50 donc la répartition est raisonnable.\n"
   ]
  },
  {
   "cell_type": "code",
   "execution_count": null,
   "id": "cc4e1311-f1a5-4941-9658-d7ef13f6118d",
   "metadata": {
    "tags": []
   },
   "outputs": [],
   "source": [
    "# jeu de données réduit avec loading_pca"
   ]
  },
  {
   "cell_type": "code",
   "execution_count": null,
   "id": "fc4cfa72-f7f1-46b8-b625-e6fac684370d",
   "metadata": {
    "tags": []
   },
   "outputs": [],
   "source": [
    "inertia = []\n",
    "for k in range(1, 15):\n",
    "    kmeans_pca = KMeans(n_clusters=k, init='k-means++', n_init='auto', max_iter=100, random_state=42)\n",
    "    kmeans_pca.fit(loading_pca)\n",
    "    inertia.append(kmeans_pca.inertia_)\n",
    "inertia = np.array(inertia)\n",
    "\n",
    "\n",
    "plt.scatter(range(2, 15), inertia[1:])\n",
    "plt.xlabel('nombre de clusters', fontsize = 15)\n",
    "plt.ylabel('inertie', fontsize = 15)\n",
    "plt.title(\"Graphe du coude\", fontsize = 15)\n",
    "plt.show()\n",
    "\n",
    "\n",
    "# --- #\n",
    "\n",
    "\n",
    "# Using yellowbrick\n",
    "\n",
    "kmeans_pca = KMeans(init='k-means++', n_init='auto', max_iter=100, random_state=42)\n",
    "visualizer = KElbowVisualizer(kmeans_pca, k=(4,12))\n",
    "\n",
    "visualizer.fit(loading_pca)    # Fit the data to the visualizer\n",
    "visualizer.show()    # Finalize and render the figure"
   ]
  },
  {
   "cell_type": "markdown",
   "id": "0ad60163-98a4-493d-8867-a8e16e5fa483",
   "metadata": {},
   "source": [
    "D'après la méthode du coude on peut dire que le nombre de clusters le plus adapté avec K-means estt de 7"
   ]
  },
  {
   "cell_type": "markdown",
   "id": "f4a7bc26-b0a4-483c-962e-5d0d1cd9f5d5",
   "metadata": {},
   "source": [
    "Nous allons utiliser la méthode \"silouhette score\" pour valider le résultat précedent"
   ]
  },
  {
   "cell_type": "code",
   "execution_count": null,
   "id": "ceccf08f-af0b-4baf-bac5-b29f14f16678",
   "metadata": {
    "tags": []
   },
   "outputs": [],
   "source": [
    "fig, ax = plt.subplots(4, 2, figsize=(15,8))\n",
    "\n",
    "for k in range(2, 10):\n",
    "    kmeans_pca = KMeans(n_clusters=k, init='k-means++', n_init='auto', max_iter=100, random_state=42)\n",
    "    q, mod = divmod(k, 2) \n",
    "    # Create SilhouetteVisualizer instance with KMeans instance\n",
    "    visualizer = SilhouetteVisualizer(kmeans_pca, colors='yellowbrick', ax=ax[q-1][mod])\n",
    "    visualizer.fit(loading_pca)"
   ]
  },
  {
   "cell_type": "markdown",
   "id": "83fbd356-b75e-4cac-9461-ca0deb154986",
   "metadata": {},
   "source": [
    "Si on choisit un nombre de clusters égal à 7, voici l'histogramme des données associé"
   ]
  },
  {
   "cell_type": "code",
   "execution_count": null,
   "id": "6b1546b4-9e83-47e1-bf5c-deac2c287b35",
   "metadata": {
    "tags": []
   },
   "outputs": [],
   "source": [
    "K = 7\n",
    "\n",
    "kmeans_pca = KMeans(n_clusters=K, init='k-means++', n_init='auto', random_state=0)\n",
    "clusters_pca = kmeans_pca.fit_predict(loading_pca)\n",
    "\n",
    "# ----- #\n",
    "\n",
    "cmap = plt.get_cmap('Set3',K)\n",
    "plt.bar(*np.unique(clusters, return_counts=True), color=cmap.colors)\n",
    "plt.ylabel(\"Frequency\")\n",
    "plt.show()"
   ]
  },
  {
   "cell_type": "code",
   "execution_count": null,
   "id": "1e0eebb9-35f9-451a-b898-83adcdcb2e56",
   "metadata": {
    "tags": []
   },
   "outputs": [],
   "source": [
    "ConfusionMatrixDisplay(confusion_matrix(clusters, clusters_pca)).plot()\n",
    "plt.xlabel('On the reduced data (PCA)')\n",
    "plt.ylabel('On the complete data')\n",
    "plt.show()"
   ]
  },
  {
   "cell_type": "code",
   "execution_count": null,
   "id": "a74ec5d0-bf52-4b51-b635-ca484785e215",
   "metadata": {
    "tags": []
   },
   "outputs": [],
   "source": [
    "# reclassement des clusters"
   ]
  },
  {
   "cell_type": "code",
   "execution_count": null,
   "id": "47008f0b-aad9-4c60-a93d-9cbea7191532",
   "metadata": {
    "tags": []
   },
   "outputs": [],
   "source": [
    "cm, clusters_pca_sorted = matchClasses(clusters, clusters_pca)\n",
    "\n",
    "ConfusionMatrixDisplay(cm).plot()\n",
    "plt.xlabel('On the reduced data (PCA)')\n",
    "plt.ylabel('On the complete data')\n",
    "plt.show()"
   ]
  },
  {
   "cell_type": "code",
   "execution_count": null,
   "id": "2b90b4c5-ed8b-442d-8ca0-54efa57ab6f4",
   "metadata": {
    "tags": []
   },
   "outputs": [],
   "source": [
    "# visualisation des clusters grace à scatterplot"
   ]
  },
  {
   "cell_type": "code",
   "execution_count": null,
   "id": "fe4048ce-5f0d-4ecb-954b-30e21a5802a0",
   "metadata": {
    "tags": []
   },
   "outputs": [],
   "source": [
    "points_diff = clusters != clusters_pca\n",
    "\n",
    "fig, axs = plt.subplots(1, 3, figsize = (15, 5))\n",
    "\n",
    "#graphe 1 : données complètes\n",
    "im1 = axs[0].scatter(coord.latitude, coord.longitude, c = clusters, cmap = 'viridis', s=20)\n",
    "axs[0].set_title('Données complètes', fontsize = 10)\n",
    "\n",
    "#graphe 2 : données réduites au pca\n",
    "im2 = axs[1].scatter(coord.latitude, coord.longitude, c = clusters_pca, cmap = 'viridis', s=20)\n",
    "axs[1].set_title('Données réduites au pca', fontsize = 10)\n",
    "\n",
    "#graphe 3 : superposition des résultats avec affichage en noir des points différents\n",
    "im3 = axs[2].scatter(coord.latitude, coord.longitude, c=clusters, cmap='viridis', s=20, label='Données réduites au PCA')\n",
    "axs[2].set_title('Superposition', fontsize=10)\n",
    "\n",
    "# Superposition des points différents en noir sur le deuxième scatterplot\n",
    "axs[2].scatter(coord.latitude[points_diff], coord.longitude[points_diff], color='black', s=20, alpha=0.4, label='Différences')\n",
    "\n",
    "# Calcul du nombre de points différents\n",
    "num_diff_points = np.sum(points_diff)\n",
    "\n",
    "# Calcul du pourcentage de réussite\n",
    "pourcentage_reussite = (1- num_diff_points / len(clusters)) * 100\n",
    "\n",
    "# Affichage du résultat\n",
    "print(f\"Nombre de points différents : {num_diff_points} sur {len(clusters)}\")\n",
    "print(f\"Pourcentage de réussite : {pourcentage_reussite:.2f}%\")"
   ]
  },
  {
   "cell_type": "code",
   "execution_count": null,
   "id": "0beef0d3-1d81-43b3-8f8c-ec6358d6ebce",
   "metadata": {},
   "outputs": [],
   "source": []
  },
  {
   "cell_type": "code",
   "execution_count": null,
   "id": "0963dd05-564e-41e3-94e7-bc4ef7ead454",
   "metadata": {
    "tags": []
   },
   "outputs": [],
   "source": [
    "#cas 2 : jeu de données regroupé par jour VS ACP associée"
   ]
  },
  {
   "cell_type": "code",
   "execution_count": null,
   "id": "0562aa70-c926-4320-97a0-25bf0c407377",
   "metadata": {
    "tags": []
   },
   "outputs": [],
   "source": [
    "inertia = []\n",
    "for k in range(1, 15):\n",
    "    kmeans_jours = KMeans(n_clusters=k, init='k-means++', n_init='auto', max_iter=100, random_state=42)\n",
    "    kmeans_jours.fit(data_jours)\n",
    "    inertia.append(kmeans_jours.inertia_)\n",
    "inertia = np.array(inertia)\n",
    "\n",
    "\n",
    "plt.scatter(range(2, 15), inertia[1:])\n",
    "plt.xlabel('nombre de clusters', fontsize = 15)\n",
    "plt.ylabel('inertie', fontsize = 15)\n",
    "plt.title(\"Graphe du coude\", fontsize = 15)\n",
    "plt.show()\n",
    "\n",
    "\n",
    "# --- #\n",
    "\n",
    "\n",
    "# Using yellowbrick\n",
    "\n",
    "kmeans_jours = KMeans(init='k-means++', n_init='auto', max_iter=100, random_state=42)\n",
    "visualizer = KElbowVisualizer(kmeans_jours, k=(4,12))\n",
    "\n",
    "visualizer.fit(data_jours)    # Fit the data to the visualizer\n",
    "visualizer.show()    # Finalize and render the figure"
   ]
  },
  {
   "cell_type": "code",
   "execution_count": null,
   "id": "3944924e-e75f-4ece-962b-67057b99a6dc",
   "metadata": {
    "tags": []
   },
   "outputs": [],
   "source": [
    "fig, ax = plt.subplots(4, 2, figsize=(15,8))\n",
    "\n",
    "for k in range(2, 10):\n",
    "    kmeans_jours = KMeans(n_clusters=k, init='k-means++', n_init='auto', max_iter=100, random_state=42)\n",
    "    q, mod = divmod(k, 2) \n",
    "    # Create SilhouetteVisualizer instance with KMeans instance\n",
    "    visualizer = SilhouetteVisualizer(kmeans_jours, colors='yellowbrick', ax=ax[q-1][mod])\n",
    "    visualizer.fit(data_jours)"
   ]
  },
  {
   "cell_type": "code",
   "execution_count": null,
   "id": "063ae9f0-7ea9-4a2d-bc85-f4735816509b",
   "metadata": {
    "tags": []
   },
   "outputs": [],
   "source": [
    "K = 7\n",
    "\n",
    "kmeans_jours = KMeans(n_clusters=K, init='k-means++', n_init='auto', random_state=0)\n",
    "clusters_jours = kmeans_jours.fit_predict(data_jours)\n",
    "\n",
    "# ----- #\n",
    "\n",
    "cmap = plt.get_cmap('Set3',K)\n",
    "plt.bar(*np.unique(clusters, return_counts=True), color=cmap.colors)\n",
    "plt.ylabel(\"Frequency\")\n",
    "plt.show()"
   ]
  },
  {
   "cell_type": "code",
   "execution_count": null,
   "id": "4521e79d-a728-4368-867a-834b46f0b600",
   "metadata": {
    "tags": []
   },
   "outputs": [],
   "source": [
    "# jeu de données réduit avec data_jours_pca "
   ]
  },
  {
   "cell_type": "code",
   "execution_count": null,
   "id": "d1a083f5-1b2e-4182-a438-8992fcca4bdc",
   "metadata": {
    "tags": []
   },
   "outputs": [],
   "source": [
    "inertia = []\n",
    "for k in range(1, 15):\n",
    "    kmeans_PCA_jours = KMeans(n_clusters=k, init='k-means++', n_init='auto', max_iter=100, random_state=42)\n",
    "    kmeans_PCA_jours.fit(data_jours_pca )\n",
    "    inertia.append(kmeans_PCA_jours.inertia_)\n",
    "inertia = np.array(inertia)\n",
    "\n",
    "\n",
    "plt.scatter(range(2, 15), inertia[1:])\n",
    "plt.xlabel('nombre de clusters', fontsize = 15)\n",
    "plt.ylabel('inertie', fontsize = 15)\n",
    "plt.title(\"Graphe du coude\", fontsize = 15)\n",
    "plt.show()\n",
    "\n",
    "\n",
    "# --- #\n",
    "\n",
    "\n",
    "# Using yellowbrick\n",
    "\n",
    "kmeans_PCA_jours = KMeans(init='k-means++', n_init='auto', max_iter=100, random_state=42)\n",
    "visualizer = KElbowVisualizer(kmeans_PCA_jours, k=(4,12))\n",
    "\n",
    "visualizer.fit(data_jours_pca )    # Fit the data to the visualizer\n",
    "visualizer.show()    # Finalize and render the figure"
   ]
  },
  {
   "cell_type": "code",
   "execution_count": null,
   "id": "56cd7201-3d71-4dc4-92b9-441ddbb69492",
   "metadata": {
    "tags": []
   },
   "outputs": [],
   "source": [
    "fig, ax = plt.subplots(4, 2, figsize=(15,8))\n",
    "\n",
    "for k in range(2, 10):\n",
    "    kmeans_PCA_jours = KMeans(n_clusters=k, init='k-means++', n_init='auto', max_iter=100, random_state=42)\n",
    "    q, mod = divmod(k, 2) \n",
    "    # Create SilhouetteVisualizer instance with KMeans instance\n",
    "    visualizer = SilhouetteVisualizer(kmeans_PCA_jours, colors='yellowbrick', ax=ax[q-1][mod])\n",
    "    visualizer.fit(data_jours_pca )"
   ]
  },
  {
   "cell_type": "code",
   "execution_count": null,
   "id": "18ef5598-3377-45a9-9061-25a86ee7f0d4",
   "metadata": {
    "tags": []
   },
   "outputs": [],
   "source": [
    "K = 6\n",
    "\n",
    "kmeans_PCA_jours = KMeans(n_clusters=K, init='k-means++', n_init='auto', random_state=0)\n",
    "clusters_jours_pca = kmeans_PCA_jours.fit_predict(data_jours_pca )\n",
    "\n",
    "# ----- #\n",
    "\n",
    "cmap = plt.get_cmap('Set3',K)\n",
    "plt.bar(*np.unique(clusters, return_counts=True), color=cmap.colors)\n",
    "plt.ylabel(\"Frequency\")\n",
    "plt.show()"
   ]
  },
  {
   "cell_type": "code",
   "execution_count": null,
   "id": "9eaba6b5-9ab8-4195-8bf4-9e83cfb9f304",
   "metadata": {
    "tags": []
   },
   "outputs": [],
   "source": [
    "ConfusionMatrixDisplay(confusion_matrix(clusters_jours, clusters_jours_pca)).plot()\n",
    "plt.xlabel('On the reduced data (PCA)')\n",
    "plt.ylabel('On the complete data')\n",
    "plt.show()"
   ]
  },
  {
   "cell_type": "code",
   "execution_count": null,
   "id": "89b46ae8-a2f5-48f8-b22b-c869355aa2a2",
   "metadata": {
    "tags": []
   },
   "outputs": [],
   "source": [
    "# reclassement des clusters"
   ]
  },
  {
   "cell_type": "code",
   "execution_count": null,
   "id": "0ac17f79-a14a-4d9f-835d-87ba657dc809",
   "metadata": {
    "tags": []
   },
   "outputs": [],
   "source": [
    "cm, clusters_pca_sorted = matchClasses(clusters_jours, clusters_jours_pca)\n",
    "\n",
    "ConfusionMatrixDisplay(cm).plot()\n",
    "plt.xlabel('On the reduced data (PCA)')\n",
    "plt.ylabel('On the complete data')\n",
    "plt.show()"
   ]
  },
  {
   "cell_type": "code",
   "execution_count": null,
   "id": "390db0b4-6f87-4274-9254-ccba405e799a",
   "metadata": {
    "tags": []
   },
   "outputs": [],
   "source": [
    "# visualisation des clusters grace à scatterplot"
   ]
  },
  {
   "cell_type": "code",
   "execution_count": null,
   "id": "2c9b78db-71f1-406a-bd64-43f4169a53d0",
   "metadata": {
    "tags": []
   },
   "outputs": [],
   "source": [
    "points_diff2 = clusters_jours != clusters_jours_pca\n",
    "\n",
    "fig, axs = plt.subplots(1, 3, figsize = (15, 5))\n",
    "\n",
    "#graphe 1 : données_jours complètes\n",
    "im1 = axs[0].scatter(coord.latitude, coord.longitude, c = clusters_jours , cmap = 'viridis', s=20)\n",
    "axs[0].set_title('Données_jours complètes', fontsize = 10)\n",
    "\n",
    "#graphe 2 : données_jours réduites au pca\n",
    "im2 = axs[1].scatter(coord.latitude, coord.longitude, c = clusters_jours_pca, cmap = 'viridis', s=20)\n",
    "axs[1].set_title('Données_jours réduites au pca', fontsize = 10)\n",
    "\n",
    "#graphe 3 : superposition des résultats avec affichage en noir des points différents\n",
    "im3 = axs[2].scatter(coord.latitude, coord.longitude, c=clusters_jours, cmap='viridis', s=20, label='Données réduites au PCA')\n",
    "axs[2].set_title('Superposition', fontsize=10)\n",
    "\n",
    "# Superposition des points différents en noir sur le deuxième scatterplot\n",
    "axs[2].scatter(coord.latitude[points_diff2], coord.longitude[points_diff2], color='black', s=20, alpha=0.4, label='Différences')\n",
    "\n",
    "# Calcul du nombre de points différents\n",
    "num_diff_points2 = np.sum(points_diff2)\n",
    "\n",
    "# Calcul du pourcentage de réussite\n",
    "pourcentage_reussite2 = (1- num_diff_points2 / len(clusters_jours)) * 100\n",
    "\n",
    "# Affichage du résultat\n",
    "print(f\"Nombre de points différents : {num_diff_points2} sur {len(clusters_jours)}\")\n",
    "print(f\"Pourcentage de réussite : {pourcentage_reussite2:.2f}%\")"
   ]
  },
  {
   "cell_type": "code",
   "execution_count": null,
   "id": "6eca1c51-fefe-413c-a5c3-b88974266fa1",
   "metadata": {
    "tags": []
   },
   "outputs": [],
   "source": [
    "# cas 3 : jeu de données regroupé par heure vs son ACP associé"
   ]
  },
  {
   "cell_type": "code",
   "execution_count": null,
   "id": "83b8c318-78f0-4901-bdfd-40afbb951b26",
   "metadata": {
    "tags": []
   },
   "outputs": [],
   "source": [
    "inertia = []\n",
    "for k in range(1, 15):\n",
    "    kmeans_heures = KMeans(n_clusters=k, init='k-means++', n_init='auto', max_iter=100, random_state=42)\n",
    "    kmeans_heures.fit(data_heures )\n",
    "    inertia.append(kmeans_heures.inertia_)\n",
    "inertia = np.array(inertia)\n",
    "\n",
    "\n",
    "plt.scatter(range(2, 15), inertia[1:])\n",
    "plt.xlabel('nombre de clusters', fontsize = 15)\n",
    "plt.ylabel('inertie', fontsize = 15)\n",
    "plt.title(\"Graphe du coude\", fontsize = 15)\n",
    "plt.show()\n",
    "\n",
    "\n",
    "# --- #\n",
    "\n",
    "\n",
    "# Using yellowbrick\n",
    "\n",
    "kmeans_heures = KMeans(init='k-means++', n_init='auto', max_iter=100, random_state=42)\n",
    "visualizer = KElbowVisualizer(kmeans_heures, k=(4,12))\n",
    "\n",
    "visualizer.fit(data_heures )    # Fit the data to the visualizer\n",
    "visualizer.show()    # Finalize and render the figure"
   ]
  },
  {
   "cell_type": "code",
   "execution_count": null,
   "id": "2f09c5cd-7e0c-432c-a18f-5b0fc8a1d1ac",
   "metadata": {
    "tags": []
   },
   "outputs": [],
   "source": [
    "fig, ax = plt.subplots(4, 2, figsize=(15,8))\n",
    "\n",
    "for k in range(2, 10):\n",
    "    kmeans_heures = KMeans(n_clusters=k, init='k-means++', n_init='auto', max_iter=100, random_state=42)\n",
    "    q, mod = divmod(k, 2) \n",
    "    # Create SilhouetteVisualizer instance with KMeans instance\n",
    "    visualizer = SilhouetteVisualizer(kmeans_heures, colors='yellowbrick', ax=ax[q-1][mod])\n",
    "    visualizer.fit(data_heures )"
   ]
  },
  {
   "cell_type": "code",
   "execution_count": null,
   "id": "0eb763c4-42a9-4885-b616-eae4b1f5eef4",
   "metadata": {
    "tags": []
   },
   "outputs": [],
   "source": [
    "K = 6\n",
    "\n",
    "kmeans_heures = KMeans(n_clusters=K, init='k-means++', n_init='auto', random_state=0)\n",
    "clusters_heures = kmeans_heures.fit_predict(data_heures )\n",
    "\n",
    "# ----- #\n",
    "\n",
    "cmap = plt.get_cmap('Set3',K)\n",
    "plt.bar(*np.unique(clusters, return_counts=True), color=cmap.colors)\n",
    "plt.ylabel(\"Frequency\")\n",
    "plt.show()"
   ]
  },
  {
   "cell_type": "code",
   "execution_count": null,
   "id": "5e102cfb-b28f-435c-b550-283aa3ae62a5",
   "metadata": {},
   "outputs": [],
   "source": [
    "# jeu de données réduit avec data_heures_pca"
   ]
  },
  {
   "cell_type": "code",
   "execution_count": null,
   "id": "1374fbce-1c9d-40db-ac97-9281ada0ab9c",
   "metadata": {
    "tags": []
   },
   "outputs": [],
   "source": [
    "inertia = []\n",
    "for k in range(1, 15):\n",
    "    kmeans_PCA_heures = KMeans(n_clusters=k, init='k-means++', n_init='auto', max_iter=100, random_state=42)\n",
    "    kmeans_PCA_heures.fit(data_heures_pca )\n",
    "    inertia.append(kmeans_PCA_heures.inertia_)\n",
    "inertia = np.array(inertia)\n",
    "\n",
    "\n",
    "plt.scatter(range(2, 15), inertia[1:])\n",
    "plt.xlabel('nombre de clusters', fontsize = 15)\n",
    "plt.ylabel('inertie', fontsize = 15)\n",
    "plt.title(\"Graphe du coude\", fontsize = 15)\n",
    "plt.show()\n",
    "\n",
    "\n",
    "# --- #\n",
    "\n",
    "\n",
    "# Using yellowbrick\n",
    "\n",
    "kmeans_PCA_heures = KMeans(init='k-means++', n_init='auto', max_iter=100, random_state=42)\n",
    "visualizer = KElbowVisualizer(kmeans_PCA_heures, k=(4,12))\n",
    "\n",
    "visualizer.fit(data_heures_pca)    # Fit the data to the visualizer\n",
    "visualizer.show()    # Finalize and render the figure"
   ]
  },
  {
   "cell_type": "code",
   "execution_count": null,
   "id": "046cfe2e-a0c6-44ea-8db9-a507a88c5a75",
   "metadata": {
    "tags": []
   },
   "outputs": [],
   "source": [
    "fig, ax = plt.subplots(4, 2, figsize=(15,8))\n",
    "\n",
    "for k in range(2, 10):\n",
    "    kmeans_PCA_heures = KMeans(n_clusters=k, init='k-means++', n_init='auto', max_iter=100, random_state=42)\n",
    "    q, mod = divmod(k, 2) \n",
    "    # Create SilhouetteVisualizer instance with KMeans instance\n",
    "    visualizer = SilhouetteVisualizer(kmeans_PCA_heures, colors='yellowbrick', ax=ax[q-1][mod])\n",
    "    visualizer.fit(data_heures_pca )"
   ]
  },
  {
   "cell_type": "code",
   "execution_count": null,
   "id": "89c7c354-d6d6-41d9-8aa4-5403de131efb",
   "metadata": {
    "tags": []
   },
   "outputs": [],
   "source": [
    "K = 6\n",
    "\n",
    "kmeans_PCA_heures = KMeans(n_clusters=K, init='k-means++', n_init='auto', random_state=0)\n",
    "clusters_heures_pca = kmeans_PCA_heures.fit_predict(data_heures_pca )\n",
    "\n",
    "# ----- #\n",
    "\n",
    "cmap = plt.get_cmap('Set3',K)\n",
    "plt.bar(*np.unique(clusters, return_counts=True), color=cmap.colors)\n",
    "plt.ylabel(\"Frequency\")\n",
    "plt.show()"
   ]
  },
  {
   "cell_type": "code",
   "execution_count": null,
   "id": "4b59cc01-de25-452c-946f-e113cada66ec",
   "metadata": {
    "tags": []
   },
   "outputs": [],
   "source": [
    "ConfusionMatrixDisplay(confusion_matrix(clusters_heures, clusters_heures_pca)).plot()\n",
    "plt.xlabel('On the reduced data (PCA)')\n",
    "plt.ylabel('On the complete data')\n",
    "plt.show()"
   ]
  },
  {
   "cell_type": "code",
   "execution_count": null,
   "id": "703d91cc-2bbc-45f8-bb3e-34c318cd046a",
   "metadata": {
    "tags": []
   },
   "outputs": [],
   "source": [
    "# reclassement des clusters"
   ]
  },
  {
   "cell_type": "code",
   "execution_count": null,
   "id": "02e61b6c-cdf8-401f-a0fe-16523582a8c8",
   "metadata": {
    "tags": []
   },
   "outputs": [],
   "source": [
    "cm, clusters_pca_sorted = matchClasses(clusters_heures, clusters_heures_pca)\n",
    "\n",
    "ConfusionMatrixDisplay(cm).plot()\n",
    "plt.xlabel('On the reduced data (PCA)')\n",
    "plt.ylabel('On the complete data')\n",
    "plt.show()"
   ]
  },
  {
   "cell_type": "code",
   "execution_count": null,
   "id": "1718565b-5549-445e-9cce-62a471efea46",
   "metadata": {
    "tags": []
   },
   "outputs": [],
   "source": [
    "# visualisation des clusters grace à scatterplot"
   ]
  },
  {
   "cell_type": "code",
   "execution_count": null,
   "id": "27f8b7c3-d01e-449c-8f8e-7e92f5e04d6f",
   "metadata": {
    "tags": []
   },
   "outputs": [],
   "source": [
    "points_diff3 = clusters_heures != clusters_heures_pca\n",
    "\n",
    "fig, axs = plt.subplots(1, 3, figsize = (15, 5))\n",
    "\n",
    "#graphe 1 : données_jours complètes\n",
    "im1 = axs[0].scatter(coord.latitude, coord.longitude, c = clusters_heures , cmap = 'viridis', s=20)\n",
    "axs[0].set_title('Données_jours complètes', fontsize = 10)\n",
    "\n",
    "#graphe 2 : données_jours réduites au pca\n",
    "im2 = axs[1].scatter(coord.latitude, coord.longitude, c = clusters_heures_pca, cmap = 'viridis', s=20)\n",
    "axs[1].set_title('Données_jours réduites au pca', fontsize = 10)\n",
    "\n",
    "#graphe 3 : superposition des résultats avec affichage en noir des points différents\n",
    "im3 = axs[2].scatter(coord.latitude, coord.longitude, c=clusters_heures, cmap='viridis', s=20, label='Données réduites au PCA')\n",
    "axs[2].set_title('Superposition', fontsize=10)\n",
    "\n",
    "# Superposition des points différents en noir sur le deuxième scatterplot\n",
    "axs[2].scatter(coord.latitude[points_diff3], coord.longitude[points_diff3], color='black', alpha=0.4, s=20, label='Différences')\n",
    "\n",
    "# Calcul du nombre de points différents\n",
    "num_diff_points3 = np.sum(points_diff3)\n",
    "\n",
    "# Calcul du pourcentage de réussite\n",
    "pourcentage_reussite3 = (1- num_diff_points3 / len(clusters_heures)) * 100\n",
    "\n",
    "# Affichage du résultat\n",
    "print(f\"Nombre de points différents : {num_diff_points3} sur {len(clusters_heures)}\")\n",
    "print(f\"Pourcentage de réussite : {pourcentage_reussite3:.2f}%\")"
   ]
  },
  {
   "cell_type": "markdown",
   "id": "711c9958",
   "metadata": {},
   "source": [
    "### Agglomerative Clustering\n"
   ]
  },
  {
   "cell_type": "markdown",
   "id": "803c2adf",
   "metadata": {},
   "source": [
    "On étudie ici différentes techniques de classification. On commence par la méthode de la classification ascendante hiérarchique (CAH). Cette méthode consiste à afficher des dendrogrammes des différente données en fonction de différents likages."
   ]
  },
  {
   "cell_type": "code",
   "execution_count": null,
   "id": "2ee65713",
   "metadata": {},
   "outputs": [],
   "source": [
    "#CAS 1 : jeu de données complet "
   ]
  },
  {
   "cell_type": "code",
   "execution_count": null,
   "id": "8aae4b0f",
   "metadata": {},
   "outputs": [],
   "source": [
    "!pip install yellowbrick"
   ]
  },
  {
   "cell_type": "code",
   "execution_count": null,
   "id": "b04d787a",
   "metadata": {},
   "outputs": [],
   "source": [
    "from sklearn.cluster import AgglomerativeClustering\n",
    "import scipy.cluster.hierarchy as sch\n",
    "from yellowbrick.cluster import KElbowVisualizer, SilhouetteVisualizer"
   ]
  },
  {
   "cell_type": "markdown",
   "id": "4b0997d0",
   "metadata": {},
   "source": [
    "La méthode CAH étant très coûteuse en termes de calculs, on préférera commençait l'analyse en prenant un échantillon plus petit (A voir : si k-means sur le pca est similaire à la data entière on prend le pca sinon on prend juste une donnée sur 5)"
   ]
  },
  {
   "cell_type": "code",
   "execution_count": null,
   "id": "f8d8fa27",
   "metadata": {},
   "outputs": [],
   "source": [
    "loading_reduced = loading_standardise[::5]\n",
    "\n",
    "#on peut aussi le réduire autrement :\n",
    "#Si le jeu de données de PCA obtient de bons résultats sur la comparaion k-means jeu de données entier et pca aors :\n",
    "#on peut prendre l'ensemble PCA ie réduite en colonne puis en prendre toutes les 3 lignes \n",
    "\n",
    "print(\"mars data full sample size:\", loading.shape)\n",
    "print(\"mars data sub-sample size :\", loading_reduced.shape)"
   ]
  },
  {
   "cell_type": "markdown",
   "id": "51e813c1",
   "metadata": {},
   "source": [
    "On détermine le nombre de clusters à partir de la méthode du coude"
   ]
  },
  {
   "cell_type": "code",
   "execution_count": null,
   "id": "7bbc919c",
   "metadata": {},
   "outputs": [],
   "source": [
    "ac = AgglomerativeClustering(linkage=\"ward\", compute_distances=True)\n",
    "clusters_ac = ac.fit_predict(loading_reduced)\n",
    "\n",
    "distances = ac.distances_\n",
    "\n",
    "n_sizes = 15\n",
    "x = np.arange(n_sizes, 0, -1)\n",
    "y = ac.distances_[-n_sizes:]\n",
    "\n",
    "plt.scatter(x, y)\n",
    "\n",
    "plt.xlabel('Point indices')\n",
    "plt.ylabel('Distances')\n",
    "plt.title(\"Choice of the number of classes\")\n",
    "plt.show()"
   ]
  },
  {
   "cell_type": "markdown",
   "id": "802ff386",
   "metadata": {},
   "source": [
    "Autre méthode de caractérisation du nombre de classes:"
   ]
  },
  {
   "cell_type": "code",
   "execution_count": null,
   "id": "76aab9f5",
   "metadata": {},
   "outputs": [],
   "source": [
    "ac = AgglomerativeClustering(linkage='ward', compute_distances=True)\n",
    "visualizer = KElbowVisualizer(ac, k=(4,12))\n",
    "\n",
    "visualizer.fit(loading_reduced)  # Fit the data to the visualizer\n",
    "visualizer.show()   \n",
    "plt.show()"
   ]
  },
  {
   "cell_type": "markdown",
   "id": "f187ce34",
   "metadata": {},
   "source": [
    "Selon les différents indicateurs il nous faut prendre 7 clusters différents. On affiche alors le dendrogramme associé en utilisant les linkages \"Ward\"."
   ]
  },
  {
   "cell_type": "code",
   "execution_count": null,
   "id": "271cec25",
   "metadata": {},
   "outputs": [],
   "source": [
    "#Nombre de clusters choisi par les indicateurs \n",
    "K = 7\n",
    "\n",
    "ac = AgglomerativeClustering(n_clusters=K, compute_distances=True, linkage='ward')\n",
    "clusters = ac.fit(loading_reduced)\n",
    "\n",
    "children = ac.children_\n",
    "distances = ac.distances_\n",
    "n_observations = np.arange(2, children.shape[0]+2)\n",
    "linkage_matrix = np.c_[children, distances, n_observations]\n",
    "\n",
    "sch.dendrogram(linkage_matrix, labels=ac.labels_)\n",
    "\n",
    "# Cutting the dendrogram to get K classes\n",
    "max_d = .5*(ac.distances_[-K]+ac.distances_[-K+1])\n",
    "plt.axhline(y=max_d, c='k')\n",
    "\n",
    "plt.title(\"Dendrogram with Ward linkage\")\n",
    "plt.show()"
   ]
  },
  {
   "cell_type": "markdown",
   "id": "1be9fd6f",
   "metadata": {},
   "source": [
    "On affiche tous les types de linkages que l'on a étudié pour montrer que \"Ward\" et \"complete\" sont les deux types dont les graphes sont faciles à explorer:"
   ]
  },
  {
   "cell_type": "code",
   "execution_count": null,
   "id": "8b16cfb1",
   "metadata": {},
   "outputs": [],
   "source": [
    "#par soucis de rapidité on prend encore un échantillon plus réduit \n",
    "loading_reduced2 = loading_standardise[::15]\n",
    "\n",
    "print(\"mars data full sample size:\", loading.shape)\n",
    "print(\"mars data sub-sample size :\", loading_reduced2.shape)"
   ]
  },
  {
   "cell_type": "code",
   "execution_count": null,
   "id": "7df26b8b",
   "metadata": {},
   "outputs": [],
   "source": [
    "plt.subplot(2,2,1)\n",
    "linkage_matrix_single = sch.linkage(loading_reduced2, method='single')\n",
    "sch.dendrogram(linkage_matrix_single)\n",
    "plt.title(\"Dendrogram with single linkage\")\n",
    "\n",
    "plt.subplot(2,2,2)\n",
    "linkage_matrix_complete = sch.linkage(loading_reduced2, method='complete')\n",
    "sch.dendrogram(linkage_matrix_complete)\n",
    "plt.title(\"Dendrogram with complete linkage\")\n",
    "\n",
    "plt.subplot(2,2,3)\n",
    "linkage_matrix_average = sch.linkage(loading_reduced2, method='average')\n",
    "sch.dendrogram(linkage_matrix_average)\n",
    "plt.title(\"Dendrogram with average linkage\")\n",
    "\n",
    "plt.subplot(2,2,4)\n",
    "linkage_matrix_ward = sch.linkage(loading_reduced2, method='ward')\n",
    "sch.dendrogram(linkage_matrix_ward)\n",
    "plt.title(\"Dendrogram with Ward linkage\")\n",
    "\n",
    "plt.tight_layout()\n",
    "plt.show()"
   ]
  },
  {
   "cell_type": "markdown",
   "id": "514b5280",
   "metadata": {},
   "source": [
    "On réalise maintenant la comparaison entre les deux jeux de données :"
   ]
  },
  {
   "cell_type": "code",
   "execution_count": null,
   "id": "e564a7ee-eec6-4cb7-b329-3c70689c73d5",
   "metadata": {
    "tags": []
   },
   "outputs": [],
   "source": [
    "\"\"\"\n",
    "from sklearn.metrics import confusion_matrix\n",
    "\n",
    "ac_all_data = AgglomerativeClustering(n_clusters=K, compute_distances=True, linkage='ward')\n",
    "clusters_all_data = ac_all_data.fit_predict(loading_standardise)\n",
    "print(clusters_all_data.shape)\n",
    "\n",
    "\n",
    "ac_pca_data = AgglomerativeClustering(n_clusters=K, compute_distances=True, linkage='ward')\n",
    "clusters_pca_data = ac_pca_data.fit_predict(loading_reduced)\n",
    "print(clusters_pca_data.shape)\n",
    "\n",
    "loading_reduced_adjusted = loading_reduced[:len(clusters_all_data)]\n",
    "\n",
    "confusion_matrix_result = confusion_matrix(clusters_all_data, clusters_pca_data)\n",
    "\n",
    "ConfusionMatrixDisplay(confusion_matrix_result).plot()\n",
    "\n",
    "\"\"\"\n",
    "\n",
    "#le pb ici c'est qu'on fait le CAH sur un échantillon plus petit pour facilité les calculs de dendrogrammes \n",
    "#cpdt ca pose pb quand on veut calculer la matrice de confusion car les échantillons ne sont pas de meme taille logique car on a pris un jeu de données de taille réduite pour rendre les calculs des arbres + rapide"
   ]
  },
  {
   "cell_type": "markdown",
   "id": "c62d0129-86cc-4b21-af62-3d94a6e5c66c",
   "metadata": {},
   "source": [
    "On obtient alors une matrice de confusion, dont on va se servir comme table de contingence pour faire une Analyse en Correspondance."
   ]
  },
  {
   "cell_type": "code",
   "execution_count": null,
   "id": "7d610870-aaf8-4dab-acc7-47caa19817f2",
   "metadata": {
    "tags": []
   },
   "outputs": [],
   "source": [
    "\"\"\" \n",
    "contingency_table = np.zeros((K, K), dtype=int)\n",
    "for i in range(len(clusters_all_data)):\n",
    "    contingency_table[clusters_all_data[i], clusters_pca_data[i]] += 1\n",
    "\n",
    "print(\"Table de contingence :\")\n",
    "print(contingency_table)\n",
    "\n",
    "\"\"\""
   ]
  },
  {
   "cell_type": "markdown",
   "id": "2463573b",
   "metadata": {},
   "source": [
    "## Gaussian Mixture Models"
   ]
  },
  {
   "cell_type": "markdown",
   "id": "86272ae7",
   "metadata": {},
   "source": [
    "On affiche d'abord la dispersion des points par cluster initiée par le modèle de mélange gaussien (GMM)"
   ]
  },
  {
   "cell_type": "code",
   "execution_count": null,
   "id": "20e91b07",
   "metadata": {},
   "outputs": [],
   "source": [
    "from sklearn.mixture import GaussianMixture\n",
    "from sklearn.metrics import silhouette_score "
   ]
  },
  {
   "cell_type": "code",
   "execution_count": null,
   "id": "ee8948c3",
   "metadata": {},
   "outputs": [],
   "source": [
    "K = 7\n",
    "cmap = plt.get_cmap('Set3', K)\n",
    "\n",
    "gmm = GaussianMixture(n_components=K, n_init=3)\n",
    "clusters_gmm = gmm.fit_predict(loading)\n",
    "\n",
    "# --- #\n",
    "\n",
    "plt.subplot(1,2,1)\n",
    "plt.scatter(loading.iloc[:,0], loading.iloc[:,1], c=clusters_gmm, s=1, linewidths=1, cmap=cmap)\n",
    "plt.grid(True)\n",
    "\n",
    "\n",
    "plt.tight_layout()\n",
    "plt.show()"
   ]
  },
  {
   "cell_type": "markdown",
   "id": "4f5172d5-27b0-46b3-bf07-26a5a462e8ba",
   "metadata": {},
   "source": [
    "Critère du BIC : "
   ]
  },
  {
   "cell_type": "code",
   "execution_count": null,
   "id": "d06b10dd-bce1-47e2-9c73-251e756d68a4",
   "metadata": {
    "tags": []
   },
   "outputs": [],
   "source": [
    "k_max = 15\n",
    "\n",
    "bic = []\n",
    "for k in range(2, k_max):\n",
    "    gmm = GaussianMixture(n_components=k, init_params='kmeans', n_init=3)\n",
    "    gmm.fit(loading)\n",
    "    bic.append(gmm.bic(loading))\n",
    "bic = np.array(bic)\n",
    "\n",
    "plt.scatter(range(2, k_max), bic)\n",
    "plt.show()\n"
   ]
  },
  {
   "cell_type": "markdown",
   "id": "ca7e6950-e022-4dbd-9550-829097f388ca",
   "metadata": {},
   "source": [
    "En appliquant le critère BIC sur l'ensemble des donnée, on voit ici que pour minimiser le BIC il faudrait prendre 2 variables "
   ]
  },
  {
   "cell_type": "code",
   "execution_count": null,
   "id": "733fa642-d2d3-4862-807b-038387ff3b84",
   "metadata": {
    "tags": []
   },
   "outputs": [],
   "source": [
    "k_max = 15\n",
    "\n",
    "bic = []\n",
    "for k in range(2, k_max):\n",
    "    gmm = GaussianMixture(n_components=k, init_params='kmeans', n_init=3)\n",
    "    gmm.fit(loading_reduced)\n",
    "    bic.append(gmm.bic(loading_reduced))\n",
    "bic = np.array(bic)\n",
    "\n",
    "plt.scatter(range(2, k_max), bic)\n",
    "plt.show()"
   ]
  },
  {
   "cell_type": "markdown",
   "id": "6f33a76b-28ea-4f83-98fd-3e8fb6a7f3bc",
   "metadata": {
    "tags": []
   },
   "source": [
    "En appliquant le même critère sur le jeu de données reduit par la PCA, on a un résultat différent car on garde ici 3 variables au lieu de 2."
   ]
  },
  {
   "cell_type": "markdown",
   "id": "ae854b66",
   "metadata": {},
   "source": [
    "## Comparaison des méthodes de classification"
   ]
  },
  {
   "cell_type": "code",
   "execution_count": null,
   "id": "44335f83-7e8f-4666-b853-a489824e11c2",
   "metadata": {
    "tags": []
   },
   "outputs": [],
   "source": [
    "from scipy.spatial.distance import cdist\n",
    "from matplotlib.patches import Ellipse"
   ]
  },
  {
   "cell_type": "code",
   "execution_count": null,
   "id": "65bf8be1-c971-4a27-b37c-b6a8be6839da",
   "metadata": {
    "tags": []
   },
   "outputs": [],
   "source": []
  },
  {
   "cell_type": "code",
   "execution_count": null,
   "id": "b1dbf35e-026d-4ece-8d6f-7cfebcfcd332",
   "metadata": {
    "tags": []
   },
   "outputs": [],
   "source": [
    "def plotKmeans(kmeans, data, n_clusters=6):\n",
    "    # plot the representation of the KMeans model\n",
    "    centers = kmeans.cluster_centers_\n",
    "    radius = [cdist(data[clusters_kmeans == i], [center]).max() for i, center in enumerate(centers)]\n",
    "    for i in range(n_clusters):\n",
    "        ax.add_patch(plt.Circle(centers[i], radius[i], fc=cmap.colors[i], alpha=0.3))"
   ]
  },
  {
   "cell_type": "code",
   "execution_count": null,
   "id": "ece3ffaf-82f3-4d0a-b528-b3f6846f3959",
   "metadata": {
    "tags": []
   },
   "outputs": [],
   "source": [
    "# Importation des bibliothèques nécessaires\n",
    "from sklearn.cluster import KMeans\n",
    "import matplotlib.pyplot as plt\n",
    "\n",
    "# Définition du nombre de clusters\n",
    "K = 7\n",
    "\n",
    "# Création de l'objet KMeans\n",
    "kmeans = KMeans(n_clusters=K)\n",
    "\n",
    "# Ajustement du modèle KMeans aux données\n",
    "kmeans.fit(loading_reduced)\n",
    "\n",
    "# Appel de la fonction plotKmeans\n",
    "plotKmeans(kmeans, loading_reduced)\n"
   ]
  },
  {
   "cell_type": "code",
   "execution_count": null,
   "id": "d55e484c-c91d-46e5-a3a6-571bd12d8133",
   "metadata": {
    "tags": []
   },
   "outputs": [],
   "source": [
    "K = 7\n",
    "\n",
    "kmeans = KMeans(n_clusters=K)\n",
    "\n",
    "plotKmeans(kmeans, loading_reduced)"
   ]
  },
  {
   "cell_type": "code",
   "execution_count": null,
   "id": "2af925a2-6f5e-4835-a3e7-806d020748b1",
   "metadata": {},
   "outputs": [],
   "source": []
  },
  {
   "cell_type": "code",
   "execution_count": null,
   "id": "4e0011ad-7db6-4682-ab61-b59304f302d0",
   "metadata": {},
   "outputs": [],
   "source": []
  },
  {
   "cell_type": "code",
   "execution_count": null,
   "id": "d7ef6d68-eb31-4df5-9078-83ca23847ddb",
   "metadata": {},
   "outputs": [],
   "source": []
  },
  {
   "cell_type": "code",
   "execution_count": null,
   "id": "c6f2c65a-8c6c-4c15-8e31-d8583c4f6ac2",
   "metadata": {},
   "outputs": [],
   "source": []
  },
  {
   "cell_type": "code",
   "execution_count": null,
   "id": "4cec26f1-36f9-48f7-b779-9731cf221f5f",
   "metadata": {},
   "outputs": [],
   "source": []
  },
  {
   "cell_type": "code",
   "execution_count": null,
   "id": "72531582",
   "metadata": {},
   "outputs": [],
   "source": [
    "#Cas 2 : jeu de données sur les jours \n",
    "loading_reduced = loading[::5]\n",
    "\n",
    "#on peut aussi le réduire autrement :\n",
    "#Si le jeu de données de PCA obtient de bons résultats sur la comparaion k-means jeu de données entier et pca aors :\n",
    "#on peut prendre l'ensemble PCA ie réduite en colonne puis en prendre toutes les 3 lignes \n",
    "\n",
    "print(\"mars data full sample size:\", loading.shape)\n",
    "print(\"mars data sub-sample size :\", loading_reduced.shape)"
   ]
  },
  {
   "cell_type": "markdown",
   "id": "c68c9121",
   "metadata": {},
   "source": [
    "On détermine le nombre de clusters à partir de la méthode du coude, .."
   ]
  },
  {
   "cell_type": "code",
   "execution_count": null,
   "id": "8e54e547",
   "metadata": {},
   "outputs": [],
   "source": [
    "ac = AgglomerativeClustering(linkage='ward', compute_distances=True)\n",
    "visualizer = KElbowVisualizer(ac, k=(4,12))\n",
    "\n",
    "visualizer.fit(jours_reduced)  # Fit the data to the visualizer\n",
    "visualizer.show()   \n",
    "plt.show()"
   ]
  },
  {
   "cell_type": "markdown",
   "id": "5ac012bb",
   "metadata": {},
   "source": [
    "Selon les différents indicateurs il nous faut prendre 7 clusters différents. On affiche alors le dendrogramme associé en utilisant les linkages \"Ward\"."
   ]
  },
  {
   "cell_type": "code",
   "execution_count": null,
   "id": "2efb3360",
   "metadata": {},
   "outputs": [],
   "source": [
    "#Nombre de clusters choisi par les indicateurs \n",
    "K = 8\n",
    "\n",
    "ac = AgglomerativeClustering(n_clusters=K, compute_distances=True, linkage='ward')\n",
    "clusters = ac.fit(jours_reduced)\n",
    "\n",
    "children = ac.children_\n",
    "distances = ac.distances_\n",
    "n_observations = np.arange(2, children.shape[0]+2)\n",
    "linkage_matrix = np.c_[children, distances, n_observations]\n",
    "\n",
    "sch.dendrogram(linkage_matrix, labels=ac.labels_)\n",
    "\n",
    "# Cutting the dendrogram to get K classes\n",
    "max_d = .5*(ac.distances_[-K]+ac.distances_[-K+1])\n",
    "plt.axhline(y=max_d, c='k')\n",
    "\n",
    "plt.title(\"Dendrogram with Ward linkage\")\n",
    "plt.show()"
   ]
  },
  {
   "cell_type": "markdown",
   "id": "4c3df870",
   "metadata": {},
   "source": [
    "On affiche tous les types de linkages que l'on a étudié pour montrer que \"Ward\" et \"complete\" sont les deux types dont les graphes sont faciles à explorer:"
   ]
  },
  {
   "cell_type": "code",
   "execution_count": null,
   "id": "ccffab62",
   "metadata": {},
   "outputs": [],
   "source": [
    "#par soucis de rapidité on prend encore un échantillon plus réduit \n",
    "jours_reduced2 = data_jours[::10]\n",
    "\n",
    "print(\"mars data full sample size:\", data_jours.shape)\n",
    "print(\"mars data sub-sample size :\", jours_reduced2.shape)"
   ]
  },
  {
   "cell_type": "code",
   "execution_count": null,
   "id": "d8753d09",
   "metadata": {},
   "outputs": [],
   "source": [
    "plt.subplot(2,2,1)\n",
    "linkage_matrix_single = sch.linkage(jours_reduced2, method='single')\n",
    "sch.dendrogram(linkage_matrix_single)\n",
    "plt.title(\"Dendrogram with single linkage\")\n",
    "\n",
    "plt.subplot(2,2,2)\n",
    "linkage_matrix_complete = sch.linkage(jours_reduced2, method='complete')\n",
    "sch.dendrogram(linkage_matrix_complete)\n",
    "plt.title(\"Dendrogram with complete linkage\")\n",
    "\n",
    "plt.subplot(2,2,3)\n",
    "linkage_matrix_average = sch.linkage(jours_reduced2, method='average')\n",
    "sch.dendrogram(linkage_matrix_average)\n",
    "plt.title(\"Dendrogram with average linkage\")\n",
    "\n",
    "plt.subplot(2,2,4)\n",
    "linkage_matrix_ward = sch.linkage(jours_reduced2, method='ward')\n",
    "sch.dendrogram(linkage_matrix_ward)\n",
    "plt.title(\"Dendrogram with Ward linkage\")\n",
    "\n",
    "plt.tight_layout()\n",
    "plt.show()"
   ]
  },
  {
   "cell_type": "markdown",
   "id": "6035501f",
   "metadata": {},
   "source": [
    "On réalise maitenant la partie de visualisation du clustering agglomératif.\n",
    "\n",
    "#je sais pas si c'est vrt pertinent à checker"
   ]
  },
  {
   "cell_type": "code",
   "execution_count": null,
   "id": "38585113",
   "metadata": {},
   "outputs": [],
   "source": [
    "K=8\n",
    "\n",
    "cmap = plt.get_cmap('Set3', K)\n",
    "\n",
    "# -- #\n",
    "\n",
    "ac_ss = AgglomerativeClustering(n_clusters=K, compute_distances=True, linkage='ward')\n",
    "clusters_ac_ss = ac_ss.fit_predict(jours_reduced)\n",
    "\n",
    "ac = AgglomerativeClustering(n_clusters=K, compute_distances=True, linkage='ward')\n",
    "clusters_ac = ac.fit_predict(data_jours)\n",
    "\n",
    "# -- #\n",
    "\n",
    "# On the sub-sample\n",
    "plt.subplot(1,2,1)\n",
    "scatter1 = plt.scatter(jours_reduced.iloc[:,0], jours_reduced.iloc[:,1], c=clusters_ac_ss, s=1, linewidths=1, cmap='viridis')\n",
    "plt.legend(*scatter1.legend_elements(), title=\"Clusters\")\n",
    "\n",
    "# On the complete dataset\n",
    "plt.subplot(1,2,2)\n",
    "scatter2 = plt.scatter(data_jours.iloc[:,0], data_jours.iloc[:,1], c=clusters_ac, s=1, linewidths=1, cmap='viridis')\n",
    "plt.legend(*scatter2.legend_elements(), title=\"Clusters\")\n",
    "\n",
    "plt.tight_layout()\n",
    "plt.show()"
   ]
  },
  {
   "cell_type": "code",
   "execution_count": null,
   "id": "092d4190",
   "metadata": {},
   "outputs": [],
   "source": [
    "K = 7\n",
    "\n",
    "#on crée la map\n",
    "cmap = plt.get_cmap('Set3', K)\n",
    "\n",
    "\n",
    "# CAH sur le jeu de données réduit\n",
    "ac_ss = AgglomerativeClustering(n_clusters=K, compute_distances=True, linkage='ward')\n",
    "clusters_ac_ss = ac_ss.fit_predict(jours_reduced)\n",
    "\n",
    "# CAH sur tout le jeu de données \n",
    "ac = AgglomerativeClustering(n_clusters=K, compute_distances=True, linkage='ward')\n",
    "clusters_ac = ac.fit_predict(data_jours)\n",
    "\n",
    "# Affichage des graphiques de dispersion avec superposition\n",
    "plt.scatter(jours_reduced.iloc[:,0], jours_reduced.iloc[:,1], c=clusters_ac_ss, s=50, cmap=cmap, alpha=0.5)\n",
    "plt.scatter(data_jours.iloc[:,0], data_jours.iloc[:,1], c=clusters_ac, s=50, cmap=cmap, alpha=0.5)\n",
    "\n",
    "count = 0\n",
    "for i in range(len(jours_reduced)):\n",
    "    if clusters_ac_ss[i] != clusters_ac[i]:\n",
    "        plt.scatter([jours_reduced.iloc[i,0], data_jours.iloc[i,0]], [jours_reduced.iloc[i,1], data_jours.iloc[i,1]], c='black', s=50, alpha=0.5)\n",
    "        count+=1\n",
    "        \n",
    "plt.legend(['Points with different clusters'])\n",
    "plt.show()\n",
    "\n",
    "print(\"Nombre de points dans le jeu de données réduit : \", jours_reduced.shape[0])\n",
    "print(\"Nombre de points dans des clusters différents entre les deux jeux de données : \", count)"
   ]
  },
  {
   "cell_type": "code",
   "execution_count": null,
   "id": "dc3f41d6",
   "metadata": {},
   "outputs": [],
   "source": [
    "K = 3\n",
    "\n",
    "#on crée la map\n",
    "cmap = plt.get_cmap('Set3', K)\n",
    "\n",
    "\n",
    "# CAH sur le jeu de données réduit\n",
    "ac_ss = AgglomerativeClustering(n_clusters=K, compute_distances=True, linkage='ward')\n",
    "clusters_ac_ss = ac_ss.fit_predict(jours_reduced)\n",
    "\n",
    "# CAH sur tout le jeu de données \n",
    "ac = AgglomerativeClustering(n_clusters=K, compute_distances=True, linkage='ward')\n",
    "clusters_ac = ac.fit_predict(data_jours)\n",
    "\n",
    "# Affichage des graphiques de dispersion avec superposition\n",
    "plt.scatter(jours_reduced.iloc[:,0], jours_reduced.iloc[:,1], c=clusters_ac_ss, s=50, cmap=cmap, alpha=0.5)\n",
    "plt.scatter(data_jours.iloc[:,0], data_jours.iloc[:,1], c=clusters_ac, s=50, cmap=cmap, alpha=0.5)\n",
    "\n",
    "count = 0\n",
    "for i in range(len(jours_reduced)):\n",
    "    if clusters_ac_ss[i] != clusters_ac[i]:\n",
    "        plt.scatter([jours_reduced.iloc[i,0], data_jours.iloc[i,0]], [jours_reduced.iloc[i,1], data_jours.iloc[i,1]], c='black', s=50, alpha=0.5)\n",
    "        count+=1\n",
    "        \n",
    "plt.legend(['Points with different clusters'])\n",
    "plt.show()\n",
    "\n",
    "print(\"Nombre de points dans le jeu de données réduit : \", jours_reduced.shape[0])\n",
    "print(\"Nombre de points dans des clusters différents entre les deux jeux de données : \", count)"
   ]
  },
  {
   "cell_type": "markdown",
   "id": "bf913d4a",
   "metadata": {},
   "source": [
    "Remarque : C'est un peu mieux qu'avec le jeu de données normal"
   ]
  },
  {
   "cell_type": "markdown",
   "id": "3f0b6ad7",
   "metadata": {},
   "source": [
    "## Gaussian Mixture Models"
   ]
  },
  {
   "cell_type": "markdown",
   "id": "9c489c0e",
   "metadata": {},
   "source": [
    "On affiche d'abord la dispersion des points par cluster initiée par le modèle de mélange gaussien (GMM)"
   ]
  },
  {
   "cell_type": "code",
   "execution_count": null,
   "id": "ec11e195",
   "metadata": {},
   "outputs": [],
   "source": [
    "K = 7\n",
    "cmap = plt.get_cmap('Set3', K)\n",
    "\n",
    "gmm = GaussianMixture(n_components=K, n_init=3)\n",
    "clusters_gmm = gmm.fit_predict(data_jours)\n",
    "\n",
    "# --- #\n",
    "\n",
    "plt.subplot(1,2,1)\n",
    "plt.scatter(data_jours.iloc[:,0], data_jours.iloc[:,1], c=clusters_gmm, s=1, linewidths=1, cmap=cmap)\n",
    "plt.grid(True)\n",
    "\n",
    "\n",
    "plt.tight_layout()\n",
    "plt.show()"
   ]
  },
  {
   "cell_type": "markdown",
   "id": "5314df73",
   "metadata": {},
   "source": [
    "## Comparaison entre K-means et GMM"
   ]
  },
  {
   "cell_type": "code",
   "execution_count": null,
   "id": "5ea7e941",
   "metadata": {},
   "outputs": [],
   "source": [
    "#Cas 3 : jeu de données sur les heures "
   ]
  },
  {
   "cell_type": "code",
   "execution_count": null,
   "id": "2375ca7a",
   "metadata": {},
   "outputs": [],
   "source": [
    "heures_reduced = data_heures[::5]\n",
    "\n",
    "#on peut aussi le réduire autrement : ex pca si bonne rep de l'ensemble des données \n",
    "\n",
    "print(\"mars data full sample size:\", data_heures.shape)\n",
    "print(\"mars data sub-sample size :\", heures_reduced.shape)"
   ]
  },
  {
   "cell_type": "markdown",
   "id": "e6a0399b",
   "metadata": {},
   "source": [
    "On détermine le nombre de clusters à partir de la méthode du coude"
   ]
  },
  {
   "cell_type": "code",
   "execution_count": null,
   "id": "874996e8",
   "metadata": {},
   "outputs": [],
   "source": [
    "ac = AgglomerativeClustering(linkage='ward', compute_distances=True)\n",
    "visualizer = KElbowVisualizer(ac, k=(4,12))\n",
    "\n",
    "visualizer.fit(heures_reduced)  # Fit the data to the visualizer\n",
    "visualizer.show()   \n",
    "plt.show()"
   ]
  },
  {
   "cell_type": "markdown",
   "id": "27ee612e",
   "metadata": {},
   "source": [
    "Selon les différents indicateurs il nous faut prendre 7 clusters différents. On affiche alors le dendrogramme associé en utilisant les linkages \"Ward\"."
   ]
  },
  {
   "cell_type": "code",
   "execution_count": null,
   "id": "bcf983df",
   "metadata": {},
   "outputs": [],
   "source": [
    "#Nombre de clusters choisi par les indicateurs \n",
    "K = 7\n",
    "\n",
    "ac = AgglomerativeClustering(n_clusters=K, compute_distances=True, linkage='ward')\n",
    "clusters = ac.fit(heures_reduced)\n",
    "\n",
    "children = ac.children_\n",
    "distances = ac.distances_\n",
    "n_observations = np.arange(2, children.shape[0]+2)\n",
    "linkage_matrix = np.c_[children, distances, n_observations]\n",
    "\n",
    "sch.dendrogram(linkage_matrix, labels=ac.labels_)\n",
    "\n",
    "# Cutting the dendrogram to get K classes\n",
    "max_d = .5*(ac.distances_[-K]+ac.distances_[-K+1])\n",
    "plt.axhline(y=max_d, c='k')\n",
    "\n",
    "plt.title(\"Dendrogram with Ward linkage\")\n",
    "plt.show()"
   ]
  },
  {
   "cell_type": "markdown",
   "id": "6ebeab27",
   "metadata": {},
   "source": [
    "On affiche tous les types de linkages que l'on a étudié pour montrer que \"Ward\" et \"complete\" sont les deux types dont les graphes sont faciles à explorer:"
   ]
  },
  {
   "cell_type": "code",
   "execution_count": null,
   "id": "39c09542",
   "metadata": {},
   "outputs": [],
   "source": [
    "#par soucis de rapidité on prend encore un échantillon plus réduit \n",
    "heures_reduced2 = data_heures[::10]\n",
    "\n",
    "print(\"mars data full sample size:\", data_heures.shape)\n",
    "print(\"mars data sub-sample size :\", heures_reduced2.shape)"
   ]
  },
  {
   "cell_type": "code",
   "execution_count": null,
   "id": "780dacfa",
   "metadata": {},
   "outputs": [],
   "source": [
    "plt.subplot(2,2,1)\n",
    "linkage_matrix_single = sch.linkage(heures_reduced2, method='single')\n",
    "sch.dendrogram(linkage_matrix_single)\n",
    "plt.title(\"Dendrogram with single linkage\")\n",
    "\n",
    "plt.subplot(2,2,2)\n",
    "linkage_matrix_complete = sch.linkage(heures_reduced2, method='complete')\n",
    "sch.dendrogram(linkage_matrix_complete)\n",
    "plt.title(\"Dendrogram with complete linkage\")\n",
    "\n",
    "plt.subplot(2,2,3)\n",
    "linkage_matrix_average = sch.linkage(heures_reduced2, method='average')\n",
    "sch.dendrogram(linkage_matrix_average)\n",
    "plt.title(\"Dendrogram with average linkage\")\n",
    "\n",
    "plt.subplot(2,2,4)\n",
    "linkage_matrix_ward = sch.linkage(heures_reduced2, method='ward')\n",
    "sch.dendrogram(linkage_matrix_ward)\n",
    "plt.title(\"Dendrogram with Ward linkage\")\n",
    "\n",
    "plt.tight_layout()\n",
    "plt.show()"
   ]
  },
  {
   "cell_type": "markdown",
   "id": "3b1bf2a1",
   "metadata": {},
   "source": [
    "On réalise maitenant la partie de visualisation du clustering agglomératif.\n",
    "\n",
    "#je sais pas si c'est vrt pertinent à checker"
   ]
  },
  {
   "cell_type": "code",
   "execution_count": null,
   "id": "b86f9c93",
   "metadata": {},
   "outputs": [],
   "source": [
    "K=7\n",
    "\n",
    "cmap = plt.get_cmap('Set3', K)\n",
    "\n",
    "# -- #\n",
    "\n",
    "ac_ss = AgglomerativeClustering(n_clusters=K, compute_distances=True, linkage='ward')\n",
    "clusters_ac_ss = ac_ss.fit_predict(heures_reduced)\n",
    "\n",
    "ac = AgglomerativeClustering(n_clusters=K, compute_distances=True, linkage='ward')\n",
    "clusters_ac = ac.fit_predict(data_heures)\n",
    "\n",
    "# -- #\n",
    "\n",
    "# On the sub-sample\n",
    "plt.subplot(1,2,1)\n",
    "scatter1 = plt.scatter(heures_reduced.iloc[:,0], heures_reduced.iloc[:,1], c=clusters_ac_ss, s=1, linewidths=1, cmap='viridis')\n",
    "plt.legend(*scatter1.legend_elements(), title=\"Clusters\")\n",
    "\n",
    "# On the complete dataset\n",
    "plt.subplot(1,2,2)\n",
    "scatter2 = plt.scatter(data_heures.iloc[:,0], data_heures.iloc[:,1], c=clusters_ac, s=1, linewidths=1, cmap='viridis')\n",
    "plt.legend(*scatter2.legend_elements(), title=\"Clusters\")\n",
    "\n",
    "plt.tight_layout()\n",
    "plt.show()"
   ]
  },
  {
   "cell_type": "code",
   "execution_count": null,
   "id": "d12a7066",
   "metadata": {},
   "outputs": [],
   "source": [
    "K = 7\n",
    "\n",
    "#on crée la map\n",
    "cmap = plt.get_cmap('Set3', K)\n",
    "\n",
    "\n",
    "# CAH sur le jeu de données réduit\n",
    "ac_ss = AgglomerativeClustering(n_clusters=K, compute_distances=True, linkage='ward')\n",
    "clusters_ac_ss = ac_ss.fit_predict(heures_reduced)\n",
    "\n",
    "# CAH sur tout le jeu de données \n",
    "ac = AgglomerativeClustering(n_clusters=K, compute_distances=True, linkage='ward')\n",
    "clusters_ac = ac.fit_predict(data_heures)\n",
    "\n",
    "# Affichage des graphiques de dispersion avec superposition\n",
    "plt.scatter(heures_reduced.iloc[:,0], heures_reduced.iloc[:,1], c=clusters_ac_ss, s=50, cmap=cmap, alpha=0.5)\n",
    "plt.scatter(data_heures.iloc[:,0], data_heures.iloc[:,1], c=clusters_ac, s=50, cmap=cmap, alpha=0.5)\n",
    "\n",
    "count = 0\n",
    "for i in range(len(heures_reduced)):\n",
    "    if clusters_ac_ss[i] != clusters_ac[i]:\n",
    "        plt.scatter([heures_reduced.iloc[i,0], data_heures.iloc[i,0]], [heures_reduced.iloc[i,1], data_heures.iloc[i,1]], c='black', s=50, alpha=0.5)\n",
    "        count+=1\n",
    "        \n",
    "plt.legend(['Points with different clusters'])\n",
    "plt.show()\n",
    "\n",
    "print(\"Nombre de points dans le jeu de données réduit : \", data_heures.shape[0])\n",
    "print(\"Nombre de points dans des clusters différents entre les deux jeu de données : \", count)"
   ]
  },
  {
   "cell_type": "code",
   "execution_count": null,
   "id": "ec6f9e02",
   "metadata": {
    "tags": []
   },
   "outputs": [],
   "source": [
    "K = 3\n",
    "#on crée la map\n",
    "cmap = plt.get_cmap('Set3', K)\n",
    "\n",
    "\n",
    "# CAH sur le jeu de données réduit\n",
    "ac_ss = AgglomerativeClustering(n_clusters=K, compute_distances=True, linkage='ward')\n",
    "clusters_ac_ss = ac_ss.fit_predict(heures_reduced)\n",
    "\n",
    "# CAH sur tout le jeu de données \n",
    "ac = AgglomerativeClustering(n_clusters=K, compute_distances=True, linkage='ward')\n",
    "clusters_ac = ac.fit_predict(data_heures)\n",
    "\n",
    "# Affichage des graphiques de dispersion avec superposition\n",
    "plt.scatter(heures_reduced.iloc[:,0], heures_reduced.iloc[:,1], c=clusters_ac_ss, s=50, cmap=cmap, alpha=0.5)\n",
    "plt.scatter(data_heures.iloc[:,0], data_heures.iloc[:,1], c=clusters_ac, s=50, cmap=cmap, alpha=0.5)\n",
    "\n",
    "count = 0\n",
    "for i in range(len(heures_reduced)):\n",
    "    if clusters_ac_ss[i] != clusters_ac[i]:\n",
    "        plt.scatter([heures_reduced.iloc[i,0], data_heures.iloc[i,0]], [heures_reduced.iloc[i,1], data_heures.iloc[i,1]], c='black', s=50, alpha=0.5)\n",
    "        count+=1\n",
    "        \n",
    "plt.legend(['Points with different clusters'])\n",
    "plt.show()\n",
    "\n",
    "print(\"Nombre de points dans le jeu de données réduit : \", heures_reduced.shape[0])\n",
    "print(\"Nombre de points dans des clusters différents entre les deux jeu de données : \", count)"
   ]
  },
  {
   "cell_type": "markdown",
   "id": "824cef96-1dff-4a24-ad0f-3ea418d6b674",
   "metadata": {},
   "source": [
    "## -projeter les clusters sur la carte de Paris\n",
    "## -comparer le differents clusters pour savoir si on garde ou non les pca\n",
    "## -comparaison clustering K-means vs GMM\n",
    "## -diviser les clusters des données completes en 3\n",
    "## -diviser les stations entre celles qui correspondent à des zones de divertissement, de residence, de travail, etc\n",
    "## -faire scatterplot pour visualiser les clusters + matrices de confusions\n",
    "## -etudier l'altitude ??"
   ]
  },
  {
   "cell_type": "markdown",
   "id": "bda32f98-24ed-4e1f-8187-4021f1fdb216",
   "metadata": {},
   "source": [
    "souvent axe 1 fait demarcation entre stations pleines et vides \n",
    "axe 2 = nuit / jour"
   ]
  },
  {
   "cell_type": "code",
   "execution_count": null,
   "id": "991f5b47-a101-49fa-913d-1ac9eee2177e",
   "metadata": {},
   "outputs": [],
   "source": [
    "## Seuillage des données continues de loading"
   ]
  },
  {
   "cell_type": "code",
   "execution_count": 47,
   "id": "7f3b941a-8808-4c9b-bcd6-2148cee1ad49",
   "metadata": {
    "tags": []
   },
   "outputs": [
    {
     "name": "stdout",
     "output_type": "stream",
     "text": [
      "         Lun-00     Lun-01     Lun-02     Lun-03     Lun-04     Lun-05  \\\n",
      "1      Très Bas   Très Bas   Très Bas   Très Bas   Très Bas   Très Bas   \n",
      "2         Moyen      Moyen      Moyen      Moyen      Moyen      Moyen   \n",
      "3           Bas   Très Bas   Très Bas   Très Bas   Très Bas   Très Bas   \n",
      "4     Très Haut  Très Haut  Très Haut  Très Haut  Très Haut  Très Haut   \n",
      "5     Très Haut  Très Haut       Haut       Haut       Haut       Haut   \n",
      "...         ...        ...        ...        ...        ...        ...   \n",
      "1185   Très Bas   Très Bas   Très Bas   Très Bas   Très Bas   Très Bas   \n",
      "1186   Très Bas   Très Bas   Très Bas   Très Bas   Très Bas   Très Bas   \n",
      "1187      Moyen      Moyen      Moyen      Moyen      Moyen      Moyen   \n",
      "1188      Moyen      Moyen      Moyen      Moyen      Moyen      Moyen   \n",
      "1189  Très Haut  Très Haut  Très Haut  Très Haut  Très Haut  Très Haut   \n",
      "\n",
      "         Lun-06     Lun-07     Lun-08     Lun-09  ...     Dim-14     Dim-15  \\\n",
      "1      Très Bas   Très Bas   Très Bas   Très Bas  ...        Bas   Très Bas   \n",
      "2         Moyen      Moyen        Bas   Très Bas  ...   Très Bas   Très Bas   \n",
      "3      Très Bas   Très Bas   Très Bas   Très Bas  ...        Bas        Bas   \n",
      "4     Très Haut  Très Haut  Très Haut  Très Haut  ...  Très Haut  Très Haut   \n",
      "5          Haut       Haut       Haut  Très Haut  ...        Bas      Moyen   \n",
      "...         ...        ...        ...        ...  ...        ...        ...   \n",
      "1185   Très Bas   Très Bas   Très Bas   Très Bas  ...   Très Bas   Très Bas   \n",
      "1186   Très Bas   Très Bas        Bas      Moyen  ...        Bas        Bas   \n",
      "1187      Moyen      Moyen        Bas   Très Bas  ...      Moyen        Bas   \n",
      "1188      Moyen      Moyen      Moyen      Moyen  ...  Très Haut       Haut   \n",
      "1189  Très Haut  Très Haut  Très Haut  Très Haut  ...  Très Haut  Très Haut   \n",
      "\n",
      "         Dim-16     Dim-17     Dim-18     Dim-19    Dim-20     Dim-21  \\\n",
      "1      Très Bas   Très Bas        Bas   Très Bas  Très Bas   Très Bas   \n",
      "2           Bas   Très Bas   Très Bas   Très Bas  Très Bas   Très Bas   \n",
      "3           Bas   Très Bas   Très Bas        Bas       Bas        Bas   \n",
      "4     Très Haut  Très Haut  Très Haut  Très Haut      Haut       Haut   \n",
      "5         Moyen  Très Haut  Très Haut  Très Haut      Haut       Haut   \n",
      "...         ...        ...        ...        ...       ...        ...   \n",
      "1185   Très Bas   Très Bas   Très Bas        Bas       Bas   Très Bas   \n",
      "1186   Très Bas        Bas        Bas        Bas       Bas        Bas   \n",
      "1187   Très Bas   Très Bas   Très Bas        Bas       Bas        Bas   \n",
      "1188       Haut  Très Haut  Très Haut       Haut      Haut      Moyen   \n",
      "1189       Haut      Moyen  Très Haut      Moyen     Moyen  Très Haut   \n",
      "\n",
      "         Dim-22     Dim-23  \n",
      "1      Très Bas   Très Bas  \n",
      "2           Bas        Bas  \n",
      "3           Bas      Moyen  \n",
      "4          Haut       Haut  \n",
      "5          Haut      Moyen  \n",
      "...         ...        ...  \n",
      "1185   Très Bas   Très Bas  \n",
      "1186        Bas        Bas  \n",
      "1187        Bas      Moyen  \n",
      "1188      Moyen      Moyen  \n",
      "1189  Très Haut  Très Haut  \n",
      "\n",
      "[1189 rows x 168 columns]\n"
     ]
    }
   ],
   "source": [
    "# Définition des intervalles\n",
    "intervalles = [0, 0.2, 0.4, 0.6, 0.8, 1]\n",
    "\n",
    "# Noms des seuils:\n",
    "noms_des_seuils = ['Très Bas', 'Bas', 'Moyen', 'Haut', 'Très Haut']\n",
    "\n",
    "#nouveau data_frame :\n",
    "loading2 = loading.copy(deep=True)\n",
    "\n",
    "# Transformation des données continues en catégories avec des noms spécifiques\n",
    "for colonne in loading2.columns :\n",
    "    loading2[colonne] = pd.cut(loading2[colonne], bins=intervalles, labels=noms_des_seuils, include_lowest=True)\n",
    "\n",
    "print(loading2)\n"
   ]
  },
  {
   "cell_type": "code",
   "execution_count": 49,
   "id": "15669bc1-09f4-4a74-a800-29fb0637c34e",
   "metadata": {
    "tags": []
   },
   "outputs": [
    {
     "data": {
      "image/png": "[encoded data removed]",
      "text/plain": [
       "<Figure size 800x550 with 1 Axes>"
      ]
     },
     "metadata": {},
     "output_type": "display_data"
    }
   ],
   "source": [
    "loading_hill   = loading[coord.bonus == 1] ##stations sur une colline \n",
    "loading_valley = loading[coord.bonus == 0] ##stations pas sur un colline\n",
    "\n",
    "# --- #\n",
    "\n",
    "size = [len(loading_hill), len(loading_valley)]\n",
    "labels = ['1', '0']\n",
    "\n",
    "plt.pie(size, labels = labels, autopct=\"%1.1f%%\", \n",
    "        colors = [sns.color_palette('tab20b')[-1],sns.color_palette('tab20b')[0]])\n",
    "\n",
    "plt.show()"
   ]
  },
  {
   "cell_type": "code",
   "execution_count": null,
   "id": "3b688af9-ee3c-4350-9441-051ed60ebb81",
   "metadata": {},
   "outputs": [],
   "source": [
    "## création dataframe qui contient l'info : est sur une colline ou non"
   ]
  },
  {
   "cell_type": "code",
   "execution_count": 55,
   "id": "153d845d-54e7-42f7-ae92-da28cb270e3d",
   "metadata": {
    "tags": []
   },
   "outputs": [
    {
     "ename": "ValueError",
     "evalue": "If using all scalar values, you must pass an index",
     "output_type": "error",
     "traceback": [
      "\u001b[1;31m---------------------------------------------------------------------------\u001b[0m",
      "\u001b[1;31mValueError\u001b[0m                                Traceback (most recent call last)",
      "Cell \u001b[1;32mIn[55], line 1\u001b[0m\n\u001b[1;32m----> 1\u001b[0m colline \u001b[38;5;241m=\u001b[39m pd\u001b[38;5;241m.\u001b[39mDataFrame({\n\u001b[0;32m      2\u001b[0m     \u001b[38;5;124m'\u001b[39m\u001b[38;5;124mEstSurColline\u001b[39m\u001b[38;5;124m'\u001b[39m: loading[coord\u001b[38;5;241m.\u001b[39mbonus \u001b[38;5;241m==\u001b[39m \u001b[38;5;241m1\u001b[39m] \n\u001b[0;32m      3\u001b[0m })\n\u001b[0;32m      5\u001b[0m \u001b[38;5;28mprint\u001b[39m(colline)\n",
      "File \u001b[1;32m~\\anaconda3\\Lib\\site-packages\\pandas\\core\\frame.py:709\u001b[0m, in \u001b[0;36mDataFrame.__init__\u001b[1;34m(self, data, index, columns, dtype, copy)\u001b[0m\n\u001b[0;32m    703\u001b[0m     mgr \u001b[38;5;241m=\u001b[39m \u001b[38;5;28mself\u001b[39m\u001b[38;5;241m.\u001b[39m_init_mgr(\n\u001b[0;32m    704\u001b[0m         data, axes\u001b[38;5;241m=\u001b[39m{\u001b[38;5;124m\"\u001b[39m\u001b[38;5;124mindex\u001b[39m\u001b[38;5;124m\"\u001b[39m: index, \u001b[38;5;124m\"\u001b[39m\u001b[38;5;124mcolumns\u001b[39m\u001b[38;5;124m\"\u001b[39m: columns}, dtype\u001b[38;5;241m=\u001b[39mdtype, copy\u001b[38;5;241m=\u001b[39mcopy\n\u001b[0;32m    705\u001b[0m     )\n\u001b[0;32m    707\u001b[0m \u001b[38;5;28;01melif\u001b[39;00m \u001b[38;5;28misinstance\u001b[39m(data, \u001b[38;5;28mdict\u001b[39m):\n\u001b[0;32m    708\u001b[0m     \u001b[38;5;66;03m# GH#38939 de facto copy defaults to False only in non-dict cases\u001b[39;00m\n\u001b[1;32m--> 709\u001b[0m     mgr \u001b[38;5;241m=\u001b[39m dict_to_mgr(data, index, columns, dtype\u001b[38;5;241m=\u001b[39mdtype, copy\u001b[38;5;241m=\u001b[39mcopy, typ\u001b[38;5;241m=\u001b[39mmanager)\n\u001b[0;32m    710\u001b[0m \u001b[38;5;28;01melif\u001b[39;00m \u001b[38;5;28misinstance\u001b[39m(data, ma\u001b[38;5;241m.\u001b[39mMaskedArray):\n\u001b[0;32m    711\u001b[0m     \u001b[38;5;28;01mfrom\u001b[39;00m \u001b[38;5;21;01mnumpy\u001b[39;00m\u001b[38;5;21;01m.\u001b[39;00m\u001b[38;5;21;01mma\u001b[39;00m \u001b[38;5;28;01mimport\u001b[39;00m mrecords\n",
      "File \u001b[1;32m~\\anaconda3\\Lib\\site-packages\\pandas\\core\\internals\\construction.py:481\u001b[0m, in \u001b[0;36mdict_to_mgr\u001b[1;34m(data, index, columns, dtype, typ, copy)\u001b[0m\n\u001b[0;32m    477\u001b[0m     \u001b[38;5;28;01melse\u001b[39;00m:\n\u001b[0;32m    478\u001b[0m         \u001b[38;5;66;03m# dtype check to exclude e.g. range objects, scalars\u001b[39;00m\n\u001b[0;32m    479\u001b[0m         arrays \u001b[38;5;241m=\u001b[39m [x\u001b[38;5;241m.\u001b[39mcopy() \u001b[38;5;28;01mif\u001b[39;00m \u001b[38;5;28mhasattr\u001b[39m(x, \u001b[38;5;124m\"\u001b[39m\u001b[38;5;124mdtype\u001b[39m\u001b[38;5;124m\"\u001b[39m) \u001b[38;5;28;01melse\u001b[39;00m x \u001b[38;5;28;01mfor\u001b[39;00m x \u001b[38;5;129;01min\u001b[39;00m arrays]\n\u001b[1;32m--> 481\u001b[0m \u001b[38;5;28;01mreturn\u001b[39;00m arrays_to_mgr(arrays, columns, index, dtype\u001b[38;5;241m=\u001b[39mdtype, typ\u001b[38;5;241m=\u001b[39mtyp, consolidate\u001b[38;5;241m=\u001b[39mcopy)\n",
      "File \u001b[1;32m~\\anaconda3\\Lib\\site-packages\\pandas\\core\\internals\\construction.py:115\u001b[0m, in \u001b[0;36marrays_to_mgr\u001b[1;34m(arrays, columns, index, dtype, verify_integrity, typ, consolidate)\u001b[0m\n\u001b[0;32m    112\u001b[0m \u001b[38;5;28;01mif\u001b[39;00m verify_integrity:\n\u001b[0;32m    113\u001b[0m     \u001b[38;5;66;03m# figure out the index, if necessary\u001b[39;00m\n\u001b[0;32m    114\u001b[0m     \u001b[38;5;28;01mif\u001b[39;00m index \u001b[38;5;129;01mis\u001b[39;00m \u001b[38;5;28;01mNone\u001b[39;00m:\n\u001b[1;32m--> 115\u001b[0m         index \u001b[38;5;241m=\u001b[39m _extract_index(arrays)\n\u001b[0;32m    116\u001b[0m     \u001b[38;5;28;01melse\u001b[39;00m:\n\u001b[0;32m    117\u001b[0m         index \u001b[38;5;241m=\u001b[39m ensure_index(index)\n",
      "File \u001b[1;32m~\\anaconda3\\Lib\\site-packages\\pandas\\core\\internals\\construction.py:645\u001b[0m, in \u001b[0;36m_extract_index\u001b[1;34m(data)\u001b[0m\n\u001b[0;32m    642\u001b[0m         \u001b[38;5;28;01mraise\u001b[39;00m \u001b[38;5;167;01mValueError\u001b[39;00m(\u001b[38;5;124m\"\u001b[39m\u001b[38;5;124mPer-column arrays must each be 1-dimensional\u001b[39m\u001b[38;5;124m\"\u001b[39m)\n\u001b[0;32m    644\u001b[0m \u001b[38;5;28;01mif\u001b[39;00m \u001b[38;5;129;01mnot\u001b[39;00m indexes \u001b[38;5;129;01mand\u001b[39;00m \u001b[38;5;129;01mnot\u001b[39;00m raw_lengths:\n\u001b[1;32m--> 645\u001b[0m     \u001b[38;5;28;01mraise\u001b[39;00m \u001b[38;5;167;01mValueError\u001b[39;00m(\u001b[38;5;124m\"\u001b[39m\u001b[38;5;124mIf using all scalar values, you must pass an index\u001b[39m\u001b[38;5;124m\"\u001b[39m)\n\u001b[0;32m    647\u001b[0m \u001b[38;5;28;01mif\u001b[39;00m have_series:\n\u001b[0;32m    648\u001b[0m     index \u001b[38;5;241m=\u001b[39m union_indexes(indexes)\n",
      "\u001b[1;31mValueError\u001b[0m: If using all scalar values, you must pass an index"
     ]
    }
   ],
   "source": [
    "colline = pd.DataFrame({\n",
    "    'EstSurColline': loading[coord.bonus == 1] \n",
    "})\n",
    "\n",
    "print(colline)\n"
   ]
  },
  {
   "cell_type": "code",
   "execution_count": null,
   "id": "f491e96c-ed1e-4697-8a21-9342df052a74",
   "metadata": {},
   "outputs": [],
   "source": []
  }
 ],
 "metadata": {
  "kernelspec": {
   "display_name": "Python 3 (ipykernel)",
   "language": "python",
   "name": "python3"
  },
  "language_info": {
   "codemirror_mode": {
    "name": "ipython",
    "version": 3
   },
   "file_extension": ".py",
   "mimetype": "text/x-python",
   "name": "python",
   "nbconvert_exporter": "python",
   "pygments_lexer": "ipython3",
   "version": "3.11.5"
  }
 },
 "nbformat": 4,
 "nbformat_minor": 5
}
